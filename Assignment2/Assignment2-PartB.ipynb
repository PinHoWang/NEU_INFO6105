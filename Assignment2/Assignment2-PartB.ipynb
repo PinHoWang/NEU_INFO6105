{
 "cells": [
  {
   "cell_type": "markdown",
   "metadata": {},
   "source": [
    "# <center>INFO 6105 - Assignment 2 - FIFA 2018 (Part B - Logistic Model) PinHo Wang</center>"
   ]
  },
  {
   "cell_type": "markdown",
   "metadata": {},
   "source": [
    "# Abstract"
   ]
  },
  {
   "cell_type": "markdown",
   "metadata": {},
   "source": [
    "In this assignment, we try to build the logistic model that can predict whether a player is good at skill move or not. The value of skill moves in the dataset are from 1 to 5, so we can define if the player is good at skill moves if it is higher or equal to 3, otherwise, not. Similiar to part A (Linear Regression), we first clean up the dataset and trying to know the correlation between the variables and also whether significant."
   ]
  },
  {
   "cell_type": "markdown",
   "metadata": {},
   "source": [
    "# Experiments"
   ]
  },
  {
   "cell_type": "markdown",
   "metadata": {},
   "source": [
    "## Data Preprocessing"
   ]
  },
  {
   "cell_type": "markdown",
   "metadata": {},
   "source": [
    "We will do the same process like part A to preprocess our dataset."
   ]
  },
  {
   "cell_type": "code",
   "execution_count": 330,
   "metadata": {},
   "outputs": [],
   "source": [
    "import pandas as pd\n",
    "import seaborn as sns\n",
    "import matplotlib.pyplot as plt\n",
    "import numpy as np\n",
    "from sklearn.linear_model import LogisticRegression\n",
    "import statsmodels.api as sm\n",
    "from sklearn.model_selection import train_test_split\n",
    "from scipy import stats\n",
    "from sklearn.model_selection import cross_val_score"
   ]
  },
  {
   "cell_type": "code",
   "execution_count": 331,
   "metadata": {},
   "outputs": [],
   "source": [
    "df = pd.read_csv('data.csv', decimal = ',')"
   ]
  },
  {
   "cell_type": "code",
   "execution_count": 332,
   "metadata": {},
   "outputs": [],
   "source": [
    "df = df.drop(columns=['Unnamed: 0', 'ID', 'Photo', 'Nationality', 'Flag', 'Club', 'Club Logo', 'Work Rate', 'Real Face', 'Jersey Number', 'Joined', 'Loaned From', 'Contract Valid Until', 'Body Type', 'Position', 'Release Clause'])"
   ]
  },
  {
   "cell_type": "markdown",
   "metadata": {},
   "source": [
    "## Target Variable"
   ]
  },
  {
   "cell_type": "code",
   "execution_count": 333,
   "metadata": {},
   "outputs": [
    {
     "data": {
      "text/plain": [
       "48"
      ]
     },
     "execution_count": 333,
     "metadata": {},
     "output_type": "execute_result"
    }
   ],
   "source": [
    "df['Skill Moves'].isnull().sum()"
   ]
  },
  {
   "cell_type": "code",
   "execution_count": 334,
   "metadata": {},
   "outputs": [],
   "source": [
    "df = df[~df['Skill Moves'].isnull()]"
   ]
  },
  {
   "cell_type": "code",
   "execution_count": 335,
   "metadata": {},
   "outputs": [
    {
     "data": {
      "text/plain": [
       "0"
      ]
     },
     "execution_count": 335,
     "metadata": {},
     "output_type": "execute_result"
    }
   ],
   "source": [
    "df['Skill Moves'].isnull().sum()"
   ]
  },
  {
   "cell_type": "code",
   "execution_count": 336,
   "metadata": {},
   "outputs": [
    {
     "data": {
      "text/plain": [
       "0        4.0\n",
       "1        5.0\n",
       "2        5.0\n",
       "3        1.0\n",
       "4        4.0\n",
       "5        4.0\n",
       "6        4.0\n",
       "7        3.0\n",
       "8        3.0\n",
       "9        1.0\n",
       "10       4.0\n",
       "11       3.0\n",
       "12       2.0\n",
       "13       4.0\n",
       "14       2.0\n",
       "15       4.0\n",
       "16       3.0\n",
       "17       4.0\n",
       "18       1.0\n",
       "19       1.0\n",
       "20       3.0\n",
       "21       3.0\n",
       "22       1.0\n",
       "23       4.0\n",
       "24       2.0\n",
       "25       5.0\n",
       "26       4.0\n",
       "27       2.0\n",
       "28       4.0\n",
       "29       4.0\n",
       "        ... \n",
       "18177    2.0\n",
       "18178    1.0\n",
       "18179    2.0\n",
       "18180    1.0\n",
       "18181    2.0\n",
       "18182    2.0\n",
       "18183    1.0\n",
       "18184    2.0\n",
       "18185    2.0\n",
       "18186    2.0\n",
       "18187    2.0\n",
       "18188    2.0\n",
       "18189    2.0\n",
       "18190    2.0\n",
       "18191    2.0\n",
       "18192    2.0\n",
       "18193    2.0\n",
       "18194    1.0\n",
       "18195    2.0\n",
       "18196    2.0\n",
       "18197    2.0\n",
       "18198    1.0\n",
       "18199    2.0\n",
       "18200    2.0\n",
       "18201    2.0\n",
       "18202    2.0\n",
       "18203    2.0\n",
       "18204    2.0\n",
       "18205    2.0\n",
       "18206    2.0\n",
       "Name: Skill Moves, Length: 18159, dtype: category\n",
       "Categories (5, float64): [1.0, 2.0, 3.0, 4.0, 5.0]"
      ]
     },
     "execution_count": 336,
     "metadata": {},
     "output_type": "execute_result"
    }
   ],
   "source": [
    "# make sure all the values are in the range of 1 to 5\n",
    "df['Skill Moves'].astype('category')"
   ]
  },
  {
   "cell_type": "code",
   "execution_count": 337,
   "metadata": {},
   "outputs": [],
   "source": [
    "df['Skill Moves'] = pd.Series(np.where(df['Skill Moves'].values > 2, 1, 0), df['Skill Moves'].index)"
   ]
  },
  {
   "cell_type": "code",
   "execution_count": 338,
   "metadata": {},
   "outputs": [
    {
     "data": {
      "text/plain": [
       "0        1\n",
       "1        1\n",
       "2        1\n",
       "3        0\n",
       "4        1\n",
       "5        1\n",
       "6        1\n",
       "7        1\n",
       "8        1\n",
       "9        0\n",
       "10       1\n",
       "11       1\n",
       "12       0\n",
       "13       1\n",
       "14       0\n",
       "15       1\n",
       "16       1\n",
       "17       1\n",
       "18       0\n",
       "19       0\n",
       "20       1\n",
       "21       1\n",
       "22       0\n",
       "23       1\n",
       "24       0\n",
       "25       1\n",
       "26       1\n",
       "27       0\n",
       "28       1\n",
       "29       1\n",
       "        ..\n",
       "18177    0\n",
       "18178    0\n",
       "18179    0\n",
       "18180    0\n",
       "18181    0\n",
       "18182    0\n",
       "18183    0\n",
       "18184    0\n",
       "18185    0\n",
       "18186    0\n",
       "18187    0\n",
       "18188    0\n",
       "18189    0\n",
       "18190    0\n",
       "18191    0\n",
       "18192    0\n",
       "18193    0\n",
       "18194    0\n",
       "18195    0\n",
       "18196    0\n",
       "18197    0\n",
       "18198    0\n",
       "18199    0\n",
       "18200    0\n",
       "18201    0\n",
       "18202    0\n",
       "18203    0\n",
       "18204    0\n",
       "18205    0\n",
       "18206    0\n",
       "Name: Skill Moves, Length: 18159, dtype: category\n",
       "Categories (2, int64): [0, 1]"
      ]
     },
     "execution_count": 338,
     "metadata": {},
     "output_type": "execute_result"
    }
   ],
   "source": [
    "df['Skill Moves'].astype('category')"
   ]
  },
  {
   "cell_type": "markdown",
   "metadata": {},
   "source": [
    "## Variables"
   ]
  },
  {
   "cell_type": "markdown",
   "metadata": {},
   "source": [
    "For the other variables, we do the same process like part A."
   ]
  },
  {
   "cell_type": "markdown",
   "metadata": {},
   "source": [
    "### Wage"
   ]
  },
  {
   "cell_type": "code",
   "execution_count": 339,
   "metadata": {},
   "outputs": [],
   "source": [
    "df['Wage'] = df['Wage'].str.split('€').str[1].str.split('K').str[0]"
   ]
  },
  {
   "cell_type": "code",
   "execution_count": 340,
   "metadata": {},
   "outputs": [],
   "source": [
    "df['Wage'] = df['Wage'].astype('int64') * 1000"
   ]
  },
  {
   "cell_type": "markdown",
   "metadata": {},
   "source": [
    "### Age"
   ]
  },
  {
   "cell_type": "code",
   "execution_count": 341,
   "metadata": {},
   "outputs": [
    {
     "data": {
      "text/plain": [
       "0"
      ]
     },
     "execution_count": 341,
     "metadata": {},
     "output_type": "execute_result"
    }
   ],
   "source": [
    "df['Age'].isnull().sum()"
   ]
  },
  {
   "cell_type": "code",
   "execution_count": 342,
   "metadata": {},
   "outputs": [
    {
     "data": {
      "text/plain": [
       "0        31\n",
       "1        33\n",
       "2        26\n",
       "3        27\n",
       "4        27\n",
       "5        27\n",
       "6        32\n",
       "7        31\n",
       "8        32\n",
       "9        25\n",
       "10       29\n",
       "11       28\n",
       "12       32\n",
       "13       32\n",
       "14       27\n",
       "15       24\n",
       "16       24\n",
       "17       27\n",
       "18       26\n",
       "19       26\n",
       "20       29\n",
       "21       31\n",
       "22       32\n",
       "23       30\n",
       "24       33\n",
       "25       19\n",
       "26       26\n",
       "27       26\n",
       "28       26\n",
       "29       27\n",
       "         ..\n",
       "18177    18\n",
       "18178    18\n",
       "18179    17\n",
       "18180    22\n",
       "18181    17\n",
       "18182    18\n",
       "18183    44\n",
       "18184    18\n",
       "18185    19\n",
       "18186    20\n",
       "18187    19\n",
       "18188    17\n",
       "18189    18\n",
       "18190    18\n",
       "18191    18\n",
       "18192    18\n",
       "18193    18\n",
       "18194    18\n",
       "18195    18\n",
       "18196    19\n",
       "18197    18\n",
       "18198    18\n",
       "18199    18\n",
       "18200    18\n",
       "18201    18\n",
       "18202    19\n",
       "18203    19\n",
       "18204    16\n",
       "18205    17\n",
       "18206    16\n",
       "Name: Age, Length: 18159, dtype: category\n",
       "Categories (29, int64): [16, 17, 18, 19, ..., 41, 42, 44, 45]"
      ]
     },
     "execution_count": 342,
     "metadata": {},
     "output_type": "execute_result"
    }
   ],
   "source": [
    "df['Age'].astype('category')"
   ]
  },
  {
   "cell_type": "markdown",
   "metadata": {},
   "source": [
    "### Overall"
   ]
  },
  {
   "cell_type": "code",
   "execution_count": 343,
   "metadata": {},
   "outputs": [
    {
     "data": {
      "text/plain": [
       "0"
      ]
     },
     "execution_count": 343,
     "metadata": {},
     "output_type": "execute_result"
    }
   ],
   "source": [
    "df['Overall'].isnull().sum()"
   ]
  },
  {
   "cell_type": "code",
   "execution_count": 344,
   "metadata": {},
   "outputs": [
    {
     "data": {
      "text/plain": [
       "0        94\n",
       "1        94\n",
       "2        92\n",
       "3        91\n",
       "4        91\n",
       "5        91\n",
       "6        91\n",
       "7        91\n",
       "8        91\n",
       "9        90\n",
       "10       90\n",
       "11       90\n",
       "12       90\n",
       "13       90\n",
       "14       89\n",
       "15       89\n",
       "16       89\n",
       "17       89\n",
       "18       89\n",
       "19       89\n",
       "20       89\n",
       "21       89\n",
       "22       89\n",
       "23       89\n",
       "24       89\n",
       "25       88\n",
       "26       88\n",
       "27       88\n",
       "28       88\n",
       "29       88\n",
       "         ..\n",
       "18177    48\n",
       "18178    48\n",
       "18179    48\n",
       "18180    48\n",
       "18181    48\n",
       "18182    48\n",
       "18183    48\n",
       "18184    48\n",
       "18185    48\n",
       "18186    47\n",
       "18187    47\n",
       "18188    47\n",
       "18189    47\n",
       "18190    47\n",
       "18191    47\n",
       "18192    47\n",
       "18193    47\n",
       "18194    47\n",
       "18195    47\n",
       "18196    47\n",
       "18197    47\n",
       "18198    47\n",
       "18199    47\n",
       "18200    47\n",
       "18201    47\n",
       "18202    47\n",
       "18203    47\n",
       "18204    47\n",
       "18205    47\n",
       "18206    46\n",
       "Name: Overall, Length: 18159, dtype: category\n",
       "Categories (48, int64): [46, 47, 48, 49, ..., 90, 91, 92, 94]"
      ]
     },
     "execution_count": 344,
     "metadata": {},
     "output_type": "execute_result"
    }
   ],
   "source": [
    "df['Overall'].astype('category')"
   ]
  },
  {
   "cell_type": "markdown",
   "metadata": {},
   "source": [
    "### Potential"
   ]
  },
  {
   "cell_type": "code",
   "execution_count": 345,
   "metadata": {},
   "outputs": [
    {
     "data": {
      "text/plain": [
       "0"
      ]
     },
     "execution_count": 345,
     "metadata": {},
     "output_type": "execute_result"
    }
   ],
   "source": [
    "df['Potential'].isnull().sum()"
   ]
  },
  {
   "cell_type": "code",
   "execution_count": 346,
   "metadata": {},
   "outputs": [
    {
     "data": {
      "text/plain": [
       "0        94\n",
       "1        94\n",
       "2        93\n",
       "3        93\n",
       "4        92\n",
       "5        91\n",
       "6        91\n",
       "7        91\n",
       "8        91\n",
       "9        93\n",
       "10       90\n",
       "11       90\n",
       "12       90\n",
       "13       90\n",
       "14       90\n",
       "15       94\n",
       "16       91\n",
       "17       90\n",
       "18       92\n",
       "19       90\n",
       "20       89\n",
       "21       89\n",
       "22       89\n",
       "23       89\n",
       "24       89\n",
       "25       95\n",
       "26       89\n",
       "27       90\n",
       "28       89\n",
       "29       88\n",
       "         ..\n",
       "18177    69\n",
       "18178    65\n",
       "18179    64\n",
       "18180    58\n",
       "18181    66\n",
       "18182    65\n",
       "18183    48\n",
       "18184    55\n",
       "18185    59\n",
       "18186    64\n",
       "18187    59\n",
       "18188    62\n",
       "18189    61\n",
       "18190    67\n",
       "18191    65\n",
       "18192    64\n",
       "18193    64\n",
       "18194    65\n",
       "18195    67\n",
       "18196    61\n",
       "18197    61\n",
       "18198    70\n",
       "18199    69\n",
       "18200    62\n",
       "18201    68\n",
       "18202    65\n",
       "18203    63\n",
       "18204    67\n",
       "18205    66\n",
       "18206    66\n",
       "Name: Potential, Length: 18159, dtype: category\n",
       "Categories (47, int64): [48, 50, 51, 52, ..., 92, 93, 94, 95]"
      ]
     },
     "execution_count": 346,
     "metadata": {},
     "output_type": "execute_result"
    }
   ],
   "source": [
    "df['Potential'].astype('category')"
   ]
  },
  {
   "cell_type": "markdown",
   "metadata": {},
   "source": [
    "### Value"
   ]
  },
  {
   "cell_type": "code",
   "execution_count": 347,
   "metadata": {},
   "outputs": [
    {
     "data": {
      "text/plain": [
       "0"
      ]
     },
     "execution_count": 347,
     "metadata": {},
     "output_type": "execute_result"
    }
   ],
   "source": [
    "df['Value'].isnull().sum()"
   ]
  },
  {
   "cell_type": "code",
   "execution_count": 348,
   "metadata": {},
   "outputs": [
    {
     "data": {
      "text/plain": [
       "0        €110.5M\n",
       "1           €77M\n",
       "2        €118.5M\n",
       "3           €72M\n",
       "4          €102M\n",
       "5           €93M\n",
       "6           €67M\n",
       "7           €80M\n",
       "8           €51M\n",
       "9           €68M\n",
       "10          €77M\n",
       "11        €76.5M\n",
       "12          €44M\n",
       "13          €60M\n",
       "14          €63M\n",
       "15          €89M\n",
       "16        €83.5M\n",
       "17          €78M\n",
       "18          €58M\n",
       "19        €53.5M\n",
       "20        €51.5M\n",
       "21          €60M\n",
       "22          €38M\n",
       "23        €64.5M\n",
       "24          €27M\n",
       "25          €81M\n",
       "26        €69.5M\n",
       "27        €59.5M\n",
       "28        €69.5M\n",
       "29          €62M\n",
       "          ...   \n",
       "18177       €70K\n",
       "18178       €50K\n",
       "18179       €50K\n",
       "18180       €40K\n",
       "18181       €50K\n",
       "18182       €50K\n",
       "18183         €0\n",
       "18184       €40K\n",
       "18185       €50K\n",
       "18186       €60K\n",
       "18187       €40K\n",
       "18188       €60K\n",
       "18189       €60K\n",
       "18190       €60K\n",
       "18191       €50K\n",
       "18192       €50K\n",
       "18193       €50K\n",
       "18194       €50K\n",
       "18195       €60K\n",
       "18196       €60K\n",
       "18197       €60K\n",
       "18198       €60K\n",
       "18199       €70K\n",
       "18200       €60K\n",
       "18201       €60K\n",
       "18202       €60K\n",
       "18203       €60K\n",
       "18204       €60K\n",
       "18205       €60K\n",
       "18206       €60K\n",
       "Name: Value, Length: 18159, dtype: object"
      ]
     },
     "execution_count": 348,
     "metadata": {},
     "output_type": "execute_result"
    }
   ],
   "source": [
    "df['Value']"
   ]
  },
  {
   "cell_type": "code",
   "execution_count": 349,
   "metadata": {},
   "outputs": [],
   "source": [
    "b = (df['Value'].str.split('€').str[1].str.split('M').str).len() == 2\n",
    "millions = df['Value'].str.split('€').str[1].str.split('M')[b].str[0].astype('float64')\n",
    "killions = df['Value'].str.split('€').str[1].str.split('M')[~b].str[0].str.split('K').str[0].astype('float64')"
   ]
  },
  {
   "cell_type": "code",
   "execution_count": 350,
   "metadata": {},
   "outputs": [
    {
     "name": "stderr",
     "output_type": "stream",
     "text": [
      "C:\\Users\\abc87\\Anaconda3\\envs\\py3.6\\lib\\site-packages\\ipykernel_launcher.py:1: SettingWithCopyWarning: \n",
      "A value is trying to be set on a copy of a slice from a DataFrame\n",
      "\n",
      "See the caveats in the documentation: http://pandas.pydata.org/pandas-docs/stable/indexing.html#indexing-view-versus-copy\n",
      "  \"\"\"Entry point for launching an IPython kernel.\n"
     ]
    }
   ],
   "source": [
    "df['Value'][b] = millions * 1000000"
   ]
  },
  {
   "cell_type": "code",
   "execution_count": 351,
   "metadata": {},
   "outputs": [
    {
     "name": "stderr",
     "output_type": "stream",
     "text": [
      "C:\\Users\\abc87\\Anaconda3\\envs\\py3.6\\lib\\site-packages\\ipykernel_launcher.py:1: SettingWithCopyWarning: \n",
      "A value is trying to be set on a copy of a slice from a DataFrame\n",
      "\n",
      "See the caveats in the documentation: http://pandas.pydata.org/pandas-docs/stable/indexing.html#indexing-view-versus-copy\n",
      "  \"\"\"Entry point for launching an IPython kernel.\n"
     ]
    }
   ],
   "source": [
    "df['Value'][~b] = killions * 1000"
   ]
  },
  {
   "cell_type": "code",
   "execution_count": 352,
   "metadata": {},
   "outputs": [
    {
     "data": {
      "text/plain": [
       "0        1.105e+08\n",
       "1          7.7e+07\n",
       "2        1.185e+08\n",
       "3          7.2e+07\n",
       "4         1.02e+08\n",
       "5          9.3e+07\n",
       "6          6.7e+07\n",
       "7            8e+07\n",
       "8          5.1e+07\n",
       "9          6.8e+07\n",
       "10         7.7e+07\n",
       "11        7.65e+07\n",
       "12         4.4e+07\n",
       "13           6e+07\n",
       "14         6.3e+07\n",
       "15         8.9e+07\n",
       "16        8.35e+07\n",
       "17         7.8e+07\n",
       "18         5.8e+07\n",
       "19        5.35e+07\n",
       "20        5.15e+07\n",
       "21           6e+07\n",
       "22         3.8e+07\n",
       "23        6.45e+07\n",
       "24         2.7e+07\n",
       "25         8.1e+07\n",
       "26        6.95e+07\n",
       "27        5.95e+07\n",
       "28        6.95e+07\n",
       "29         6.2e+07\n",
       "           ...    \n",
       "18177        70000\n",
       "18178        50000\n",
       "18179        50000\n",
       "18180        40000\n",
       "18181        50000\n",
       "18182        50000\n",
       "18183            0\n",
       "18184        40000\n",
       "18185        50000\n",
       "18186        60000\n",
       "18187        40000\n",
       "18188        60000\n",
       "18189        60000\n",
       "18190        60000\n",
       "18191        50000\n",
       "18192        50000\n",
       "18193        50000\n",
       "18194        50000\n",
       "18195        60000\n",
       "18196        60000\n",
       "18197        60000\n",
       "18198        60000\n",
       "18199        70000\n",
       "18200        60000\n",
       "18201        60000\n",
       "18202        60000\n",
       "18203        60000\n",
       "18204        60000\n",
       "18205        60000\n",
       "18206        60000\n",
       "Name: Value, Length: 18159, dtype: object"
      ]
     },
     "execution_count": 352,
     "metadata": {},
     "output_type": "execute_result"
    }
   ],
   "source": [
    "df['Value']"
   ]
  },
  {
   "cell_type": "code",
   "execution_count": 353,
   "metadata": {},
   "outputs": [
    {
     "name": "stderr",
     "output_type": "stream",
     "text": [
      "C:\\Users\\abc87\\Anaconda3\\envs\\py3.6\\lib\\site-packages\\ipykernel_launcher.py:1: SettingWithCopyWarning: \n",
      "A value is trying to be set on a copy of a slice from a DataFrame\n",
      "\n",
      "See the caveats in the documentation: http://pandas.pydata.org/pandas-docs/stable/indexing.html#indexing-view-versus-copy\n",
      "  \"\"\"Entry point for launching an IPython kernel.\n"
     ]
    }
   ],
   "source": [
    "df['Value'][df['Value'] == 0] = df['Value'].median()"
   ]
  },
  {
   "cell_type": "code",
   "execution_count": 354,
   "metadata": {},
   "outputs": [
    {
     "data": {
      "text/plain": [
       "0        110500000.0\n",
       "1         77000000.0\n",
       "2        118500000.0\n",
       "3         72000000.0\n",
       "4        102000000.0\n",
       "5         93000000.0\n",
       "6         67000000.0\n",
       "7         80000000.0\n",
       "8         51000000.0\n",
       "9         68000000.0\n",
       "10        77000000.0\n",
       "11        76500000.0\n",
       "12        44000000.0\n",
       "13        60000000.0\n",
       "14        63000000.0\n",
       "15        89000000.0\n",
       "16        83500000.0\n",
       "17        78000000.0\n",
       "18        58000000.0\n",
       "19        53500000.0\n",
       "20        51500000.0\n",
       "21        60000000.0\n",
       "22        38000000.0\n",
       "23        64500000.0\n",
       "24        27000000.0\n",
       "25        81000000.0\n",
       "26        69500000.0\n",
       "27        59500000.0\n",
       "28        69500000.0\n",
       "29        62000000.0\n",
       "            ...     \n",
       "18177        70000.0\n",
       "18178        50000.0\n",
       "18179        50000.0\n",
       "18180        40000.0\n",
       "18181        50000.0\n",
       "18182        50000.0\n",
       "18183       675000.0\n",
       "18184        40000.0\n",
       "18185        50000.0\n",
       "18186        60000.0\n",
       "18187        40000.0\n",
       "18188        60000.0\n",
       "18189        60000.0\n",
       "18190        60000.0\n",
       "18191        50000.0\n",
       "18192        50000.0\n",
       "18193        50000.0\n",
       "18194        50000.0\n",
       "18195        60000.0\n",
       "18196        60000.0\n",
       "18197        60000.0\n",
       "18198        60000.0\n",
       "18199        70000.0\n",
       "18200        60000.0\n",
       "18201        60000.0\n",
       "18202        60000.0\n",
       "18203        60000.0\n",
       "18204        60000.0\n",
       "18205        60000.0\n",
       "18206        60000.0\n",
       "Name: Value, Length: 18159, dtype: category\n",
       "Categories (216, float64): [10000.0, 20000.0, 30000.0, 40000.0, ..., 93000000.0, 102000000.0, 110500000.0, 118500000.0]"
      ]
     },
     "execution_count": 354,
     "metadata": {},
     "output_type": "execute_result"
    }
   ],
   "source": [
    "df['Value'].astype('category')"
   ]
  },
  {
   "cell_type": "code",
   "execution_count": 355,
   "metadata": {},
   "outputs": [],
   "source": [
    "df['Value'] = df['Value'].astype('float64')"
   ]
  },
  {
   "cell_type": "markdown",
   "metadata": {},
   "source": [
    "### Preferred Foot"
   ]
  },
  {
   "cell_type": "code",
   "execution_count": 356,
   "metadata": {},
   "outputs": [
    {
     "data": {
      "text/plain": [
       "0"
      ]
     },
     "execution_count": 356,
     "metadata": {},
     "output_type": "execute_result"
    }
   ],
   "source": [
    "df['Preferred Foot'].isnull().sum()"
   ]
  },
  {
   "cell_type": "code",
   "execution_count": 357,
   "metadata": {},
   "outputs": [
    {
     "data": {
      "text/plain": [
       "0         Left\n",
       "1        Right\n",
       "2        Right\n",
       "3        Right\n",
       "4        Right\n",
       "5        Right\n",
       "6        Right\n",
       "7        Right\n",
       "8        Right\n",
       "9        Right\n",
       "10       Right\n",
       "11       Right\n",
       "12       Right\n",
       "13        Left\n",
       "14       Right\n",
       "15        Left\n",
       "16       Right\n",
       "17        Left\n",
       "18       Right\n",
       "19        Left\n",
       "20       Right\n",
       "21       Right\n",
       "22       Right\n",
       "23       Right\n",
       "24        Left\n",
       "25       Right\n",
       "26        Left\n",
       "27       Right\n",
       "28        Left\n",
       "29       Right\n",
       "         ...  \n",
       "18177    Right\n",
       "18178    Right\n",
       "18179    Right\n",
       "18180    Right\n",
       "18181    Right\n",
       "18182    Right\n",
       "18183    Right\n",
       "18184    Right\n",
       "18185    Right\n",
       "18186    Right\n",
       "18187    Right\n",
       "18188    Right\n",
       "18189    Right\n",
       "18190    Right\n",
       "18191     Left\n",
       "18192    Right\n",
       "18193    Right\n",
       "18194    Right\n",
       "18195    Right\n",
       "18196    Right\n",
       "18197    Right\n",
       "18198    Right\n",
       "18199    Right\n",
       "18200     Left\n",
       "18201     Left\n",
       "18202    Right\n",
       "18203    Right\n",
       "18204    Right\n",
       "18205    Right\n",
       "18206    Right\n",
       "Name: Preferred Foot, Length: 18159, dtype: category\n",
       "Categories (2, object): [Left, Right]"
      ]
     },
     "execution_count": 357,
     "metadata": {},
     "output_type": "execute_result"
    }
   ],
   "source": [
    "df['Preferred Foot'].astype('category')"
   ]
  },
  {
   "cell_type": "code",
   "execution_count": 358,
   "metadata": {},
   "outputs": [],
   "source": [
    "df = pd.concat([df, pd.get_dummies(df['Preferred Foot'])], axis=1)"
   ]
  },
  {
   "cell_type": "code",
   "execution_count": 359,
   "metadata": {},
   "outputs": [
    {
     "data": {
      "text/plain": [
       "0        1\n",
       "1        0\n",
       "2        0\n",
       "3        0\n",
       "4        0\n",
       "5        0\n",
       "6        0\n",
       "7        0\n",
       "8        0\n",
       "9        0\n",
       "10       0\n",
       "11       0\n",
       "12       0\n",
       "13       1\n",
       "14       0\n",
       "15       1\n",
       "16       0\n",
       "17       1\n",
       "18       0\n",
       "19       1\n",
       "20       0\n",
       "21       0\n",
       "22       0\n",
       "23       0\n",
       "24       1\n",
       "25       0\n",
       "26       1\n",
       "27       0\n",
       "28       1\n",
       "29       0\n",
       "        ..\n",
       "18177    0\n",
       "18178    0\n",
       "18179    0\n",
       "18180    0\n",
       "18181    0\n",
       "18182    0\n",
       "18183    0\n",
       "18184    0\n",
       "18185    0\n",
       "18186    0\n",
       "18187    0\n",
       "18188    0\n",
       "18189    0\n",
       "18190    0\n",
       "18191    1\n",
       "18192    0\n",
       "18193    0\n",
       "18194    0\n",
       "18195    0\n",
       "18196    0\n",
       "18197    0\n",
       "18198    0\n",
       "18199    0\n",
       "18200    1\n",
       "18201    1\n",
       "18202    0\n",
       "18203    0\n",
       "18204    0\n",
       "18205    0\n",
       "18206    0\n",
       "Name: Left, Length: 18159, dtype: category\n",
       "Categories (2, uint64): [0, 1]"
      ]
     },
     "execution_count": 359,
     "metadata": {},
     "output_type": "execute_result"
    }
   ],
   "source": [
    "df['Left'].astype('category')"
   ]
  },
  {
   "cell_type": "markdown",
   "metadata": {},
   "source": [
    "### Weak Foot"
   ]
  },
  {
   "cell_type": "code",
   "execution_count": 360,
   "metadata": {},
   "outputs": [
    {
     "data": {
      "text/plain": [
       "0"
      ]
     },
     "execution_count": 360,
     "metadata": {},
     "output_type": "execute_result"
    }
   ],
   "source": [
    "df['Weak Foot'].isnull().sum()"
   ]
  },
  {
   "cell_type": "code",
   "execution_count": 361,
   "metadata": {},
   "outputs": [
    {
     "data": {
      "text/plain": [
       "0        4.0\n",
       "1        4.0\n",
       "2        5.0\n",
       "3        3.0\n",
       "4        5.0\n",
       "5        4.0\n",
       "6        4.0\n",
       "7        4.0\n",
       "8        3.0\n",
       "9        3.0\n",
       "10       4.0\n",
       "11       5.0\n",
       "12       3.0\n",
       "13       2.0\n",
       "14       3.0\n",
       "15       3.0\n",
       "16       4.0\n",
       "17       3.0\n",
       "18       4.0\n",
       "19       2.0\n",
       "20       3.0\n",
       "21       4.0\n",
       "22       4.0\n",
       "23       4.0\n",
       "24       3.0\n",
       "25       4.0\n",
       "26       3.0\n",
       "27       3.0\n",
       "28       3.0\n",
       "29       3.0\n",
       "        ... \n",
       "18177    3.0\n",
       "18178    2.0\n",
       "18179    3.0\n",
       "18180    2.0\n",
       "18181    2.0\n",
       "18182    3.0\n",
       "18183    2.0\n",
       "18184    3.0\n",
       "18185    3.0\n",
       "18186    3.0\n",
       "18187    3.0\n",
       "18188    3.0\n",
       "18189    3.0\n",
       "18190    3.0\n",
       "18191    3.0\n",
       "18192    3.0\n",
       "18193    2.0\n",
       "18194    3.0\n",
       "18195    3.0\n",
       "18196    3.0\n",
       "18197    3.0\n",
       "18198    2.0\n",
       "18199    3.0\n",
       "18200    2.0\n",
       "18201    3.0\n",
       "18202    2.0\n",
       "18203    2.0\n",
       "18204    3.0\n",
       "18205    3.0\n",
       "18206    3.0\n",
       "Name: Weak Foot, Length: 18159, dtype: category\n",
       "Categories (5, float64): [1.0, 2.0, 3.0, 4.0, 5.0]"
      ]
     },
     "execution_count": 361,
     "metadata": {},
     "output_type": "execute_result"
    }
   ],
   "source": [
    "df['Weak Foot'].astype('category')"
   ]
  },
  {
   "cell_type": "markdown",
   "metadata": {},
   "source": [
    "### International Reputation"
   ]
  },
  {
   "cell_type": "code",
   "execution_count": 362,
   "metadata": {},
   "outputs": [
    {
     "data": {
      "text/plain": [
       "0"
      ]
     },
     "execution_count": 362,
     "metadata": {},
     "output_type": "execute_result"
    }
   ],
   "source": [
    "df['International Reputation'].isnull().sum()"
   ]
  },
  {
   "cell_type": "code",
   "execution_count": 363,
   "metadata": {},
   "outputs": [
    {
     "data": {
      "text/plain": [
       "0        5.0\n",
       "1        5.0\n",
       "2        5.0\n",
       "3        4.0\n",
       "4        4.0\n",
       "5        4.0\n",
       "6        4.0\n",
       "7        5.0\n",
       "8        4.0\n",
       "9        3.0\n",
       "10       4.0\n",
       "11       4.0\n",
       "12       3.0\n",
       "13       4.0\n",
       "14       3.0\n",
       "15       3.0\n",
       "16       3.0\n",
       "17       4.0\n",
       "18       3.0\n",
       "19       4.0\n",
       "20       4.0\n",
       "21       4.0\n",
       "22       5.0\n",
       "23       4.0\n",
       "24       4.0\n",
       "25       3.0\n",
       "26       3.0\n",
       "27       3.0\n",
       "28       4.0\n",
       "29       3.0\n",
       "        ... \n",
       "18177    1.0\n",
       "18178    1.0\n",
       "18179    1.0\n",
       "18180    1.0\n",
       "18181    1.0\n",
       "18182    1.0\n",
       "18183    1.0\n",
       "18184    1.0\n",
       "18185    1.0\n",
       "18186    1.0\n",
       "18187    1.0\n",
       "18188    1.0\n",
       "18189    1.0\n",
       "18190    1.0\n",
       "18191    1.0\n",
       "18192    1.0\n",
       "18193    1.0\n",
       "18194    1.0\n",
       "18195    1.0\n",
       "18196    1.0\n",
       "18197    1.0\n",
       "18198    1.0\n",
       "18199    1.0\n",
       "18200    1.0\n",
       "18201    1.0\n",
       "18202    1.0\n",
       "18203    1.0\n",
       "18204    1.0\n",
       "18205    1.0\n",
       "18206    1.0\n",
       "Name: International Reputation, Length: 18159, dtype: category\n",
       "Categories (5, float64): [1.0, 2.0, 3.0, 4.0, 5.0]"
      ]
     },
     "execution_count": 363,
     "metadata": {},
     "output_type": "execute_result"
    }
   ],
   "source": [
    "df['International Reputation'].astype('category')"
   ]
  },
  {
   "cell_type": "markdown",
   "metadata": {},
   "source": [
    "### Height"
   ]
  },
  {
   "cell_type": "code",
   "execution_count": 364,
   "metadata": {},
   "outputs": [
    {
     "data": {
      "text/plain": [
       "0         5'7\n",
       "1         6'2\n",
       "2         5'9\n",
       "3         6'4\n",
       "4        5'11\n",
       "5         5'8\n",
       "6         5'8\n",
       "7         6'0\n",
       "8         6'0\n",
       "9         6'2\n",
       "10        6'0\n",
       "11        6'0\n",
       "12        6'2\n",
       "13        5'8\n",
       "14        5'6\n",
       "15       5'10\n",
       "16        6'2\n",
       "17        5'9\n",
       "18        6'2\n",
       "19        6'6\n",
       "20        6'2\n",
       "21        6'1\n",
       "22        6'4\n",
       "23        5'8\n",
       "24        6'2\n",
       "25       5'10\n",
       "26        5'9\n",
       "27        6'1\n",
       "28       5'11\n",
       "29        5'4\n",
       "         ... \n",
       "18177    5'10\n",
       "18178     6'0\n",
       "18179     6'2\n",
       "18180     6'1\n",
       "18181    5'11\n",
       "18182    5'10\n",
       "18183     6'2\n",
       "18184     6'1\n",
       "18185    5'11\n",
       "18186    5'10\n",
       "18187    5'10\n",
       "18188    5'10\n",
       "18189    5'10\n",
       "18190     5'9\n",
       "18191    5'11\n",
       "18192     6'1\n",
       "18193     5'8\n",
       "18194     6'3\n",
       "18195     5'8\n",
       "18196     5'7\n",
       "18197    5'10\n",
       "18198    5'11\n",
       "18199     5'6\n",
       "18200     5'9\n",
       "18201     6'1\n",
       "18202     5'9\n",
       "18203     6'3\n",
       "18204     5'8\n",
       "18205    5'10\n",
       "18206    5'10\n",
       "Name: Height, Length: 18159, dtype: object"
      ]
     },
     "execution_count": 364,
     "metadata": {},
     "output_type": "execute_result"
    }
   ],
   "source": [
    "df['Height']"
   ]
  },
  {
   "cell_type": "code",
   "execution_count": 365,
   "metadata": {},
   "outputs": [
    {
     "data": {
      "text/plain": [
       "0"
      ]
     },
     "execution_count": 365,
     "metadata": {},
     "output_type": "execute_result"
    }
   ],
   "source": [
    "df['Height'].isnull().sum()"
   ]
  },
  {
   "cell_type": "code",
   "execution_count": 366,
   "metadata": {},
   "outputs": [],
   "source": [
    "h = df['Height'].str.split('\\'')"
   ]
  },
  {
   "cell_type": "code",
   "execution_count": 367,
   "metadata": {},
   "outputs": [],
   "source": [
    "df['Height'] = h.str[0].astype('int64')*12 + h.str[1].astype('int64')"
   ]
  },
  {
   "cell_type": "code",
   "execution_count": 368,
   "metadata": {},
   "outputs": [
    {
     "data": {
      "text/plain": [
       "0        67\n",
       "1        74\n",
       "2        69\n",
       "3        76\n",
       "4        71\n",
       "5        68\n",
       "6        68\n",
       "7        72\n",
       "8        72\n",
       "9        74\n",
       "10       72\n",
       "11       72\n",
       "12       74\n",
       "13       68\n",
       "14       66\n",
       "15       70\n",
       "16       74\n",
       "17       69\n",
       "18       74\n",
       "19       78\n",
       "20       74\n",
       "21       73\n",
       "22       76\n",
       "23       68\n",
       "24       74\n",
       "25       70\n",
       "26       69\n",
       "27       73\n",
       "28       71\n",
       "29       64\n",
       "         ..\n",
       "18177    70\n",
       "18178    72\n",
       "18179    74\n",
       "18180    73\n",
       "18181    71\n",
       "18182    70\n",
       "18183    74\n",
       "18184    73\n",
       "18185    71\n",
       "18186    70\n",
       "18187    70\n",
       "18188    70\n",
       "18189    70\n",
       "18190    69\n",
       "18191    71\n",
       "18192    73\n",
       "18193    68\n",
       "18194    75\n",
       "18195    68\n",
       "18196    67\n",
       "18197    70\n",
       "18198    71\n",
       "18199    66\n",
       "18200    69\n",
       "18201    73\n",
       "18202    69\n",
       "18203    75\n",
       "18204    68\n",
       "18205    70\n",
       "18206    70\n",
       "Name: Height, Length: 18159, dtype: int64"
      ]
     },
     "execution_count": 368,
     "metadata": {},
     "output_type": "execute_result"
    }
   ],
   "source": [
    "df['Height']"
   ]
  },
  {
   "cell_type": "markdown",
   "metadata": {},
   "source": [
    "### Weight"
   ]
  },
  {
   "cell_type": "code",
   "execution_count": 369,
   "metadata": {},
   "outputs": [
    {
     "data": {
      "text/plain": [
       "0        159lbs\n",
       "1        183lbs\n",
       "2        150lbs\n",
       "3        168lbs\n",
       "4        154lbs\n",
       "5        163lbs\n",
       "6        146lbs\n",
       "7        190lbs\n",
       "8        181lbs\n",
       "9        192lbs\n",
       "10       176lbs\n",
       "11       168lbs\n",
       "12       172lbs\n",
       "13       148lbs\n",
       "14       159lbs\n",
       "15       165lbs\n",
       "16       196lbs\n",
       "17       161lbs\n",
       "18       187lbs\n",
       "19       212lbs\n",
       "20       168lbs\n",
       "21       170lbs\n",
       "22       203lbs\n",
       "23       154lbs\n",
       "24       187lbs\n",
       "25       161lbs\n",
       "26       157lbs\n",
       "27       185lbs\n",
       "28       172lbs\n",
       "29       130lbs\n",
       "          ...  \n",
       "18177    163lbs\n",
       "18178    176lbs\n",
       "18179    163lbs\n",
       "18180    172lbs\n",
       "18181    134lbs\n",
       "18182    165lbs\n",
       "18183    190lbs\n",
       "18184    179lbs\n",
       "18185    159lbs\n",
       "18186    174lbs\n",
       "18187    161lbs\n",
       "18188    148lbs\n",
       "18189    165lbs\n",
       "18190    176lbs\n",
       "18191    168lbs\n",
       "18192    165lbs\n",
       "18193    146lbs\n",
       "18194    187lbs\n",
       "18195    141lbs\n",
       "18196    146lbs\n",
       "18197    141lbs\n",
       "18198    154lbs\n",
       "18199    150lbs\n",
       "18200    157lbs\n",
       "18201    168lbs\n",
       "18202    134lbs\n",
       "18203    170lbs\n",
       "18204    148lbs\n",
       "18205    154lbs\n",
       "18206    176lbs\n",
       "Name: Weight, Length: 18159, dtype: object"
      ]
     },
     "execution_count": 369,
     "metadata": {},
     "output_type": "execute_result"
    }
   ],
   "source": [
    "df['Weight']"
   ]
  },
  {
   "cell_type": "code",
   "execution_count": 370,
   "metadata": {},
   "outputs": [
    {
     "data": {
      "text/plain": [
       "0"
      ]
     },
     "execution_count": 370,
     "metadata": {},
     "output_type": "execute_result"
    }
   ],
   "source": [
    "df['Weight'].isnull().sum()"
   ]
  },
  {
   "cell_type": "code",
   "execution_count": 371,
   "metadata": {},
   "outputs": [],
   "source": [
    "df['Weight'] = df['Weight'].str.split('lbs').str[0].astype('int64')"
   ]
  },
  {
   "cell_type": "code",
   "execution_count": 372,
   "metadata": {},
   "outputs": [
    {
     "data": {
      "text/plain": [
       "0        159\n",
       "1        183\n",
       "2        150\n",
       "3        168\n",
       "4        154\n",
       "5        163\n",
       "6        146\n",
       "7        190\n",
       "8        181\n",
       "9        192\n",
       "10       176\n",
       "11       168\n",
       "12       172\n",
       "13       148\n",
       "14       159\n",
       "15       165\n",
       "16       196\n",
       "17       161\n",
       "18       187\n",
       "19       212\n",
       "20       168\n",
       "21       170\n",
       "22       203\n",
       "23       154\n",
       "24       187\n",
       "25       161\n",
       "26       157\n",
       "27       185\n",
       "28       172\n",
       "29       130\n",
       "        ... \n",
       "18177    163\n",
       "18178    176\n",
       "18179    163\n",
       "18180    172\n",
       "18181    134\n",
       "18182    165\n",
       "18183    190\n",
       "18184    179\n",
       "18185    159\n",
       "18186    174\n",
       "18187    161\n",
       "18188    148\n",
       "18189    165\n",
       "18190    176\n",
       "18191    168\n",
       "18192    165\n",
       "18193    146\n",
       "18194    187\n",
       "18195    141\n",
       "18196    146\n",
       "18197    141\n",
       "18198    154\n",
       "18199    150\n",
       "18200    157\n",
       "18201    168\n",
       "18202    134\n",
       "18203    170\n",
       "18204    148\n",
       "18205    154\n",
       "18206    176\n",
       "Name: Weight, Length: 18159, dtype: int64"
      ]
     },
     "execution_count": 372,
     "metadata": {},
     "output_type": "execute_result"
    }
   ],
   "source": [
    "df['Weight']"
   ]
  },
  {
   "cell_type": "markdown",
   "metadata": {},
   "source": [
    "### Position"
   ]
  },
  {
   "cell_type": "code",
   "execution_count": 373,
   "metadata": {},
   "outputs": [],
   "source": [
    "position = df[['LS', 'ST', 'RS', 'LW', 'LF', 'CF', 'RF', 'RW', 'LAM', 'CAM', 'RAM', 'LM', 'LCM', 'CM', 'RCM', 'RM', 'LWB', 'LDM', 'CDM', 'RDM', 'RWB', 'LB', 'LCB', 'CB', 'RCB', 'RB']]"
   ]
  },
  {
   "cell_type": "code",
   "execution_count": 374,
   "metadata": {},
   "outputs": [
    {
     "data": {
      "text/plain": [
       "52962"
      ]
     },
     "execution_count": 374,
     "metadata": {},
     "output_type": "execute_result"
    }
   ],
   "source": [
    "position.isnull().sum().sum()"
   ]
  },
  {
   "cell_type": "code",
   "execution_count": 375,
   "metadata": {},
   "outputs": [
    {
     "name": "stderr",
     "output_type": "stream",
     "text": [
      "C:\\Users\\abc87\\Anaconda3\\envs\\py3.6\\lib\\site-packages\\ipykernel_launcher.py:5: SettingWithCopyWarning: \n",
      "A value is trying to be set on a copy of a slice from a DataFrame\n",
      "\n",
      "See the caveats in the documentation: http://pandas.pydata.org/pandas-docs/stable/indexing.html#indexing-view-versus-copy\n",
      "  \"\"\"\n"
     ]
    }
   ],
   "source": [
    "# Convert 45+2 into 47 (int64)\n",
    "for x in position:\n",
    "    n = position[x][~position[x].isnull()].str.split('+')\n",
    "    df[x] = n.str[0].astype('int64') + n.str[1].astype('int64')\n",
    "    df[x][df[x].isnull()] = df[x].median()"
   ]
  },
  {
   "cell_type": "markdown",
   "metadata": {},
   "source": [
    "### Crossing"
   ]
  },
  {
   "cell_type": "code",
   "execution_count": 376,
   "metadata": {},
   "outputs": [
    {
     "data": {
      "text/plain": [
       "0"
      ]
     },
     "execution_count": 376,
     "metadata": {},
     "output_type": "execute_result"
    }
   ],
   "source": [
    "df['Crossing'].isnull().sum()"
   ]
  },
  {
   "cell_type": "markdown",
   "metadata": {},
   "source": [
    "### Finishing"
   ]
  },
  {
   "cell_type": "code",
   "execution_count": 377,
   "metadata": {},
   "outputs": [
    {
     "data": {
      "text/plain": [
       "0"
      ]
     },
     "execution_count": 377,
     "metadata": {},
     "output_type": "execute_result"
    }
   ],
   "source": [
    "df['Finishing'].isnull().sum()"
   ]
  },
  {
   "cell_type": "markdown",
   "metadata": {},
   "source": [
    "### HeadingAccuracy"
   ]
  },
  {
   "cell_type": "code",
   "execution_count": 378,
   "metadata": {},
   "outputs": [
    {
     "data": {
      "text/plain": [
       "0"
      ]
     },
     "execution_count": 378,
     "metadata": {},
     "output_type": "execute_result"
    }
   ],
   "source": [
    "df['HeadingAccuracy'].isnull().sum()"
   ]
  },
  {
   "cell_type": "markdown",
   "metadata": {},
   "source": [
    "### ShortPassing"
   ]
  },
  {
   "cell_type": "code",
   "execution_count": 379,
   "metadata": {},
   "outputs": [
    {
     "data": {
      "text/plain": [
       "0"
      ]
     },
     "execution_count": 379,
     "metadata": {},
     "output_type": "execute_result"
    }
   ],
   "source": [
    "df['ShortPassing'].isnull().sum()"
   ]
  },
  {
   "cell_type": "markdown",
   "metadata": {},
   "source": [
    "### Volleys"
   ]
  },
  {
   "cell_type": "code",
   "execution_count": 380,
   "metadata": {},
   "outputs": [
    {
     "data": {
      "text/plain": [
       "0"
      ]
     },
     "execution_count": 380,
     "metadata": {},
     "output_type": "execute_result"
    }
   ],
   "source": [
    "df['Volleys'].isnull().sum()"
   ]
  },
  {
   "cell_type": "markdown",
   "metadata": {},
   "source": [
    "### Dribbling"
   ]
  },
  {
   "cell_type": "code",
   "execution_count": 381,
   "metadata": {},
   "outputs": [
    {
     "data": {
      "text/plain": [
       "0"
      ]
     },
     "execution_count": 381,
     "metadata": {},
     "output_type": "execute_result"
    }
   ],
   "source": [
    "df['Dribbling'].isnull().sum()"
   ]
  },
  {
   "cell_type": "markdown",
   "metadata": {},
   "source": [
    "### Curve"
   ]
  },
  {
   "cell_type": "code",
   "execution_count": 382,
   "metadata": {},
   "outputs": [
    {
     "data": {
      "text/plain": [
       "0"
      ]
     },
     "execution_count": 382,
     "metadata": {},
     "output_type": "execute_result"
    }
   ],
   "source": [
    "df['Curve'].isnull().sum()"
   ]
  },
  {
   "cell_type": "markdown",
   "metadata": {},
   "source": [
    "### FKAccuracy"
   ]
  },
  {
   "cell_type": "code",
   "execution_count": 383,
   "metadata": {},
   "outputs": [
    {
     "data": {
      "text/plain": [
       "0"
      ]
     },
     "execution_count": 383,
     "metadata": {},
     "output_type": "execute_result"
    }
   ],
   "source": [
    "df['FKAccuracy'].isnull().sum()"
   ]
  },
  {
   "cell_type": "markdown",
   "metadata": {},
   "source": [
    "### LongPassing"
   ]
  },
  {
   "cell_type": "code",
   "execution_count": 384,
   "metadata": {},
   "outputs": [
    {
     "data": {
      "text/plain": [
       "0"
      ]
     },
     "execution_count": 384,
     "metadata": {},
     "output_type": "execute_result"
    }
   ],
   "source": [
    "df['LongPassing'].isnull().sum()"
   ]
  },
  {
   "cell_type": "markdown",
   "metadata": {},
   "source": [
    "### BallControl"
   ]
  },
  {
   "cell_type": "code",
   "execution_count": 385,
   "metadata": {},
   "outputs": [
    {
     "data": {
      "text/plain": [
       "0"
      ]
     },
     "execution_count": 385,
     "metadata": {},
     "output_type": "execute_result"
    }
   ],
   "source": [
    "df['BallControl'].isnull().sum()"
   ]
  },
  {
   "cell_type": "markdown",
   "metadata": {},
   "source": [
    "### Acceleration"
   ]
  },
  {
   "cell_type": "code",
   "execution_count": 386,
   "metadata": {},
   "outputs": [
    {
     "data": {
      "text/plain": [
       "0"
      ]
     },
     "execution_count": 386,
     "metadata": {},
     "output_type": "execute_result"
    }
   ],
   "source": [
    "df['Acceleration'].isnull().sum()"
   ]
  },
  {
   "cell_type": "markdown",
   "metadata": {},
   "source": [
    "### SprintSpeed"
   ]
  },
  {
   "cell_type": "code",
   "execution_count": 387,
   "metadata": {},
   "outputs": [
    {
     "data": {
      "text/plain": [
       "0"
      ]
     },
     "execution_count": 387,
     "metadata": {},
     "output_type": "execute_result"
    }
   ],
   "source": [
    "df['SprintSpeed'].isnull().sum()"
   ]
  },
  {
   "cell_type": "markdown",
   "metadata": {},
   "source": [
    "### Agility"
   ]
  },
  {
   "cell_type": "code",
   "execution_count": 388,
   "metadata": {},
   "outputs": [
    {
     "data": {
      "text/plain": [
       "0"
      ]
     },
     "execution_count": 388,
     "metadata": {},
     "output_type": "execute_result"
    }
   ],
   "source": [
    "df['Agility'].isnull().sum()"
   ]
  },
  {
   "cell_type": "markdown",
   "metadata": {},
   "source": [
    "### Reactions"
   ]
  },
  {
   "cell_type": "code",
   "execution_count": 389,
   "metadata": {},
   "outputs": [
    {
     "data": {
      "text/plain": [
       "0"
      ]
     },
     "execution_count": 389,
     "metadata": {},
     "output_type": "execute_result"
    }
   ],
   "source": [
    "df['Reactions'].isnull().sum()"
   ]
  },
  {
   "cell_type": "markdown",
   "metadata": {},
   "source": [
    "### Balance"
   ]
  },
  {
   "cell_type": "code",
   "execution_count": 390,
   "metadata": {},
   "outputs": [
    {
     "data": {
      "text/plain": [
       "0"
      ]
     },
     "execution_count": 390,
     "metadata": {},
     "output_type": "execute_result"
    }
   ],
   "source": [
    "df['Balance'].isnull().sum()"
   ]
  },
  {
   "cell_type": "markdown",
   "metadata": {},
   "source": [
    "## Features Selection"
   ]
  },
  {
   "cell_type": "code",
   "execution_count": 391,
   "metadata": {},
   "outputs": [
    {
     "data": {
      "text/plain": [
       "LW                          0.672151\n",
       "RW                          0.672151\n",
       "LAM                         0.658455\n",
       "CAM                         0.658455\n",
       "RAM                         0.658455\n",
       "LF                          0.657415\n",
       "CF                          0.657415\n",
       "RF                          0.657415\n",
       "RM                          0.653988\n",
       "LM                          0.653988\n",
       "Dribbling                   0.650105\n",
       "Curve                       0.632112\n",
       "Positioning                 0.620862\n",
       "RS                          0.619514\n",
       "ST                          0.619514\n",
       "LS                          0.619514\n",
       "Finishing                   0.617071\n",
       "Vision                      0.616775\n",
       "LongShots                   0.615857\n",
       "Volleys                     0.608133\n",
       "BallControl                 0.600042\n",
       "Special                     0.583561\n",
       "Crossing                    0.574357\n",
       "FKAccuracy                  0.566992\n",
       "Agility                     0.557898\n",
       "ShotPower                   0.552438\n",
       "RCM                         0.543522\n",
       "CM                          0.543522\n",
       "LCM                         0.543522\n",
       "Penalties                   0.526420\n",
       "                              ...   \n",
       "Wage                        0.215740\n",
       "LWB                         0.188263\n",
       "RWB                         0.188263\n",
       "HeadingAccuracy             0.166976\n",
       "International Reputation    0.160488\n",
       "Aggression                  0.132689\n",
       "Left                        0.078342\n",
       "LDM                         0.074785\n",
       "CDM                         0.074785\n",
       "RDM                         0.074785\n",
       "Age                         0.068344\n",
       "RB                          0.062328\n",
       "LB                          0.062328\n",
       "Jumping                     0.030969\n",
       "Marking                     0.023456\n",
       "Interceptions               0.014299\n",
       "StandingTackle             -0.003698\n",
       "SlidingTackle              -0.027922\n",
       "Right                      -0.078342\n",
       "Strength                   -0.114146\n",
       "RCB                        -0.145432\n",
       "CB                         -0.145432\n",
       "LCB                        -0.145432\n",
       "Weight                     -0.273875\n",
       "GKKicking                  -0.287210\n",
       "GKHandling                 -0.288772\n",
       "GKPositioning              -0.289581\n",
       "GKReflexes                 -0.290685\n",
       "GKDiving                   -0.290929\n",
       "Height                     -0.347198\n",
       "Name: Skill Moves, Length: 72, dtype: float64"
      ]
     },
     "execution_count": 391,
     "metadata": {},
     "output_type": "execute_result"
    }
   ],
   "source": [
    "move_corr_seq = (df.corr()['Skill Moves']).sort_values(ascending=False).drop('Skill Moves')\n",
    "move_corr_seq"
   ]
  },
  {
   "cell_type": "code",
   "execution_count": 392,
   "metadata": {},
   "outputs": [
    {
     "data": {
      "image/png": "[encoded data removed]",
      "text/plain": [
       "<Figure size 720x720 with 72 Axes>"
      ]
     },
     "metadata": {
      "needs_background": "light"
     },
     "output_type": "display_data"
    }
   ],
   "source": [
    "fig, axes = plt.subplots(nrows=9, ncols=8, figsize=(10,10))\n",
    "plt.subplots_adjust(left = -0.5, bottom=-0.5, hspace=1.0, wspace=1.0)\n",
    "\n",
    "corr_to_move = pd.Series()\n",
    "for col in df.columns.values[1:]:\n",
    "    if (((col!='Skill Moves') & (col!='Name') & (col!='Preferred Foot'))):\n",
    "        corr_to_move[col] = df['Skill Moves'].corr(df[col])\n",
    "abs_corr_to_move = corr_to_move.abs().sort_values(ascending=False)\n",
    "corr_to_move = corr_to_move.loc[abs_corr_to_move.index]\n",
    "\n",
    "for i in range(9):\n",
    "    for j in range(8):\n",
    "        sns.regplot(x=corr_to_move.index.values[i*8+j], y='Skill Moves', data=df,\n",
    "                   ax=axes[i,j], fit_reg=False, marker='.')\n",
    "\n",
    "axes[1,2].set_xlim(0,102)\n",
    "plt.show()"
   ]
  },
  {
   "cell_type": "markdown",
   "metadata": {},
   "source": [
    "### Significant"
   ]
  },
  {
   "cell_type": "markdown",
   "metadata": {},
   "source": [
    "Then, we investigate the significant, p-value, between top 20 correlation features as the diagram below. As you can see, there contains some values higher than 0.05, which relate not significant."
   ]
  },
  {
   "cell_type": "code",
   "execution_count": 393,
   "metadata": {},
   "outputs": [
    {
     "data": {
      "image/png": "[encoded data removed]",
      "text/plain": [
       "<Figure size 1152x864 with 2 Axes>"
      ]
     },
     "metadata": {
      "needs_background": "light"
     },
     "output_type": "display_data"
    }
   ],
   "source": [
    "allFeatures = df[abs_corr_to_move.index[:20]].columns\n",
    "matrix = [[0 for x in range(len(allFeatures))] for y in range(len(allFeatures))] \n",
    "for i in range(len(allFeatures)):\n",
    "    for j in range(len(allFeatures)):\n",
    "        t, p = stats.ttest_ind(df[allFeatures[i]], df[allFeatures[j]])\n",
    "        matrix[i][j] = p\n",
    "sign = pd.DataFrame(data=matrix)\n",
    "plt.figure(figsize=(16,12))\n",
    "sns.heatmap(data=sign,annot=True,fmt='.2f',cmap='coolwarm')\n",
    "plt.show()"
   ]
  },
  {
   "cell_type": "code",
   "execution_count": 394,
   "metadata": {},
   "outputs": [
    {
     "data": {
      "text/plain": [
       "Index(['CAM', 'LF', 'CF', 'RF', 'LM', 'RM', 'Dribbling', 'Curve',\n",
       "       'Positioning', 'RS'],\n",
       "      dtype='object')"
      ]
     },
     "execution_count": 394,
     "metadata": {},
     "output_type": "execute_result"
    }
   ],
   "source": [
    "features = abs_corr_to_move.index[4:14]\n",
    "features"
   ]
  },
  {
   "cell_type": "markdown",
   "metadata": {},
   "source": [
    "At result, we choose these ten features above to build the models."
   ]
  },
  {
   "cell_type": "markdown",
   "metadata": {},
   "source": [
    "## Modeling"
   ]
  },
  {
   "cell_type": "markdown",
   "metadata": {},
   "source": [
    "### Training and Testing"
   ]
  },
  {
   "cell_type": "code",
   "execution_count": 395,
   "metadata": {},
   "outputs": [],
   "source": [
    "def buildLogiRModel(f):\n",
    "    scores = []\n",
    "    models = []\n",
    "    train_X = []\n",
    "    train_Y = []\n",
    "    test_X = []\n",
    "    test_Y = []\n",
    "    \n",
    "    for i in range(0, len(f)):\n",
    "        train, test = train_test_split(df, test_size=0.3, shuffle=True)\n",
    "        training_feature = f[0:i+1]\n",
    "        target = 'Skill Moves'\n",
    "        train_X.append(train[training_feature])\n",
    "        train_Y.append(train[target])\n",
    "        test_X.append(test[training_feature])\n",
    "        test_Y.append(test[target])\n",
    "#         model = sm.Logit()\n",
    "        model = LogisticRegression()\n",
    "        result = model.fit(train[training_feature], train[target])\n",
    "        score = result.score(test[training_feature], test[target])\n",
    "        \n",
    "        models.append(result)\n",
    "        scores.append(score)\n",
    "    return [scores, models, train_X, train_Y, test_X, test_Y]"
   ]
  },
  {
   "cell_type": "code",
   "execution_count": 396,
   "metadata": {},
   "outputs": [
    {
     "name": "stderr",
     "output_type": "stream",
     "text": [
      "C:\\Users\\abc87\\Anaconda3\\envs\\py3.6\\lib\\site-packages\\sklearn\\linear_model\\logistic.py:433: FutureWarning: Default solver will be changed to 'lbfgs' in 0.22. Specify a solver to silence this warning.\n",
      "  FutureWarning)\n",
      "C:\\Users\\abc87\\Anaconda3\\envs\\py3.6\\lib\\site-packages\\sklearn\\linear_model\\logistic.py:433: FutureWarning: Default solver will be changed to 'lbfgs' in 0.22. Specify a solver to silence this warning.\n",
      "  FutureWarning)\n",
      "C:\\Users\\abc87\\Anaconda3\\envs\\py3.6\\lib\\site-packages\\sklearn\\linear_model\\logistic.py:433: FutureWarning: Default solver will be changed to 'lbfgs' in 0.22. Specify a solver to silence this warning.\n",
      "  FutureWarning)\n",
      "C:\\Users\\abc87\\Anaconda3\\envs\\py3.6\\lib\\site-packages\\sklearn\\linear_model\\logistic.py:433: FutureWarning: Default solver will be changed to 'lbfgs' in 0.22. Specify a solver to silence this warning.\n",
      "  FutureWarning)\n",
      "C:\\Users\\abc87\\Anaconda3\\envs\\py3.6\\lib\\site-packages\\sklearn\\linear_model\\logistic.py:433: FutureWarning: Default solver will be changed to 'lbfgs' in 0.22. Specify a solver to silence this warning.\n",
      "  FutureWarning)\n",
      "C:\\Users\\abc87\\Anaconda3\\envs\\py3.6\\lib\\site-packages\\sklearn\\linear_model\\logistic.py:433: FutureWarning: Default solver will be changed to 'lbfgs' in 0.22. Specify a solver to silence this warning.\n",
      "  FutureWarning)\n",
      "C:\\Users\\abc87\\Anaconda3\\envs\\py3.6\\lib\\site-packages\\sklearn\\linear_model\\logistic.py:433: FutureWarning: Default solver will be changed to 'lbfgs' in 0.22. Specify a solver to silence this warning.\n",
      "  FutureWarning)\n",
      "C:\\Users\\abc87\\Anaconda3\\envs\\py3.6\\lib\\site-packages\\sklearn\\linear_model\\logistic.py:433: FutureWarning: Default solver will be changed to 'lbfgs' in 0.22. Specify a solver to silence this warning.\n",
      "  FutureWarning)\n",
      "C:\\Users\\abc87\\Anaconda3\\envs\\py3.6\\lib\\site-packages\\sklearn\\linear_model\\logistic.py:433: FutureWarning: Default solver will be changed to 'lbfgs' in 0.22. Specify a solver to silence this warning.\n",
      "  FutureWarning)\n",
      "C:\\Users\\abc87\\Anaconda3\\envs\\py3.6\\lib\\site-packages\\sklearn\\linear_model\\logistic.py:433: FutureWarning: Default solver will be changed to 'lbfgs' in 0.22. Specify a solver to silence this warning.\n",
      "  FutureWarning)\n"
     ]
    }
   ],
   "source": [
    "[scores, models, train_X, train_Y, test_X, test_Y] = buildLogiRModel(features)"
   ]
  },
  {
   "cell_type": "code",
   "execution_count": 397,
   "metadata": {},
   "outputs": [
    {
     "data": {
      "text/plain": [
       "[<matplotlib.lines.Line2D at 0x1bd52ffb198>]"
      ]
     },
     "execution_count": 397,
     "metadata": {},
     "output_type": "execute_result"
    },
    {
     "data": {
      "image/png": "[encoded data removed]",
      "text/plain": [
       "<Figure size 432x288 with 1 Axes>"
      ]
     },
     "metadata": {
      "needs_background": "light"
     },
     "output_type": "display_data"
    }
   ],
   "source": [
    "plt.plot(scores)"
   ]
  },
  {
   "cell_type": "code",
   "execution_count": 398,
   "metadata": {},
   "outputs": [
    {
     "data": {
      "image/png": "[encoded data removed]",
      "text/plain": [
       "<Figure size 432x288 with 1 Axes>"
      ]
     },
     "metadata": {
      "needs_background": "light"
     },
     "output_type": "display_data"
    }
   ],
   "source": [
    "while scores.index(max(scores)) < 6:\n",
    "    [scores, models, train_X, train_Y, test_X, test_Y] = buildLogiRModel(features)\n",
    "plt.plot(scores)\n",
    "modelIndex = scores.index(max(scores))"
   ]
  },
  {
   "cell_type": "code",
   "execution_count": 399,
   "metadata": {},
   "outputs": [
    {
     "name": "stdout",
     "output_type": "stream",
     "text": [
      "model number: 6, Mean accuracy: 0.9230910425844346\n"
     ]
    }
   ],
   "source": [
    "print(\"model number: \" + str(modelIndex) + \", Mean accuracy: \" + str(scores[modelIndex]))"
   ]
  },
  {
   "cell_type": "markdown",
   "metadata": {},
   "source": [
    "After training the model, we can obtain the model 6 (7 features) is the most accuracy to testing data. Then, we can exam further by cross validation."
   ]
  },
  {
   "cell_type": "markdown",
   "metadata": {},
   "source": [
    "### Cross Validation"
   ]
  },
  {
   "cell_type": "code",
   "execution_count": 400,
   "metadata": {},
   "outputs": [],
   "source": [
    "def buildLogiRModelCV(f):\n",
    "    scores_CV = []\n",
    "    \n",
    "    for i in range(0, len(f)):\n",
    "        training_feature = f[0:i+1]\n",
    "        target = 'Skill Moves'\n",
    "        model = LogisticRegression()\n",
    "#         score = cross_val_score(model, df[training_feature], df[target], cv=5, scoring='homogeneity_score')\n",
    "        score = cross_val_score(model, df[training_feature], df[target], cv=5)\n",
    "        scores_CV.append(sum(score)/len(score))\n",
    "    return scores_CV"
   ]
  },
  {
   "cell_type": "code",
   "execution_count": 401,
   "metadata": {},
   "outputs": [
    {
     "name": "stderr",
     "output_type": "stream",
     "text": [
      "C:\\Users\\abc87\\Anaconda3\\envs\\py3.6\\lib\\site-packages\\sklearn\\linear_model\\logistic.py:433: FutureWarning: Default solver will be changed to 'lbfgs' in 0.22. Specify a solver to silence this warning.\n",
      "  FutureWarning)\n",
      "C:\\Users\\abc87\\Anaconda3\\envs\\py3.6\\lib\\site-packages\\sklearn\\linear_model\\logistic.py:433: FutureWarning: Default solver will be changed to 'lbfgs' in 0.22. Specify a solver to silence this warning.\n",
      "  FutureWarning)\n",
      "C:\\Users\\abc87\\Anaconda3\\envs\\py3.6\\lib\\site-packages\\sklearn\\linear_model\\logistic.py:433: FutureWarning: Default solver will be changed to 'lbfgs' in 0.22. Specify a solver to silence this warning.\n",
      "  FutureWarning)\n",
      "C:\\Users\\abc87\\Anaconda3\\envs\\py3.6\\lib\\site-packages\\sklearn\\linear_model\\logistic.py:433: FutureWarning: Default solver will be changed to 'lbfgs' in 0.22. Specify a solver to silence this warning.\n",
      "  FutureWarning)\n",
      "C:\\Users\\abc87\\Anaconda3\\envs\\py3.6\\lib\\site-packages\\sklearn\\linear_model\\logistic.py:433: FutureWarning: Default solver will be changed to 'lbfgs' in 0.22. Specify a solver to silence this warning.\n",
      "  FutureWarning)\n",
      "C:\\Users\\abc87\\Anaconda3\\envs\\py3.6\\lib\\site-packages\\sklearn\\linear_model\\logistic.py:433: FutureWarning: Default solver will be changed to 'lbfgs' in 0.22. Specify a solver to silence this warning.\n",
      "  FutureWarning)\n",
      "C:\\Users\\abc87\\Anaconda3\\envs\\py3.6\\lib\\site-packages\\sklearn\\linear_model\\logistic.py:433: FutureWarning: Default solver will be changed to 'lbfgs' in 0.22. Specify a solver to silence this warning.\n",
      "  FutureWarning)\n",
      "C:\\Users\\abc87\\Anaconda3\\envs\\py3.6\\lib\\site-packages\\sklearn\\linear_model\\logistic.py:433: FutureWarning: Default solver will be changed to 'lbfgs' in 0.22. Specify a solver to silence this warning.\n",
      "  FutureWarning)\n",
      "C:\\Users\\abc87\\Anaconda3\\envs\\py3.6\\lib\\site-packages\\sklearn\\linear_model\\logistic.py:433: FutureWarning: Default solver will be changed to 'lbfgs' in 0.22. Specify a solver to silence this warning.\n",
      "  FutureWarning)\n",
      "C:\\Users\\abc87\\Anaconda3\\envs\\py3.6\\lib\\site-packages\\sklearn\\linear_model\\logistic.py:433: FutureWarning: Default solver will be changed to 'lbfgs' in 0.22. Specify a solver to silence this warning.\n",
      "  FutureWarning)\n",
      "C:\\Users\\abc87\\Anaconda3\\envs\\py3.6\\lib\\site-packages\\sklearn\\linear_model\\logistic.py:433: FutureWarning: Default solver will be changed to 'lbfgs' in 0.22. Specify a solver to silence this warning.\n",
      "  FutureWarning)\n",
      "C:\\Users\\abc87\\Anaconda3\\envs\\py3.6\\lib\\site-packages\\sklearn\\linear_model\\logistic.py:433: FutureWarning: Default solver will be changed to 'lbfgs' in 0.22. Specify a solver to silence this warning.\n",
      "  FutureWarning)\n",
      "C:\\Users\\abc87\\Anaconda3\\envs\\py3.6\\lib\\site-packages\\sklearn\\linear_model\\logistic.py:433: FutureWarning: Default solver will be changed to 'lbfgs' in 0.22. Specify a solver to silence this warning.\n",
      "  FutureWarning)\n",
      "C:\\Users\\abc87\\Anaconda3\\envs\\py3.6\\lib\\site-packages\\sklearn\\linear_model\\logistic.py:433: FutureWarning: Default solver will be changed to 'lbfgs' in 0.22. Specify a solver to silence this warning.\n",
      "  FutureWarning)\n",
      "C:\\Users\\abc87\\Anaconda3\\envs\\py3.6\\lib\\site-packages\\sklearn\\linear_model\\logistic.py:433: FutureWarning: Default solver will be changed to 'lbfgs' in 0.22. Specify a solver to silence this warning.\n",
      "  FutureWarning)\n",
      "C:\\Users\\abc87\\Anaconda3\\envs\\py3.6\\lib\\site-packages\\sklearn\\linear_model\\logistic.py:433: FutureWarning: Default solver will be changed to 'lbfgs' in 0.22. Specify a solver to silence this warning.\n",
      "  FutureWarning)\n",
      "C:\\Users\\abc87\\Anaconda3\\envs\\py3.6\\lib\\site-packages\\sklearn\\linear_model\\logistic.py:433: FutureWarning: Default solver will be changed to 'lbfgs' in 0.22. Specify a solver to silence this warning.\n",
      "  FutureWarning)\n",
      "C:\\Users\\abc87\\Anaconda3\\envs\\py3.6\\lib\\site-packages\\sklearn\\linear_model\\logistic.py:433: FutureWarning: Default solver will be changed to 'lbfgs' in 0.22. Specify a solver to silence this warning.\n",
      "  FutureWarning)\n",
      "C:\\Users\\abc87\\Anaconda3\\envs\\py3.6\\lib\\site-packages\\sklearn\\linear_model\\logistic.py:433: FutureWarning: Default solver will be changed to 'lbfgs' in 0.22. Specify a solver to silence this warning.\n",
      "  FutureWarning)\n",
      "C:\\Users\\abc87\\Anaconda3\\envs\\py3.6\\lib\\site-packages\\sklearn\\linear_model\\logistic.py:433: FutureWarning: Default solver will be changed to 'lbfgs' in 0.22. Specify a solver to silence this warning.\n",
      "  FutureWarning)\n",
      "C:\\Users\\abc87\\Anaconda3\\envs\\py3.6\\lib\\site-packages\\sklearn\\linear_model\\logistic.py:433: FutureWarning: Default solver will be changed to 'lbfgs' in 0.22. Specify a solver to silence this warning.\n",
      "  FutureWarning)\n",
      "C:\\Users\\abc87\\Anaconda3\\envs\\py3.6\\lib\\site-packages\\sklearn\\linear_model\\logistic.py:433: FutureWarning: Default solver will be changed to 'lbfgs' in 0.22. Specify a solver to silence this warning.\n",
      "  FutureWarning)\n",
      "C:\\Users\\abc87\\Anaconda3\\envs\\py3.6\\lib\\site-packages\\sklearn\\linear_model\\logistic.py:433: FutureWarning: Default solver will be changed to 'lbfgs' in 0.22. Specify a solver to silence this warning.\n",
      "  FutureWarning)\n",
      "C:\\Users\\abc87\\Anaconda3\\envs\\py3.6\\lib\\site-packages\\sklearn\\linear_model\\logistic.py:433: FutureWarning: Default solver will be changed to 'lbfgs' in 0.22. Specify a solver to silence this warning.\n",
      "  FutureWarning)\n",
      "C:\\Users\\abc87\\Anaconda3\\envs\\py3.6\\lib\\site-packages\\sklearn\\linear_model\\logistic.py:433: FutureWarning: Default solver will be changed to 'lbfgs' in 0.22. Specify a solver to silence this warning.\n",
      "  FutureWarning)\n",
      "C:\\Users\\abc87\\Anaconda3\\envs\\py3.6\\lib\\site-packages\\sklearn\\linear_model\\logistic.py:433: FutureWarning: Default solver will be changed to 'lbfgs' in 0.22. Specify a solver to silence this warning.\n",
      "  FutureWarning)\n",
      "C:\\Users\\abc87\\Anaconda3\\envs\\py3.6\\lib\\site-packages\\sklearn\\linear_model\\logistic.py:433: FutureWarning: Default solver will be changed to 'lbfgs' in 0.22. Specify a solver to silence this warning.\n",
      "  FutureWarning)\n",
      "C:\\Users\\abc87\\Anaconda3\\envs\\py3.6\\lib\\site-packages\\sklearn\\linear_model\\logistic.py:433: FutureWarning: Default solver will be changed to 'lbfgs' in 0.22. Specify a solver to silence this warning.\n",
      "  FutureWarning)\n",
      "C:\\Users\\abc87\\Anaconda3\\envs\\py3.6\\lib\\site-packages\\sklearn\\linear_model\\logistic.py:433: FutureWarning: Default solver will be changed to 'lbfgs' in 0.22. Specify a solver to silence this warning.\n",
      "  FutureWarning)\n",
      "C:\\Users\\abc87\\Anaconda3\\envs\\py3.6\\lib\\site-packages\\sklearn\\linear_model\\logistic.py:433: FutureWarning: Default solver will be changed to 'lbfgs' in 0.22. Specify a solver to silence this warning.\n",
      "  FutureWarning)\n",
      "C:\\Users\\abc87\\Anaconda3\\envs\\py3.6\\lib\\site-packages\\sklearn\\linear_model\\logistic.py:433: FutureWarning: Default solver will be changed to 'lbfgs' in 0.22. Specify a solver to silence this warning.\n",
      "  FutureWarning)\n",
      "C:\\Users\\abc87\\Anaconda3\\envs\\py3.6\\lib\\site-packages\\sklearn\\linear_model\\logistic.py:433: FutureWarning: Default solver will be changed to 'lbfgs' in 0.22. Specify a solver to silence this warning.\n",
      "  FutureWarning)\n",
      "C:\\Users\\abc87\\Anaconda3\\envs\\py3.6\\lib\\site-packages\\sklearn\\linear_model\\logistic.py:433: FutureWarning: Default solver will be changed to 'lbfgs' in 0.22. Specify a solver to silence this warning.\n",
      "  FutureWarning)\n",
      "C:\\Users\\abc87\\Anaconda3\\envs\\py3.6\\lib\\site-packages\\sklearn\\linear_model\\logistic.py:433: FutureWarning: Default solver will be changed to 'lbfgs' in 0.22. Specify a solver to silence this warning.\n",
      "  FutureWarning)\n",
      "C:\\Users\\abc87\\Anaconda3\\envs\\py3.6\\lib\\site-packages\\sklearn\\linear_model\\logistic.py:433: FutureWarning: Default solver will be changed to 'lbfgs' in 0.22. Specify a solver to silence this warning.\n",
      "  FutureWarning)\n",
      "C:\\Users\\abc87\\Anaconda3\\envs\\py3.6\\lib\\site-packages\\sklearn\\linear_model\\logistic.py:433: FutureWarning: Default solver will be changed to 'lbfgs' in 0.22. Specify a solver to silence this warning.\n",
      "  FutureWarning)\n",
      "C:\\Users\\abc87\\Anaconda3\\envs\\py3.6\\lib\\site-packages\\sklearn\\linear_model\\logistic.py:433: FutureWarning: Default solver will be changed to 'lbfgs' in 0.22. Specify a solver to silence this warning.\n",
      "  FutureWarning)\n",
      "C:\\Users\\abc87\\Anaconda3\\envs\\py3.6\\lib\\site-packages\\sklearn\\linear_model\\logistic.py:433: FutureWarning: Default solver will be changed to 'lbfgs' in 0.22. Specify a solver to silence this warning.\n",
      "  FutureWarning)\n",
      "C:\\Users\\abc87\\Anaconda3\\envs\\py3.6\\lib\\site-packages\\sklearn\\linear_model\\logistic.py:433: FutureWarning: Default solver will be changed to 'lbfgs' in 0.22. Specify a solver to silence this warning.\n",
      "  FutureWarning)\n"
     ]
    },
    {
     "name": "stderr",
     "output_type": "stream",
     "text": [
      "C:\\Users\\abc87\\Anaconda3\\envs\\py3.6\\lib\\site-packages\\sklearn\\linear_model\\logistic.py:433: FutureWarning: Default solver will be changed to 'lbfgs' in 0.22. Specify a solver to silence this warning.\n",
      "  FutureWarning)\n",
      "C:\\Users\\abc87\\Anaconda3\\envs\\py3.6\\lib\\site-packages\\sklearn\\linear_model\\logistic.py:433: FutureWarning: Default solver will be changed to 'lbfgs' in 0.22. Specify a solver to silence this warning.\n",
      "  FutureWarning)\n",
      "C:\\Users\\abc87\\Anaconda3\\envs\\py3.6\\lib\\site-packages\\sklearn\\linear_model\\logistic.py:433: FutureWarning: Default solver will be changed to 'lbfgs' in 0.22. Specify a solver to silence this warning.\n",
      "  FutureWarning)\n",
      "C:\\Users\\abc87\\Anaconda3\\envs\\py3.6\\lib\\site-packages\\sklearn\\linear_model\\logistic.py:433: FutureWarning: Default solver will be changed to 'lbfgs' in 0.22. Specify a solver to silence this warning.\n",
      "  FutureWarning)\n",
      "C:\\Users\\abc87\\Anaconda3\\envs\\py3.6\\lib\\site-packages\\sklearn\\linear_model\\logistic.py:433: FutureWarning: Default solver will be changed to 'lbfgs' in 0.22. Specify a solver to silence this warning.\n",
      "  FutureWarning)\n",
      "C:\\Users\\abc87\\Anaconda3\\envs\\py3.6\\lib\\site-packages\\sklearn\\linear_model\\logistic.py:433: FutureWarning: Default solver will be changed to 'lbfgs' in 0.22. Specify a solver to silence this warning.\n",
      "  FutureWarning)\n",
      "C:\\Users\\abc87\\Anaconda3\\envs\\py3.6\\lib\\site-packages\\sklearn\\linear_model\\logistic.py:433: FutureWarning: Default solver will be changed to 'lbfgs' in 0.22. Specify a solver to silence this warning.\n",
      "  FutureWarning)\n",
      "C:\\Users\\abc87\\Anaconda3\\envs\\py3.6\\lib\\site-packages\\sklearn\\linear_model\\logistic.py:433: FutureWarning: Default solver will be changed to 'lbfgs' in 0.22. Specify a solver to silence this warning.\n",
      "  FutureWarning)\n",
      "C:\\Users\\abc87\\Anaconda3\\envs\\py3.6\\lib\\site-packages\\sklearn\\linear_model\\logistic.py:433: FutureWarning: Default solver will be changed to 'lbfgs' in 0.22. Specify a solver to silence this warning.\n",
      "  FutureWarning)\n",
      "C:\\Users\\abc87\\Anaconda3\\envs\\py3.6\\lib\\site-packages\\sklearn\\linear_model\\logistic.py:433: FutureWarning: Default solver will be changed to 'lbfgs' in 0.22. Specify a solver to silence this warning.\n",
      "  FutureWarning)\n",
      "C:\\Users\\abc87\\Anaconda3\\envs\\py3.6\\lib\\site-packages\\sklearn\\linear_model\\logistic.py:433: FutureWarning: Default solver will be changed to 'lbfgs' in 0.22. Specify a solver to silence this warning.\n",
      "  FutureWarning)\n"
     ]
    }
   ],
   "source": [
    "scores_CV = buildLogiRModelCV(features)"
   ]
  },
  {
   "cell_type": "code",
   "execution_count": 402,
   "metadata": {},
   "outputs": [
    {
     "data": {
      "text/plain": [
       "[0.8502027442101253,\n",
       " 0.8531216257934073,\n",
       " 0.8531216257934073,\n",
       " 0.8531216257934073,\n",
       " 0.8548834066472069,\n",
       " 0.8548834066472069,\n",
       " 0.8957490049315421,\n",
       " 0.893270576530611,\n",
       " 0.8910680243520508,\n",
       " 0.8900760313430878]"
      ]
     },
     "execution_count": 402,
     "metadata": {},
     "output_type": "execute_result"
    }
   ],
   "source": [
    "scores_CV"
   ]
  },
  {
   "cell_type": "code",
   "execution_count": 403,
   "metadata": {},
   "outputs": [
    {
     "data": {
      "text/plain": [
       "[<matplotlib.lines.Line2D at 0x1bd43692d30>]"
      ]
     },
     "execution_count": 403,
     "metadata": {},
     "output_type": "execute_result"
    },
    {
     "data": {
      "image/png": "[encoded data removed]",
      "text/plain": [
       "<Figure size 432x288 with 1 Axes>"
      ]
     },
     "metadata": {
      "needs_background": "light"
     },
     "output_type": "display_data"
    }
   ],
   "source": [
    "plt.plot(scores_CV)"
   ]
  },
  {
   "cell_type": "code",
   "execution_count": 404,
   "metadata": {},
   "outputs": [],
   "source": [
    "modelIndex_CV = scores_CV.index(max(scores_CV))"
   ]
  },
  {
   "cell_type": "code",
   "execution_count": 405,
   "metadata": {},
   "outputs": [
    {
     "data": {
      "text/plain": [
       "6"
      ]
     },
     "execution_count": 405,
     "metadata": {},
     "output_type": "execute_result"
    }
   ],
   "source": [
    "modelIndex_CV"
   ]
  },
  {
   "cell_type": "markdown",
   "metadata": {},
   "source": [
    "After we exam the dataset by cross validation, the mean accuracy are lightly less than one we calcuated previously, but overall, the model six still stand out, which combines the features below."
   ]
  },
  {
   "cell_type": "code",
   "execution_count": 407,
   "metadata": {},
   "outputs": [
    {
     "data": {
      "text/plain": [
       "Index(['CAM', 'LF', 'CF', 'RF', 'LM', 'RM', 'Dribbling'], dtype='object')"
      ]
     },
     "execution_count": 407,
     "metadata": {},
     "output_type": "execute_result"
    }
   ],
   "source": [
    "features[:modelIndex_CV+1]"
   ]
  },
  {
   "cell_type": "markdown",
   "metadata": {},
   "source": [
    "Look closer to the features, 'CAM' stands the player's 'Center Attacking Midfielder' performance, 'LF' stands 'Left Forward' performance, 'CF' stands 'Center Forward' performance, 'RF' stands 'Right Forward' performance, 'LM' stands 'Left Midfielder' performance, 'RM' stands 'Right Midfielder' performance, 'Dribbling' stands 'Dribbling' performance."
   ]
  },
  {
   "cell_type": "markdown",
   "metadata": {},
   "source": [
    "# Conclusion"
   ]
  },
  {
   "cell_type": "markdown",
   "metadata": {},
   "source": [
    "We first clean up the dataset, eliminating the NaN values and the unnormal values. After we clean up the dataset, we investigate the correlation relationship between the features and selected out ten features for building different models. Meanwhile, we using t-testing and p-value to exam whether the features are significant to each other. We found out the choosing features are all significant. Later on, we started training our models. We first select ten features trying to choose the most accuarcy model. After we splitted the training and testing dataset, the most accuarcy of the model is about 0.9231. Then, we exam the dataset with cross validation, although the accuarcy is less than the previous model, but we can still get a same model."
   ]
  },
  {
   "cell_type": "markdown",
   "metadata": {},
   "source": [
    "# Contributions"
   ]
  },
  {
   "cell_type": "markdown",
   "metadata": {},
   "source": [
    "By own: 90%\n",
    "By external resource: 10%"
   ]
  },
  {
   "cell_type": "markdown",
   "metadata": {},
   "source": [
    "# citations"
   ]
  },
  {
   "cell_type": "markdown",
   "metadata": {},
   "source": [
    "https://scikit-learn.org/stable/modules/generated/sklearn.model_selection.cross_val_score.html#examples-using-sklearn-model-selection-cross-val-score"
   ]
  },
  {
   "cell_type": "markdown",
   "metadata": {},
   "source": [
    "https://scikit-learn.org/stable/modules/generated/sklearn.linear_model.LogisticRegression.html"
   ]
  },
  {
   "cell_type": "markdown",
   "metadata": {},
   "source": [
    "# License"
   ]
  },
  {
   "cell_type": "markdown",
   "metadata": {},
   "source": [
    "Copyright 2019 PinHo Wang\n",
    "\n",
    "Permission is hereby granted, free of charge, to any person obtaining a copy of this software and associated documentation files (the \"Software\"), to deal in the Software without restriction, including without limitation the rights to use, copy, modify, merge, publish, distribute, sublicense, and/or sell copies of the Software, and to permit persons to whom the Software is furnished to do so, subject to the following conditions:\n",
    "\n",
    "The above copyright notice and this permission notice shall be included in all copies or substantial portions of the Software.\n",
    "\n",
    "THE SOFTWARE IS PROVIDED \"AS IS\", WITHOUT WARRANTY OF ANY KIND, EXPRESS OR IMPLIED, INCLUDING BUT NOT LIMITED TO THE WARRANTIES OF MERCHANTABILITY, FITNESS FOR A PARTICULAR PURPOSE AND NONINFRINGEMENT. IN NO EVENT SHALL THE AUTHORS OR COPYRIGHT HOLDERS BE LIABLE FOR ANY CLAIM, DAMAGES OR OTHER LIABILITY, WHETHER IN AN ACTION OF CONTRACT, TORT OR OTHERWISE, ARISING FROM, OUT OF OR IN CONNECTION WITH THE SOFTWARE OR THE USE OR OTHER DEALINGS IN THE SOFTWARE."
   ]
  }
 ],
 "metadata": {
  "kernelspec": {
   "display_name": "Python 3",
   "language": "python",
   "name": "python3"
  },
  "language_info": {
   "codemirror_mode": {
    "name": "ipython",
    "version": 3
   },
   "file_extension": ".py",
   "mimetype": "text/x-python",
   "name": "python",
   "nbconvert_exporter": "python",
   "pygments_lexer": "ipython3",
   "version": "3.6.8"
  }
 },
 "nbformat": 4,
 "nbformat_minor": 2
}
