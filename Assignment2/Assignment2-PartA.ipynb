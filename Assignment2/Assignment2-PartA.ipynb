{
 "cells": [
  {
   "cell_type": "markdown",
   "metadata": {},
   "source": [
    "# <center>INFO 6105 - Assignment 2 - FIFA 2018 (Part A - Linear Model) PinHo Wang</center>"
   ]
  },
  {
   "cell_type": "markdown",
   "metadata": {},
   "source": [
    "# Abstract"
   ]
  },
  {
   "cell_type": "markdown",
   "metadata": {},
   "source": [
    "In this assignment, we investigated the FIFA soccer players dataset and trying to build the model that can predict the players' wage. The data is scraped from the website https://sofifa.com by extracting the Player personal data and Player Ids and then the playing and style statistics in FIFA 2018. We will first clean up the dataset including eliminating the NaN values and the unusual values, like zero wage. Later on, we will select the proper features of the model and train the model."
   ]
  },
  {
   "cell_type": "markdown",
   "metadata": {},
   "source": [
    "# Experiments"
   ]
  },
  {
   "cell_type": "markdown",
   "metadata": {},
   "source": [
    "## Data Preprocessing"
   ]
  },
  {
   "cell_type": "code",
   "execution_count": 758,
   "metadata": {},
   "outputs": [],
   "source": [
    "import random\n",
    "import pandas as pd\n",
    "import seaborn as sns\n",
    "import matplotlib.pyplot as plt\n",
    "from sklearn.model_selection import train_test_split\n",
    "from sklearn.linear_model import LinearRegression\n",
    "import statsmodels.api as sm\n",
    "import numpy as np\n",
    "from scipy import stats\n",
    "import sklearn as sk\n"
   ]
  },
  {
   "cell_type": "code",
   "execution_count": 759,
   "metadata": {},
   "outputs": [],
   "source": [
    "df = pd.read_csv('data.csv', decimal = ',')"
   ]
  },
  {
   "cell_type": "code",
   "execution_count": 760,
   "metadata": {},
   "outputs": [
    {
     "data": {
      "text/html": [
       "<div>\n",
       "<style scoped>\n",
       "    .dataframe tbody tr th:only-of-type {\n",
       "        vertical-align: middle;\n",
       "    }\n",
       "\n",
       "    .dataframe tbody tr th {\n",
       "        vertical-align: top;\n",
       "    }\n",
       "\n",
       "    .dataframe thead th {\n",
       "        text-align: right;\n",
       "    }\n",
       "</style>\n",
       "<table border=\"1\" class=\"dataframe\">\n",
       "  <thead>\n",
       "    <tr style=\"text-align: right;\">\n",
       "      <th></th>\n",
       "      <th>Unnamed: 0</th>\n",
       "      <th>ID</th>\n",
       "      <th>Name</th>\n",
       "      <th>Age</th>\n",
       "      <th>Photo</th>\n",
       "      <th>Nationality</th>\n",
       "      <th>Flag</th>\n",
       "      <th>Overall</th>\n",
       "      <th>Potential</th>\n",
       "      <th>Club</th>\n",
       "      <th>...</th>\n",
       "      <th>Composure</th>\n",
       "      <th>Marking</th>\n",
       "      <th>StandingTackle</th>\n",
       "      <th>SlidingTackle</th>\n",
       "      <th>GKDiving</th>\n",
       "      <th>GKHandling</th>\n",
       "      <th>GKKicking</th>\n",
       "      <th>GKPositioning</th>\n",
       "      <th>GKReflexes</th>\n",
       "      <th>Release Clause</th>\n",
       "    </tr>\n",
       "  </thead>\n",
       "  <tbody>\n",
       "    <tr>\n",
       "      <th>0</th>\n",
       "      <td>0</td>\n",
       "      <td>158023</td>\n",
       "      <td>L. Messi</td>\n",
       "      <td>31</td>\n",
       "      <td>https://cdn.sofifa.org/players/4/19/158023.png</td>\n",
       "      <td>Argentina</td>\n",
       "      <td>https://cdn.sofifa.org/flags/52.png</td>\n",
       "      <td>94</td>\n",
       "      <td>94</td>\n",
       "      <td>FC Barcelona</td>\n",
       "      <td>...</td>\n",
       "      <td>96.0</td>\n",
       "      <td>33.0</td>\n",
       "      <td>28.0</td>\n",
       "      <td>26.0</td>\n",
       "      <td>6.0</td>\n",
       "      <td>11.0</td>\n",
       "      <td>15.0</td>\n",
       "      <td>14.0</td>\n",
       "      <td>8.0</td>\n",
       "      <td>€226.5M</td>\n",
       "    </tr>\n",
       "    <tr>\n",
       "      <th>1</th>\n",
       "      <td>1</td>\n",
       "      <td>20801</td>\n",
       "      <td>Cristiano Ronaldo</td>\n",
       "      <td>33</td>\n",
       "      <td>https://cdn.sofifa.org/players/4/19/20801.png</td>\n",
       "      <td>Portugal</td>\n",
       "      <td>https://cdn.sofifa.org/flags/38.png</td>\n",
       "      <td>94</td>\n",
       "      <td>94</td>\n",
       "      <td>Juventus</td>\n",
       "      <td>...</td>\n",
       "      <td>95.0</td>\n",
       "      <td>28.0</td>\n",
       "      <td>31.0</td>\n",
       "      <td>23.0</td>\n",
       "      <td>7.0</td>\n",
       "      <td>11.0</td>\n",
       "      <td>15.0</td>\n",
       "      <td>14.0</td>\n",
       "      <td>11.0</td>\n",
       "      <td>€127.1M</td>\n",
       "    </tr>\n",
       "    <tr>\n",
       "      <th>2</th>\n",
       "      <td>2</td>\n",
       "      <td>190871</td>\n",
       "      <td>Neymar Jr</td>\n",
       "      <td>26</td>\n",
       "      <td>https://cdn.sofifa.org/players/4/19/190871.png</td>\n",
       "      <td>Brazil</td>\n",
       "      <td>https://cdn.sofifa.org/flags/54.png</td>\n",
       "      <td>92</td>\n",
       "      <td>93</td>\n",
       "      <td>Paris Saint-Germain</td>\n",
       "      <td>...</td>\n",
       "      <td>94.0</td>\n",
       "      <td>27.0</td>\n",
       "      <td>24.0</td>\n",
       "      <td>33.0</td>\n",
       "      <td>9.0</td>\n",
       "      <td>9.0</td>\n",
       "      <td>15.0</td>\n",
       "      <td>15.0</td>\n",
       "      <td>11.0</td>\n",
       "      <td>€228.1M</td>\n",
       "    </tr>\n",
       "    <tr>\n",
       "      <th>3</th>\n",
       "      <td>3</td>\n",
       "      <td>193080</td>\n",
       "      <td>De Gea</td>\n",
       "      <td>27</td>\n",
       "      <td>https://cdn.sofifa.org/players/4/19/193080.png</td>\n",
       "      <td>Spain</td>\n",
       "      <td>https://cdn.sofifa.org/flags/45.png</td>\n",
       "      <td>91</td>\n",
       "      <td>93</td>\n",
       "      <td>Manchester United</td>\n",
       "      <td>...</td>\n",
       "      <td>68.0</td>\n",
       "      <td>15.0</td>\n",
       "      <td>21.0</td>\n",
       "      <td>13.0</td>\n",
       "      <td>90.0</td>\n",
       "      <td>85.0</td>\n",
       "      <td>87.0</td>\n",
       "      <td>88.0</td>\n",
       "      <td>94.0</td>\n",
       "      <td>€138.6M</td>\n",
       "    </tr>\n",
       "    <tr>\n",
       "      <th>4</th>\n",
       "      <td>4</td>\n",
       "      <td>192985</td>\n",
       "      <td>K. De Bruyne</td>\n",
       "      <td>27</td>\n",
       "      <td>https://cdn.sofifa.org/players/4/19/192985.png</td>\n",
       "      <td>Belgium</td>\n",
       "      <td>https://cdn.sofifa.org/flags/7.png</td>\n",
       "      <td>91</td>\n",
       "      <td>92</td>\n",
       "      <td>Manchester City</td>\n",
       "      <td>...</td>\n",
       "      <td>88.0</td>\n",
       "      <td>68.0</td>\n",
       "      <td>58.0</td>\n",
       "      <td>51.0</td>\n",
       "      <td>15.0</td>\n",
       "      <td>13.0</td>\n",
       "      <td>5.0</td>\n",
       "      <td>10.0</td>\n",
       "      <td>13.0</td>\n",
       "      <td>€196.4M</td>\n",
       "    </tr>\n",
       "  </tbody>\n",
       "</table>\n",
       "<p>5 rows × 89 columns</p>\n",
       "</div>"
      ],
      "text/plain": [
       "   Unnamed: 0      ID               Name  Age  \\\n",
       "0           0  158023           L. Messi   31   \n",
       "1           1   20801  Cristiano Ronaldo   33   \n",
       "2           2  190871          Neymar Jr   26   \n",
       "3           3  193080             De Gea   27   \n",
       "4           4  192985       K. De Bruyne   27   \n",
       "\n",
       "                                            Photo Nationality  \\\n",
       "0  https://cdn.sofifa.org/players/4/19/158023.png   Argentina   \n",
       "1   https://cdn.sofifa.org/players/4/19/20801.png    Portugal   \n",
       "2  https://cdn.sofifa.org/players/4/19/190871.png      Brazil   \n",
       "3  https://cdn.sofifa.org/players/4/19/193080.png       Spain   \n",
       "4  https://cdn.sofifa.org/players/4/19/192985.png     Belgium   \n",
       "\n",
       "                                  Flag  Overall  Potential  \\\n",
       "0  https://cdn.sofifa.org/flags/52.png       94         94   \n",
       "1  https://cdn.sofifa.org/flags/38.png       94         94   \n",
       "2  https://cdn.sofifa.org/flags/54.png       92         93   \n",
       "3  https://cdn.sofifa.org/flags/45.png       91         93   \n",
       "4   https://cdn.sofifa.org/flags/7.png       91         92   \n",
       "\n",
       "                  Club      ...       Composure Marking StandingTackle  \\\n",
       "0         FC Barcelona      ...            96.0    33.0           28.0   \n",
       "1             Juventus      ...            95.0    28.0           31.0   \n",
       "2  Paris Saint-Germain      ...            94.0    27.0           24.0   \n",
       "3    Manchester United      ...            68.0    15.0           21.0   \n",
       "4      Manchester City      ...            88.0    68.0           58.0   \n",
       "\n",
       "   SlidingTackle GKDiving  GKHandling  GKKicking  GKPositioning GKReflexes  \\\n",
       "0           26.0      6.0        11.0       15.0           14.0        8.0   \n",
       "1           23.0      7.0        11.0       15.0           14.0       11.0   \n",
       "2           33.0      9.0         9.0       15.0           15.0       11.0   \n",
       "3           13.0     90.0        85.0       87.0           88.0       94.0   \n",
       "4           51.0     15.0        13.0        5.0           10.0       13.0   \n",
       "\n",
       "  Release Clause  \n",
       "0        €226.5M  \n",
       "1        €127.1M  \n",
       "2        €228.1M  \n",
       "3        €138.6M  \n",
       "4        €196.4M  \n",
       "\n",
       "[5 rows x 89 columns]"
      ]
     },
     "execution_count": 760,
     "metadata": {},
     "output_type": "execute_result"
    }
   ],
   "source": [
    "df.head(5)"
   ]
  },
  {
   "cell_type": "markdown",
   "metadata": {},
   "source": [
    "There are some variables we may not use, like IDs, photos and so on. We can remove them from our data and form a new data set for predicting the wage."
   ]
  },
  {
   "cell_type": "code",
   "execution_count": 761,
   "metadata": {},
   "outputs": [],
   "source": [
    "df = df.drop(columns=['Unnamed: 0', 'ID', 'Photo', 'Nationality', 'Flag', 'Club', 'Club Logo', 'Work Rate', 'Real Face', 'Jersey Number', 'Joined', 'Loaned From', 'Contract Valid Until', 'Body Type', 'Position', 'Release Clause'])"
   ]
  },
  {
   "cell_type": "markdown",
   "metadata": {},
   "source": [
    "## Target Variable"
   ]
  },
  {
   "cell_type": "code",
   "execution_count": 762,
   "metadata": {},
   "outputs": [
    {
     "data": {
      "text/plain": [
       "0"
      ]
     },
     "execution_count": 762,
     "metadata": {},
     "output_type": "execute_result"
    }
   ],
   "source": [
    "df['Wage'].isnull().sum()"
   ]
  },
  {
   "cell_type": "code",
   "execution_count": 763,
   "metadata": {},
   "outputs": [
    {
     "data": {
      "text/plain": [
       "0        €565K\n",
       "1        €405K\n",
       "2        €290K\n",
       "3        €260K\n",
       "4        €355K\n",
       "5        €340K\n",
       "6        €420K\n",
       "7        €455K\n",
       "8        €380K\n",
       "9         €94K\n",
       "10       €205K\n",
       "11       €355K\n",
       "12       €125K\n",
       "13       €285K\n",
       "14       €225K\n",
       "15       €205K\n",
       "16       €205K\n",
       "17       €145K\n",
       "18       €240K\n",
       "19       €240K\n",
       "20       €315K\n",
       "21       €200K\n",
       "22       €130K\n",
       "23       €300K\n",
       "24       €215K\n",
       "25       €100K\n",
       "26       €255K\n",
       "27       €285K\n",
       "28       €315K\n",
       "29       €165K\n",
       "         ...  \n",
       "18177      €1K\n",
       "18178      €1K\n",
       "18179      €1K\n",
       "18180      €1K\n",
       "18181      €1K\n",
       "18182      €1K\n",
       "18183      €1K\n",
       "18184      €1K\n",
       "18185      €1K\n",
       "18186      €1K\n",
       "18187      €1K\n",
       "18188      €1K\n",
       "18189      €1K\n",
       "18190      €1K\n",
       "18191      €1K\n",
       "18192      €1K\n",
       "18193      €1K\n",
       "18194      €1K\n",
       "18195      €1K\n",
       "18196      €1K\n",
       "18197      €1K\n",
       "18198      €1K\n",
       "18199      €1K\n",
       "18200      €1K\n",
       "18201      €1K\n",
       "18202      €1K\n",
       "18203      €1K\n",
       "18204      €1K\n",
       "18205      €1K\n",
       "18206      €1K\n",
       "Name: Wage, Length: 18207, dtype: object"
      ]
     },
     "execution_count": 763,
     "metadata": {},
     "output_type": "execute_result"
    }
   ],
   "source": [
    "df['Wage']"
   ]
  },
  {
   "cell_type": "markdown",
   "metadata": {},
   "source": [
    "Then, we find out that the wage column contains the special symbols, we can change them into integer value for convenient."
   ]
  },
  {
   "cell_type": "code",
   "execution_count": 764,
   "metadata": {},
   "outputs": [],
   "source": [
    "df['Wage'] = df['Wage'].str.split('€').str[1].str.split('K').str[0]\n",
    "df['Wage'] = df['Wage'].astype('int64') * 1000"
   ]
  },
  {
   "cell_type": "code",
   "execution_count": 765,
   "metadata": {},
   "outputs": [
    {
     "data": {
      "text/plain": [
       "0        565000\n",
       "1        405000\n",
       "2        290000\n",
       "3        260000\n",
       "4        355000\n",
       "5        340000\n",
       "6        420000\n",
       "7        455000\n",
       "8        380000\n",
       "9         94000\n",
       "10       205000\n",
       "11       355000\n",
       "12       125000\n",
       "13       285000\n",
       "14       225000\n",
       "15       205000\n",
       "16       205000\n",
       "17       145000\n",
       "18       240000\n",
       "19       240000\n",
       "20       315000\n",
       "21       200000\n",
       "22       130000\n",
       "23       300000\n",
       "24       215000\n",
       "25       100000\n",
       "26       255000\n",
       "27       285000\n",
       "28       315000\n",
       "29       165000\n",
       "          ...  \n",
       "18177      1000\n",
       "18178      1000\n",
       "18179      1000\n",
       "18180      1000\n",
       "18181      1000\n",
       "18182      1000\n",
       "18183      1000\n",
       "18184      1000\n",
       "18185      1000\n",
       "18186      1000\n",
       "18187      1000\n",
       "18188      1000\n",
       "18189      1000\n",
       "18190      1000\n",
       "18191      1000\n",
       "18192      1000\n",
       "18193      1000\n",
       "18194      1000\n",
       "18195      1000\n",
       "18196      1000\n",
       "18197      1000\n",
       "18198      1000\n",
       "18199      1000\n",
       "18200      1000\n",
       "18201      1000\n",
       "18202      1000\n",
       "18203      1000\n",
       "18204      1000\n",
       "18205      1000\n",
       "18206      1000\n",
       "Name: Wage, Length: 18207, dtype: int64"
      ]
     },
     "execution_count": 765,
     "metadata": {},
     "output_type": "execute_result"
    }
   ],
   "source": [
    "df['Wage']"
   ]
  },
  {
   "cell_type": "markdown",
   "metadata": {},
   "source": [
    "Then, we can sort it from highest to lowest and plot it as the histogram."
   ]
  },
  {
   "cell_type": "code",
   "execution_count": 766,
   "metadata": {},
   "outputs": [],
   "source": [
    "top_wage_player=df.sort_values('Wage',ascending=False)"
   ]
  },
  {
   "cell_type": "code",
   "execution_count": 767,
   "metadata": {},
   "outputs": [
    {
     "data": {
      "image/png": "[encoded data removed]",
      "text/plain": [
       "<Figure size 1152x432 with 1 Axes>"
      ]
     },
     "metadata": {
      "needs_background": "light"
     },
     "output_type": "display_data"
    }
   ],
   "source": [
    "fig, ax = plt.subplots(figsize=(16,6))\n",
    "sns.barplot(x='Name', y='Wage', data=top_wage_player.head(33), palette='Set1')\n",
    "ax.set_xlabel(ax.get_xlabel(), labelpad=15)\n",
    "ax.set_ylabel(ax.get_ylabel(), labelpad=30)\n",
    "plt.xticks(rotation=90)\n",
    "plt.show()"
   ]
  },
  {
   "cell_type": "code",
   "execution_count": 768,
   "metadata": {},
   "outputs": [
    {
     "data": {
      "image/png": "[encoded data removed]",
      "text/plain": [
       "<Figure size 1152x432 with 1 Axes>"
      ]
     },
     "metadata": {
      "needs_background": "light"
     },
     "output_type": "display_data"
    }
   ],
   "source": [
    "fig, ax = plt.subplots(figsize=(16,6))\n",
    "sns.barplot(x='Name', y='Wage', data=top_wage_player.tail(33), palette='Set1')\n",
    "ax.set_xlabel(ax.get_xlabel(), labelpad=15)\n",
    "ax.set_ylabel(ax.get_ylabel(), labelpad=30)\n",
    "ax.xaxis.label.set_fontsize(16)\n",
    "ax.yaxis.label.set_fontsize(16)\n",
    "plt.xticks(rotation=90)\n",
    "plt.show()"
   ]
  },
  {
   "cell_type": "markdown",
   "metadata": {},
   "source": [
    "As you can see, it contains the zero value, it makes no sense. So, we place them into the median of all players' wage."
   ]
  },
  {
   "cell_type": "code",
   "execution_count": 769,
   "metadata": {},
   "outputs": [
    {
     "name": "stderr",
     "output_type": "stream",
     "text": [
      "C:\\Users\\abc87\\Anaconda3\\envs\\py3.6\\lib\\site-packages\\ipykernel_launcher.py:2: SettingWithCopyWarning: \n",
      "A value is trying to be set on a copy of a slice from a DataFrame\n",
      "\n",
      "See the caveats in the documentation: http://pandas.pydata.org/pandas-docs/stable/indexing.html#indexing-view-versus-copy\n",
      "  \n"
     ]
    }
   ],
   "source": [
    "# Clear the 0 wage with median\n",
    "df['Wage'][df['Wage'] == 0] = df['Wage'].median()\n",
    "top_wage_player=df.sort_values('Wage',ascending=False)"
   ]
  },
  {
   "cell_type": "code",
   "execution_count": 770,
   "metadata": {},
   "outputs": [
    {
     "data": {
      "image/png": "[encoded data removed]",
      "text/plain": [
       "<Figure size 1152x432 with 1 Axes>"
      ]
     },
     "metadata": {
      "needs_background": "light"
     },
     "output_type": "display_data"
    }
   ],
   "source": [
    "fig, ax = plt.subplots(figsize=(16,6))\n",
    "sns.barplot(x='Name', y='Wage', data=top_wage_player.tail(33), palette='Set1')\n",
    "ax.set_xlabel(ax.get_xlabel(), labelpad=15)\n",
    "ax.set_ylabel(ax.get_ylabel(), labelpad=30)\n",
    "ax.xaxis.label.set_fontsize(16)\n",
    "ax.yaxis.label.set_fontsize(16)\n",
    "plt.xticks(rotation=90)\n",
    "plt.show()"
   ]
  },
  {
   "cell_type": "markdown",
   "metadata": {},
   "source": [
    "For now, there is no NaN value and no zero value in Wage column. We can move on to check out the other variables."
   ]
  },
  {
   "cell_type": "markdown",
   "metadata": {},
   "source": [
    "## Variables"
   ]
  },
  {
   "cell_type": "markdown",
   "metadata": {},
   "source": [
    "For the models' features (variables), we first check whether it contains the NaN values and take a glance that whether the range of its values make sense."
   ]
  },
  {
   "cell_type": "markdown",
   "metadata": {},
   "source": [
    "### Age"
   ]
  },
  {
   "cell_type": "code",
   "execution_count": 771,
   "metadata": {},
   "outputs": [
    {
     "data": {
      "text/plain": [
       "0"
      ]
     },
     "execution_count": 771,
     "metadata": {},
     "output_type": "execute_result"
    }
   ],
   "source": [
    "df['Age'].isnull().sum()"
   ]
  },
  {
   "cell_type": "code",
   "execution_count": 772,
   "metadata": {},
   "outputs": [
    {
     "data": {
      "text/plain": [
       "0        31\n",
       "1        33\n",
       "2        26\n",
       "3        27\n",
       "4        27\n",
       "5        27\n",
       "6        32\n",
       "7        31\n",
       "8        32\n",
       "9        25\n",
       "10       29\n",
       "11       28\n",
       "12       32\n",
       "13       32\n",
       "14       27\n",
       "15       24\n",
       "16       24\n",
       "17       27\n",
       "18       26\n",
       "19       26\n",
       "20       29\n",
       "21       31\n",
       "22       32\n",
       "23       30\n",
       "24       33\n",
       "25       19\n",
       "26       26\n",
       "27       26\n",
       "28       26\n",
       "29       27\n",
       "         ..\n",
       "18177    18\n",
       "18178    18\n",
       "18179    17\n",
       "18180    22\n",
       "18181    17\n",
       "18182    18\n",
       "18183    44\n",
       "18184    18\n",
       "18185    19\n",
       "18186    20\n",
       "18187    19\n",
       "18188    17\n",
       "18189    18\n",
       "18190    18\n",
       "18191    18\n",
       "18192    18\n",
       "18193    18\n",
       "18194    18\n",
       "18195    18\n",
       "18196    19\n",
       "18197    18\n",
       "18198    18\n",
       "18199    18\n",
       "18200    18\n",
       "18201    18\n",
       "18202    19\n",
       "18203    19\n",
       "18204    16\n",
       "18205    17\n",
       "18206    16\n",
       "Name: Age, Length: 18207, dtype: category\n",
       "Categories (29, int64): [16, 17, 18, 19, ..., 41, 42, 44, 45]"
      ]
     },
     "execution_count": 772,
     "metadata": {},
     "output_type": "execute_result"
    }
   ],
   "source": [
    "df['Age'].astype('category')"
   ]
  },
  {
   "cell_type": "markdown",
   "metadata": {},
   "source": [
    "### Overall"
   ]
  },
  {
   "cell_type": "code",
   "execution_count": 773,
   "metadata": {},
   "outputs": [
    {
     "data": {
      "text/plain": [
       "0"
      ]
     },
     "execution_count": 773,
     "metadata": {},
     "output_type": "execute_result"
    }
   ],
   "source": [
    "df['Overall'].isnull().sum()"
   ]
  },
  {
   "cell_type": "code",
   "execution_count": 774,
   "metadata": {},
   "outputs": [
    {
     "data": {
      "text/plain": [
       "0        94\n",
       "1        94\n",
       "2        92\n",
       "3        91\n",
       "4        91\n",
       "5        91\n",
       "6        91\n",
       "7        91\n",
       "8        91\n",
       "9        90\n",
       "10       90\n",
       "11       90\n",
       "12       90\n",
       "13       90\n",
       "14       89\n",
       "15       89\n",
       "16       89\n",
       "17       89\n",
       "18       89\n",
       "19       89\n",
       "20       89\n",
       "21       89\n",
       "22       89\n",
       "23       89\n",
       "24       89\n",
       "25       88\n",
       "26       88\n",
       "27       88\n",
       "28       88\n",
       "29       88\n",
       "         ..\n",
       "18177    48\n",
       "18178    48\n",
       "18179    48\n",
       "18180    48\n",
       "18181    48\n",
       "18182    48\n",
       "18183    48\n",
       "18184    48\n",
       "18185    48\n",
       "18186    47\n",
       "18187    47\n",
       "18188    47\n",
       "18189    47\n",
       "18190    47\n",
       "18191    47\n",
       "18192    47\n",
       "18193    47\n",
       "18194    47\n",
       "18195    47\n",
       "18196    47\n",
       "18197    47\n",
       "18198    47\n",
       "18199    47\n",
       "18200    47\n",
       "18201    47\n",
       "18202    47\n",
       "18203    47\n",
       "18204    47\n",
       "18205    47\n",
       "18206    46\n",
       "Name: Overall, Length: 18207, dtype: category\n",
       "Categories (48, int64): [46, 47, 48, 49, ..., 90, 91, 92, 94]"
      ]
     },
     "execution_count": 774,
     "metadata": {},
     "output_type": "execute_result"
    }
   ],
   "source": [
    "df['Overall'].astype('category')"
   ]
  },
  {
   "cell_type": "markdown",
   "metadata": {},
   "source": [
    "### Potential"
   ]
  },
  {
   "cell_type": "code",
   "execution_count": 775,
   "metadata": {},
   "outputs": [
    {
     "data": {
      "text/plain": [
       "0"
      ]
     },
     "execution_count": 775,
     "metadata": {},
     "output_type": "execute_result"
    }
   ],
   "source": [
    "df['Potential'].isnull().sum()"
   ]
  },
  {
   "cell_type": "code",
   "execution_count": 776,
   "metadata": {},
   "outputs": [
    {
     "data": {
      "text/plain": [
       "0        94\n",
       "1        94\n",
       "2        93\n",
       "3        93\n",
       "4        92\n",
       "5        91\n",
       "6        91\n",
       "7        91\n",
       "8        91\n",
       "9        93\n",
       "10       90\n",
       "11       90\n",
       "12       90\n",
       "13       90\n",
       "14       90\n",
       "15       94\n",
       "16       91\n",
       "17       90\n",
       "18       92\n",
       "19       90\n",
       "20       89\n",
       "21       89\n",
       "22       89\n",
       "23       89\n",
       "24       89\n",
       "25       95\n",
       "26       89\n",
       "27       90\n",
       "28       89\n",
       "29       88\n",
       "         ..\n",
       "18177    69\n",
       "18178    65\n",
       "18179    64\n",
       "18180    58\n",
       "18181    66\n",
       "18182    65\n",
       "18183    48\n",
       "18184    55\n",
       "18185    59\n",
       "18186    64\n",
       "18187    59\n",
       "18188    62\n",
       "18189    61\n",
       "18190    67\n",
       "18191    65\n",
       "18192    64\n",
       "18193    64\n",
       "18194    65\n",
       "18195    67\n",
       "18196    61\n",
       "18197    61\n",
       "18198    70\n",
       "18199    69\n",
       "18200    62\n",
       "18201    68\n",
       "18202    65\n",
       "18203    63\n",
       "18204    67\n",
       "18205    66\n",
       "18206    66\n",
       "Name: Potential, Length: 18207, dtype: category\n",
       "Categories (47, int64): [48, 50, 51, 52, ..., 92, 93, 94, 95]"
      ]
     },
     "execution_count": 776,
     "metadata": {},
     "output_type": "execute_result"
    }
   ],
   "source": [
    "df['Potential'].astype('category')"
   ]
  },
  {
   "cell_type": "markdown",
   "metadata": {},
   "source": [
    "### Value"
   ]
  },
  {
   "cell_type": "markdown",
   "metadata": {},
   "source": [
    "Same as wage, value column also has special symbols, so we will do the same processing as wage column. Worthy to mention, some of the value column is million per units, so we also have to take care of the units."
   ]
  },
  {
   "cell_type": "code",
   "execution_count": 777,
   "metadata": {},
   "outputs": [
    {
     "data": {
      "text/plain": [
       "0        €110.5M\n",
       "1           €77M\n",
       "2        €118.5M\n",
       "3           €72M\n",
       "4          €102M\n",
       "5           €93M\n",
       "6           €67M\n",
       "7           €80M\n",
       "8           €51M\n",
       "9           €68M\n",
       "10          €77M\n",
       "11        €76.5M\n",
       "12          €44M\n",
       "13          €60M\n",
       "14          €63M\n",
       "15          €89M\n",
       "16        €83.5M\n",
       "17          €78M\n",
       "18          €58M\n",
       "19        €53.5M\n",
       "20        €51.5M\n",
       "21          €60M\n",
       "22          €38M\n",
       "23        €64.5M\n",
       "24          €27M\n",
       "25          €81M\n",
       "26        €69.5M\n",
       "27        €59.5M\n",
       "28        €69.5M\n",
       "29          €62M\n",
       "          ...   \n",
       "18177       €70K\n",
       "18178       €50K\n",
       "18179       €50K\n",
       "18180       €40K\n",
       "18181       €50K\n",
       "18182       €50K\n",
       "18183         €0\n",
       "18184       €40K\n",
       "18185       €50K\n",
       "18186       €60K\n",
       "18187       €40K\n",
       "18188       €60K\n",
       "18189       €60K\n",
       "18190       €60K\n",
       "18191       €50K\n",
       "18192       €50K\n",
       "18193       €50K\n",
       "18194       €50K\n",
       "18195       €60K\n",
       "18196       €60K\n",
       "18197       €60K\n",
       "18198       €60K\n",
       "18199       €70K\n",
       "18200       €60K\n",
       "18201       €60K\n",
       "18202       €60K\n",
       "18203       €60K\n",
       "18204       €60K\n",
       "18205       €60K\n",
       "18206       €60K\n",
       "Name: Value, Length: 18207, dtype: object"
      ]
     },
     "execution_count": 777,
     "metadata": {},
     "output_type": "execute_result"
    }
   ],
   "source": [
    "df['Value']"
   ]
  },
  {
   "cell_type": "code",
   "execution_count": 778,
   "metadata": {},
   "outputs": [],
   "source": [
    "b = (df['Value'].str.split('€').str[1].str.split('M').str).len() == 2\n",
    "millions = df['Value'].str.split('€').str[1].str.split('M')[b].str[0].astype('float64')\n",
    "killions = df['Value'].str.split('€').str[1].str.split('M')[~b].str[0].str.split('K').str[0].astype('float64')"
   ]
  },
  {
   "cell_type": "code",
   "execution_count": 779,
   "metadata": {},
   "outputs": [
    {
     "name": "stderr",
     "output_type": "stream",
     "text": [
      "C:\\Users\\abc87\\Anaconda3\\envs\\py3.6\\lib\\site-packages\\ipykernel_launcher.py:1: SettingWithCopyWarning: \n",
      "A value is trying to be set on a copy of a slice from a DataFrame\n",
      "\n",
      "See the caveats in the documentation: http://pandas.pydata.org/pandas-docs/stable/indexing.html#indexing-view-versus-copy\n",
      "  \"\"\"Entry point for launching an IPython kernel.\n"
     ]
    }
   ],
   "source": [
    "df['Value'][b] = millions * 1000000"
   ]
  },
  {
   "cell_type": "code",
   "execution_count": 780,
   "metadata": {},
   "outputs": [
    {
     "name": "stderr",
     "output_type": "stream",
     "text": [
      "C:\\Users\\abc87\\Anaconda3\\envs\\py3.6\\lib\\site-packages\\ipykernel_launcher.py:1: SettingWithCopyWarning: \n",
      "A value is trying to be set on a copy of a slice from a DataFrame\n",
      "\n",
      "See the caveats in the documentation: http://pandas.pydata.org/pandas-docs/stable/indexing.html#indexing-view-versus-copy\n",
      "  \"\"\"Entry point for launching an IPython kernel.\n"
     ]
    }
   ],
   "source": [
    "df['Value'][~b] = killions * 1000"
   ]
  },
  {
   "cell_type": "code",
   "execution_count": 781,
   "metadata": {},
   "outputs": [
    {
     "data": {
      "text/plain": [
       "0        1.105e+08\n",
       "1          7.7e+07\n",
       "2        1.185e+08\n",
       "3          7.2e+07\n",
       "4         1.02e+08\n",
       "5          9.3e+07\n",
       "6          6.7e+07\n",
       "7            8e+07\n",
       "8          5.1e+07\n",
       "9          6.8e+07\n",
       "10         7.7e+07\n",
       "11        7.65e+07\n",
       "12         4.4e+07\n",
       "13           6e+07\n",
       "14         6.3e+07\n",
       "15         8.9e+07\n",
       "16        8.35e+07\n",
       "17         7.8e+07\n",
       "18         5.8e+07\n",
       "19        5.35e+07\n",
       "20        5.15e+07\n",
       "21           6e+07\n",
       "22         3.8e+07\n",
       "23        6.45e+07\n",
       "24         2.7e+07\n",
       "25         8.1e+07\n",
       "26        6.95e+07\n",
       "27        5.95e+07\n",
       "28        6.95e+07\n",
       "29         6.2e+07\n",
       "           ...    \n",
       "18177        70000\n",
       "18178        50000\n",
       "18179        50000\n",
       "18180        40000\n",
       "18181        50000\n",
       "18182        50000\n",
       "18183            0\n",
       "18184        40000\n",
       "18185        50000\n",
       "18186        60000\n",
       "18187        40000\n",
       "18188        60000\n",
       "18189        60000\n",
       "18190        60000\n",
       "18191        50000\n",
       "18192        50000\n",
       "18193        50000\n",
       "18194        50000\n",
       "18195        60000\n",
       "18196        60000\n",
       "18197        60000\n",
       "18198        60000\n",
       "18199        70000\n",
       "18200        60000\n",
       "18201        60000\n",
       "18202        60000\n",
       "18203        60000\n",
       "18204        60000\n",
       "18205        60000\n",
       "18206        60000\n",
       "Name: Value, Length: 18207, dtype: object"
      ]
     },
     "execution_count": 781,
     "metadata": {},
     "output_type": "execute_result"
    }
   ],
   "source": [
    "df['Value']"
   ]
  },
  {
   "cell_type": "markdown",
   "metadata": {},
   "source": [
    "We notice that there are also zero value in the Value column, which makes no sense. So, we alikely replace these values by the median of the column."
   ]
  },
  {
   "cell_type": "code",
   "execution_count": 782,
   "metadata": {},
   "outputs": [
    {
     "name": "stderr",
     "output_type": "stream",
     "text": [
      "C:\\Users\\abc87\\Anaconda3\\envs\\py3.6\\lib\\site-packages\\ipykernel_launcher.py:1: SettingWithCopyWarning: \n",
      "A value is trying to be set on a copy of a slice from a DataFrame\n",
      "\n",
      "See the caveats in the documentation: http://pandas.pydata.org/pandas-docs/stable/indexing.html#indexing-view-versus-copy\n",
      "  \"\"\"Entry point for launching an IPython kernel.\n"
     ]
    }
   ],
   "source": [
    "df['Value'][df['Value'] == 0] = df['Value'].median()\n",
    "df['Value'] = df['Value'].astype('float64')"
   ]
  },
  {
   "cell_type": "code",
   "execution_count": 783,
   "metadata": {},
   "outputs": [
    {
     "data": {
      "text/plain": [
       "0"
      ]
     },
     "execution_count": 783,
     "metadata": {},
     "output_type": "execute_result"
    }
   ],
   "source": [
    "df['Value'].isnull().sum()"
   ]
  },
  {
   "cell_type": "code",
   "execution_count": 784,
   "metadata": {},
   "outputs": [
    {
     "data": {
      "text/plain": [
       "0        110500000.0\n",
       "1         77000000.0\n",
       "2        118500000.0\n",
       "3         72000000.0\n",
       "4        102000000.0\n",
       "5         93000000.0\n",
       "6         67000000.0\n",
       "7         80000000.0\n",
       "8         51000000.0\n",
       "9         68000000.0\n",
       "10        77000000.0\n",
       "11        76500000.0\n",
       "12        44000000.0\n",
       "13        60000000.0\n",
       "14        63000000.0\n",
       "15        89000000.0\n",
       "16        83500000.0\n",
       "17        78000000.0\n",
       "18        58000000.0\n",
       "19        53500000.0\n",
       "20        51500000.0\n",
       "21        60000000.0\n",
       "22        38000000.0\n",
       "23        64500000.0\n",
       "24        27000000.0\n",
       "25        81000000.0\n",
       "26        69500000.0\n",
       "27        59500000.0\n",
       "28        69500000.0\n",
       "29        62000000.0\n",
       "            ...     \n",
       "18177        70000.0\n",
       "18178        50000.0\n",
       "18179        50000.0\n",
       "18180        40000.0\n",
       "18181        50000.0\n",
       "18182        50000.0\n",
       "18183       675000.0\n",
       "18184        40000.0\n",
       "18185        50000.0\n",
       "18186        60000.0\n",
       "18187        40000.0\n",
       "18188        60000.0\n",
       "18189        60000.0\n",
       "18190        60000.0\n",
       "18191        50000.0\n",
       "18192        50000.0\n",
       "18193        50000.0\n",
       "18194        50000.0\n",
       "18195        60000.0\n",
       "18196        60000.0\n",
       "18197        60000.0\n",
       "18198        60000.0\n",
       "18199        70000.0\n",
       "18200        60000.0\n",
       "18201        60000.0\n",
       "18202        60000.0\n",
       "18203        60000.0\n",
       "18204        60000.0\n",
       "18205        60000.0\n",
       "18206        60000.0\n",
       "Name: Value, Length: 18207, dtype: category\n",
       "Categories (216, float64): [10000.0, 20000.0, 30000.0, 40000.0, ..., 93000000.0, 102000000.0, 110500000.0, 118500000.0]"
      ]
     },
     "execution_count": 784,
     "metadata": {},
     "output_type": "execute_result"
    }
   ],
   "source": [
    "df['Value'].astype('category')"
   ]
  },
  {
   "cell_type": "markdown",
   "metadata": {},
   "source": [
    "### Preferred Foot"
   ]
  },
  {
   "cell_type": "markdown",
   "metadata": {},
   "source": [
    "The variable, \"Preferred Foot\", only have two string value which are \"Left\" and \"Right\" so called binary categorical variable."
   ]
  },
  {
   "cell_type": "code",
   "execution_count": 785,
   "metadata": {},
   "outputs": [
    {
     "data": {
      "text/plain": [
       "0         Left\n",
       "1        Right\n",
       "2        Right\n",
       "3        Right\n",
       "4        Right\n",
       "5        Right\n",
       "6        Right\n",
       "7        Right\n",
       "8        Right\n",
       "9        Right\n",
       "10       Right\n",
       "11       Right\n",
       "12       Right\n",
       "13        Left\n",
       "14       Right\n",
       "15        Left\n",
       "16       Right\n",
       "17        Left\n",
       "18       Right\n",
       "19        Left\n",
       "20       Right\n",
       "21       Right\n",
       "22       Right\n",
       "23       Right\n",
       "24        Left\n",
       "25       Right\n",
       "26        Left\n",
       "27       Right\n",
       "28        Left\n",
       "29       Right\n",
       "         ...  \n",
       "18177    Right\n",
       "18178    Right\n",
       "18179    Right\n",
       "18180    Right\n",
       "18181    Right\n",
       "18182    Right\n",
       "18183    Right\n",
       "18184    Right\n",
       "18185    Right\n",
       "18186    Right\n",
       "18187    Right\n",
       "18188    Right\n",
       "18189    Right\n",
       "18190    Right\n",
       "18191     Left\n",
       "18192    Right\n",
       "18193    Right\n",
       "18194    Right\n",
       "18195    Right\n",
       "18196    Right\n",
       "18197    Right\n",
       "18198    Right\n",
       "18199    Right\n",
       "18200     Left\n",
       "18201     Left\n",
       "18202    Right\n",
       "18203    Right\n",
       "18204    Right\n",
       "18205    Right\n",
       "18206    Right\n",
       "Name: Preferred Foot, Length: 18207, dtype: object"
      ]
     },
     "execution_count": 785,
     "metadata": {},
     "output_type": "execute_result"
    }
   ],
   "source": [
    "df['Preferred Foot']"
   ]
  },
  {
   "cell_type": "code",
   "execution_count": 786,
   "metadata": {},
   "outputs": [
    {
     "data": {
      "text/plain": [
       "[Left, Right, Right, Right, Right, ..., Right, Right, Right, Right, Right]\n",
       "Length: 18207\n",
       "Categories (2, object): [Left, Right]"
      ]
     },
     "execution_count": 786,
     "metadata": {},
     "output_type": "execute_result"
    }
   ],
   "source": [
    "df['Preferred Foot'].astype('category').values"
   ]
  },
  {
   "cell_type": "code",
   "execution_count": 787,
   "metadata": {},
   "outputs": [
    {
     "data": {
      "text/plain": [
       "48"
      ]
     },
     "execution_count": 787,
     "metadata": {},
     "output_type": "execute_result"
    }
   ],
   "source": [
    "df['Preferred Foot'].isnull().sum()"
   ]
  },
  {
   "cell_type": "markdown",
   "metadata": {},
   "source": [
    "As the aspect of the NaN value, we found there are 48 NaN values in this variable column. Because of small amount, compare to the total observations, we can just ignore these observations."
   ]
  },
  {
   "cell_type": "code",
   "execution_count": 788,
   "metadata": {},
   "outputs": [],
   "source": [
    "df = df[~df['Preferred Foot'].isnull()]"
   ]
  },
  {
   "cell_type": "markdown",
   "metadata": {},
   "source": [
    "### Dummy Variables"
   ]
  },
  {
   "cell_type": "markdown",
   "metadata": {},
   "source": [
    "In last section, Preferred Foot variable, 'Left' or 'Right' doesn't make any contribute to linear regression, so we use dummy variables for the Preferred Foot feature, which is also a binary variable. Then, we set preferred foot, left, as one for our models."
   ]
  },
  {
   "cell_type": "code",
   "execution_count": 789,
   "metadata": {},
   "outputs": [],
   "source": [
    "df = pd.concat([df, pd.get_dummies(df['Preferred Foot'])], axis=1)"
   ]
  },
  {
   "cell_type": "markdown",
   "metadata": {},
   "source": [
    "### International Reputation"
   ]
  },
  {
   "cell_type": "code",
   "execution_count": 790,
   "metadata": {},
   "outputs": [
    {
     "data": {
      "text/plain": [
       "0"
      ]
     },
     "execution_count": 790,
     "metadata": {},
     "output_type": "execute_result"
    }
   ],
   "source": [
    "df['International Reputation'].isnull().sum()"
   ]
  },
  {
   "cell_type": "code",
   "execution_count": 791,
   "metadata": {},
   "outputs": [
    {
     "data": {
      "text/plain": [
       "[5.0, 5.0, 5.0, 4.0, 4.0, ..., 1.0, 1.0, 1.0, 1.0, 1.0]\n",
       "Length: 18159\n",
       "Categories (5, float64): [1.0, 2.0, 3.0, 4.0, 5.0]"
      ]
     },
     "execution_count": 791,
     "metadata": {},
     "output_type": "execute_result"
    }
   ],
   "source": [
    "df['International Reputation'].astype('category').values"
   ]
  },
  {
   "cell_type": "markdown",
   "metadata": {},
   "source": [
    "### Weak Foot"
   ]
  },
  {
   "cell_type": "code",
   "execution_count": 792,
   "metadata": {},
   "outputs": [
    {
     "data": {
      "text/plain": [
       "0"
      ]
     },
     "execution_count": 792,
     "metadata": {},
     "output_type": "execute_result"
    }
   ],
   "source": [
    "df['Weak Foot'].isnull().sum()"
   ]
  },
  {
   "cell_type": "code",
   "execution_count": 793,
   "metadata": {},
   "outputs": [
    {
     "data": {
      "text/plain": [
       "[4.0, 4.0, 5.0, 3.0, 5.0, ..., 2.0, 2.0, 3.0, 3.0, 3.0]\n",
       "Length: 18159\n",
       "Categories (5, float64): [1.0, 2.0, 3.0, 4.0, 5.0]"
      ]
     },
     "execution_count": 793,
     "metadata": {},
     "output_type": "execute_result"
    }
   ],
   "source": [
    "df['Weak Foot'].astype('category').values"
   ]
  },
  {
   "cell_type": "markdown",
   "metadata": {},
   "source": [
    "### Skill Moves"
   ]
  },
  {
   "cell_type": "code",
   "execution_count": 794,
   "metadata": {},
   "outputs": [
    {
     "data": {
      "text/plain": [
       "0"
      ]
     },
     "execution_count": 794,
     "metadata": {},
     "output_type": "execute_result"
    }
   ],
   "source": [
    "df['Skill Moves'].isnull().sum()"
   ]
  },
  {
   "cell_type": "code",
   "execution_count": 795,
   "metadata": {},
   "outputs": [
    {
     "data": {
      "text/plain": [
       "[4.0, 5.0, 5.0, 1.0, 4.0, ..., 2.0, 2.0, 2.0, 2.0, 2.0]\n",
       "Length: 18159\n",
       "Categories (5, float64): [1.0, 2.0, 3.0, 4.0, 5.0]"
      ]
     },
     "execution_count": 795,
     "metadata": {},
     "output_type": "execute_result"
    }
   ],
   "source": [
    "df['Skill Moves'].astype('category').values"
   ]
  },
  {
   "cell_type": "markdown",
   "metadata": {},
   "source": [
    "### Height"
   ]
  },
  {
   "cell_type": "markdown",
   "metadata": {},
   "source": [
    "For the height, we normalize all feets into inches."
   ]
  },
  {
   "cell_type": "code",
   "execution_count": 796,
   "metadata": {},
   "outputs": [
    {
     "data": {
      "text/plain": [
       "0         5'7\n",
       "1         6'2\n",
       "2         5'9\n",
       "3         6'4\n",
       "4        5'11\n",
       "5         5'8\n",
       "6         5'8\n",
       "7         6'0\n",
       "8         6'0\n",
       "9         6'2\n",
       "10        6'0\n",
       "11        6'0\n",
       "12        6'2\n",
       "13        5'8\n",
       "14        5'6\n",
       "15       5'10\n",
       "16        6'2\n",
       "17        5'9\n",
       "18        6'2\n",
       "19        6'6\n",
       "20        6'2\n",
       "21        6'1\n",
       "22        6'4\n",
       "23        5'8\n",
       "24        6'2\n",
       "25       5'10\n",
       "26        5'9\n",
       "27        6'1\n",
       "28       5'11\n",
       "29        5'4\n",
       "         ... \n",
       "18177    5'10\n",
       "18178     6'0\n",
       "18179     6'2\n",
       "18180     6'1\n",
       "18181    5'11\n",
       "18182    5'10\n",
       "18183     6'2\n",
       "18184     6'1\n",
       "18185    5'11\n",
       "18186    5'10\n",
       "18187    5'10\n",
       "18188    5'10\n",
       "18189    5'10\n",
       "18190     5'9\n",
       "18191    5'11\n",
       "18192     6'1\n",
       "18193     5'8\n",
       "18194     6'3\n",
       "18195     5'8\n",
       "18196     5'7\n",
       "18197    5'10\n",
       "18198    5'11\n",
       "18199     5'6\n",
       "18200     5'9\n",
       "18201     6'1\n",
       "18202     5'9\n",
       "18203     6'3\n",
       "18204     5'8\n",
       "18205    5'10\n",
       "18206    5'10\n",
       "Name: Height, Length: 18159, dtype: object"
      ]
     },
     "execution_count": 796,
     "metadata": {},
     "output_type": "execute_result"
    }
   ],
   "source": [
    "df['Height']"
   ]
  },
  {
   "cell_type": "code",
   "execution_count": 797,
   "metadata": {},
   "outputs": [],
   "source": [
    "h = df['Height'].str.split('\\'')\n",
    "df['Height'] = h.str[0].astype('int64')*12 + h.str[1].astype('int64')"
   ]
  },
  {
   "cell_type": "code",
   "execution_count": 798,
   "metadata": {},
   "outputs": [
    {
     "data": {
      "text/plain": [
       "0        67\n",
       "1        74\n",
       "2        69\n",
       "3        76\n",
       "4        71\n",
       "5        68\n",
       "6        68\n",
       "7        72\n",
       "8        72\n",
       "9        74\n",
       "10       72\n",
       "11       72\n",
       "12       74\n",
       "13       68\n",
       "14       66\n",
       "15       70\n",
       "16       74\n",
       "17       69\n",
       "18       74\n",
       "19       78\n",
       "20       74\n",
       "21       73\n",
       "22       76\n",
       "23       68\n",
       "24       74\n",
       "25       70\n",
       "26       69\n",
       "27       73\n",
       "28       71\n",
       "29       64\n",
       "         ..\n",
       "18177    70\n",
       "18178    72\n",
       "18179    74\n",
       "18180    73\n",
       "18181    71\n",
       "18182    70\n",
       "18183    74\n",
       "18184    73\n",
       "18185    71\n",
       "18186    70\n",
       "18187    70\n",
       "18188    70\n",
       "18189    70\n",
       "18190    69\n",
       "18191    71\n",
       "18192    73\n",
       "18193    68\n",
       "18194    75\n",
       "18195    68\n",
       "18196    67\n",
       "18197    70\n",
       "18198    71\n",
       "18199    66\n",
       "18200    69\n",
       "18201    73\n",
       "18202    69\n",
       "18203    75\n",
       "18204    68\n",
       "18205    70\n",
       "18206    70\n",
       "Name: Height, Length: 18159, dtype: int64"
      ]
     },
     "execution_count": 798,
     "metadata": {},
     "output_type": "execute_result"
    }
   ],
   "source": [
    "df['Height']"
   ]
  },
  {
   "cell_type": "code",
   "execution_count": 799,
   "metadata": {},
   "outputs": [
    {
     "data": {
      "text/plain": [
       "0"
      ]
     },
     "execution_count": 799,
     "metadata": {},
     "output_type": "execute_result"
    }
   ],
   "source": [
    "df['Height'].isnull().sum()"
   ]
  },
  {
   "cell_type": "code",
   "execution_count": 800,
   "metadata": {},
   "outputs": [
    {
     "data": {
      "text/plain": [
       "[67, 74, 69, 76, 71, ..., 69, 75, 68, 70, 70]\n",
       "Length: 18159\n",
       "Categories (21, int64): [61, 62, 63, 64, ..., 78, 79, 80, 81]"
      ]
     },
     "execution_count": 800,
     "metadata": {},
     "output_type": "execute_result"
    }
   ],
   "source": [
    "df['Height'].astype('category').values"
   ]
  },
  {
   "cell_type": "markdown",
   "metadata": {},
   "source": [
    "### Weight"
   ]
  },
  {
   "cell_type": "code",
   "execution_count": 801,
   "metadata": {},
   "outputs": [
    {
     "data": {
      "text/plain": [
       "0        159lbs\n",
       "1        183lbs\n",
       "2        150lbs\n",
       "3        168lbs\n",
       "4        154lbs\n",
       "5        163lbs\n",
       "6        146lbs\n",
       "7        190lbs\n",
       "8        181lbs\n",
       "9        192lbs\n",
       "10       176lbs\n",
       "11       168lbs\n",
       "12       172lbs\n",
       "13       148lbs\n",
       "14       159lbs\n",
       "15       165lbs\n",
       "16       196lbs\n",
       "17       161lbs\n",
       "18       187lbs\n",
       "19       212lbs\n",
       "20       168lbs\n",
       "21       170lbs\n",
       "22       203lbs\n",
       "23       154lbs\n",
       "24       187lbs\n",
       "25       161lbs\n",
       "26       157lbs\n",
       "27       185lbs\n",
       "28       172lbs\n",
       "29       130lbs\n",
       "          ...  \n",
       "18177    163lbs\n",
       "18178    176lbs\n",
       "18179    163lbs\n",
       "18180    172lbs\n",
       "18181    134lbs\n",
       "18182    165lbs\n",
       "18183    190lbs\n",
       "18184    179lbs\n",
       "18185    159lbs\n",
       "18186    174lbs\n",
       "18187    161lbs\n",
       "18188    148lbs\n",
       "18189    165lbs\n",
       "18190    176lbs\n",
       "18191    168lbs\n",
       "18192    165lbs\n",
       "18193    146lbs\n",
       "18194    187lbs\n",
       "18195    141lbs\n",
       "18196    146lbs\n",
       "18197    141lbs\n",
       "18198    154lbs\n",
       "18199    150lbs\n",
       "18200    157lbs\n",
       "18201    168lbs\n",
       "18202    134lbs\n",
       "18203    170lbs\n",
       "18204    148lbs\n",
       "18205    154lbs\n",
       "18206    176lbs\n",
       "Name: Weight, Length: 18159, dtype: object"
      ]
     },
     "execution_count": 801,
     "metadata": {},
     "output_type": "execute_result"
    }
   ],
   "source": [
    "df['Weight']"
   ]
  },
  {
   "cell_type": "code",
   "execution_count": 802,
   "metadata": {},
   "outputs": [],
   "source": [
    "df['Weight'] = df['Weight'].str.split('lbs').str[0].astype('int64')"
   ]
  },
  {
   "cell_type": "code",
   "execution_count": 803,
   "metadata": {},
   "outputs": [
    {
     "data": {
      "text/plain": [
       "0"
      ]
     },
     "execution_count": 803,
     "metadata": {},
     "output_type": "execute_result"
    }
   ],
   "source": [
    "df['Weight'].isnull().sum()"
   ]
  },
  {
   "cell_type": "code",
   "execution_count": 804,
   "metadata": {},
   "outputs": [
    {
     "data": {
      "text/plain": [
       "[159, 183, 150, 168, 154, ..., 134, 170, 148, 154, 176]\n",
       "Length: 18159\n",
       "Categories (57, int64): [110, 115, 117, 119, ..., 229, 234, 236, 243]"
      ]
     },
     "execution_count": 804,
     "metadata": {},
     "output_type": "execute_result"
    }
   ],
   "source": [
    "df['Weight'].astype('category').values"
   ]
  },
  {
   "cell_type": "markdown",
   "metadata": {},
   "source": [
    "### Position"
   ]
  },
  {
   "cell_type": "markdown",
   "metadata": {},
   "source": [
    "Then, there are several positions have been scored for each player. The score is from 0 to 100. We convert the string into float number and replace the NaN value with the median of each column."
   ]
  },
  {
   "cell_type": "code",
   "execution_count": 805,
   "metadata": {},
   "outputs": [],
   "source": [
    "position = ['LS', 'ST', 'RS', 'LW', 'LF', 'CF', 'RF', 'RW', 'LAM', 'CAM', 'RAM', 'LM', 'LCM', 'CM', 'RCM', 'RM', 'LWB', 'LDM', 'CDM', 'RDM', 'RWB', 'LB', 'LCB', 'CB', 'RCB', 'RB']"
   ]
  },
  {
   "cell_type": "code",
   "execution_count": 806,
   "metadata": {},
   "outputs": [
    {
     "data": {
      "text/plain": [
       "52962"
      ]
     },
     "execution_count": 806,
     "metadata": {},
     "output_type": "execute_result"
    }
   ],
   "source": [
    "df[position].isnull().sum().sum()"
   ]
  },
  {
   "cell_type": "code",
   "execution_count": 807,
   "metadata": {},
   "outputs": [
    {
     "data": {
      "text/html": [
       "<div>\n",
       "<style scoped>\n",
       "    .dataframe tbody tr th:only-of-type {\n",
       "        vertical-align: middle;\n",
       "    }\n",
       "\n",
       "    .dataframe tbody tr th {\n",
       "        vertical-align: top;\n",
       "    }\n",
       "\n",
       "    .dataframe thead th {\n",
       "        text-align: right;\n",
       "    }\n",
       "</style>\n",
       "<table border=\"1\" class=\"dataframe\">\n",
       "  <thead>\n",
       "    <tr style=\"text-align: right;\">\n",
       "      <th></th>\n",
       "      <th>LS</th>\n",
       "      <th>ST</th>\n",
       "      <th>RS</th>\n",
       "      <th>LW</th>\n",
       "      <th>LF</th>\n",
       "      <th>CF</th>\n",
       "      <th>RF</th>\n",
       "      <th>RW</th>\n",
       "      <th>LAM</th>\n",
       "      <th>CAM</th>\n",
       "      <th>...</th>\n",
       "      <th>LWB</th>\n",
       "      <th>LDM</th>\n",
       "      <th>CDM</th>\n",
       "      <th>RDM</th>\n",
       "      <th>RWB</th>\n",
       "      <th>LB</th>\n",
       "      <th>LCB</th>\n",
       "      <th>CB</th>\n",
       "      <th>RCB</th>\n",
       "      <th>RB</th>\n",
       "    </tr>\n",
       "  </thead>\n",
       "  <tbody>\n",
       "    <tr>\n",
       "      <th>0</th>\n",
       "      <td>88+2</td>\n",
       "      <td>88+2</td>\n",
       "      <td>88+2</td>\n",
       "      <td>92+2</td>\n",
       "      <td>93+2</td>\n",
       "      <td>93+2</td>\n",
       "      <td>93+2</td>\n",
       "      <td>92+2</td>\n",
       "      <td>93+2</td>\n",
       "      <td>93+2</td>\n",
       "      <td>...</td>\n",
       "      <td>64+2</td>\n",
       "      <td>61+2</td>\n",
       "      <td>61+2</td>\n",
       "      <td>61+2</td>\n",
       "      <td>64+2</td>\n",
       "      <td>59+2</td>\n",
       "      <td>47+2</td>\n",
       "      <td>47+2</td>\n",
       "      <td>47+2</td>\n",
       "      <td>59+2</td>\n",
       "    </tr>\n",
       "    <tr>\n",
       "      <th>1</th>\n",
       "      <td>91+3</td>\n",
       "      <td>91+3</td>\n",
       "      <td>91+3</td>\n",
       "      <td>89+3</td>\n",
       "      <td>90+3</td>\n",
       "      <td>90+3</td>\n",
       "      <td>90+3</td>\n",
       "      <td>89+3</td>\n",
       "      <td>88+3</td>\n",
       "      <td>88+3</td>\n",
       "      <td>...</td>\n",
       "      <td>65+3</td>\n",
       "      <td>61+3</td>\n",
       "      <td>61+3</td>\n",
       "      <td>61+3</td>\n",
       "      <td>65+3</td>\n",
       "      <td>61+3</td>\n",
       "      <td>53+3</td>\n",
       "      <td>53+3</td>\n",
       "      <td>53+3</td>\n",
       "      <td>61+3</td>\n",
       "    </tr>\n",
       "    <tr>\n",
       "      <th>2</th>\n",
       "      <td>84+3</td>\n",
       "      <td>84+3</td>\n",
       "      <td>84+3</td>\n",
       "      <td>89+3</td>\n",
       "      <td>89+3</td>\n",
       "      <td>89+3</td>\n",
       "      <td>89+3</td>\n",
       "      <td>89+3</td>\n",
       "      <td>89+3</td>\n",
       "      <td>89+3</td>\n",
       "      <td>...</td>\n",
       "      <td>65+3</td>\n",
       "      <td>60+3</td>\n",
       "      <td>60+3</td>\n",
       "      <td>60+3</td>\n",
       "      <td>65+3</td>\n",
       "      <td>60+3</td>\n",
       "      <td>47+3</td>\n",
       "      <td>47+3</td>\n",
       "      <td>47+3</td>\n",
       "      <td>60+3</td>\n",
       "    </tr>\n",
       "    <tr>\n",
       "      <th>3</th>\n",
       "      <td>NaN</td>\n",
       "      <td>NaN</td>\n",
       "      <td>NaN</td>\n",
       "      <td>NaN</td>\n",
       "      <td>NaN</td>\n",
       "      <td>NaN</td>\n",
       "      <td>NaN</td>\n",
       "      <td>NaN</td>\n",
       "      <td>NaN</td>\n",
       "      <td>NaN</td>\n",
       "      <td>...</td>\n",
       "      <td>NaN</td>\n",
       "      <td>NaN</td>\n",
       "      <td>NaN</td>\n",
       "      <td>NaN</td>\n",
       "      <td>NaN</td>\n",
       "      <td>NaN</td>\n",
       "      <td>NaN</td>\n",
       "      <td>NaN</td>\n",
       "      <td>NaN</td>\n",
       "      <td>NaN</td>\n",
       "    </tr>\n",
       "    <tr>\n",
       "      <th>4</th>\n",
       "      <td>82+3</td>\n",
       "      <td>82+3</td>\n",
       "      <td>82+3</td>\n",
       "      <td>87+3</td>\n",
       "      <td>87+3</td>\n",
       "      <td>87+3</td>\n",
       "      <td>87+3</td>\n",
       "      <td>87+3</td>\n",
       "      <td>88+3</td>\n",
       "      <td>88+3</td>\n",
       "      <td>...</td>\n",
       "      <td>77+3</td>\n",
       "      <td>77+3</td>\n",
       "      <td>77+3</td>\n",
       "      <td>77+3</td>\n",
       "      <td>77+3</td>\n",
       "      <td>73+3</td>\n",
       "      <td>66+3</td>\n",
       "      <td>66+3</td>\n",
       "      <td>66+3</td>\n",
       "      <td>73+3</td>\n",
       "    </tr>\n",
       "    <tr>\n",
       "      <th>5</th>\n",
       "      <td>83+3</td>\n",
       "      <td>83+3</td>\n",
       "      <td>83+3</td>\n",
       "      <td>89+3</td>\n",
       "      <td>88+3</td>\n",
       "      <td>88+3</td>\n",
       "      <td>88+3</td>\n",
       "      <td>89+3</td>\n",
       "      <td>89+3</td>\n",
       "      <td>89+3</td>\n",
       "      <td>...</td>\n",
       "      <td>66+3</td>\n",
       "      <td>63+3</td>\n",
       "      <td>63+3</td>\n",
       "      <td>63+3</td>\n",
       "      <td>66+3</td>\n",
       "      <td>60+3</td>\n",
       "      <td>49+3</td>\n",
       "      <td>49+3</td>\n",
       "      <td>49+3</td>\n",
       "      <td>60+3</td>\n",
       "    </tr>\n",
       "    <tr>\n",
       "      <th>6</th>\n",
       "      <td>77+3</td>\n",
       "      <td>77+3</td>\n",
       "      <td>77+3</td>\n",
       "      <td>85+3</td>\n",
       "      <td>84+3</td>\n",
       "      <td>84+3</td>\n",
       "      <td>84+3</td>\n",
       "      <td>85+3</td>\n",
       "      <td>87+3</td>\n",
       "      <td>87+3</td>\n",
       "      <td>...</td>\n",
       "      <td>82+3</td>\n",
       "      <td>81+3</td>\n",
       "      <td>81+3</td>\n",
       "      <td>81+3</td>\n",
       "      <td>82+3</td>\n",
       "      <td>79+3</td>\n",
       "      <td>71+3</td>\n",
       "      <td>71+3</td>\n",
       "      <td>71+3</td>\n",
       "      <td>79+3</td>\n",
       "    </tr>\n",
       "    <tr>\n",
       "      <th>7</th>\n",
       "      <td>87+5</td>\n",
       "      <td>87+5</td>\n",
       "      <td>87+5</td>\n",
       "      <td>86+5</td>\n",
       "      <td>87+5</td>\n",
       "      <td>87+5</td>\n",
       "      <td>87+5</td>\n",
       "      <td>86+5</td>\n",
       "      <td>85+5</td>\n",
       "      <td>85+5</td>\n",
       "      <td>...</td>\n",
       "      <td>69+5</td>\n",
       "      <td>68+5</td>\n",
       "      <td>68+5</td>\n",
       "      <td>68+5</td>\n",
       "      <td>69+5</td>\n",
       "      <td>66+5</td>\n",
       "      <td>63+5</td>\n",
       "      <td>63+5</td>\n",
       "      <td>63+5</td>\n",
       "      <td>66+5</td>\n",
       "    </tr>\n",
       "    <tr>\n",
       "      <th>8</th>\n",
       "      <td>73+3</td>\n",
       "      <td>73+3</td>\n",
       "      <td>73+3</td>\n",
       "      <td>70+3</td>\n",
       "      <td>71+3</td>\n",
       "      <td>71+3</td>\n",
       "      <td>71+3</td>\n",
       "      <td>70+3</td>\n",
       "      <td>71+3</td>\n",
       "      <td>71+3</td>\n",
       "      <td>...</td>\n",
       "      <td>81+3</td>\n",
       "      <td>84+3</td>\n",
       "      <td>84+3</td>\n",
       "      <td>84+3</td>\n",
       "      <td>81+3</td>\n",
       "      <td>84+3</td>\n",
       "      <td>87+3</td>\n",
       "      <td>87+3</td>\n",
       "      <td>87+3</td>\n",
       "      <td>84+3</td>\n",
       "    </tr>\n",
       "    <tr>\n",
       "      <th>9</th>\n",
       "      <td>NaN</td>\n",
       "      <td>NaN</td>\n",
       "      <td>NaN</td>\n",
       "      <td>NaN</td>\n",
       "      <td>NaN</td>\n",
       "      <td>NaN</td>\n",
       "      <td>NaN</td>\n",
       "      <td>NaN</td>\n",
       "      <td>NaN</td>\n",
       "      <td>NaN</td>\n",
       "      <td>...</td>\n",
       "      <td>NaN</td>\n",
       "      <td>NaN</td>\n",
       "      <td>NaN</td>\n",
       "      <td>NaN</td>\n",
       "      <td>NaN</td>\n",
       "      <td>NaN</td>\n",
       "      <td>NaN</td>\n",
       "      <td>NaN</td>\n",
       "      <td>NaN</td>\n",
       "      <td>NaN</td>\n",
       "    </tr>\n",
       "    <tr>\n",
       "      <th>10</th>\n",
       "      <td>87+3</td>\n",
       "      <td>87+3</td>\n",
       "      <td>87+3</td>\n",
       "      <td>83+3</td>\n",
       "      <td>86+3</td>\n",
       "      <td>86+3</td>\n",
       "      <td>86+3</td>\n",
       "      <td>83+3</td>\n",
       "      <td>83+3</td>\n",
       "      <td>83+3</td>\n",
       "      <td>...</td>\n",
       "      <td>61+3</td>\n",
       "      <td>62+3</td>\n",
       "      <td>62+3</td>\n",
       "      <td>62+3</td>\n",
       "      <td>61+3</td>\n",
       "      <td>58+3</td>\n",
       "      <td>57+3</td>\n",
       "      <td>57+3</td>\n",
       "      <td>57+3</td>\n",
       "      <td>58+3</td>\n",
       "    </tr>\n",
       "    <tr>\n",
       "      <th>11</th>\n",
       "      <td>78+3</td>\n",
       "      <td>78+3</td>\n",
       "      <td>78+3</td>\n",
       "      <td>81+3</td>\n",
       "      <td>82+3</td>\n",
       "      <td>82+3</td>\n",
       "      <td>82+3</td>\n",
       "      <td>81+3</td>\n",
       "      <td>84+3</td>\n",
       "      <td>84+3</td>\n",
       "      <td>...</td>\n",
       "      <td>79+3</td>\n",
       "      <td>82+3</td>\n",
       "      <td>82+3</td>\n",
       "      <td>82+3</td>\n",
       "      <td>79+3</td>\n",
       "      <td>77+3</td>\n",
       "      <td>72+3</td>\n",
       "      <td>72+3</td>\n",
       "      <td>72+3</td>\n",
       "      <td>77+3</td>\n",
       "    </tr>\n",
       "    <tr>\n",
       "      <th>12</th>\n",
       "      <td>64+3</td>\n",
       "      <td>64+3</td>\n",
       "      <td>64+3</td>\n",
       "      <td>61+3</td>\n",
       "      <td>62+3</td>\n",
       "      <td>62+3</td>\n",
       "      <td>62+3</td>\n",
       "      <td>61+3</td>\n",
       "      <td>62+3</td>\n",
       "      <td>62+3</td>\n",
       "      <td>...</td>\n",
       "      <td>76+3</td>\n",
       "      <td>81+3</td>\n",
       "      <td>81+3</td>\n",
       "      <td>81+3</td>\n",
       "      <td>76+3</td>\n",
       "      <td>79+3</td>\n",
       "      <td>87+3</td>\n",
       "      <td>87+3</td>\n",
       "      <td>87+3</td>\n",
       "      <td>79+3</td>\n",
       "    </tr>\n",
       "    <tr>\n",
       "      <th>13</th>\n",
       "      <td>77+3</td>\n",
       "      <td>77+3</td>\n",
       "      <td>77+3</td>\n",
       "      <td>85+3</td>\n",
       "      <td>84+3</td>\n",
       "      <td>84+3</td>\n",
       "      <td>84+3</td>\n",
       "      <td>85+3</td>\n",
       "      <td>87+3</td>\n",
       "      <td>87+3</td>\n",
       "      <td>...</td>\n",
       "      <td>69+3</td>\n",
       "      <td>70+3</td>\n",
       "      <td>70+3</td>\n",
       "      <td>70+3</td>\n",
       "      <td>69+3</td>\n",
       "      <td>64+3</td>\n",
       "      <td>57+3</td>\n",
       "      <td>57+3</td>\n",
       "      <td>57+3</td>\n",
       "      <td>64+3</td>\n",
       "    </tr>\n",
       "    <tr>\n",
       "      <th>14</th>\n",
       "      <td>72+3</td>\n",
       "      <td>72+3</td>\n",
       "      <td>72+3</td>\n",
       "      <td>77+3</td>\n",
       "      <td>77+3</td>\n",
       "      <td>77+3</td>\n",
       "      <td>77+3</td>\n",
       "      <td>77+3</td>\n",
       "      <td>79+3</td>\n",
       "      <td>79+3</td>\n",
       "      <td>...</td>\n",
       "      <td>85+3</td>\n",
       "      <td>87+3</td>\n",
       "      <td>87+3</td>\n",
       "      <td>87+3</td>\n",
       "      <td>85+3</td>\n",
       "      <td>84+3</td>\n",
       "      <td>83+3</td>\n",
       "      <td>83+3</td>\n",
       "      <td>83+3</td>\n",
       "      <td>84+3</td>\n",
       "    </tr>\n",
       "    <tr>\n",
       "      <th>15</th>\n",
       "      <td>83+3</td>\n",
       "      <td>83+3</td>\n",
       "      <td>83+3</td>\n",
       "      <td>87+3</td>\n",
       "      <td>86+3</td>\n",
       "      <td>86+3</td>\n",
       "      <td>86+3</td>\n",
       "      <td>87+3</td>\n",
       "      <td>87+3</td>\n",
       "      <td>87+3</td>\n",
       "      <td>...</td>\n",
       "      <td>62+3</td>\n",
       "      <td>58+3</td>\n",
       "      <td>58+3</td>\n",
       "      <td>58+3</td>\n",
       "      <td>62+3</td>\n",
       "      <td>56+3</td>\n",
       "      <td>45+3</td>\n",
       "      <td>45+3</td>\n",
       "      <td>45+3</td>\n",
       "      <td>56+3</td>\n",
       "    </tr>\n",
       "    <tr>\n",
       "      <th>16</th>\n",
       "      <td>86+3</td>\n",
       "      <td>86+3</td>\n",
       "      <td>86+3</td>\n",
       "      <td>82+3</td>\n",
       "      <td>84+3</td>\n",
       "      <td>84+3</td>\n",
       "      <td>84+3</td>\n",
       "      <td>82+3</td>\n",
       "      <td>82+3</td>\n",
       "      <td>82+3</td>\n",
       "      <td>...</td>\n",
       "      <td>65+3</td>\n",
       "      <td>66+3</td>\n",
       "      <td>66+3</td>\n",
       "      <td>66+3</td>\n",
       "      <td>65+3</td>\n",
       "      <td>62+3</td>\n",
       "      <td>60+3</td>\n",
       "      <td>60+3</td>\n",
       "      <td>60+3</td>\n",
       "      <td>62+3</td>\n",
       "    </tr>\n",
       "    <tr>\n",
       "      <th>17</th>\n",
       "      <td>86+3</td>\n",
       "      <td>86+3</td>\n",
       "      <td>86+3</td>\n",
       "      <td>87+3</td>\n",
       "      <td>87+3</td>\n",
       "      <td>87+3</td>\n",
       "      <td>87+3</td>\n",
       "      <td>87+3</td>\n",
       "      <td>86+3</td>\n",
       "      <td>86+3</td>\n",
       "      <td>...</td>\n",
       "      <td>70+3</td>\n",
       "      <td>67+3</td>\n",
       "      <td>67+3</td>\n",
       "      <td>67+3</td>\n",
       "      <td>70+3</td>\n",
       "      <td>67+3</td>\n",
       "      <td>61+3</td>\n",
       "      <td>61+3</td>\n",
       "      <td>61+3</td>\n",
       "      <td>67+3</td>\n",
       "    </tr>\n",
       "    <tr>\n",
       "      <th>18</th>\n",
       "      <td>NaN</td>\n",
       "      <td>NaN</td>\n",
       "      <td>NaN</td>\n",
       "      <td>NaN</td>\n",
       "      <td>NaN</td>\n",
       "      <td>NaN</td>\n",
       "      <td>NaN</td>\n",
       "      <td>NaN</td>\n",
       "      <td>NaN</td>\n",
       "      <td>NaN</td>\n",
       "      <td>...</td>\n",
       "      <td>NaN</td>\n",
       "      <td>NaN</td>\n",
       "      <td>NaN</td>\n",
       "      <td>NaN</td>\n",
       "      <td>NaN</td>\n",
       "      <td>NaN</td>\n",
       "      <td>NaN</td>\n",
       "      <td>NaN</td>\n",
       "      <td>NaN</td>\n",
       "      <td>NaN</td>\n",
       "    </tr>\n",
       "    <tr>\n",
       "      <th>19</th>\n",
       "      <td>NaN</td>\n",
       "      <td>NaN</td>\n",
       "      <td>NaN</td>\n",
       "      <td>NaN</td>\n",
       "      <td>NaN</td>\n",
       "      <td>NaN</td>\n",
       "      <td>NaN</td>\n",
       "      <td>NaN</td>\n",
       "      <td>NaN</td>\n",
       "      <td>NaN</td>\n",
       "      <td>...</td>\n",
       "      <td>NaN</td>\n",
       "      <td>NaN</td>\n",
       "      <td>NaN</td>\n",
       "      <td>NaN</td>\n",
       "      <td>NaN</td>\n",
       "      <td>NaN</td>\n",
       "      <td>NaN</td>\n",
       "      <td>NaN</td>\n",
       "      <td>NaN</td>\n",
       "      <td>NaN</td>\n",
       "    </tr>\n",
       "    <tr>\n",
       "      <th>20</th>\n",
       "      <td>71+3</td>\n",
       "      <td>71+3</td>\n",
       "      <td>71+3</td>\n",
       "      <td>74+3</td>\n",
       "      <td>76+3</td>\n",
       "      <td>76+3</td>\n",
       "      <td>76+3</td>\n",
       "      <td>74+3</td>\n",
       "      <td>79+3</td>\n",
       "      <td>79+3</td>\n",
       "      <td>...</td>\n",
       "      <td>79+3</td>\n",
       "      <td>86+3</td>\n",
       "      <td>86+3</td>\n",
       "      <td>86+3</td>\n",
       "      <td>79+3</td>\n",
       "      <td>78+3</td>\n",
       "      <td>82+3</td>\n",
       "      <td>82+3</td>\n",
       "      <td>82+3</td>\n",
       "      <td>78+3</td>\n",
       "    </tr>\n",
       "    <tr>\n",
       "      <th>21</th>\n",
       "      <td>85+3</td>\n",
       "      <td>85+3</td>\n",
       "      <td>85+3</td>\n",
       "      <td>81+3</td>\n",
       "      <td>83+3</td>\n",
       "      <td>83+3</td>\n",
       "      <td>83+3</td>\n",
       "      <td>81+3</td>\n",
       "      <td>80+3</td>\n",
       "      <td>80+3</td>\n",
       "      <td>...</td>\n",
       "      <td>67+3</td>\n",
       "      <td>65+3</td>\n",
       "      <td>65+3</td>\n",
       "      <td>65+3</td>\n",
       "      <td>67+3</td>\n",
       "      <td>65+3</td>\n",
       "      <td>63+3</td>\n",
       "      <td>63+3</td>\n",
       "      <td>63+3</td>\n",
       "      <td>65+3</td>\n",
       "    </tr>\n",
       "    <tr>\n",
       "      <th>22</th>\n",
       "      <td>NaN</td>\n",
       "      <td>NaN</td>\n",
       "      <td>NaN</td>\n",
       "      <td>NaN</td>\n",
       "      <td>NaN</td>\n",
       "      <td>NaN</td>\n",
       "      <td>NaN</td>\n",
       "      <td>NaN</td>\n",
       "      <td>NaN</td>\n",
       "      <td>NaN</td>\n",
       "      <td>...</td>\n",
       "      <td>NaN</td>\n",
       "      <td>NaN</td>\n",
       "      <td>NaN</td>\n",
       "      <td>NaN</td>\n",
       "      <td>NaN</td>\n",
       "      <td>NaN</td>\n",
       "      <td>NaN</td>\n",
       "      <td>NaN</td>\n",
       "      <td>NaN</td>\n",
       "      <td>NaN</td>\n",
       "    </tr>\n",
       "    <tr>\n",
       "      <th>23</th>\n",
       "      <td>86+3</td>\n",
       "      <td>86+3</td>\n",
       "      <td>86+3</td>\n",
       "      <td>86+3</td>\n",
       "      <td>87+3</td>\n",
       "      <td>87+3</td>\n",
       "      <td>87+3</td>\n",
       "      <td>86+3</td>\n",
       "      <td>85+3</td>\n",
       "      <td>85+3</td>\n",
       "      <td>...</td>\n",
       "      <td>58+3</td>\n",
       "      <td>56+3</td>\n",
       "      <td>56+3</td>\n",
       "      <td>56+3</td>\n",
       "      <td>58+3</td>\n",
       "      <td>53+3</td>\n",
       "      <td>47+3</td>\n",
       "      <td>47+3</td>\n",
       "      <td>47+3</td>\n",
       "      <td>53+3</td>\n",
       "    </tr>\n",
       "    <tr>\n",
       "      <th>24</th>\n",
       "      <td>58+3</td>\n",
       "      <td>58+3</td>\n",
       "      <td>58+3</td>\n",
       "      <td>54+3</td>\n",
       "      <td>55+3</td>\n",
       "      <td>55+3</td>\n",
       "      <td>55+3</td>\n",
       "      <td>54+3</td>\n",
       "      <td>54+3</td>\n",
       "      <td>54+3</td>\n",
       "      <td>...</td>\n",
       "      <td>74+3</td>\n",
       "      <td>76+3</td>\n",
       "      <td>76+3</td>\n",
       "      <td>76+3</td>\n",
       "      <td>74+3</td>\n",
       "      <td>77+3</td>\n",
       "      <td>86+3</td>\n",
       "      <td>86+3</td>\n",
       "      <td>86+3</td>\n",
       "      <td>77+3</td>\n",
       "    </tr>\n",
       "    <tr>\n",
       "      <th>25</th>\n",
       "      <td>85+3</td>\n",
       "      <td>85+3</td>\n",
       "      <td>85+3</td>\n",
       "      <td>87+3</td>\n",
       "      <td>87+3</td>\n",
       "      <td>87+3</td>\n",
       "      <td>87+3</td>\n",
       "      <td>87+3</td>\n",
       "      <td>86+3</td>\n",
       "      <td>86+3</td>\n",
       "      <td>...</td>\n",
       "      <td>66+3</td>\n",
       "      <td>62+3</td>\n",
       "      <td>62+3</td>\n",
       "      <td>62+3</td>\n",
       "      <td>66+3</td>\n",
       "      <td>62+3</td>\n",
       "      <td>54+3</td>\n",
       "      <td>54+3</td>\n",
       "      <td>54+3</td>\n",
       "      <td>62+3</td>\n",
       "    </tr>\n",
       "    <tr>\n",
       "      <th>26</th>\n",
       "      <td>83+3</td>\n",
       "      <td>83+3</td>\n",
       "      <td>83+3</td>\n",
       "      <td>87+3</td>\n",
       "      <td>86+3</td>\n",
       "      <td>86+3</td>\n",
       "      <td>86+3</td>\n",
       "      <td>87+3</td>\n",
       "      <td>86+3</td>\n",
       "      <td>86+3</td>\n",
       "      <td>...</td>\n",
       "      <td>70+3</td>\n",
       "      <td>66+3</td>\n",
       "      <td>66+3</td>\n",
       "      <td>66+3</td>\n",
       "      <td>70+3</td>\n",
       "      <td>66+3</td>\n",
       "      <td>57+3</td>\n",
       "      <td>57+3</td>\n",
       "      <td>57+3</td>\n",
       "      <td>66+3</td>\n",
       "    </tr>\n",
       "    <tr>\n",
       "      <th>27</th>\n",
       "      <td>72+3</td>\n",
       "      <td>72+3</td>\n",
       "      <td>72+3</td>\n",
       "      <td>69+3</td>\n",
       "      <td>73+3</td>\n",
       "      <td>73+3</td>\n",
       "      <td>73+3</td>\n",
       "      <td>69+3</td>\n",
       "      <td>74+3</td>\n",
       "      <td>74+3</td>\n",
       "      <td>...</td>\n",
       "      <td>78+3</td>\n",
       "      <td>85+3</td>\n",
       "      <td>85+3</td>\n",
       "      <td>85+3</td>\n",
       "      <td>78+3</td>\n",
       "      <td>79+3</td>\n",
       "      <td>85+3</td>\n",
       "      <td>85+3</td>\n",
       "      <td>85+3</td>\n",
       "      <td>79+3</td>\n",
       "    </tr>\n",
       "    <tr>\n",
       "      <th>28</th>\n",
       "      <td>80+3</td>\n",
       "      <td>80+3</td>\n",
       "      <td>80+3</td>\n",
       "      <td>84+3</td>\n",
       "      <td>83+3</td>\n",
       "      <td>83+3</td>\n",
       "      <td>83+3</td>\n",
       "      <td>84+3</td>\n",
       "      <td>85+3</td>\n",
       "      <td>85+3</td>\n",
       "      <td>...</td>\n",
       "      <td>69+3</td>\n",
       "      <td>68+3</td>\n",
       "      <td>68+3</td>\n",
       "      <td>68+3</td>\n",
       "      <td>69+3</td>\n",
       "      <td>65+3</td>\n",
       "      <td>58+3</td>\n",
       "      <td>58+3</td>\n",
       "      <td>58+3</td>\n",
       "      <td>65+3</td>\n",
       "    </tr>\n",
       "    <tr>\n",
       "      <th>29</th>\n",
       "      <td>78+3</td>\n",
       "      <td>78+3</td>\n",
       "      <td>78+3</td>\n",
       "      <td>86+3</td>\n",
       "      <td>85+3</td>\n",
       "      <td>85+3</td>\n",
       "      <td>85+3</td>\n",
       "      <td>86+3</td>\n",
       "      <td>86+3</td>\n",
       "      <td>86+3</td>\n",
       "      <td>...</td>\n",
       "      <td>63+3</td>\n",
       "      <td>58+3</td>\n",
       "      <td>58+3</td>\n",
       "      <td>58+3</td>\n",
       "      <td>63+3</td>\n",
       "      <td>58+3</td>\n",
       "      <td>44+3</td>\n",
       "      <td>44+3</td>\n",
       "      <td>44+3</td>\n",
       "      <td>58+3</td>\n",
       "    </tr>\n",
       "    <tr>\n",
       "      <th>...</th>\n",
       "      <td>...</td>\n",
       "      <td>...</td>\n",
       "      <td>...</td>\n",
       "      <td>...</td>\n",
       "      <td>...</td>\n",
       "      <td>...</td>\n",
       "      <td>...</td>\n",
       "      <td>...</td>\n",
       "      <td>...</td>\n",
       "      <td>...</td>\n",
       "      <td>...</td>\n",
       "      <td>...</td>\n",
       "      <td>...</td>\n",
       "      <td>...</td>\n",
       "      <td>...</td>\n",
       "      <td>...</td>\n",
       "      <td>...</td>\n",
       "      <td>...</td>\n",
       "      <td>...</td>\n",
       "      <td>...</td>\n",
       "      <td>...</td>\n",
       "    </tr>\n",
       "    <tr>\n",
       "      <th>18177</th>\n",
       "      <td>47+2</td>\n",
       "      <td>47+2</td>\n",
       "      <td>47+2</td>\n",
       "      <td>45+2</td>\n",
       "      <td>46+2</td>\n",
       "      <td>46+2</td>\n",
       "      <td>46+2</td>\n",
       "      <td>45+2</td>\n",
       "      <td>44+2</td>\n",
       "      <td>44+2</td>\n",
       "      <td>...</td>\n",
       "      <td>32+2</td>\n",
       "      <td>29+2</td>\n",
       "      <td>29+2</td>\n",
       "      <td>29+2</td>\n",
       "      <td>32+2</td>\n",
       "      <td>31+2</td>\n",
       "      <td>27+2</td>\n",
       "      <td>27+2</td>\n",
       "      <td>27+2</td>\n",
       "      <td>31+2</td>\n",
       "    </tr>\n",
       "    <tr>\n",
       "      <th>18178</th>\n",
       "      <td>NaN</td>\n",
       "      <td>NaN</td>\n",
       "      <td>NaN</td>\n",
       "      <td>NaN</td>\n",
       "      <td>NaN</td>\n",
       "      <td>NaN</td>\n",
       "      <td>NaN</td>\n",
       "      <td>NaN</td>\n",
       "      <td>NaN</td>\n",
       "      <td>NaN</td>\n",
       "      <td>...</td>\n",
       "      <td>NaN</td>\n",
       "      <td>NaN</td>\n",
       "      <td>NaN</td>\n",
       "      <td>NaN</td>\n",
       "      <td>NaN</td>\n",
       "      <td>NaN</td>\n",
       "      <td>NaN</td>\n",
       "      <td>NaN</td>\n",
       "      <td>NaN</td>\n",
       "      <td>NaN</td>\n",
       "    </tr>\n",
       "    <tr>\n",
       "      <th>18179</th>\n",
       "      <td>34+2</td>\n",
       "      <td>34+2</td>\n",
       "      <td>34+2</td>\n",
       "      <td>32+2</td>\n",
       "      <td>32+2</td>\n",
       "      <td>32+2</td>\n",
       "      <td>32+2</td>\n",
       "      <td>32+2</td>\n",
       "      <td>31+2</td>\n",
       "      <td>31+2</td>\n",
       "      <td>...</td>\n",
       "      <td>42+2</td>\n",
       "      <td>41+2</td>\n",
       "      <td>41+2</td>\n",
       "      <td>41+2</td>\n",
       "      <td>42+2</td>\n",
       "      <td>44+2</td>\n",
       "      <td>46+2</td>\n",
       "      <td>46+2</td>\n",
       "      <td>46+2</td>\n",
       "      <td>44+2</td>\n",
       "    </tr>\n",
       "    <tr>\n",
       "      <th>18180</th>\n",
       "      <td>NaN</td>\n",
       "      <td>NaN</td>\n",
       "      <td>NaN</td>\n",
       "      <td>NaN</td>\n",
       "      <td>NaN</td>\n",
       "      <td>NaN</td>\n",
       "      <td>NaN</td>\n",
       "      <td>NaN</td>\n",
       "      <td>NaN</td>\n",
       "      <td>NaN</td>\n",
       "      <td>...</td>\n",
       "      <td>NaN</td>\n",
       "      <td>NaN</td>\n",
       "      <td>NaN</td>\n",
       "      <td>NaN</td>\n",
       "      <td>NaN</td>\n",
       "      <td>NaN</td>\n",
       "      <td>NaN</td>\n",
       "      <td>NaN</td>\n",
       "      <td>NaN</td>\n",
       "      <td>NaN</td>\n",
       "    </tr>\n",
       "    <tr>\n",
       "      <th>18181</th>\n",
       "      <td>44+2</td>\n",
       "      <td>44+2</td>\n",
       "      <td>44+2</td>\n",
       "      <td>44+2</td>\n",
       "      <td>43+2</td>\n",
       "      <td>43+2</td>\n",
       "      <td>43+2</td>\n",
       "      <td>44+2</td>\n",
       "      <td>42+2</td>\n",
       "      <td>42+2</td>\n",
       "      <td>...</td>\n",
       "      <td>47+2</td>\n",
       "      <td>43+2</td>\n",
       "      <td>43+2</td>\n",
       "      <td>43+2</td>\n",
       "      <td>47+2</td>\n",
       "      <td>47+2</td>\n",
       "      <td>46+2</td>\n",
       "      <td>46+2</td>\n",
       "      <td>46+2</td>\n",
       "      <td>47+2</td>\n",
       "    </tr>\n",
       "    <tr>\n",
       "      <th>18182</th>\n",
       "      <td>40+2</td>\n",
       "      <td>40+2</td>\n",
       "      <td>40+2</td>\n",
       "      <td>42+2</td>\n",
       "      <td>41+2</td>\n",
       "      <td>41+2</td>\n",
       "      <td>41+2</td>\n",
       "      <td>42+2</td>\n",
       "      <td>43+2</td>\n",
       "      <td>43+2</td>\n",
       "      <td>...</td>\n",
       "      <td>47+2</td>\n",
       "      <td>47+2</td>\n",
       "      <td>47+2</td>\n",
       "      <td>47+2</td>\n",
       "      <td>47+2</td>\n",
       "      <td>47+2</td>\n",
       "      <td>46+2</td>\n",
       "      <td>46+2</td>\n",
       "      <td>46+2</td>\n",
       "      <td>47+2</td>\n",
       "    </tr>\n",
       "    <tr>\n",
       "      <th>18183</th>\n",
       "      <td>NaN</td>\n",
       "      <td>NaN</td>\n",
       "      <td>NaN</td>\n",
       "      <td>NaN</td>\n",
       "      <td>NaN</td>\n",
       "      <td>NaN</td>\n",
       "      <td>NaN</td>\n",
       "      <td>NaN</td>\n",
       "      <td>NaN</td>\n",
       "      <td>NaN</td>\n",
       "      <td>...</td>\n",
       "      <td>NaN</td>\n",
       "      <td>NaN</td>\n",
       "      <td>NaN</td>\n",
       "      <td>NaN</td>\n",
       "      <td>NaN</td>\n",
       "      <td>NaN</td>\n",
       "      <td>NaN</td>\n",
       "      <td>NaN</td>\n",
       "      <td>NaN</td>\n",
       "      <td>NaN</td>\n",
       "    </tr>\n",
       "    <tr>\n",
       "      <th>18184</th>\n",
       "      <td>41+2</td>\n",
       "      <td>41+2</td>\n",
       "      <td>41+2</td>\n",
       "      <td>43+2</td>\n",
       "      <td>43+2</td>\n",
       "      <td>43+2</td>\n",
       "      <td>43+2</td>\n",
       "      <td>43+2</td>\n",
       "      <td>45+2</td>\n",
       "      <td>45+2</td>\n",
       "      <td>...</td>\n",
       "      <td>49+2</td>\n",
       "      <td>50+2</td>\n",
       "      <td>50+2</td>\n",
       "      <td>50+2</td>\n",
       "      <td>49+2</td>\n",
       "      <td>49+2</td>\n",
       "      <td>50+2</td>\n",
       "      <td>50+2</td>\n",
       "      <td>50+2</td>\n",
       "      <td>49+2</td>\n",
       "    </tr>\n",
       "    <tr>\n",
       "      <th>18185</th>\n",
       "      <td>43+2</td>\n",
       "      <td>43+2</td>\n",
       "      <td>43+2</td>\n",
       "      <td>44+2</td>\n",
       "      <td>44+2</td>\n",
       "      <td>44+2</td>\n",
       "      <td>44+2</td>\n",
       "      <td>44+2</td>\n",
       "      <td>45+2</td>\n",
       "      <td>45+2</td>\n",
       "      <td>...</td>\n",
       "      <td>47+2</td>\n",
       "      <td>47+2</td>\n",
       "      <td>47+2</td>\n",
       "      <td>47+2</td>\n",
       "      <td>47+2</td>\n",
       "      <td>47+2</td>\n",
       "      <td>45+2</td>\n",
       "      <td>45+2</td>\n",
       "      <td>45+2</td>\n",
       "      <td>47+2</td>\n",
       "    </tr>\n",
       "    <tr>\n",
       "      <th>18186</th>\n",
       "      <td>43+2</td>\n",
       "      <td>43+2</td>\n",
       "      <td>43+2</td>\n",
       "      <td>46+2</td>\n",
       "      <td>44+2</td>\n",
       "      <td>44+2</td>\n",
       "      <td>44+2</td>\n",
       "      <td>46+2</td>\n",
       "      <td>47+2</td>\n",
       "      <td>47+2</td>\n",
       "      <td>...</td>\n",
       "      <td>48+2</td>\n",
       "      <td>48+2</td>\n",
       "      <td>48+2</td>\n",
       "      <td>48+2</td>\n",
       "      <td>48+2</td>\n",
       "      <td>48+2</td>\n",
       "      <td>49+2</td>\n",
       "      <td>49+2</td>\n",
       "      <td>49+2</td>\n",
       "      <td>48+2</td>\n",
       "    </tr>\n",
       "    <tr>\n",
       "      <th>18187</th>\n",
       "      <td>46+2</td>\n",
       "      <td>46+2</td>\n",
       "      <td>46+2</td>\n",
       "      <td>47+2</td>\n",
       "      <td>46+2</td>\n",
       "      <td>46+2</td>\n",
       "      <td>46+2</td>\n",
       "      <td>47+2</td>\n",
       "      <td>45+2</td>\n",
       "      <td>45+2</td>\n",
       "      <td>...</td>\n",
       "      <td>46+2</td>\n",
       "      <td>41+2</td>\n",
       "      <td>41+2</td>\n",
       "      <td>41+2</td>\n",
       "      <td>46+2</td>\n",
       "      <td>45+2</td>\n",
       "      <td>44+2</td>\n",
       "      <td>44+2</td>\n",
       "      <td>44+2</td>\n",
       "      <td>45+2</td>\n",
       "    </tr>\n",
       "    <tr>\n",
       "      <th>18188</th>\n",
       "      <td>45+2</td>\n",
       "      <td>45+2</td>\n",
       "      <td>45+2</td>\n",
       "      <td>49+2</td>\n",
       "      <td>48+2</td>\n",
       "      <td>48+2</td>\n",
       "      <td>48+2</td>\n",
       "      <td>49+2</td>\n",
       "      <td>48+2</td>\n",
       "      <td>48+2</td>\n",
       "      <td>...</td>\n",
       "      <td>44+2</td>\n",
       "      <td>41+2</td>\n",
       "      <td>41+2</td>\n",
       "      <td>41+2</td>\n",
       "      <td>44+2</td>\n",
       "      <td>43+2</td>\n",
       "      <td>39+2</td>\n",
       "      <td>39+2</td>\n",
       "      <td>39+2</td>\n",
       "      <td>43+2</td>\n",
       "    </tr>\n",
       "    <tr>\n",
       "      <th>18189</th>\n",
       "      <td>45+2</td>\n",
       "      <td>45+2</td>\n",
       "      <td>45+2</td>\n",
       "      <td>48+2</td>\n",
       "      <td>46+2</td>\n",
       "      <td>46+2</td>\n",
       "      <td>46+2</td>\n",
       "      <td>48+2</td>\n",
       "      <td>46+2</td>\n",
       "      <td>46+2</td>\n",
       "      <td>...</td>\n",
       "      <td>38+2</td>\n",
       "      <td>34+2</td>\n",
       "      <td>34+2</td>\n",
       "      <td>34+2</td>\n",
       "      <td>38+2</td>\n",
       "      <td>36+2</td>\n",
       "      <td>32+2</td>\n",
       "      <td>32+2</td>\n",
       "      <td>32+2</td>\n",
       "      <td>36+2</td>\n",
       "    </tr>\n",
       "    <tr>\n",
       "      <th>18190</th>\n",
       "      <td>42+2</td>\n",
       "      <td>42+2</td>\n",
       "      <td>42+2</td>\n",
       "      <td>42+2</td>\n",
       "      <td>44+2</td>\n",
       "      <td>44+2</td>\n",
       "      <td>44+2</td>\n",
       "      <td>42+2</td>\n",
       "      <td>44+2</td>\n",
       "      <td>44+2</td>\n",
       "      <td>...</td>\n",
       "      <td>44+2</td>\n",
       "      <td>45+2</td>\n",
       "      <td>45+2</td>\n",
       "      <td>45+2</td>\n",
       "      <td>44+2</td>\n",
       "      <td>45+2</td>\n",
       "      <td>44+2</td>\n",
       "      <td>44+2</td>\n",
       "      <td>44+2</td>\n",
       "      <td>45+2</td>\n",
       "    </tr>\n",
       "    <tr>\n",
       "      <th>18191</th>\n",
       "      <td>39+2</td>\n",
       "      <td>39+2</td>\n",
       "      <td>39+2</td>\n",
       "      <td>43+2</td>\n",
       "      <td>40+2</td>\n",
       "      <td>40+2</td>\n",
       "      <td>40+2</td>\n",
       "      <td>43+2</td>\n",
       "      <td>41+2</td>\n",
       "      <td>41+2</td>\n",
       "      <td>...</td>\n",
       "      <td>45+2</td>\n",
       "      <td>44+2</td>\n",
       "      <td>44+2</td>\n",
       "      <td>44+2</td>\n",
       "      <td>45+2</td>\n",
       "      <td>45+2</td>\n",
       "      <td>47+2</td>\n",
       "      <td>47+2</td>\n",
       "      <td>47+2</td>\n",
       "      <td>45+2</td>\n",
       "    </tr>\n",
       "    <tr>\n",
       "      <th>18192</th>\n",
       "      <td>44+2</td>\n",
       "      <td>44+2</td>\n",
       "      <td>44+2</td>\n",
       "      <td>45+2</td>\n",
       "      <td>44+2</td>\n",
       "      <td>44+2</td>\n",
       "      <td>44+2</td>\n",
       "      <td>45+2</td>\n",
       "      <td>45+2</td>\n",
       "      <td>45+2</td>\n",
       "      <td>...</td>\n",
       "      <td>46+2</td>\n",
       "      <td>46+2</td>\n",
       "      <td>46+2</td>\n",
       "      <td>46+2</td>\n",
       "      <td>46+2</td>\n",
       "      <td>47+2</td>\n",
       "      <td>47+2</td>\n",
       "      <td>47+2</td>\n",
       "      <td>47+2</td>\n",
       "      <td>47+2</td>\n",
       "    </tr>\n",
       "    <tr>\n",
       "      <th>18193</th>\n",
       "      <td>35+2</td>\n",
       "      <td>35+2</td>\n",
       "      <td>35+2</td>\n",
       "      <td>38+2</td>\n",
       "      <td>36+2</td>\n",
       "      <td>36+2</td>\n",
       "      <td>36+2</td>\n",
       "      <td>38+2</td>\n",
       "      <td>35+2</td>\n",
       "      <td>35+2</td>\n",
       "      <td>...</td>\n",
       "      <td>44+2</td>\n",
       "      <td>39+2</td>\n",
       "      <td>39+2</td>\n",
       "      <td>39+2</td>\n",
       "      <td>44+2</td>\n",
       "      <td>45+2</td>\n",
       "      <td>44+2</td>\n",
       "      <td>44+2</td>\n",
       "      <td>44+2</td>\n",
       "      <td>45+2</td>\n",
       "    </tr>\n",
       "    <tr>\n",
       "      <th>18194</th>\n",
       "      <td>NaN</td>\n",
       "      <td>NaN</td>\n",
       "      <td>NaN</td>\n",
       "      <td>NaN</td>\n",
       "      <td>NaN</td>\n",
       "      <td>NaN</td>\n",
       "      <td>NaN</td>\n",
       "      <td>NaN</td>\n",
       "      <td>NaN</td>\n",
       "      <td>NaN</td>\n",
       "      <td>...</td>\n",
       "      <td>NaN</td>\n",
       "      <td>NaN</td>\n",
       "      <td>NaN</td>\n",
       "      <td>NaN</td>\n",
       "      <td>NaN</td>\n",
       "      <td>NaN</td>\n",
       "      <td>NaN</td>\n",
       "      <td>NaN</td>\n",
       "      <td>NaN</td>\n",
       "      <td>NaN</td>\n",
       "    </tr>\n",
       "    <tr>\n",
       "      <th>18195</th>\n",
       "      <td>44+2</td>\n",
       "      <td>44+2</td>\n",
       "      <td>44+2</td>\n",
       "      <td>44+2</td>\n",
       "      <td>44+2</td>\n",
       "      <td>44+2</td>\n",
       "      <td>44+2</td>\n",
       "      <td>44+2</td>\n",
       "      <td>45+2</td>\n",
       "      <td>45+2</td>\n",
       "      <td>...</td>\n",
       "      <td>45+2</td>\n",
       "      <td>45+2</td>\n",
       "      <td>45+2</td>\n",
       "      <td>45+2</td>\n",
       "      <td>45+2</td>\n",
       "      <td>45+2</td>\n",
       "      <td>44+2</td>\n",
       "      <td>44+2</td>\n",
       "      <td>44+2</td>\n",
       "      <td>45+2</td>\n",
       "    </tr>\n",
       "    <tr>\n",
       "      <th>18196</th>\n",
       "      <td>40+2</td>\n",
       "      <td>40+2</td>\n",
       "      <td>40+2</td>\n",
       "      <td>43+2</td>\n",
       "      <td>43+2</td>\n",
       "      <td>43+2</td>\n",
       "      <td>43+2</td>\n",
       "      <td>43+2</td>\n",
       "      <td>45+2</td>\n",
       "      <td>45+2</td>\n",
       "      <td>...</td>\n",
       "      <td>45+2</td>\n",
       "      <td>47+2</td>\n",
       "      <td>47+2</td>\n",
       "      <td>47+2</td>\n",
       "      <td>45+2</td>\n",
       "      <td>46+2</td>\n",
       "      <td>47+2</td>\n",
       "      <td>47+2</td>\n",
       "      <td>47+2</td>\n",
       "      <td>46+2</td>\n",
       "    </tr>\n",
       "    <tr>\n",
       "      <th>18197</th>\n",
       "      <td>45+2</td>\n",
       "      <td>45+2</td>\n",
       "      <td>45+2</td>\n",
       "      <td>49+2</td>\n",
       "      <td>48+2</td>\n",
       "      <td>48+2</td>\n",
       "      <td>48+2</td>\n",
       "      <td>49+2</td>\n",
       "      <td>49+2</td>\n",
       "      <td>49+2</td>\n",
       "      <td>...</td>\n",
       "      <td>45+2</td>\n",
       "      <td>44+2</td>\n",
       "      <td>44+2</td>\n",
       "      <td>44+2</td>\n",
       "      <td>45+2</td>\n",
       "      <td>44+2</td>\n",
       "      <td>40+2</td>\n",
       "      <td>40+2</td>\n",
       "      <td>40+2</td>\n",
       "      <td>44+2</td>\n",
       "    </tr>\n",
       "    <tr>\n",
       "      <th>18198</th>\n",
       "      <td>NaN</td>\n",
       "      <td>NaN</td>\n",
       "      <td>NaN</td>\n",
       "      <td>NaN</td>\n",
       "      <td>NaN</td>\n",
       "      <td>NaN</td>\n",
       "      <td>NaN</td>\n",
       "      <td>NaN</td>\n",
       "      <td>NaN</td>\n",
       "      <td>NaN</td>\n",
       "      <td>...</td>\n",
       "      <td>NaN</td>\n",
       "      <td>NaN</td>\n",
       "      <td>NaN</td>\n",
       "      <td>NaN</td>\n",
       "      <td>NaN</td>\n",
       "      <td>NaN</td>\n",
       "      <td>NaN</td>\n",
       "      <td>NaN</td>\n",
       "      <td>NaN</td>\n",
       "      <td>NaN</td>\n",
       "    </tr>\n",
       "    <tr>\n",
       "      <th>18199</th>\n",
       "      <td>42+2</td>\n",
       "      <td>42+2</td>\n",
       "      <td>42+2</td>\n",
       "      <td>43+2</td>\n",
       "      <td>44+2</td>\n",
       "      <td>44+2</td>\n",
       "      <td>44+2</td>\n",
       "      <td>43+2</td>\n",
       "      <td>44+2</td>\n",
       "      <td>44+2</td>\n",
       "      <td>...</td>\n",
       "      <td>47+2</td>\n",
       "      <td>48+2</td>\n",
       "      <td>48+2</td>\n",
       "      <td>48+2</td>\n",
       "      <td>47+2</td>\n",
       "      <td>47+2</td>\n",
       "      <td>48+2</td>\n",
       "      <td>48+2</td>\n",
       "      <td>48+2</td>\n",
       "      <td>47+2</td>\n",
       "    </tr>\n",
       "    <tr>\n",
       "      <th>18200</th>\n",
       "      <td>45+2</td>\n",
       "      <td>45+2</td>\n",
       "      <td>45+2</td>\n",
       "      <td>44+2</td>\n",
       "      <td>45+2</td>\n",
       "      <td>45+2</td>\n",
       "      <td>45+2</td>\n",
       "      <td>44+2</td>\n",
       "      <td>44+2</td>\n",
       "      <td>44+2</td>\n",
       "      <td>...</td>\n",
       "      <td>31+2</td>\n",
       "      <td>28+2</td>\n",
       "      <td>28+2</td>\n",
       "      <td>28+2</td>\n",
       "      <td>31+2</td>\n",
       "      <td>30+2</td>\n",
       "      <td>27+2</td>\n",
       "      <td>27+2</td>\n",
       "      <td>27+2</td>\n",
       "      <td>30+2</td>\n",
       "    </tr>\n",
       "    <tr>\n",
       "      <th>18201</th>\n",
       "      <td>32+2</td>\n",
       "      <td>32+2</td>\n",
       "      <td>32+2</td>\n",
       "      <td>29+2</td>\n",
       "      <td>30+2</td>\n",
       "      <td>30+2</td>\n",
       "      <td>30+2</td>\n",
       "      <td>29+2</td>\n",
       "      <td>28+2</td>\n",
       "      <td>28+2</td>\n",
       "      <td>...</td>\n",
       "      <td>39+2</td>\n",
       "      <td>38+2</td>\n",
       "      <td>38+2</td>\n",
       "      <td>38+2</td>\n",
       "      <td>39+2</td>\n",
       "      <td>42+2</td>\n",
       "      <td>46+2</td>\n",
       "      <td>46+2</td>\n",
       "      <td>46+2</td>\n",
       "      <td>42+2</td>\n",
       "    </tr>\n",
       "    <tr>\n",
       "      <th>18202</th>\n",
       "      <td>42+2</td>\n",
       "      <td>42+2</td>\n",
       "      <td>42+2</td>\n",
       "      <td>44+2</td>\n",
       "      <td>44+2</td>\n",
       "      <td>44+2</td>\n",
       "      <td>44+2</td>\n",
       "      <td>44+2</td>\n",
       "      <td>45+2</td>\n",
       "      <td>45+2</td>\n",
       "      <td>...</td>\n",
       "      <td>44+2</td>\n",
       "      <td>45+2</td>\n",
       "      <td>45+2</td>\n",
       "      <td>45+2</td>\n",
       "      <td>44+2</td>\n",
       "      <td>45+2</td>\n",
       "      <td>45+2</td>\n",
       "      <td>45+2</td>\n",
       "      <td>45+2</td>\n",
       "      <td>45+2</td>\n",
       "    </tr>\n",
       "    <tr>\n",
       "      <th>18203</th>\n",
       "      <td>45+2</td>\n",
       "      <td>45+2</td>\n",
       "      <td>45+2</td>\n",
       "      <td>39+2</td>\n",
       "      <td>42+2</td>\n",
       "      <td>42+2</td>\n",
       "      <td>42+2</td>\n",
       "      <td>39+2</td>\n",
       "      <td>40+2</td>\n",
       "      <td>40+2</td>\n",
       "      <td>...</td>\n",
       "      <td>30+2</td>\n",
       "      <td>31+2</td>\n",
       "      <td>31+2</td>\n",
       "      <td>31+2</td>\n",
       "      <td>30+2</td>\n",
       "      <td>29+2</td>\n",
       "      <td>32+2</td>\n",
       "      <td>32+2</td>\n",
       "      <td>32+2</td>\n",
       "      <td>29+2</td>\n",
       "    </tr>\n",
       "    <tr>\n",
       "      <th>18204</th>\n",
       "      <td>45+2</td>\n",
       "      <td>45+2</td>\n",
       "      <td>45+2</td>\n",
       "      <td>45+2</td>\n",
       "      <td>46+2</td>\n",
       "      <td>46+2</td>\n",
       "      <td>46+2</td>\n",
       "      <td>45+2</td>\n",
       "      <td>44+2</td>\n",
       "      <td>44+2</td>\n",
       "      <td>...</td>\n",
       "      <td>34+2</td>\n",
       "      <td>30+2</td>\n",
       "      <td>30+2</td>\n",
       "      <td>30+2</td>\n",
       "      <td>34+2</td>\n",
       "      <td>33+2</td>\n",
       "      <td>28+2</td>\n",
       "      <td>28+2</td>\n",
       "      <td>28+2</td>\n",
       "      <td>33+2</td>\n",
       "    </tr>\n",
       "    <tr>\n",
       "      <th>18205</th>\n",
       "      <td>47+2</td>\n",
       "      <td>47+2</td>\n",
       "      <td>47+2</td>\n",
       "      <td>47+2</td>\n",
       "      <td>46+2</td>\n",
       "      <td>46+2</td>\n",
       "      <td>46+2</td>\n",
       "      <td>47+2</td>\n",
       "      <td>45+2</td>\n",
       "      <td>45+2</td>\n",
       "      <td>...</td>\n",
       "      <td>36+2</td>\n",
       "      <td>32+2</td>\n",
       "      <td>32+2</td>\n",
       "      <td>32+2</td>\n",
       "      <td>36+2</td>\n",
       "      <td>35+2</td>\n",
       "      <td>31+2</td>\n",
       "      <td>31+2</td>\n",
       "      <td>31+2</td>\n",
       "      <td>35+2</td>\n",
       "    </tr>\n",
       "    <tr>\n",
       "      <th>18206</th>\n",
       "      <td>43+2</td>\n",
       "      <td>43+2</td>\n",
       "      <td>43+2</td>\n",
       "      <td>45+2</td>\n",
       "      <td>44+2</td>\n",
       "      <td>44+2</td>\n",
       "      <td>44+2</td>\n",
       "      <td>45+2</td>\n",
       "      <td>45+2</td>\n",
       "      <td>45+2</td>\n",
       "      <td>...</td>\n",
       "      <td>46+2</td>\n",
       "      <td>46+2</td>\n",
       "      <td>46+2</td>\n",
       "      <td>46+2</td>\n",
       "      <td>46+2</td>\n",
       "      <td>46+2</td>\n",
       "      <td>47+2</td>\n",
       "      <td>47+2</td>\n",
       "      <td>47+2</td>\n",
       "      <td>46+2</td>\n",
       "    </tr>\n",
       "  </tbody>\n",
       "</table>\n",
       "<p>18159 rows × 26 columns</p>\n",
       "</div>"
      ],
      "text/plain": [
       "         LS    ST    RS    LW    LF    CF    RF    RW   LAM   CAM  ...    LWB  \\\n",
       "0      88+2  88+2  88+2  92+2  93+2  93+2  93+2  92+2  93+2  93+2  ...   64+2   \n",
       "1      91+3  91+3  91+3  89+3  90+3  90+3  90+3  89+3  88+3  88+3  ...   65+3   \n",
       "2      84+3  84+3  84+3  89+3  89+3  89+3  89+3  89+3  89+3  89+3  ...   65+3   \n",
       "3       NaN   NaN   NaN   NaN   NaN   NaN   NaN   NaN   NaN   NaN  ...    NaN   \n",
       "4      82+3  82+3  82+3  87+3  87+3  87+3  87+3  87+3  88+3  88+3  ...   77+3   \n",
       "5      83+3  83+3  83+3  89+3  88+3  88+3  88+3  89+3  89+3  89+3  ...   66+3   \n",
       "6      77+3  77+3  77+3  85+3  84+3  84+3  84+3  85+3  87+3  87+3  ...   82+3   \n",
       "7      87+5  87+5  87+5  86+5  87+5  87+5  87+5  86+5  85+5  85+5  ...   69+5   \n",
       "8      73+3  73+3  73+3  70+3  71+3  71+3  71+3  70+3  71+3  71+3  ...   81+3   \n",
       "9       NaN   NaN   NaN   NaN   NaN   NaN   NaN   NaN   NaN   NaN  ...    NaN   \n",
       "10     87+3  87+3  87+3  83+3  86+3  86+3  86+3  83+3  83+3  83+3  ...   61+3   \n",
       "11     78+3  78+3  78+3  81+3  82+3  82+3  82+3  81+3  84+3  84+3  ...   79+3   \n",
       "12     64+3  64+3  64+3  61+3  62+3  62+3  62+3  61+3  62+3  62+3  ...   76+3   \n",
       "13     77+3  77+3  77+3  85+3  84+3  84+3  84+3  85+3  87+3  87+3  ...   69+3   \n",
       "14     72+3  72+3  72+3  77+3  77+3  77+3  77+3  77+3  79+3  79+3  ...   85+3   \n",
       "15     83+3  83+3  83+3  87+3  86+3  86+3  86+3  87+3  87+3  87+3  ...   62+3   \n",
       "16     86+3  86+3  86+3  82+3  84+3  84+3  84+3  82+3  82+3  82+3  ...   65+3   \n",
       "17     86+3  86+3  86+3  87+3  87+3  87+3  87+3  87+3  86+3  86+3  ...   70+3   \n",
       "18      NaN   NaN   NaN   NaN   NaN   NaN   NaN   NaN   NaN   NaN  ...    NaN   \n",
       "19      NaN   NaN   NaN   NaN   NaN   NaN   NaN   NaN   NaN   NaN  ...    NaN   \n",
       "20     71+3  71+3  71+3  74+3  76+3  76+3  76+3  74+3  79+3  79+3  ...   79+3   \n",
       "21     85+3  85+3  85+3  81+3  83+3  83+3  83+3  81+3  80+3  80+3  ...   67+3   \n",
       "22      NaN   NaN   NaN   NaN   NaN   NaN   NaN   NaN   NaN   NaN  ...    NaN   \n",
       "23     86+3  86+3  86+3  86+3  87+3  87+3  87+3  86+3  85+3  85+3  ...   58+3   \n",
       "24     58+3  58+3  58+3  54+3  55+3  55+3  55+3  54+3  54+3  54+3  ...   74+3   \n",
       "25     85+3  85+3  85+3  87+3  87+3  87+3  87+3  87+3  86+3  86+3  ...   66+3   \n",
       "26     83+3  83+3  83+3  87+3  86+3  86+3  86+3  87+3  86+3  86+3  ...   70+3   \n",
       "27     72+3  72+3  72+3  69+3  73+3  73+3  73+3  69+3  74+3  74+3  ...   78+3   \n",
       "28     80+3  80+3  80+3  84+3  83+3  83+3  83+3  84+3  85+3  85+3  ...   69+3   \n",
       "29     78+3  78+3  78+3  86+3  85+3  85+3  85+3  86+3  86+3  86+3  ...   63+3   \n",
       "...     ...   ...   ...   ...   ...   ...   ...   ...   ...   ...  ...    ...   \n",
       "18177  47+2  47+2  47+2  45+2  46+2  46+2  46+2  45+2  44+2  44+2  ...   32+2   \n",
       "18178   NaN   NaN   NaN   NaN   NaN   NaN   NaN   NaN   NaN   NaN  ...    NaN   \n",
       "18179  34+2  34+2  34+2  32+2  32+2  32+2  32+2  32+2  31+2  31+2  ...   42+2   \n",
       "18180   NaN   NaN   NaN   NaN   NaN   NaN   NaN   NaN   NaN   NaN  ...    NaN   \n",
       "18181  44+2  44+2  44+2  44+2  43+2  43+2  43+2  44+2  42+2  42+2  ...   47+2   \n",
       "18182  40+2  40+2  40+2  42+2  41+2  41+2  41+2  42+2  43+2  43+2  ...   47+2   \n",
       "18183   NaN   NaN   NaN   NaN   NaN   NaN   NaN   NaN   NaN   NaN  ...    NaN   \n",
       "18184  41+2  41+2  41+2  43+2  43+2  43+2  43+2  43+2  45+2  45+2  ...   49+2   \n",
       "18185  43+2  43+2  43+2  44+2  44+2  44+2  44+2  44+2  45+2  45+2  ...   47+2   \n",
       "18186  43+2  43+2  43+2  46+2  44+2  44+2  44+2  46+2  47+2  47+2  ...   48+2   \n",
       "18187  46+2  46+2  46+2  47+2  46+2  46+2  46+2  47+2  45+2  45+2  ...   46+2   \n",
       "18188  45+2  45+2  45+2  49+2  48+2  48+2  48+2  49+2  48+2  48+2  ...   44+2   \n",
       "18189  45+2  45+2  45+2  48+2  46+2  46+2  46+2  48+2  46+2  46+2  ...   38+2   \n",
       "18190  42+2  42+2  42+2  42+2  44+2  44+2  44+2  42+2  44+2  44+2  ...   44+2   \n",
       "18191  39+2  39+2  39+2  43+2  40+2  40+2  40+2  43+2  41+2  41+2  ...   45+2   \n",
       "18192  44+2  44+2  44+2  45+2  44+2  44+2  44+2  45+2  45+2  45+2  ...   46+2   \n",
       "18193  35+2  35+2  35+2  38+2  36+2  36+2  36+2  38+2  35+2  35+2  ...   44+2   \n",
       "18194   NaN   NaN   NaN   NaN   NaN   NaN   NaN   NaN   NaN   NaN  ...    NaN   \n",
       "18195  44+2  44+2  44+2  44+2  44+2  44+2  44+2  44+2  45+2  45+2  ...   45+2   \n",
       "18196  40+2  40+2  40+2  43+2  43+2  43+2  43+2  43+2  45+2  45+2  ...   45+2   \n",
       "18197  45+2  45+2  45+2  49+2  48+2  48+2  48+2  49+2  49+2  49+2  ...   45+2   \n",
       "18198   NaN   NaN   NaN   NaN   NaN   NaN   NaN   NaN   NaN   NaN  ...    NaN   \n",
       "18199  42+2  42+2  42+2  43+2  44+2  44+2  44+2  43+2  44+2  44+2  ...   47+2   \n",
       "18200  45+2  45+2  45+2  44+2  45+2  45+2  45+2  44+2  44+2  44+2  ...   31+2   \n",
       "18201  32+2  32+2  32+2  29+2  30+2  30+2  30+2  29+2  28+2  28+2  ...   39+2   \n",
       "18202  42+2  42+2  42+2  44+2  44+2  44+2  44+2  44+2  45+2  45+2  ...   44+2   \n",
       "18203  45+2  45+2  45+2  39+2  42+2  42+2  42+2  39+2  40+2  40+2  ...   30+2   \n",
       "18204  45+2  45+2  45+2  45+2  46+2  46+2  46+2  45+2  44+2  44+2  ...   34+2   \n",
       "18205  47+2  47+2  47+2  47+2  46+2  46+2  46+2  47+2  45+2  45+2  ...   36+2   \n",
       "18206  43+2  43+2  43+2  45+2  44+2  44+2  44+2  45+2  45+2  45+2  ...   46+2   \n",
       "\n",
       "        LDM   CDM   RDM   RWB    LB   LCB    CB   RCB    RB  \n",
       "0      61+2  61+2  61+2  64+2  59+2  47+2  47+2  47+2  59+2  \n",
       "1      61+3  61+3  61+3  65+3  61+3  53+3  53+3  53+3  61+3  \n",
       "2      60+3  60+3  60+3  65+3  60+3  47+3  47+3  47+3  60+3  \n",
       "3       NaN   NaN   NaN   NaN   NaN   NaN   NaN   NaN   NaN  \n",
       "4      77+3  77+3  77+3  77+3  73+3  66+3  66+3  66+3  73+3  \n",
       "5      63+3  63+3  63+3  66+3  60+3  49+3  49+3  49+3  60+3  \n",
       "6      81+3  81+3  81+3  82+3  79+3  71+3  71+3  71+3  79+3  \n",
       "7      68+5  68+5  68+5  69+5  66+5  63+5  63+5  63+5  66+5  \n",
       "8      84+3  84+3  84+3  81+3  84+3  87+3  87+3  87+3  84+3  \n",
       "9       NaN   NaN   NaN   NaN   NaN   NaN   NaN   NaN   NaN  \n",
       "10     62+3  62+3  62+3  61+3  58+3  57+3  57+3  57+3  58+3  \n",
       "11     82+3  82+3  82+3  79+3  77+3  72+3  72+3  72+3  77+3  \n",
       "12     81+3  81+3  81+3  76+3  79+3  87+3  87+3  87+3  79+3  \n",
       "13     70+3  70+3  70+3  69+3  64+3  57+3  57+3  57+3  64+3  \n",
       "14     87+3  87+3  87+3  85+3  84+3  83+3  83+3  83+3  84+3  \n",
       "15     58+3  58+3  58+3  62+3  56+3  45+3  45+3  45+3  56+3  \n",
       "16     66+3  66+3  66+3  65+3  62+3  60+3  60+3  60+3  62+3  \n",
       "17     67+3  67+3  67+3  70+3  67+3  61+3  61+3  61+3  67+3  \n",
       "18      NaN   NaN   NaN   NaN   NaN   NaN   NaN   NaN   NaN  \n",
       "19      NaN   NaN   NaN   NaN   NaN   NaN   NaN   NaN   NaN  \n",
       "20     86+3  86+3  86+3  79+3  78+3  82+3  82+3  82+3  78+3  \n",
       "21     65+3  65+3  65+3  67+3  65+3  63+3  63+3  63+3  65+3  \n",
       "22      NaN   NaN   NaN   NaN   NaN   NaN   NaN   NaN   NaN  \n",
       "23     56+3  56+3  56+3  58+3  53+3  47+3  47+3  47+3  53+3  \n",
       "24     76+3  76+3  76+3  74+3  77+3  86+3  86+3  86+3  77+3  \n",
       "25     62+3  62+3  62+3  66+3  62+3  54+3  54+3  54+3  62+3  \n",
       "26     66+3  66+3  66+3  70+3  66+3  57+3  57+3  57+3  66+3  \n",
       "27     85+3  85+3  85+3  78+3  79+3  85+3  85+3  85+3  79+3  \n",
       "28     68+3  68+3  68+3  69+3  65+3  58+3  58+3  58+3  65+3  \n",
       "29     58+3  58+3  58+3  63+3  58+3  44+3  44+3  44+3  58+3  \n",
       "...     ...   ...   ...   ...   ...   ...   ...   ...   ...  \n",
       "18177  29+2  29+2  29+2  32+2  31+2  27+2  27+2  27+2  31+2  \n",
       "18178   NaN   NaN   NaN   NaN   NaN   NaN   NaN   NaN   NaN  \n",
       "18179  41+2  41+2  41+2  42+2  44+2  46+2  46+2  46+2  44+2  \n",
       "18180   NaN   NaN   NaN   NaN   NaN   NaN   NaN   NaN   NaN  \n",
       "18181  43+2  43+2  43+2  47+2  47+2  46+2  46+2  46+2  47+2  \n",
       "18182  47+2  47+2  47+2  47+2  47+2  46+2  46+2  46+2  47+2  \n",
       "18183   NaN   NaN   NaN   NaN   NaN   NaN   NaN   NaN   NaN  \n",
       "18184  50+2  50+2  50+2  49+2  49+2  50+2  50+2  50+2  49+2  \n",
       "18185  47+2  47+2  47+2  47+2  47+2  45+2  45+2  45+2  47+2  \n",
       "18186  48+2  48+2  48+2  48+2  48+2  49+2  49+2  49+2  48+2  \n",
       "18187  41+2  41+2  41+2  46+2  45+2  44+2  44+2  44+2  45+2  \n",
       "18188  41+2  41+2  41+2  44+2  43+2  39+2  39+2  39+2  43+2  \n",
       "18189  34+2  34+2  34+2  38+2  36+2  32+2  32+2  32+2  36+2  \n",
       "18190  45+2  45+2  45+2  44+2  45+2  44+2  44+2  44+2  45+2  \n",
       "18191  44+2  44+2  44+2  45+2  45+2  47+2  47+2  47+2  45+2  \n",
       "18192  46+2  46+2  46+2  46+2  47+2  47+2  47+2  47+2  47+2  \n",
       "18193  39+2  39+2  39+2  44+2  45+2  44+2  44+2  44+2  45+2  \n",
       "18194   NaN   NaN   NaN   NaN   NaN   NaN   NaN   NaN   NaN  \n",
       "18195  45+2  45+2  45+2  45+2  45+2  44+2  44+2  44+2  45+2  \n",
       "18196  47+2  47+2  47+2  45+2  46+2  47+2  47+2  47+2  46+2  \n",
       "18197  44+2  44+2  44+2  45+2  44+2  40+2  40+2  40+2  44+2  \n",
       "18198   NaN   NaN   NaN   NaN   NaN   NaN   NaN   NaN   NaN  \n",
       "18199  48+2  48+2  48+2  47+2  47+2  48+2  48+2  48+2  47+2  \n",
       "18200  28+2  28+2  28+2  31+2  30+2  27+2  27+2  27+2  30+2  \n",
       "18201  38+2  38+2  38+2  39+2  42+2  46+2  46+2  46+2  42+2  \n",
       "18202  45+2  45+2  45+2  44+2  45+2  45+2  45+2  45+2  45+2  \n",
       "18203  31+2  31+2  31+2  30+2  29+2  32+2  32+2  32+2  29+2  \n",
       "18204  30+2  30+2  30+2  34+2  33+2  28+2  28+2  28+2  33+2  \n",
       "18205  32+2  32+2  32+2  36+2  35+2  31+2  31+2  31+2  35+2  \n",
       "18206  46+2  46+2  46+2  46+2  46+2  47+2  47+2  47+2  46+2  \n",
       "\n",
       "[18159 rows x 26 columns]"
      ]
     },
     "execution_count": 807,
     "metadata": {},
     "output_type": "execute_result"
    }
   ],
   "source": [
    "df[position]"
   ]
  },
  {
   "cell_type": "code",
   "execution_count": 808,
   "metadata": {},
   "outputs": [
    {
     "name": "stderr",
     "output_type": "stream",
     "text": [
      "C:\\Users\\abc87\\Anaconda3\\envs\\py3.6\\lib\\site-packages\\ipykernel_launcher.py:5: SettingWithCopyWarning: \n",
      "A value is trying to be set on a copy of a slice from a DataFrame\n",
      "\n",
      "See the caveats in the documentation: http://pandas.pydata.org/pandas-docs/stable/indexing.html#indexing-view-versus-copy\n",
      "  \"\"\"\n"
     ]
    }
   ],
   "source": [
    "# Convert 45+2 into 47 (int64) and handle NaN values\n",
    "for x in position:\n",
    "    n = df[x][~df[x].isnull()].str.split('+')\n",
    "    df[x] = n.str[0].astype('int64') + n.str[1].astype('int64')\n",
    "    df[x][df[x].isnull()] = df[x].median()"
   ]
  },
  {
   "cell_type": "code",
   "execution_count": 809,
   "metadata": {},
   "outputs": [
    {
     "data": {
      "text/html": [
       "<div>\n",
       "<style scoped>\n",
       "    .dataframe tbody tr th:only-of-type {\n",
       "        vertical-align: middle;\n",
       "    }\n",
       "\n",
       "    .dataframe tbody tr th {\n",
       "        vertical-align: top;\n",
       "    }\n",
       "\n",
       "    .dataframe thead th {\n",
       "        text-align: right;\n",
       "    }\n",
       "</style>\n",
       "<table border=\"1\" class=\"dataframe\">\n",
       "  <thead>\n",
       "    <tr style=\"text-align: right;\">\n",
       "      <th></th>\n",
       "      <th>LS</th>\n",
       "      <th>ST</th>\n",
       "      <th>RS</th>\n",
       "      <th>LW</th>\n",
       "      <th>LF</th>\n",
       "      <th>CF</th>\n",
       "      <th>RF</th>\n",
       "      <th>RW</th>\n",
       "      <th>LAM</th>\n",
       "      <th>CAM</th>\n",
       "      <th>...</th>\n",
       "      <th>LWB</th>\n",
       "      <th>LDM</th>\n",
       "      <th>CDM</th>\n",
       "      <th>RDM</th>\n",
       "      <th>RWB</th>\n",
       "      <th>LB</th>\n",
       "      <th>LCB</th>\n",
       "      <th>CB</th>\n",
       "      <th>RCB</th>\n",
       "      <th>RB</th>\n",
       "    </tr>\n",
       "  </thead>\n",
       "  <tbody>\n",
       "    <tr>\n",
       "      <th>0</th>\n",
       "      <td>90.0</td>\n",
       "      <td>90.0</td>\n",
       "      <td>90.0</td>\n",
       "      <td>94.0</td>\n",
       "      <td>95.0</td>\n",
       "      <td>95.0</td>\n",
       "      <td>95.0</td>\n",
       "      <td>94.0</td>\n",
       "      <td>95.0</td>\n",
       "      <td>95.0</td>\n",
       "      <td>...</td>\n",
       "      <td>66.0</td>\n",
       "      <td>63.0</td>\n",
       "      <td>63.0</td>\n",
       "      <td>63.0</td>\n",
       "      <td>66.0</td>\n",
       "      <td>61.0</td>\n",
       "      <td>49.0</td>\n",
       "      <td>49.0</td>\n",
       "      <td>49.0</td>\n",
       "      <td>61.0</td>\n",
       "    </tr>\n",
       "    <tr>\n",
       "      <th>1</th>\n",
       "      <td>94.0</td>\n",
       "      <td>94.0</td>\n",
       "      <td>94.0</td>\n",
       "      <td>92.0</td>\n",
       "      <td>93.0</td>\n",
       "      <td>93.0</td>\n",
       "      <td>93.0</td>\n",
       "      <td>92.0</td>\n",
       "      <td>91.0</td>\n",
       "      <td>91.0</td>\n",
       "      <td>...</td>\n",
       "      <td>68.0</td>\n",
       "      <td>64.0</td>\n",
       "      <td>64.0</td>\n",
       "      <td>64.0</td>\n",
       "      <td>68.0</td>\n",
       "      <td>64.0</td>\n",
       "      <td>56.0</td>\n",
       "      <td>56.0</td>\n",
       "      <td>56.0</td>\n",
       "      <td>64.0</td>\n",
       "    </tr>\n",
       "    <tr>\n",
       "      <th>2</th>\n",
       "      <td>87.0</td>\n",
       "      <td>87.0</td>\n",
       "      <td>87.0</td>\n",
       "      <td>92.0</td>\n",
       "      <td>92.0</td>\n",
       "      <td>92.0</td>\n",
       "      <td>92.0</td>\n",
       "      <td>92.0</td>\n",
       "      <td>92.0</td>\n",
       "      <td>92.0</td>\n",
       "      <td>...</td>\n",
       "      <td>68.0</td>\n",
       "      <td>63.0</td>\n",
       "      <td>63.0</td>\n",
       "      <td>63.0</td>\n",
       "      <td>68.0</td>\n",
       "      <td>63.0</td>\n",
       "      <td>50.0</td>\n",
       "      <td>50.0</td>\n",
       "      <td>50.0</td>\n",
       "      <td>63.0</td>\n",
       "    </tr>\n",
       "    <tr>\n",
       "      <th>3</th>\n",
       "      <td>60.0</td>\n",
       "      <td>60.0</td>\n",
       "      <td>60.0</td>\n",
       "      <td>62.0</td>\n",
       "      <td>62.0</td>\n",
       "      <td>62.0</td>\n",
       "      <td>62.0</td>\n",
       "      <td>62.0</td>\n",
       "      <td>62.0</td>\n",
       "      <td>62.0</td>\n",
       "      <td>...</td>\n",
       "      <td>60.0</td>\n",
       "      <td>60.0</td>\n",
       "      <td>60.0</td>\n",
       "      <td>60.0</td>\n",
       "      <td>60.0</td>\n",
       "      <td>60.0</td>\n",
       "      <td>59.0</td>\n",
       "      <td>59.0</td>\n",
       "      <td>59.0</td>\n",
       "      <td>60.0</td>\n",
       "    </tr>\n",
       "    <tr>\n",
       "      <th>4</th>\n",
       "      <td>85.0</td>\n",
       "      <td>85.0</td>\n",
       "      <td>85.0</td>\n",
       "      <td>90.0</td>\n",
       "      <td>90.0</td>\n",
       "      <td>90.0</td>\n",
       "      <td>90.0</td>\n",
       "      <td>90.0</td>\n",
       "      <td>91.0</td>\n",
       "      <td>91.0</td>\n",
       "      <td>...</td>\n",
       "      <td>80.0</td>\n",
       "      <td>80.0</td>\n",
       "      <td>80.0</td>\n",
       "      <td>80.0</td>\n",
       "      <td>80.0</td>\n",
       "      <td>76.0</td>\n",
       "      <td>69.0</td>\n",
       "      <td>69.0</td>\n",
       "      <td>69.0</td>\n",
       "      <td>76.0</td>\n",
       "    </tr>\n",
       "    <tr>\n",
       "      <th>5</th>\n",
       "      <td>86.0</td>\n",
       "      <td>86.0</td>\n",
       "      <td>86.0</td>\n",
       "      <td>92.0</td>\n",
       "      <td>91.0</td>\n",
       "      <td>91.0</td>\n",
       "      <td>91.0</td>\n",
       "      <td>92.0</td>\n",
       "      <td>92.0</td>\n",
       "      <td>92.0</td>\n",
       "      <td>...</td>\n",
       "      <td>69.0</td>\n",
       "      <td>66.0</td>\n",
       "      <td>66.0</td>\n",
       "      <td>66.0</td>\n",
       "      <td>69.0</td>\n",
       "      <td>63.0</td>\n",
       "      <td>52.0</td>\n",
       "      <td>52.0</td>\n",
       "      <td>52.0</td>\n",
       "      <td>63.0</td>\n",
       "    </tr>\n",
       "    <tr>\n",
       "      <th>6</th>\n",
       "      <td>80.0</td>\n",
       "      <td>80.0</td>\n",
       "      <td>80.0</td>\n",
       "      <td>88.0</td>\n",
       "      <td>87.0</td>\n",
       "      <td>87.0</td>\n",
       "      <td>87.0</td>\n",
       "      <td>88.0</td>\n",
       "      <td>90.0</td>\n",
       "      <td>90.0</td>\n",
       "      <td>...</td>\n",
       "      <td>85.0</td>\n",
       "      <td>84.0</td>\n",
       "      <td>84.0</td>\n",
       "      <td>84.0</td>\n",
       "      <td>85.0</td>\n",
       "      <td>82.0</td>\n",
       "      <td>74.0</td>\n",
       "      <td>74.0</td>\n",
       "      <td>74.0</td>\n",
       "      <td>82.0</td>\n",
       "    </tr>\n",
       "    <tr>\n",
       "      <th>7</th>\n",
       "      <td>92.0</td>\n",
       "      <td>92.0</td>\n",
       "      <td>92.0</td>\n",
       "      <td>91.0</td>\n",
       "      <td>92.0</td>\n",
       "      <td>92.0</td>\n",
       "      <td>92.0</td>\n",
       "      <td>91.0</td>\n",
       "      <td>90.0</td>\n",
       "      <td>90.0</td>\n",
       "      <td>...</td>\n",
       "      <td>74.0</td>\n",
       "      <td>73.0</td>\n",
       "      <td>73.0</td>\n",
       "      <td>73.0</td>\n",
       "      <td>74.0</td>\n",
       "      <td>71.0</td>\n",
       "      <td>68.0</td>\n",
       "      <td>68.0</td>\n",
       "      <td>68.0</td>\n",
       "      <td>71.0</td>\n",
       "    </tr>\n",
       "    <tr>\n",
       "      <th>8</th>\n",
       "      <td>76.0</td>\n",
       "      <td>76.0</td>\n",
       "      <td>76.0</td>\n",
       "      <td>73.0</td>\n",
       "      <td>74.0</td>\n",
       "      <td>74.0</td>\n",
       "      <td>74.0</td>\n",
       "      <td>73.0</td>\n",
       "      <td>74.0</td>\n",
       "      <td>74.0</td>\n",
       "      <td>...</td>\n",
       "      <td>84.0</td>\n",
       "      <td>87.0</td>\n",
       "      <td>87.0</td>\n",
       "      <td>87.0</td>\n",
       "      <td>84.0</td>\n",
       "      <td>87.0</td>\n",
       "      <td>90.0</td>\n",
       "      <td>90.0</td>\n",
       "      <td>90.0</td>\n",
       "      <td>87.0</td>\n",
       "    </tr>\n",
       "    <tr>\n",
       "      <th>9</th>\n",
       "      <td>60.0</td>\n",
       "      <td>60.0</td>\n",
       "      <td>60.0</td>\n",
       "      <td>62.0</td>\n",
       "      <td>62.0</td>\n",
       "      <td>62.0</td>\n",
       "      <td>62.0</td>\n",
       "      <td>62.0</td>\n",
       "      <td>62.0</td>\n",
       "      <td>62.0</td>\n",
       "      <td>...</td>\n",
       "      <td>60.0</td>\n",
       "      <td>60.0</td>\n",
       "      <td>60.0</td>\n",
       "      <td>60.0</td>\n",
       "      <td>60.0</td>\n",
       "      <td>60.0</td>\n",
       "      <td>59.0</td>\n",
       "      <td>59.0</td>\n",
       "      <td>59.0</td>\n",
       "      <td>60.0</td>\n",
       "    </tr>\n",
       "    <tr>\n",
       "      <th>10</th>\n",
       "      <td>90.0</td>\n",
       "      <td>90.0</td>\n",
       "      <td>90.0</td>\n",
       "      <td>86.0</td>\n",
       "      <td>89.0</td>\n",
       "      <td>89.0</td>\n",
       "      <td>89.0</td>\n",
       "      <td>86.0</td>\n",
       "      <td>86.0</td>\n",
       "      <td>86.0</td>\n",
       "      <td>...</td>\n",
       "      <td>64.0</td>\n",
       "      <td>65.0</td>\n",
       "      <td>65.0</td>\n",
       "      <td>65.0</td>\n",
       "      <td>64.0</td>\n",
       "      <td>61.0</td>\n",
       "      <td>60.0</td>\n",
       "      <td>60.0</td>\n",
       "      <td>60.0</td>\n",
       "      <td>61.0</td>\n",
       "    </tr>\n",
       "    <tr>\n",
       "      <th>11</th>\n",
       "      <td>81.0</td>\n",
       "      <td>81.0</td>\n",
       "      <td>81.0</td>\n",
       "      <td>84.0</td>\n",
       "      <td>85.0</td>\n",
       "      <td>85.0</td>\n",
       "      <td>85.0</td>\n",
       "      <td>84.0</td>\n",
       "      <td>87.0</td>\n",
       "      <td>87.0</td>\n",
       "      <td>...</td>\n",
       "      <td>82.0</td>\n",
       "      <td>85.0</td>\n",
       "      <td>85.0</td>\n",
       "      <td>85.0</td>\n",
       "      <td>82.0</td>\n",
       "      <td>80.0</td>\n",
       "      <td>75.0</td>\n",
       "      <td>75.0</td>\n",
       "      <td>75.0</td>\n",
       "      <td>80.0</td>\n",
       "    </tr>\n",
       "    <tr>\n",
       "      <th>12</th>\n",
       "      <td>67.0</td>\n",
       "      <td>67.0</td>\n",
       "      <td>67.0</td>\n",
       "      <td>64.0</td>\n",
       "      <td>65.0</td>\n",
       "      <td>65.0</td>\n",
       "      <td>65.0</td>\n",
       "      <td>64.0</td>\n",
       "      <td>65.0</td>\n",
       "      <td>65.0</td>\n",
       "      <td>...</td>\n",
       "      <td>79.0</td>\n",
       "      <td>84.0</td>\n",
       "      <td>84.0</td>\n",
       "      <td>84.0</td>\n",
       "      <td>79.0</td>\n",
       "      <td>82.0</td>\n",
       "      <td>90.0</td>\n",
       "      <td>90.0</td>\n",
       "      <td>90.0</td>\n",
       "      <td>82.0</td>\n",
       "    </tr>\n",
       "    <tr>\n",
       "      <th>13</th>\n",
       "      <td>80.0</td>\n",
       "      <td>80.0</td>\n",
       "      <td>80.0</td>\n",
       "      <td>88.0</td>\n",
       "      <td>87.0</td>\n",
       "      <td>87.0</td>\n",
       "      <td>87.0</td>\n",
       "      <td>88.0</td>\n",
       "      <td>90.0</td>\n",
       "      <td>90.0</td>\n",
       "      <td>...</td>\n",
       "      <td>72.0</td>\n",
       "      <td>73.0</td>\n",
       "      <td>73.0</td>\n",
       "      <td>73.0</td>\n",
       "      <td>72.0</td>\n",
       "      <td>67.0</td>\n",
       "      <td>60.0</td>\n",
       "      <td>60.0</td>\n",
       "      <td>60.0</td>\n",
       "      <td>67.0</td>\n",
       "    </tr>\n",
       "    <tr>\n",
       "      <th>14</th>\n",
       "      <td>75.0</td>\n",
       "      <td>75.0</td>\n",
       "      <td>75.0</td>\n",
       "      <td>80.0</td>\n",
       "      <td>80.0</td>\n",
       "      <td>80.0</td>\n",
       "      <td>80.0</td>\n",
       "      <td>80.0</td>\n",
       "      <td>82.0</td>\n",
       "      <td>82.0</td>\n",
       "      <td>...</td>\n",
       "      <td>88.0</td>\n",
       "      <td>90.0</td>\n",
       "      <td>90.0</td>\n",
       "      <td>90.0</td>\n",
       "      <td>88.0</td>\n",
       "      <td>87.0</td>\n",
       "      <td>86.0</td>\n",
       "      <td>86.0</td>\n",
       "      <td>86.0</td>\n",
       "      <td>87.0</td>\n",
       "    </tr>\n",
       "    <tr>\n",
       "      <th>15</th>\n",
       "      <td>86.0</td>\n",
       "      <td>86.0</td>\n",
       "      <td>86.0</td>\n",
       "      <td>90.0</td>\n",
       "      <td>89.0</td>\n",
       "      <td>89.0</td>\n",
       "      <td>89.0</td>\n",
       "      <td>90.0</td>\n",
       "      <td>90.0</td>\n",
       "      <td>90.0</td>\n",
       "      <td>...</td>\n",
       "      <td>65.0</td>\n",
       "      <td>61.0</td>\n",
       "      <td>61.0</td>\n",
       "      <td>61.0</td>\n",
       "      <td>65.0</td>\n",
       "      <td>59.0</td>\n",
       "      <td>48.0</td>\n",
       "      <td>48.0</td>\n",
       "      <td>48.0</td>\n",
       "      <td>59.0</td>\n",
       "    </tr>\n",
       "    <tr>\n",
       "      <th>16</th>\n",
       "      <td>89.0</td>\n",
       "      <td>89.0</td>\n",
       "      <td>89.0</td>\n",
       "      <td>85.0</td>\n",
       "      <td>87.0</td>\n",
       "      <td>87.0</td>\n",
       "      <td>87.0</td>\n",
       "      <td>85.0</td>\n",
       "      <td>85.0</td>\n",
       "      <td>85.0</td>\n",
       "      <td>...</td>\n",
       "      <td>68.0</td>\n",
       "      <td>69.0</td>\n",
       "      <td>69.0</td>\n",
       "      <td>69.0</td>\n",
       "      <td>68.0</td>\n",
       "      <td>65.0</td>\n",
       "      <td>63.0</td>\n",
       "      <td>63.0</td>\n",
       "      <td>63.0</td>\n",
       "      <td>65.0</td>\n",
       "    </tr>\n",
       "    <tr>\n",
       "      <th>17</th>\n",
       "      <td>89.0</td>\n",
       "      <td>89.0</td>\n",
       "      <td>89.0</td>\n",
       "      <td>90.0</td>\n",
       "      <td>90.0</td>\n",
       "      <td>90.0</td>\n",
       "      <td>90.0</td>\n",
       "      <td>90.0</td>\n",
       "      <td>89.0</td>\n",
       "      <td>89.0</td>\n",
       "      <td>...</td>\n",
       "      <td>73.0</td>\n",
       "      <td>70.0</td>\n",
       "      <td>70.0</td>\n",
       "      <td>70.0</td>\n",
       "      <td>73.0</td>\n",
       "      <td>70.0</td>\n",
       "      <td>64.0</td>\n",
       "      <td>64.0</td>\n",
       "      <td>64.0</td>\n",
       "      <td>70.0</td>\n",
       "    </tr>\n",
       "    <tr>\n",
       "      <th>18</th>\n",
       "      <td>60.0</td>\n",
       "      <td>60.0</td>\n",
       "      <td>60.0</td>\n",
       "      <td>62.0</td>\n",
       "      <td>62.0</td>\n",
       "      <td>62.0</td>\n",
       "      <td>62.0</td>\n",
       "      <td>62.0</td>\n",
       "      <td>62.0</td>\n",
       "      <td>62.0</td>\n",
       "      <td>...</td>\n",
       "      <td>60.0</td>\n",
       "      <td>60.0</td>\n",
       "      <td>60.0</td>\n",
       "      <td>60.0</td>\n",
       "      <td>60.0</td>\n",
       "      <td>60.0</td>\n",
       "      <td>59.0</td>\n",
       "      <td>59.0</td>\n",
       "      <td>59.0</td>\n",
       "      <td>60.0</td>\n",
       "    </tr>\n",
       "    <tr>\n",
       "      <th>19</th>\n",
       "      <td>60.0</td>\n",
       "      <td>60.0</td>\n",
       "      <td>60.0</td>\n",
       "      <td>62.0</td>\n",
       "      <td>62.0</td>\n",
       "      <td>62.0</td>\n",
       "      <td>62.0</td>\n",
       "      <td>62.0</td>\n",
       "      <td>62.0</td>\n",
       "      <td>62.0</td>\n",
       "      <td>...</td>\n",
       "      <td>60.0</td>\n",
       "      <td>60.0</td>\n",
       "      <td>60.0</td>\n",
       "      <td>60.0</td>\n",
       "      <td>60.0</td>\n",
       "      <td>60.0</td>\n",
       "      <td>59.0</td>\n",
       "      <td>59.0</td>\n",
       "      <td>59.0</td>\n",
       "      <td>60.0</td>\n",
       "    </tr>\n",
       "    <tr>\n",
       "      <th>20</th>\n",
       "      <td>74.0</td>\n",
       "      <td>74.0</td>\n",
       "      <td>74.0</td>\n",
       "      <td>77.0</td>\n",
       "      <td>79.0</td>\n",
       "      <td>79.0</td>\n",
       "      <td>79.0</td>\n",
       "      <td>77.0</td>\n",
       "      <td>82.0</td>\n",
       "      <td>82.0</td>\n",
       "      <td>...</td>\n",
       "      <td>82.0</td>\n",
       "      <td>89.0</td>\n",
       "      <td>89.0</td>\n",
       "      <td>89.0</td>\n",
       "      <td>82.0</td>\n",
       "      <td>81.0</td>\n",
       "      <td>85.0</td>\n",
       "      <td>85.0</td>\n",
       "      <td>85.0</td>\n",
       "      <td>81.0</td>\n",
       "    </tr>\n",
       "    <tr>\n",
       "      <th>21</th>\n",
       "      <td>88.0</td>\n",
       "      <td>88.0</td>\n",
       "      <td>88.0</td>\n",
       "      <td>84.0</td>\n",
       "      <td>86.0</td>\n",
       "      <td>86.0</td>\n",
       "      <td>86.0</td>\n",
       "      <td>84.0</td>\n",
       "      <td>83.0</td>\n",
       "      <td>83.0</td>\n",
       "      <td>...</td>\n",
       "      <td>70.0</td>\n",
       "      <td>68.0</td>\n",
       "      <td>68.0</td>\n",
       "      <td>68.0</td>\n",
       "      <td>70.0</td>\n",
       "      <td>68.0</td>\n",
       "      <td>66.0</td>\n",
       "      <td>66.0</td>\n",
       "      <td>66.0</td>\n",
       "      <td>68.0</td>\n",
       "    </tr>\n",
       "    <tr>\n",
       "      <th>22</th>\n",
       "      <td>60.0</td>\n",
       "      <td>60.0</td>\n",
       "      <td>60.0</td>\n",
       "      <td>62.0</td>\n",
       "      <td>62.0</td>\n",
       "      <td>62.0</td>\n",
       "      <td>62.0</td>\n",
       "      <td>62.0</td>\n",
       "      <td>62.0</td>\n",
       "      <td>62.0</td>\n",
       "      <td>...</td>\n",
       "      <td>60.0</td>\n",
       "      <td>60.0</td>\n",
       "      <td>60.0</td>\n",
       "      <td>60.0</td>\n",
       "      <td>60.0</td>\n",
       "      <td>60.0</td>\n",
       "      <td>59.0</td>\n",
       "      <td>59.0</td>\n",
       "      <td>59.0</td>\n",
       "      <td>60.0</td>\n",
       "    </tr>\n",
       "    <tr>\n",
       "      <th>23</th>\n",
       "      <td>89.0</td>\n",
       "      <td>89.0</td>\n",
       "      <td>89.0</td>\n",
       "      <td>89.0</td>\n",
       "      <td>90.0</td>\n",
       "      <td>90.0</td>\n",
       "      <td>90.0</td>\n",
       "      <td>89.0</td>\n",
       "      <td>88.0</td>\n",
       "      <td>88.0</td>\n",
       "      <td>...</td>\n",
       "      <td>61.0</td>\n",
       "      <td>59.0</td>\n",
       "      <td>59.0</td>\n",
       "      <td>59.0</td>\n",
       "      <td>61.0</td>\n",
       "      <td>56.0</td>\n",
       "      <td>50.0</td>\n",
       "      <td>50.0</td>\n",
       "      <td>50.0</td>\n",
       "      <td>56.0</td>\n",
       "    </tr>\n",
       "    <tr>\n",
       "      <th>24</th>\n",
       "      <td>61.0</td>\n",
       "      <td>61.0</td>\n",
       "      <td>61.0</td>\n",
       "      <td>57.0</td>\n",
       "      <td>58.0</td>\n",
       "      <td>58.0</td>\n",
       "      <td>58.0</td>\n",
       "      <td>57.0</td>\n",
       "      <td>57.0</td>\n",
       "      <td>57.0</td>\n",
       "      <td>...</td>\n",
       "      <td>77.0</td>\n",
       "      <td>79.0</td>\n",
       "      <td>79.0</td>\n",
       "      <td>79.0</td>\n",
       "      <td>77.0</td>\n",
       "      <td>80.0</td>\n",
       "      <td>89.0</td>\n",
       "      <td>89.0</td>\n",
       "      <td>89.0</td>\n",
       "      <td>80.0</td>\n",
       "    </tr>\n",
       "    <tr>\n",
       "      <th>25</th>\n",
       "      <td>88.0</td>\n",
       "      <td>88.0</td>\n",
       "      <td>88.0</td>\n",
       "      <td>90.0</td>\n",
       "      <td>90.0</td>\n",
       "      <td>90.0</td>\n",
       "      <td>90.0</td>\n",
       "      <td>90.0</td>\n",
       "      <td>89.0</td>\n",
       "      <td>89.0</td>\n",
       "      <td>...</td>\n",
       "      <td>69.0</td>\n",
       "      <td>65.0</td>\n",
       "      <td>65.0</td>\n",
       "      <td>65.0</td>\n",
       "      <td>69.0</td>\n",
       "      <td>65.0</td>\n",
       "      <td>57.0</td>\n",
       "      <td>57.0</td>\n",
       "      <td>57.0</td>\n",
       "      <td>65.0</td>\n",
       "    </tr>\n",
       "    <tr>\n",
       "      <th>26</th>\n",
       "      <td>86.0</td>\n",
       "      <td>86.0</td>\n",
       "      <td>86.0</td>\n",
       "      <td>90.0</td>\n",
       "      <td>89.0</td>\n",
       "      <td>89.0</td>\n",
       "      <td>89.0</td>\n",
       "      <td>90.0</td>\n",
       "      <td>89.0</td>\n",
       "      <td>89.0</td>\n",
       "      <td>...</td>\n",
       "      <td>73.0</td>\n",
       "      <td>69.0</td>\n",
       "      <td>69.0</td>\n",
       "      <td>69.0</td>\n",
       "      <td>73.0</td>\n",
       "      <td>69.0</td>\n",
       "      <td>60.0</td>\n",
       "      <td>60.0</td>\n",
       "      <td>60.0</td>\n",
       "      <td>69.0</td>\n",
       "    </tr>\n",
       "    <tr>\n",
       "      <th>27</th>\n",
       "      <td>75.0</td>\n",
       "      <td>75.0</td>\n",
       "      <td>75.0</td>\n",
       "      <td>72.0</td>\n",
       "      <td>76.0</td>\n",
       "      <td>76.0</td>\n",
       "      <td>76.0</td>\n",
       "      <td>72.0</td>\n",
       "      <td>77.0</td>\n",
       "      <td>77.0</td>\n",
       "      <td>...</td>\n",
       "      <td>81.0</td>\n",
       "      <td>88.0</td>\n",
       "      <td>88.0</td>\n",
       "      <td>88.0</td>\n",
       "      <td>81.0</td>\n",
       "      <td>82.0</td>\n",
       "      <td>88.0</td>\n",
       "      <td>88.0</td>\n",
       "      <td>88.0</td>\n",
       "      <td>82.0</td>\n",
       "    </tr>\n",
       "    <tr>\n",
       "      <th>28</th>\n",
       "      <td>83.0</td>\n",
       "      <td>83.0</td>\n",
       "      <td>83.0</td>\n",
       "      <td>87.0</td>\n",
       "      <td>86.0</td>\n",
       "      <td>86.0</td>\n",
       "      <td>86.0</td>\n",
       "      <td>87.0</td>\n",
       "      <td>88.0</td>\n",
       "      <td>88.0</td>\n",
       "      <td>...</td>\n",
       "      <td>72.0</td>\n",
       "      <td>71.0</td>\n",
       "      <td>71.0</td>\n",
       "      <td>71.0</td>\n",
       "      <td>72.0</td>\n",
       "      <td>68.0</td>\n",
       "      <td>61.0</td>\n",
       "      <td>61.0</td>\n",
       "      <td>61.0</td>\n",
       "      <td>68.0</td>\n",
       "    </tr>\n",
       "    <tr>\n",
       "      <th>29</th>\n",
       "      <td>81.0</td>\n",
       "      <td>81.0</td>\n",
       "      <td>81.0</td>\n",
       "      <td>89.0</td>\n",
       "      <td>88.0</td>\n",
       "      <td>88.0</td>\n",
       "      <td>88.0</td>\n",
       "      <td>89.0</td>\n",
       "      <td>89.0</td>\n",
       "      <td>89.0</td>\n",
       "      <td>...</td>\n",
       "      <td>66.0</td>\n",
       "      <td>61.0</td>\n",
       "      <td>61.0</td>\n",
       "      <td>61.0</td>\n",
       "      <td>66.0</td>\n",
       "      <td>61.0</td>\n",
       "      <td>47.0</td>\n",
       "      <td>47.0</td>\n",
       "      <td>47.0</td>\n",
       "      <td>61.0</td>\n",
       "    </tr>\n",
       "    <tr>\n",
       "      <th>...</th>\n",
       "      <td>...</td>\n",
       "      <td>...</td>\n",
       "      <td>...</td>\n",
       "      <td>...</td>\n",
       "      <td>...</td>\n",
       "      <td>...</td>\n",
       "      <td>...</td>\n",
       "      <td>...</td>\n",
       "      <td>...</td>\n",
       "      <td>...</td>\n",
       "      <td>...</td>\n",
       "      <td>...</td>\n",
       "      <td>...</td>\n",
       "      <td>...</td>\n",
       "      <td>...</td>\n",
       "      <td>...</td>\n",
       "      <td>...</td>\n",
       "      <td>...</td>\n",
       "      <td>...</td>\n",
       "      <td>...</td>\n",
       "      <td>...</td>\n",
       "    </tr>\n",
       "    <tr>\n",
       "      <th>18177</th>\n",
       "      <td>49.0</td>\n",
       "      <td>49.0</td>\n",
       "      <td>49.0</td>\n",
       "      <td>47.0</td>\n",
       "      <td>48.0</td>\n",
       "      <td>48.0</td>\n",
       "      <td>48.0</td>\n",
       "      <td>47.0</td>\n",
       "      <td>46.0</td>\n",
       "      <td>46.0</td>\n",
       "      <td>...</td>\n",
       "      <td>34.0</td>\n",
       "      <td>31.0</td>\n",
       "      <td>31.0</td>\n",
       "      <td>31.0</td>\n",
       "      <td>34.0</td>\n",
       "      <td>33.0</td>\n",
       "      <td>29.0</td>\n",
       "      <td>29.0</td>\n",
       "      <td>29.0</td>\n",
       "      <td>33.0</td>\n",
       "    </tr>\n",
       "    <tr>\n",
       "      <th>18178</th>\n",
       "      <td>60.0</td>\n",
       "      <td>60.0</td>\n",
       "      <td>60.0</td>\n",
       "      <td>62.0</td>\n",
       "      <td>62.0</td>\n",
       "      <td>62.0</td>\n",
       "      <td>62.0</td>\n",
       "      <td>62.0</td>\n",
       "      <td>62.0</td>\n",
       "      <td>62.0</td>\n",
       "      <td>...</td>\n",
       "      <td>60.0</td>\n",
       "      <td>60.0</td>\n",
       "      <td>60.0</td>\n",
       "      <td>60.0</td>\n",
       "      <td>60.0</td>\n",
       "      <td>60.0</td>\n",
       "      <td>59.0</td>\n",
       "      <td>59.0</td>\n",
       "      <td>59.0</td>\n",
       "      <td>60.0</td>\n",
       "    </tr>\n",
       "    <tr>\n",
       "      <th>18179</th>\n",
       "      <td>36.0</td>\n",
       "      <td>36.0</td>\n",
       "      <td>36.0</td>\n",
       "      <td>34.0</td>\n",
       "      <td>34.0</td>\n",
       "      <td>34.0</td>\n",
       "      <td>34.0</td>\n",
       "      <td>34.0</td>\n",
       "      <td>33.0</td>\n",
       "      <td>33.0</td>\n",
       "      <td>...</td>\n",
       "      <td>44.0</td>\n",
       "      <td>43.0</td>\n",
       "      <td>43.0</td>\n",
       "      <td>43.0</td>\n",
       "      <td>44.0</td>\n",
       "      <td>46.0</td>\n",
       "      <td>48.0</td>\n",
       "      <td>48.0</td>\n",
       "      <td>48.0</td>\n",
       "      <td>46.0</td>\n",
       "    </tr>\n",
       "    <tr>\n",
       "      <th>18180</th>\n",
       "      <td>60.0</td>\n",
       "      <td>60.0</td>\n",
       "      <td>60.0</td>\n",
       "      <td>62.0</td>\n",
       "      <td>62.0</td>\n",
       "      <td>62.0</td>\n",
       "      <td>62.0</td>\n",
       "      <td>62.0</td>\n",
       "      <td>62.0</td>\n",
       "      <td>62.0</td>\n",
       "      <td>...</td>\n",
       "      <td>60.0</td>\n",
       "      <td>60.0</td>\n",
       "      <td>60.0</td>\n",
       "      <td>60.0</td>\n",
       "      <td>60.0</td>\n",
       "      <td>60.0</td>\n",
       "      <td>59.0</td>\n",
       "      <td>59.0</td>\n",
       "      <td>59.0</td>\n",
       "      <td>60.0</td>\n",
       "    </tr>\n",
       "    <tr>\n",
       "      <th>18181</th>\n",
       "      <td>46.0</td>\n",
       "      <td>46.0</td>\n",
       "      <td>46.0</td>\n",
       "      <td>46.0</td>\n",
       "      <td>45.0</td>\n",
       "      <td>45.0</td>\n",
       "      <td>45.0</td>\n",
       "      <td>46.0</td>\n",
       "      <td>44.0</td>\n",
       "      <td>44.0</td>\n",
       "      <td>...</td>\n",
       "      <td>49.0</td>\n",
       "      <td>45.0</td>\n",
       "      <td>45.0</td>\n",
       "      <td>45.0</td>\n",
       "      <td>49.0</td>\n",
       "      <td>49.0</td>\n",
       "      <td>48.0</td>\n",
       "      <td>48.0</td>\n",
       "      <td>48.0</td>\n",
       "      <td>49.0</td>\n",
       "    </tr>\n",
       "    <tr>\n",
       "      <th>18182</th>\n",
       "      <td>42.0</td>\n",
       "      <td>42.0</td>\n",
       "      <td>42.0</td>\n",
       "      <td>44.0</td>\n",
       "      <td>43.0</td>\n",
       "      <td>43.0</td>\n",
       "      <td>43.0</td>\n",
       "      <td>44.0</td>\n",
       "      <td>45.0</td>\n",
       "      <td>45.0</td>\n",
       "      <td>...</td>\n",
       "      <td>49.0</td>\n",
       "      <td>49.0</td>\n",
       "      <td>49.0</td>\n",
       "      <td>49.0</td>\n",
       "      <td>49.0</td>\n",
       "      <td>49.0</td>\n",
       "      <td>48.0</td>\n",
       "      <td>48.0</td>\n",
       "      <td>48.0</td>\n",
       "      <td>49.0</td>\n",
       "    </tr>\n",
       "    <tr>\n",
       "      <th>18183</th>\n",
       "      <td>60.0</td>\n",
       "      <td>60.0</td>\n",
       "      <td>60.0</td>\n",
       "      <td>62.0</td>\n",
       "      <td>62.0</td>\n",
       "      <td>62.0</td>\n",
       "      <td>62.0</td>\n",
       "      <td>62.0</td>\n",
       "      <td>62.0</td>\n",
       "      <td>62.0</td>\n",
       "      <td>...</td>\n",
       "      <td>60.0</td>\n",
       "      <td>60.0</td>\n",
       "      <td>60.0</td>\n",
       "      <td>60.0</td>\n",
       "      <td>60.0</td>\n",
       "      <td>60.0</td>\n",
       "      <td>59.0</td>\n",
       "      <td>59.0</td>\n",
       "      <td>59.0</td>\n",
       "      <td>60.0</td>\n",
       "    </tr>\n",
       "    <tr>\n",
       "      <th>18184</th>\n",
       "      <td>43.0</td>\n",
       "      <td>43.0</td>\n",
       "      <td>43.0</td>\n",
       "      <td>45.0</td>\n",
       "      <td>45.0</td>\n",
       "      <td>45.0</td>\n",
       "      <td>45.0</td>\n",
       "      <td>45.0</td>\n",
       "      <td>47.0</td>\n",
       "      <td>47.0</td>\n",
       "      <td>...</td>\n",
       "      <td>51.0</td>\n",
       "      <td>52.0</td>\n",
       "      <td>52.0</td>\n",
       "      <td>52.0</td>\n",
       "      <td>51.0</td>\n",
       "      <td>51.0</td>\n",
       "      <td>52.0</td>\n",
       "      <td>52.0</td>\n",
       "      <td>52.0</td>\n",
       "      <td>51.0</td>\n",
       "    </tr>\n",
       "    <tr>\n",
       "      <th>18185</th>\n",
       "      <td>45.0</td>\n",
       "      <td>45.0</td>\n",
       "      <td>45.0</td>\n",
       "      <td>46.0</td>\n",
       "      <td>46.0</td>\n",
       "      <td>46.0</td>\n",
       "      <td>46.0</td>\n",
       "      <td>46.0</td>\n",
       "      <td>47.0</td>\n",
       "      <td>47.0</td>\n",
       "      <td>...</td>\n",
       "      <td>49.0</td>\n",
       "      <td>49.0</td>\n",
       "      <td>49.0</td>\n",
       "      <td>49.0</td>\n",
       "      <td>49.0</td>\n",
       "      <td>49.0</td>\n",
       "      <td>47.0</td>\n",
       "      <td>47.0</td>\n",
       "      <td>47.0</td>\n",
       "      <td>49.0</td>\n",
       "    </tr>\n",
       "    <tr>\n",
       "      <th>18186</th>\n",
       "      <td>45.0</td>\n",
       "      <td>45.0</td>\n",
       "      <td>45.0</td>\n",
       "      <td>48.0</td>\n",
       "      <td>46.0</td>\n",
       "      <td>46.0</td>\n",
       "      <td>46.0</td>\n",
       "      <td>48.0</td>\n",
       "      <td>49.0</td>\n",
       "      <td>49.0</td>\n",
       "      <td>...</td>\n",
       "      <td>50.0</td>\n",
       "      <td>50.0</td>\n",
       "      <td>50.0</td>\n",
       "      <td>50.0</td>\n",
       "      <td>50.0</td>\n",
       "      <td>50.0</td>\n",
       "      <td>51.0</td>\n",
       "      <td>51.0</td>\n",
       "      <td>51.0</td>\n",
       "      <td>50.0</td>\n",
       "    </tr>\n",
       "    <tr>\n",
       "      <th>18187</th>\n",
       "      <td>48.0</td>\n",
       "      <td>48.0</td>\n",
       "      <td>48.0</td>\n",
       "      <td>49.0</td>\n",
       "      <td>48.0</td>\n",
       "      <td>48.0</td>\n",
       "      <td>48.0</td>\n",
       "      <td>49.0</td>\n",
       "      <td>47.0</td>\n",
       "      <td>47.0</td>\n",
       "      <td>...</td>\n",
       "      <td>48.0</td>\n",
       "      <td>43.0</td>\n",
       "      <td>43.0</td>\n",
       "      <td>43.0</td>\n",
       "      <td>48.0</td>\n",
       "      <td>47.0</td>\n",
       "      <td>46.0</td>\n",
       "      <td>46.0</td>\n",
       "      <td>46.0</td>\n",
       "      <td>47.0</td>\n",
       "    </tr>\n",
       "    <tr>\n",
       "      <th>18188</th>\n",
       "      <td>47.0</td>\n",
       "      <td>47.0</td>\n",
       "      <td>47.0</td>\n",
       "      <td>51.0</td>\n",
       "      <td>50.0</td>\n",
       "      <td>50.0</td>\n",
       "      <td>50.0</td>\n",
       "      <td>51.0</td>\n",
       "      <td>50.0</td>\n",
       "      <td>50.0</td>\n",
       "      <td>...</td>\n",
       "      <td>46.0</td>\n",
       "      <td>43.0</td>\n",
       "      <td>43.0</td>\n",
       "      <td>43.0</td>\n",
       "      <td>46.0</td>\n",
       "      <td>45.0</td>\n",
       "      <td>41.0</td>\n",
       "      <td>41.0</td>\n",
       "      <td>41.0</td>\n",
       "      <td>45.0</td>\n",
       "    </tr>\n",
       "    <tr>\n",
       "      <th>18189</th>\n",
       "      <td>47.0</td>\n",
       "      <td>47.0</td>\n",
       "      <td>47.0</td>\n",
       "      <td>50.0</td>\n",
       "      <td>48.0</td>\n",
       "      <td>48.0</td>\n",
       "      <td>48.0</td>\n",
       "      <td>50.0</td>\n",
       "      <td>48.0</td>\n",
       "      <td>48.0</td>\n",
       "      <td>...</td>\n",
       "      <td>40.0</td>\n",
       "      <td>36.0</td>\n",
       "      <td>36.0</td>\n",
       "      <td>36.0</td>\n",
       "      <td>40.0</td>\n",
       "      <td>38.0</td>\n",
       "      <td>34.0</td>\n",
       "      <td>34.0</td>\n",
       "      <td>34.0</td>\n",
       "      <td>38.0</td>\n",
       "    </tr>\n",
       "    <tr>\n",
       "      <th>18190</th>\n",
       "      <td>44.0</td>\n",
       "      <td>44.0</td>\n",
       "      <td>44.0</td>\n",
       "      <td>44.0</td>\n",
       "      <td>46.0</td>\n",
       "      <td>46.0</td>\n",
       "      <td>46.0</td>\n",
       "      <td>44.0</td>\n",
       "      <td>46.0</td>\n",
       "      <td>46.0</td>\n",
       "      <td>...</td>\n",
       "      <td>46.0</td>\n",
       "      <td>47.0</td>\n",
       "      <td>47.0</td>\n",
       "      <td>47.0</td>\n",
       "      <td>46.0</td>\n",
       "      <td>47.0</td>\n",
       "      <td>46.0</td>\n",
       "      <td>46.0</td>\n",
       "      <td>46.0</td>\n",
       "      <td>47.0</td>\n",
       "    </tr>\n",
       "    <tr>\n",
       "      <th>18191</th>\n",
       "      <td>41.0</td>\n",
       "      <td>41.0</td>\n",
       "      <td>41.0</td>\n",
       "      <td>45.0</td>\n",
       "      <td>42.0</td>\n",
       "      <td>42.0</td>\n",
       "      <td>42.0</td>\n",
       "      <td>45.0</td>\n",
       "      <td>43.0</td>\n",
       "      <td>43.0</td>\n",
       "      <td>...</td>\n",
       "      <td>47.0</td>\n",
       "      <td>46.0</td>\n",
       "      <td>46.0</td>\n",
       "      <td>46.0</td>\n",
       "      <td>47.0</td>\n",
       "      <td>47.0</td>\n",
       "      <td>49.0</td>\n",
       "      <td>49.0</td>\n",
       "      <td>49.0</td>\n",
       "      <td>47.0</td>\n",
       "    </tr>\n",
       "    <tr>\n",
       "      <th>18192</th>\n",
       "      <td>46.0</td>\n",
       "      <td>46.0</td>\n",
       "      <td>46.0</td>\n",
       "      <td>47.0</td>\n",
       "      <td>46.0</td>\n",
       "      <td>46.0</td>\n",
       "      <td>46.0</td>\n",
       "      <td>47.0</td>\n",
       "      <td>47.0</td>\n",
       "      <td>47.0</td>\n",
       "      <td>...</td>\n",
       "      <td>48.0</td>\n",
       "      <td>48.0</td>\n",
       "      <td>48.0</td>\n",
       "      <td>48.0</td>\n",
       "      <td>48.0</td>\n",
       "      <td>49.0</td>\n",
       "      <td>49.0</td>\n",
       "      <td>49.0</td>\n",
       "      <td>49.0</td>\n",
       "      <td>49.0</td>\n",
       "    </tr>\n",
       "    <tr>\n",
       "      <th>18193</th>\n",
       "      <td>37.0</td>\n",
       "      <td>37.0</td>\n",
       "      <td>37.0</td>\n",
       "      <td>40.0</td>\n",
       "      <td>38.0</td>\n",
       "      <td>38.0</td>\n",
       "      <td>38.0</td>\n",
       "      <td>40.0</td>\n",
       "      <td>37.0</td>\n",
       "      <td>37.0</td>\n",
       "      <td>...</td>\n",
       "      <td>46.0</td>\n",
       "      <td>41.0</td>\n",
       "      <td>41.0</td>\n",
       "      <td>41.0</td>\n",
       "      <td>46.0</td>\n",
       "      <td>47.0</td>\n",
       "      <td>46.0</td>\n",
       "      <td>46.0</td>\n",
       "      <td>46.0</td>\n",
       "      <td>47.0</td>\n",
       "    </tr>\n",
       "    <tr>\n",
       "      <th>18194</th>\n",
       "      <td>60.0</td>\n",
       "      <td>60.0</td>\n",
       "      <td>60.0</td>\n",
       "      <td>62.0</td>\n",
       "      <td>62.0</td>\n",
       "      <td>62.0</td>\n",
       "      <td>62.0</td>\n",
       "      <td>62.0</td>\n",
       "      <td>62.0</td>\n",
       "      <td>62.0</td>\n",
       "      <td>...</td>\n",
       "      <td>60.0</td>\n",
       "      <td>60.0</td>\n",
       "      <td>60.0</td>\n",
       "      <td>60.0</td>\n",
       "      <td>60.0</td>\n",
       "      <td>60.0</td>\n",
       "      <td>59.0</td>\n",
       "      <td>59.0</td>\n",
       "      <td>59.0</td>\n",
       "      <td>60.0</td>\n",
       "    </tr>\n",
       "    <tr>\n",
       "      <th>18195</th>\n",
       "      <td>46.0</td>\n",
       "      <td>46.0</td>\n",
       "      <td>46.0</td>\n",
       "      <td>46.0</td>\n",
       "      <td>46.0</td>\n",
       "      <td>46.0</td>\n",
       "      <td>46.0</td>\n",
       "      <td>46.0</td>\n",
       "      <td>47.0</td>\n",
       "      <td>47.0</td>\n",
       "      <td>...</td>\n",
       "      <td>47.0</td>\n",
       "      <td>47.0</td>\n",
       "      <td>47.0</td>\n",
       "      <td>47.0</td>\n",
       "      <td>47.0</td>\n",
       "      <td>47.0</td>\n",
       "      <td>46.0</td>\n",
       "      <td>46.0</td>\n",
       "      <td>46.0</td>\n",
       "      <td>47.0</td>\n",
       "    </tr>\n",
       "    <tr>\n",
       "      <th>18196</th>\n",
       "      <td>42.0</td>\n",
       "      <td>42.0</td>\n",
       "      <td>42.0</td>\n",
       "      <td>45.0</td>\n",
       "      <td>45.0</td>\n",
       "      <td>45.0</td>\n",
       "      <td>45.0</td>\n",
       "      <td>45.0</td>\n",
       "      <td>47.0</td>\n",
       "      <td>47.0</td>\n",
       "      <td>...</td>\n",
       "      <td>47.0</td>\n",
       "      <td>49.0</td>\n",
       "      <td>49.0</td>\n",
       "      <td>49.0</td>\n",
       "      <td>47.0</td>\n",
       "      <td>48.0</td>\n",
       "      <td>49.0</td>\n",
       "      <td>49.0</td>\n",
       "      <td>49.0</td>\n",
       "      <td>48.0</td>\n",
       "    </tr>\n",
       "    <tr>\n",
       "      <th>18197</th>\n",
       "      <td>47.0</td>\n",
       "      <td>47.0</td>\n",
       "      <td>47.0</td>\n",
       "      <td>51.0</td>\n",
       "      <td>50.0</td>\n",
       "      <td>50.0</td>\n",
       "      <td>50.0</td>\n",
       "      <td>51.0</td>\n",
       "      <td>51.0</td>\n",
       "      <td>51.0</td>\n",
       "      <td>...</td>\n",
       "      <td>47.0</td>\n",
       "      <td>46.0</td>\n",
       "      <td>46.0</td>\n",
       "      <td>46.0</td>\n",
       "      <td>47.0</td>\n",
       "      <td>46.0</td>\n",
       "      <td>42.0</td>\n",
       "      <td>42.0</td>\n",
       "      <td>42.0</td>\n",
       "      <td>46.0</td>\n",
       "    </tr>\n",
       "    <tr>\n",
       "      <th>18198</th>\n",
       "      <td>60.0</td>\n",
       "      <td>60.0</td>\n",
       "      <td>60.0</td>\n",
       "      <td>62.0</td>\n",
       "      <td>62.0</td>\n",
       "      <td>62.0</td>\n",
       "      <td>62.0</td>\n",
       "      <td>62.0</td>\n",
       "      <td>62.0</td>\n",
       "      <td>62.0</td>\n",
       "      <td>...</td>\n",
       "      <td>60.0</td>\n",
       "      <td>60.0</td>\n",
       "      <td>60.0</td>\n",
       "      <td>60.0</td>\n",
       "      <td>60.0</td>\n",
       "      <td>60.0</td>\n",
       "      <td>59.0</td>\n",
       "      <td>59.0</td>\n",
       "      <td>59.0</td>\n",
       "      <td>60.0</td>\n",
       "    </tr>\n",
       "    <tr>\n",
       "      <th>18199</th>\n",
       "      <td>44.0</td>\n",
       "      <td>44.0</td>\n",
       "      <td>44.0</td>\n",
       "      <td>45.0</td>\n",
       "      <td>46.0</td>\n",
       "      <td>46.0</td>\n",
       "      <td>46.0</td>\n",
       "      <td>45.0</td>\n",
       "      <td>46.0</td>\n",
       "      <td>46.0</td>\n",
       "      <td>...</td>\n",
       "      <td>49.0</td>\n",
       "      <td>50.0</td>\n",
       "      <td>50.0</td>\n",
       "      <td>50.0</td>\n",
       "      <td>49.0</td>\n",
       "      <td>49.0</td>\n",
       "      <td>50.0</td>\n",
       "      <td>50.0</td>\n",
       "      <td>50.0</td>\n",
       "      <td>49.0</td>\n",
       "    </tr>\n",
       "    <tr>\n",
       "      <th>18200</th>\n",
       "      <td>47.0</td>\n",
       "      <td>47.0</td>\n",
       "      <td>47.0</td>\n",
       "      <td>46.0</td>\n",
       "      <td>47.0</td>\n",
       "      <td>47.0</td>\n",
       "      <td>47.0</td>\n",
       "      <td>46.0</td>\n",
       "      <td>46.0</td>\n",
       "      <td>46.0</td>\n",
       "      <td>...</td>\n",
       "      <td>33.0</td>\n",
       "      <td>30.0</td>\n",
       "      <td>30.0</td>\n",
       "      <td>30.0</td>\n",
       "      <td>33.0</td>\n",
       "      <td>32.0</td>\n",
       "      <td>29.0</td>\n",
       "      <td>29.0</td>\n",
       "      <td>29.0</td>\n",
       "      <td>32.0</td>\n",
       "    </tr>\n",
       "    <tr>\n",
       "      <th>18201</th>\n",
       "      <td>34.0</td>\n",
       "      <td>34.0</td>\n",
       "      <td>34.0</td>\n",
       "      <td>31.0</td>\n",
       "      <td>32.0</td>\n",
       "      <td>32.0</td>\n",
       "      <td>32.0</td>\n",
       "      <td>31.0</td>\n",
       "      <td>30.0</td>\n",
       "      <td>30.0</td>\n",
       "      <td>...</td>\n",
       "      <td>41.0</td>\n",
       "      <td>40.0</td>\n",
       "      <td>40.0</td>\n",
       "      <td>40.0</td>\n",
       "      <td>41.0</td>\n",
       "      <td>44.0</td>\n",
       "      <td>48.0</td>\n",
       "      <td>48.0</td>\n",
       "      <td>48.0</td>\n",
       "      <td>44.0</td>\n",
       "    </tr>\n",
       "    <tr>\n",
       "      <th>18202</th>\n",
       "      <td>44.0</td>\n",
       "      <td>44.0</td>\n",
       "      <td>44.0</td>\n",
       "      <td>46.0</td>\n",
       "      <td>46.0</td>\n",
       "      <td>46.0</td>\n",
       "      <td>46.0</td>\n",
       "      <td>46.0</td>\n",
       "      <td>47.0</td>\n",
       "      <td>47.0</td>\n",
       "      <td>...</td>\n",
       "      <td>46.0</td>\n",
       "      <td>47.0</td>\n",
       "      <td>47.0</td>\n",
       "      <td>47.0</td>\n",
       "      <td>46.0</td>\n",
       "      <td>47.0</td>\n",
       "      <td>47.0</td>\n",
       "      <td>47.0</td>\n",
       "      <td>47.0</td>\n",
       "      <td>47.0</td>\n",
       "    </tr>\n",
       "    <tr>\n",
       "      <th>18203</th>\n",
       "      <td>47.0</td>\n",
       "      <td>47.0</td>\n",
       "      <td>47.0</td>\n",
       "      <td>41.0</td>\n",
       "      <td>44.0</td>\n",
       "      <td>44.0</td>\n",
       "      <td>44.0</td>\n",
       "      <td>41.0</td>\n",
       "      <td>42.0</td>\n",
       "      <td>42.0</td>\n",
       "      <td>...</td>\n",
       "      <td>32.0</td>\n",
       "      <td>33.0</td>\n",
       "      <td>33.0</td>\n",
       "      <td>33.0</td>\n",
       "      <td>32.0</td>\n",
       "      <td>31.0</td>\n",
       "      <td>34.0</td>\n",
       "      <td>34.0</td>\n",
       "      <td>34.0</td>\n",
       "      <td>31.0</td>\n",
       "    </tr>\n",
       "    <tr>\n",
       "      <th>18204</th>\n",
       "      <td>47.0</td>\n",
       "      <td>47.0</td>\n",
       "      <td>47.0</td>\n",
       "      <td>47.0</td>\n",
       "      <td>48.0</td>\n",
       "      <td>48.0</td>\n",
       "      <td>48.0</td>\n",
       "      <td>47.0</td>\n",
       "      <td>46.0</td>\n",
       "      <td>46.0</td>\n",
       "      <td>...</td>\n",
       "      <td>36.0</td>\n",
       "      <td>32.0</td>\n",
       "      <td>32.0</td>\n",
       "      <td>32.0</td>\n",
       "      <td>36.0</td>\n",
       "      <td>35.0</td>\n",
       "      <td>30.0</td>\n",
       "      <td>30.0</td>\n",
       "      <td>30.0</td>\n",
       "      <td>35.0</td>\n",
       "    </tr>\n",
       "    <tr>\n",
       "      <th>18205</th>\n",
       "      <td>49.0</td>\n",
       "      <td>49.0</td>\n",
       "      <td>49.0</td>\n",
       "      <td>49.0</td>\n",
       "      <td>48.0</td>\n",
       "      <td>48.0</td>\n",
       "      <td>48.0</td>\n",
       "      <td>49.0</td>\n",
       "      <td>47.0</td>\n",
       "      <td>47.0</td>\n",
       "      <td>...</td>\n",
       "      <td>38.0</td>\n",
       "      <td>34.0</td>\n",
       "      <td>34.0</td>\n",
       "      <td>34.0</td>\n",
       "      <td>38.0</td>\n",
       "      <td>37.0</td>\n",
       "      <td>33.0</td>\n",
       "      <td>33.0</td>\n",
       "      <td>33.0</td>\n",
       "      <td>37.0</td>\n",
       "    </tr>\n",
       "    <tr>\n",
       "      <th>18206</th>\n",
       "      <td>45.0</td>\n",
       "      <td>45.0</td>\n",
       "      <td>45.0</td>\n",
       "      <td>47.0</td>\n",
       "      <td>46.0</td>\n",
       "      <td>46.0</td>\n",
       "      <td>46.0</td>\n",
       "      <td>47.0</td>\n",
       "      <td>47.0</td>\n",
       "      <td>47.0</td>\n",
       "      <td>...</td>\n",
       "      <td>48.0</td>\n",
       "      <td>48.0</td>\n",
       "      <td>48.0</td>\n",
       "      <td>48.0</td>\n",
       "      <td>48.0</td>\n",
       "      <td>48.0</td>\n",
       "      <td>49.0</td>\n",
       "      <td>49.0</td>\n",
       "      <td>49.0</td>\n",
       "      <td>48.0</td>\n",
       "    </tr>\n",
       "  </tbody>\n",
       "</table>\n",
       "<p>18159 rows × 26 columns</p>\n",
       "</div>"
      ],
      "text/plain": [
       "         LS    ST    RS    LW    LF    CF    RF    RW   LAM   CAM  ...    LWB  \\\n",
       "0      90.0  90.0  90.0  94.0  95.0  95.0  95.0  94.0  95.0  95.0  ...   66.0   \n",
       "1      94.0  94.0  94.0  92.0  93.0  93.0  93.0  92.0  91.0  91.0  ...   68.0   \n",
       "2      87.0  87.0  87.0  92.0  92.0  92.0  92.0  92.0  92.0  92.0  ...   68.0   \n",
       "3      60.0  60.0  60.0  62.0  62.0  62.0  62.0  62.0  62.0  62.0  ...   60.0   \n",
       "4      85.0  85.0  85.0  90.0  90.0  90.0  90.0  90.0  91.0  91.0  ...   80.0   \n",
       "5      86.0  86.0  86.0  92.0  91.0  91.0  91.0  92.0  92.0  92.0  ...   69.0   \n",
       "6      80.0  80.0  80.0  88.0  87.0  87.0  87.0  88.0  90.0  90.0  ...   85.0   \n",
       "7      92.0  92.0  92.0  91.0  92.0  92.0  92.0  91.0  90.0  90.0  ...   74.0   \n",
       "8      76.0  76.0  76.0  73.0  74.0  74.0  74.0  73.0  74.0  74.0  ...   84.0   \n",
       "9      60.0  60.0  60.0  62.0  62.0  62.0  62.0  62.0  62.0  62.0  ...   60.0   \n",
       "10     90.0  90.0  90.0  86.0  89.0  89.0  89.0  86.0  86.0  86.0  ...   64.0   \n",
       "11     81.0  81.0  81.0  84.0  85.0  85.0  85.0  84.0  87.0  87.0  ...   82.0   \n",
       "12     67.0  67.0  67.0  64.0  65.0  65.0  65.0  64.0  65.0  65.0  ...   79.0   \n",
       "13     80.0  80.0  80.0  88.0  87.0  87.0  87.0  88.0  90.0  90.0  ...   72.0   \n",
       "14     75.0  75.0  75.0  80.0  80.0  80.0  80.0  80.0  82.0  82.0  ...   88.0   \n",
       "15     86.0  86.0  86.0  90.0  89.0  89.0  89.0  90.0  90.0  90.0  ...   65.0   \n",
       "16     89.0  89.0  89.0  85.0  87.0  87.0  87.0  85.0  85.0  85.0  ...   68.0   \n",
       "17     89.0  89.0  89.0  90.0  90.0  90.0  90.0  90.0  89.0  89.0  ...   73.0   \n",
       "18     60.0  60.0  60.0  62.0  62.0  62.0  62.0  62.0  62.0  62.0  ...   60.0   \n",
       "19     60.0  60.0  60.0  62.0  62.0  62.0  62.0  62.0  62.0  62.0  ...   60.0   \n",
       "20     74.0  74.0  74.0  77.0  79.0  79.0  79.0  77.0  82.0  82.0  ...   82.0   \n",
       "21     88.0  88.0  88.0  84.0  86.0  86.0  86.0  84.0  83.0  83.0  ...   70.0   \n",
       "22     60.0  60.0  60.0  62.0  62.0  62.0  62.0  62.0  62.0  62.0  ...   60.0   \n",
       "23     89.0  89.0  89.0  89.0  90.0  90.0  90.0  89.0  88.0  88.0  ...   61.0   \n",
       "24     61.0  61.0  61.0  57.0  58.0  58.0  58.0  57.0  57.0  57.0  ...   77.0   \n",
       "25     88.0  88.0  88.0  90.0  90.0  90.0  90.0  90.0  89.0  89.0  ...   69.0   \n",
       "26     86.0  86.0  86.0  90.0  89.0  89.0  89.0  90.0  89.0  89.0  ...   73.0   \n",
       "27     75.0  75.0  75.0  72.0  76.0  76.0  76.0  72.0  77.0  77.0  ...   81.0   \n",
       "28     83.0  83.0  83.0  87.0  86.0  86.0  86.0  87.0  88.0  88.0  ...   72.0   \n",
       "29     81.0  81.0  81.0  89.0  88.0  88.0  88.0  89.0  89.0  89.0  ...   66.0   \n",
       "...     ...   ...   ...   ...   ...   ...   ...   ...   ...   ...  ...    ...   \n",
       "18177  49.0  49.0  49.0  47.0  48.0  48.0  48.0  47.0  46.0  46.0  ...   34.0   \n",
       "18178  60.0  60.0  60.0  62.0  62.0  62.0  62.0  62.0  62.0  62.0  ...   60.0   \n",
       "18179  36.0  36.0  36.0  34.0  34.0  34.0  34.0  34.0  33.0  33.0  ...   44.0   \n",
       "18180  60.0  60.0  60.0  62.0  62.0  62.0  62.0  62.0  62.0  62.0  ...   60.0   \n",
       "18181  46.0  46.0  46.0  46.0  45.0  45.0  45.0  46.0  44.0  44.0  ...   49.0   \n",
       "18182  42.0  42.0  42.0  44.0  43.0  43.0  43.0  44.0  45.0  45.0  ...   49.0   \n",
       "18183  60.0  60.0  60.0  62.0  62.0  62.0  62.0  62.0  62.0  62.0  ...   60.0   \n",
       "18184  43.0  43.0  43.0  45.0  45.0  45.0  45.0  45.0  47.0  47.0  ...   51.0   \n",
       "18185  45.0  45.0  45.0  46.0  46.0  46.0  46.0  46.0  47.0  47.0  ...   49.0   \n",
       "18186  45.0  45.0  45.0  48.0  46.0  46.0  46.0  48.0  49.0  49.0  ...   50.0   \n",
       "18187  48.0  48.0  48.0  49.0  48.0  48.0  48.0  49.0  47.0  47.0  ...   48.0   \n",
       "18188  47.0  47.0  47.0  51.0  50.0  50.0  50.0  51.0  50.0  50.0  ...   46.0   \n",
       "18189  47.0  47.0  47.0  50.0  48.0  48.0  48.0  50.0  48.0  48.0  ...   40.0   \n",
       "18190  44.0  44.0  44.0  44.0  46.0  46.0  46.0  44.0  46.0  46.0  ...   46.0   \n",
       "18191  41.0  41.0  41.0  45.0  42.0  42.0  42.0  45.0  43.0  43.0  ...   47.0   \n",
       "18192  46.0  46.0  46.0  47.0  46.0  46.0  46.0  47.0  47.0  47.0  ...   48.0   \n",
       "18193  37.0  37.0  37.0  40.0  38.0  38.0  38.0  40.0  37.0  37.0  ...   46.0   \n",
       "18194  60.0  60.0  60.0  62.0  62.0  62.0  62.0  62.0  62.0  62.0  ...   60.0   \n",
       "18195  46.0  46.0  46.0  46.0  46.0  46.0  46.0  46.0  47.0  47.0  ...   47.0   \n",
       "18196  42.0  42.0  42.0  45.0  45.0  45.0  45.0  45.0  47.0  47.0  ...   47.0   \n",
       "18197  47.0  47.0  47.0  51.0  50.0  50.0  50.0  51.0  51.0  51.0  ...   47.0   \n",
       "18198  60.0  60.0  60.0  62.0  62.0  62.0  62.0  62.0  62.0  62.0  ...   60.0   \n",
       "18199  44.0  44.0  44.0  45.0  46.0  46.0  46.0  45.0  46.0  46.0  ...   49.0   \n",
       "18200  47.0  47.0  47.0  46.0  47.0  47.0  47.0  46.0  46.0  46.0  ...   33.0   \n",
       "18201  34.0  34.0  34.0  31.0  32.0  32.0  32.0  31.0  30.0  30.0  ...   41.0   \n",
       "18202  44.0  44.0  44.0  46.0  46.0  46.0  46.0  46.0  47.0  47.0  ...   46.0   \n",
       "18203  47.0  47.0  47.0  41.0  44.0  44.0  44.0  41.0  42.0  42.0  ...   32.0   \n",
       "18204  47.0  47.0  47.0  47.0  48.0  48.0  48.0  47.0  46.0  46.0  ...   36.0   \n",
       "18205  49.0  49.0  49.0  49.0  48.0  48.0  48.0  49.0  47.0  47.0  ...   38.0   \n",
       "18206  45.0  45.0  45.0  47.0  46.0  46.0  46.0  47.0  47.0  47.0  ...   48.0   \n",
       "\n",
       "        LDM   CDM   RDM   RWB    LB   LCB    CB   RCB    RB  \n",
       "0      63.0  63.0  63.0  66.0  61.0  49.0  49.0  49.0  61.0  \n",
       "1      64.0  64.0  64.0  68.0  64.0  56.0  56.0  56.0  64.0  \n",
       "2      63.0  63.0  63.0  68.0  63.0  50.0  50.0  50.0  63.0  \n",
       "3      60.0  60.0  60.0  60.0  60.0  59.0  59.0  59.0  60.0  \n",
       "4      80.0  80.0  80.0  80.0  76.0  69.0  69.0  69.0  76.0  \n",
       "5      66.0  66.0  66.0  69.0  63.0  52.0  52.0  52.0  63.0  \n",
       "6      84.0  84.0  84.0  85.0  82.0  74.0  74.0  74.0  82.0  \n",
       "7      73.0  73.0  73.0  74.0  71.0  68.0  68.0  68.0  71.0  \n",
       "8      87.0  87.0  87.0  84.0  87.0  90.0  90.0  90.0  87.0  \n",
       "9      60.0  60.0  60.0  60.0  60.0  59.0  59.0  59.0  60.0  \n",
       "10     65.0  65.0  65.0  64.0  61.0  60.0  60.0  60.0  61.0  \n",
       "11     85.0  85.0  85.0  82.0  80.0  75.0  75.0  75.0  80.0  \n",
       "12     84.0  84.0  84.0  79.0  82.0  90.0  90.0  90.0  82.0  \n",
       "13     73.0  73.0  73.0  72.0  67.0  60.0  60.0  60.0  67.0  \n",
       "14     90.0  90.0  90.0  88.0  87.0  86.0  86.0  86.0  87.0  \n",
       "15     61.0  61.0  61.0  65.0  59.0  48.0  48.0  48.0  59.0  \n",
       "16     69.0  69.0  69.0  68.0  65.0  63.0  63.0  63.0  65.0  \n",
       "17     70.0  70.0  70.0  73.0  70.0  64.0  64.0  64.0  70.0  \n",
       "18     60.0  60.0  60.0  60.0  60.0  59.0  59.0  59.0  60.0  \n",
       "19     60.0  60.0  60.0  60.0  60.0  59.0  59.0  59.0  60.0  \n",
       "20     89.0  89.0  89.0  82.0  81.0  85.0  85.0  85.0  81.0  \n",
       "21     68.0  68.0  68.0  70.0  68.0  66.0  66.0  66.0  68.0  \n",
       "22     60.0  60.0  60.0  60.0  60.0  59.0  59.0  59.0  60.0  \n",
       "23     59.0  59.0  59.0  61.0  56.0  50.0  50.0  50.0  56.0  \n",
       "24     79.0  79.0  79.0  77.0  80.0  89.0  89.0  89.0  80.0  \n",
       "25     65.0  65.0  65.0  69.0  65.0  57.0  57.0  57.0  65.0  \n",
       "26     69.0  69.0  69.0  73.0  69.0  60.0  60.0  60.0  69.0  \n",
       "27     88.0  88.0  88.0  81.0  82.0  88.0  88.0  88.0  82.0  \n",
       "28     71.0  71.0  71.0  72.0  68.0  61.0  61.0  61.0  68.0  \n",
       "29     61.0  61.0  61.0  66.0  61.0  47.0  47.0  47.0  61.0  \n",
       "...     ...   ...   ...   ...   ...   ...   ...   ...   ...  \n",
       "18177  31.0  31.0  31.0  34.0  33.0  29.0  29.0  29.0  33.0  \n",
       "18178  60.0  60.0  60.0  60.0  60.0  59.0  59.0  59.0  60.0  \n",
       "18179  43.0  43.0  43.0  44.0  46.0  48.0  48.0  48.0  46.0  \n",
       "18180  60.0  60.0  60.0  60.0  60.0  59.0  59.0  59.0  60.0  \n",
       "18181  45.0  45.0  45.0  49.0  49.0  48.0  48.0  48.0  49.0  \n",
       "18182  49.0  49.0  49.0  49.0  49.0  48.0  48.0  48.0  49.0  \n",
       "18183  60.0  60.0  60.0  60.0  60.0  59.0  59.0  59.0  60.0  \n",
       "18184  52.0  52.0  52.0  51.0  51.0  52.0  52.0  52.0  51.0  \n",
       "18185  49.0  49.0  49.0  49.0  49.0  47.0  47.0  47.0  49.0  \n",
       "18186  50.0  50.0  50.0  50.0  50.0  51.0  51.0  51.0  50.0  \n",
       "18187  43.0  43.0  43.0  48.0  47.0  46.0  46.0  46.0  47.0  \n",
       "18188  43.0  43.0  43.0  46.0  45.0  41.0  41.0  41.0  45.0  \n",
       "18189  36.0  36.0  36.0  40.0  38.0  34.0  34.0  34.0  38.0  \n",
       "18190  47.0  47.0  47.0  46.0  47.0  46.0  46.0  46.0  47.0  \n",
       "18191  46.0  46.0  46.0  47.0  47.0  49.0  49.0  49.0  47.0  \n",
       "18192  48.0  48.0  48.0  48.0  49.0  49.0  49.0  49.0  49.0  \n",
       "18193  41.0  41.0  41.0  46.0  47.0  46.0  46.0  46.0  47.0  \n",
       "18194  60.0  60.0  60.0  60.0  60.0  59.0  59.0  59.0  60.0  \n",
       "18195  47.0  47.0  47.0  47.0  47.0  46.0  46.0  46.0  47.0  \n",
       "18196  49.0  49.0  49.0  47.0  48.0  49.0  49.0  49.0  48.0  \n",
       "18197  46.0  46.0  46.0  47.0  46.0  42.0  42.0  42.0  46.0  \n",
       "18198  60.0  60.0  60.0  60.0  60.0  59.0  59.0  59.0  60.0  \n",
       "18199  50.0  50.0  50.0  49.0  49.0  50.0  50.0  50.0  49.0  \n",
       "18200  30.0  30.0  30.0  33.0  32.0  29.0  29.0  29.0  32.0  \n",
       "18201  40.0  40.0  40.0  41.0  44.0  48.0  48.0  48.0  44.0  \n",
       "18202  47.0  47.0  47.0  46.0  47.0  47.0  47.0  47.0  47.0  \n",
       "18203  33.0  33.0  33.0  32.0  31.0  34.0  34.0  34.0  31.0  \n",
       "18204  32.0  32.0  32.0  36.0  35.0  30.0  30.0  30.0  35.0  \n",
       "18205  34.0  34.0  34.0  38.0  37.0  33.0  33.0  33.0  37.0  \n",
       "18206  48.0  48.0  48.0  48.0  48.0  49.0  49.0  49.0  48.0  \n",
       "\n",
       "[18159 rows x 26 columns]"
      ]
     },
     "execution_count": 809,
     "metadata": {},
     "output_type": "execute_result"
    }
   ],
   "source": [
    "df[position]"
   ]
  },
  {
   "cell_type": "code",
   "execution_count": 810,
   "metadata": {},
   "outputs": [
    {
     "data": {
      "text/plain": [
       "0"
      ]
     },
     "execution_count": 810,
     "metadata": {},
     "output_type": "execute_result"
    }
   ],
   "source": [
    "df[position].isnull().sum().sum()"
   ]
  },
  {
   "cell_type": "code",
   "execution_count": 811,
   "metadata": {},
   "outputs": [
    {
     "data": {
      "text/plain": [
       "array([[90.0, 90.0, 90.0, ..., 49.0, 49.0, 61.0],\n",
       "       [94.0, 94.0, 94.0, ..., 56.0, 56.0, 64.0],\n",
       "       [87.0, 87.0, 87.0, ..., 50.0, 50.0, 63.0],\n",
       "       ...,\n",
       "       [47.0, 47.0, 47.0, ..., 30.0, 30.0, 35.0],\n",
       "       [49.0, 49.0, 49.0, ..., 33.0, 33.0, 37.0],\n",
       "       [45.0, 45.0, 45.0, ..., 49.0, 49.0, 48.0]], dtype=object)"
      ]
     },
     "execution_count": 811,
     "metadata": {},
     "output_type": "execute_result"
    }
   ],
   "source": [
    "df[position].astype('category').values"
   ]
  },
  {
   "cell_type": "markdown",
   "metadata": {},
   "source": [
    "### Crossing"
   ]
  },
  {
   "cell_type": "code",
   "execution_count": 812,
   "metadata": {},
   "outputs": [
    {
     "data": {
      "text/plain": [
       "0"
      ]
     },
     "execution_count": 812,
     "metadata": {},
     "output_type": "execute_result"
    }
   ],
   "source": [
    "df['Crossing'].isnull().sum()"
   ]
  },
  {
   "cell_type": "code",
   "execution_count": 813,
   "metadata": {},
   "outputs": [
    {
     "data": {
      "text/plain": [
       "[84.0, 84.0, 79.0, 17.0, 93.0, ..., 34.0, 23.0, 25.0, 44.0, 41.0]\n",
       "Length: 18159\n",
       "Categories (89, float64): [5.0, 6.0, 7.0, 8.0, ..., 90.0, 91.0, 92.0, 93.0]"
      ]
     },
     "execution_count": 813,
     "metadata": {},
     "output_type": "execute_result"
    }
   ],
   "source": [
    "df['Crossing'].astype('category').values"
   ]
  },
  {
   "cell_type": "markdown",
   "metadata": {},
   "source": [
    "### Finishing"
   ]
  },
  {
   "cell_type": "code",
   "execution_count": 814,
   "metadata": {},
   "outputs": [
    {
     "data": {
      "text/plain": [
       "0"
      ]
     },
     "execution_count": 814,
     "metadata": {},
     "output_type": "execute_result"
    }
   ],
   "source": [
    "df['Finishing'].isnull().sum()"
   ]
  },
  {
   "cell_type": "code",
   "execution_count": 815,
   "metadata": {},
   "outputs": [
    {
     "data": {
      "text/plain": [
       "[95.0, 94.0, 87.0, 13.0, 82.0, ..., 38.0, 52.0, 40.0, 50.0, 34.0]\n",
       "Length: 18159\n",
       "Categories (93, float64): [2.0, 4.0, 5.0, 6.0, ..., 92.0, 93.0, 94.0, 95.0]"
      ]
     },
     "execution_count": 815,
     "metadata": {},
     "output_type": "execute_result"
    }
   ],
   "source": [
    "df['Finishing'].astype('category').values"
   ]
  },
  {
   "cell_type": "markdown",
   "metadata": {},
   "source": [
    "### HeadingAccuracy"
   ]
  },
  {
   "cell_type": "code",
   "execution_count": 816,
   "metadata": {},
   "outputs": [
    {
     "data": {
      "text/plain": [
       "0"
      ]
     },
     "execution_count": 816,
     "metadata": {},
     "output_type": "execute_result"
    }
   ],
   "source": [
    "df['HeadingAccuracy'].isnull().sum()"
   ]
  },
  {
   "cell_type": "code",
   "execution_count": 817,
   "metadata": {},
   "outputs": [
    {
     "data": {
      "text/plain": [
       "[70.0, 89.0, 62.0, 21.0, 55.0, ..., 40.0, 52.0, 46.0, 39.0, 46.0]\n",
       "Length: 18159\n",
       "Categories (91, float64): [4.0, 5.0, 6.0, 7.0, ..., 91.0, 92.0, 93.0, 94.0]"
      ]
     },
     "execution_count": 817,
     "metadata": {},
     "output_type": "execute_result"
    }
   ],
   "source": [
    "df['HeadingAccuracy'].astype('category').values"
   ]
  },
  {
   "cell_type": "markdown",
   "metadata": {},
   "source": [
    "### ShortPassing"
   ]
  },
  {
   "cell_type": "code",
   "execution_count": 818,
   "metadata": {},
   "outputs": [
    {
     "data": {
      "text/plain": [
       "0"
      ]
     },
     "execution_count": 818,
     "metadata": {},
     "output_type": "execute_result"
    }
   ],
   "source": [
    "df['ShortPassing'].isnull().sum()"
   ]
  },
  {
   "cell_type": "code",
   "execution_count": 819,
   "metadata": {},
   "outputs": [
    {
     "data": {
      "text/plain": [
       "[90.0, 81.0, 84.0, 50.0, 92.0, ..., 49.0, 43.0, 38.0, 42.0, 48.0]\n",
       "Length: 18159\n",
       "Categories (85, float64): [7.0, 8.0, 11.0, 12.0, ..., 90.0, 91.0, 92.0, 93.0]"
      ]
     },
     "execution_count": 819,
     "metadata": {},
     "output_type": "execute_result"
    }
   ],
   "source": [
    "df['ShortPassing'].astype('category').values"
   ]
  },
  {
   "cell_type": "markdown",
   "metadata": {},
   "source": [
    "### Volleys"
   ]
  },
  {
   "cell_type": "code",
   "execution_count": 820,
   "metadata": {},
   "outputs": [
    {
     "data": {
      "text/plain": [
       "0"
      ]
     },
     "execution_count": 820,
     "metadata": {},
     "output_type": "execute_result"
    }
   ],
   "source": [
    "df['Volleys'].isnull().sum()"
   ]
  },
  {
   "cell_type": "code",
   "execution_count": 821,
   "metadata": {},
   "outputs": [
    {
     "data": {
      "text/plain": [
       "[86.0, 87.0, 84.0, 13.0, 82.0, ..., 25.0, 36.0, 38.0, 40.0, 30.0]\n",
       "Length: 18159\n",
       "Categories (87, float64): [4.0, 5.0, 6.0, 7.0, ..., 87.0, 88.0, 89.0, 90.0]"
      ]
     },
     "execution_count": 821,
     "metadata": {},
     "output_type": "execute_result"
    }
   ],
   "source": [
    "df['Volleys'].astype('category').values"
   ]
  },
  {
   "cell_type": "markdown",
   "metadata": {},
   "source": [
    "### Dribbling"
   ]
  },
  {
   "cell_type": "code",
   "execution_count": 822,
   "metadata": {},
   "outputs": [
    {
     "data": {
      "text/plain": [
       "0"
      ]
     },
     "execution_count": 822,
     "metadata": {},
     "output_type": "execute_result"
    }
   ],
   "source": [
    "df['Dribbling'].isnull().sum()"
   ]
  },
  {
   "cell_type": "code",
   "execution_count": 823,
   "metadata": {},
   "outputs": [
    {
     "data": {
      "text/plain": [
       "[97.0, 88.0, 96.0, 18.0, 86.0, ..., 42.0, 39.0, 45.0, 51.0, 43.0]\n",
       "Length: 18159\n",
       "Categories (94, float64): [4.0, 5.0, 6.0, 7.0, ..., 94.0, 95.0, 96.0, 97.0]"
      ]
     },
     "execution_count": 823,
     "metadata": {},
     "output_type": "execute_result"
    }
   ],
   "source": [
    "df['Dribbling'].astype('category').values"
   ]
  },
  {
   "cell_type": "markdown",
   "metadata": {},
   "source": [
    "### Curve"
   ]
  },
  {
   "cell_type": "code",
   "execution_count": 824,
   "metadata": {},
   "outputs": [
    {
     "data": {
      "text/plain": [
       "0"
      ]
     },
     "execution_count": 824,
     "metadata": {},
     "output_type": "execute_result"
    }
   ],
   "source": [
    "df['Curve'].isnull().sum()"
   ]
  },
  {
   "cell_type": "code",
   "execution_count": 825,
   "metadata": {},
   "outputs": [
    {
     "data": {
      "text/plain": [
       "[93.0, 81.0, 88.0, 21.0, 85.0, ..., 30.0, 32.0, 38.0, 34.0, 40.0]\n",
       "Length: 18159\n",
       "Categories (89, float64): [6.0, 7.0, 8.0, 9.0, ..., 91.0, 92.0, 93.0, 94.0]"
      ]
     },
     "execution_count": 825,
     "metadata": {},
     "output_type": "execute_result"
    }
   ],
   "source": [
    "df['Curve'].astype('category').values"
   ]
  },
  {
   "cell_type": "markdown",
   "metadata": {},
   "source": [
    "### FKAccuracy"
   ]
  },
  {
   "cell_type": "code",
   "execution_count": 826,
   "metadata": {},
   "outputs": [
    {
     "data": {
      "text/plain": [
       "0"
      ]
     },
     "execution_count": 826,
     "metadata": {},
     "output_type": "execute_result"
    }
   ],
   "source": [
    "df['FKAccuracy'].isnull().sum()"
   ]
  },
  {
   "cell_type": "code",
   "execution_count": 827,
   "metadata": {},
   "outputs": [
    {
     "data": {
      "text/plain": [
       "[94.0, 76.0, 87.0, 19.0, 83.0, ..., 34.0, 20.0, 27.0, 32.0, 34.0]\n",
       "Length: 18159\n",
       "Categories (90, float64): [3.0, 4.0, 6.0, 7.0, ..., 91.0, 92.0, 93.0, 94.0]"
      ]
     },
     "execution_count": 827,
     "metadata": {},
     "output_type": "execute_result"
    }
   ],
   "source": [
    "df['FKAccuracy'].astype('category').values"
   ]
  },
  {
   "cell_type": "markdown",
   "metadata": {},
   "source": [
    "### LongPassing"
   ]
  },
  {
   "cell_type": "code",
   "execution_count": 828,
   "metadata": {},
   "outputs": [
    {
     "data": {
      "text/plain": [
       "0"
      ]
     },
     "execution_count": 828,
     "metadata": {},
     "output_type": "execute_result"
    }
   ],
   "source": [
    "df['LongPassing'].isnull().sum()"
   ]
  },
  {
   "cell_type": "code",
   "execution_count": 829,
   "metadata": {},
   "outputs": [
    {
     "data": {
      "text/plain": [
       "[87.0, 77.0, 78.0, 51.0, 91.0, ..., 45.0, 25.0, 28.0, 32.0, 44.0]\n",
       "Length: 18159\n",
       "Categories (84, float64): [9.0, 10.0, 11.0, 12.0, ..., 89.0, 90.0, 91.0, 93.0]"
      ]
     },
     "execution_count": 829,
     "metadata": {},
     "output_type": "execute_result"
    }
   ],
   "source": [
    "df['LongPassing'].astype('category').values"
   ]
  },
  {
   "cell_type": "markdown",
   "metadata": {},
   "source": [
    "### BallControl"
   ]
  },
  {
   "cell_type": "code",
   "execution_count": 830,
   "metadata": {},
   "outputs": [
    {
     "data": {
      "text/plain": [
       "0"
      ]
     },
     "execution_count": 830,
     "metadata": {},
     "output_type": "execute_result"
    }
   ],
   "source": [
    "df['BallControl'].isnull().sum()"
   ]
  },
  {
   "cell_type": "code",
   "execution_count": 831,
   "metadata": {},
   "outputs": [
    {
     "data": {
      "text/plain": [
       "[96.0, 94.0, 95.0, 42.0, 91.0, ..., 43.0, 40.0, 44.0, 52.0, 51.0]\n",
       "Length: 18159\n",
       "Categories (90, float64): [5.0, 8.0, 9.0, 10.0, ..., 93.0, 94.0, 95.0, 96.0]"
      ]
     },
     "execution_count": 831,
     "metadata": {},
     "output_type": "execute_result"
    }
   ],
   "source": [
    "df['BallControl'].astype('category').values"
   ]
  },
  {
   "cell_type": "markdown",
   "metadata": {},
   "source": [
    "### Acceleration"
   ]
  },
  {
   "cell_type": "code",
   "execution_count": 832,
   "metadata": {},
   "outputs": [
    {
     "data": {
      "text/plain": [
       "0"
      ]
     },
     "execution_count": 832,
     "metadata": {},
     "output_type": "execute_result"
    }
   ],
   "source": [
    "df['Acceleration'].isnull().sum()"
   ]
  },
  {
   "cell_type": "code",
   "execution_count": 833,
   "metadata": {},
   "outputs": [
    {
     "data": {
      "text/plain": [
       "[91.0, 89.0, 94.0, 57.0, 78.0, ..., 54.0, 41.0, 70.0, 61.0, 57.0]\n",
       "Length: 18159\n",
       "Categories (86, float64): [12.0, 13.0, 14.0, 15.0, ..., 94.0, 95.0, 96.0, 97.0]"
      ]
     },
     "execution_count": 833,
     "metadata": {},
     "output_type": "execute_result"
    }
   ],
   "source": [
    "df['Acceleration'].astype('category').values"
   ]
  },
  {
   "cell_type": "markdown",
   "metadata": {},
   "source": [
    "### SprintSpeed"
   ]
  },
  {
   "cell_type": "code",
   "execution_count": 834,
   "metadata": {},
   "outputs": [
    {
     "data": {
      "text/plain": [
       "0"
      ]
     },
     "execution_count": 834,
     "metadata": {},
     "output_type": "execute_result"
    }
   ],
   "source": [
    "df['SprintSpeed'].isnull().sum()"
   ]
  },
  {
   "cell_type": "code",
   "execution_count": 835,
   "metadata": {},
   "outputs": [
    {
     "data": {
      "text/plain": [
       "[86.0, 91.0, 90.0, 58.0, 76.0, ..., 57.0, 39.0, 69.0, 60.0, 55.0]\n",
       "Length: 18159\n",
       "Categories (85, float64): [12.0, 13.0, 14.0, 15.0, ..., 93.0, 94.0, 95.0, 96.0]"
      ]
     },
     "execution_count": 835,
     "metadata": {},
     "output_type": "execute_result"
    }
   ],
   "source": [
    "df['SprintSpeed'].astype('category').values"
   ]
  },
  {
   "cell_type": "markdown",
   "metadata": {},
   "source": [
    "### Agility"
   ]
  },
  {
   "cell_type": "code",
   "execution_count": 836,
   "metadata": {},
   "outputs": [
    {
     "data": {
      "text/plain": [
       "0"
      ]
     },
     "execution_count": 836,
     "metadata": {},
     "output_type": "execute_result"
    }
   ],
   "source": [
    "df['Agility'].isnull().sum()"
   ]
  },
  {
   "cell_type": "code",
   "execution_count": 837,
   "metadata": {},
   "outputs": [
    {
     "data": {
      "text/plain": [
       "[91.0, 87.0, 96.0, 60.0, 79.0, ..., 60.0, 38.0, 50.0, 52.0, 55.0]\n",
       "Length: 18159\n",
       "Categories (81, float64): [14.0, 15.0, 18.0, 19.0, ..., 93.0, 94.0, 95.0, 96.0]"
      ]
     },
     "execution_count": 837,
     "metadata": {},
     "output_type": "execute_result"
    }
   ],
   "source": [
    "df['Agility'].astype('category').values"
   ]
  },
  {
   "cell_type": "markdown",
   "metadata": {},
   "source": [
    "### Reactions"
   ]
  },
  {
   "cell_type": "code",
   "execution_count": 838,
   "metadata": {},
   "outputs": [
    {
     "data": {
      "text/plain": [
       "0"
      ]
     },
     "execution_count": 838,
     "metadata": {},
     "output_type": "execute_result"
    }
   ],
   "source": [
    "df['Reactions'].isnull().sum()"
   ]
  },
  {
   "cell_type": "code",
   "execution_count": 839,
   "metadata": {},
   "outputs": [
    {
     "data": {
      "text/plain": [
       "[95.0, 96.0, 94.0, 90.0, 91.0, ..., 49.0, 40.0, 47.0, 21.0, 51.0]\n",
       "Length: 18159\n",
       "Categories (68, float64): [21.0, 30.0, 31.0, 32.0, ..., 93.0, 94.0, 95.0, 96.0]"
      ]
     },
     "execution_count": 839,
     "metadata": {},
     "output_type": "execute_result"
    }
   ],
   "source": [
    "df['Reactions'].astype('category').values"
   ]
  },
  {
   "cell_type": "markdown",
   "metadata": {},
   "source": [
    "### Balance"
   ]
  },
  {
   "cell_type": "code",
   "execution_count": 840,
   "metadata": {},
   "outputs": [
    {
     "data": {
      "text/plain": [
       "0"
      ]
     },
     "execution_count": 840,
     "metadata": {},
     "output_type": "execute_result"
    }
   ],
   "source": [
    "df['Balance'].isnull().sum()"
   ]
  },
  {
   "cell_type": "code",
   "execution_count": 841,
   "metadata": {},
   "outputs": [
    {
     "data": {
      "text/plain": [
       "[95.0, 70.0, 84.0, 43.0, 77.0, ..., 76.0, 52.0, 58.0, 71.0, 63.0]\n",
       "Length: 18159\n",
       "Categories (81, float64): [16.0, 17.0, 18.0, 19.0, ..., 93.0, 94.0, 95.0, 96.0]"
      ]
     },
     "execution_count": 841,
     "metadata": {},
     "output_type": "execute_result"
    }
   ],
   "source": [
    "df['Balance'].astype('category').values"
   ]
  },
  {
   "cell_type": "markdown",
   "metadata": {},
   "source": [
    "## Features Selection"
   ]
  },
  {
   "cell_type": "markdown",
   "metadata": {},
   "source": [
    "After we clean up the dataset, we can start to choose the features of the model. we first investigate the high correlated value with target variable."
   ]
  },
  {
   "cell_type": "code",
   "execution_count": 842,
   "metadata": {
    "scrolled": true
   },
   "outputs": [
    {
     "data": {
      "text/plain": [
       "Value                       0.858216\n",
       "International Reputation    0.668855\n",
       "Overall                     0.572363\n",
       "Reactions                   0.496137\n",
       "Potential                   0.486711\n",
       "RCM                         0.436270\n",
       "LCM                         0.436270\n",
       "CM                          0.436270\n",
       "Composure                   0.419800\n",
       "RS                          0.396013\n",
       "LS                          0.396013\n",
       "ST                          0.396013\n",
       "RAM                         0.392832\n",
       "CAM                         0.392832\n",
       "LAM                         0.392832\n",
       "LM                          0.390451\n",
       "RM                          0.390451\n",
       "LF                          0.385969\n",
       "RF                          0.385969\n",
       "CF                          0.385969\n",
       "LW                          0.370526\n",
       "RW                          0.370526\n",
       "Special                     0.348012\n",
       "LWB                         0.337174\n",
       "RWB                         0.337174\n",
       "LDM                         0.317811\n",
       "CDM                         0.317811\n",
       "RDM                         0.317811\n",
       "Vision                      0.315153\n",
       "ShortPassing                0.296649\n",
       "                              ...   \n",
       "Positioning                 0.226672\n",
       "RCB                         0.224595\n",
       "CB                          0.224595\n",
       "LCB                         0.224595\n",
       "Penalties                   0.222626\n",
       "Finishing                   0.217378\n",
       "Aggression                  0.194635\n",
       "HeadingAccuracy             0.188116\n",
       "Stamina                     0.177801\n",
       "Interceptions               0.157570\n",
       "Agility                     0.156213\n",
       "Marking                     0.145812\n",
       "Age                         0.141900\n",
       "Weak Foot                   0.140952\n",
       "Strength                    0.139329\n",
       "SprintSpeed                 0.130461\n",
       "Jumping                     0.129471\n",
       "StandingTackle              0.126462\n",
       "Acceleration                0.125183\n",
       "SlidingTackle               0.111216\n",
       "Balance                     0.088974\n",
       "Weight                      0.064909\n",
       "Height                      0.019666\n",
       "Left                        0.014752\n",
       "Right                      -0.014752\n",
       "GKHandling                 -0.025004\n",
       "GKPositioning              -0.025280\n",
       "GKDiving                   -0.025416\n",
       "GKReflexes                 -0.025806\n",
       "GKKicking                  -0.028129\n",
       "Name: Wage, Length: 72, dtype: float64"
      ]
     },
     "execution_count": 842,
     "metadata": {},
     "output_type": "execute_result"
    }
   ],
   "source": [
    "wage_corr_seq = (df.corr()['Wage']).sort_values(ascending=False).drop('Wage')\n",
    "wage_corr_seq"
   ]
  },
  {
   "cell_type": "code",
   "execution_count": 843,
   "metadata": {},
   "outputs": [
    {
     "data": {
      "image/png": "[encoded data removed]",
      "text/plain": [
       "<Figure size 720x720 with 72 Axes>"
      ]
     },
     "metadata": {
      "needs_background": "light"
     },
     "output_type": "display_data"
    }
   ],
   "source": [
    "fig, axes = plt.subplots(nrows=9, ncols=8, figsize=(10,10))\n",
    "plt.subplots_adjust(left = -0.5, bottom=-0.5, hspace=1.0, wspace=1.0)\n",
    "\n",
    "corr_to_wage = pd.Series()\n",
    "for col in df.columns.values[1:]:\n",
    "    if (((col!='Wage') & (col!='Name') & (col!='Preferred Foot'))):\n",
    "        corr_to_wage[col] = df['Wage'].corr(df[col])\n",
    "abs_corr_to_wage = corr_to_wage.abs().sort_values(ascending=False)\n",
    "corr_to_wage = corr_to_wage.loc[abs_corr_to_wage.index]\n",
    "\n",
    "for i in range(9):\n",
    "    for j in range(8):\n",
    "        sns.regplot(x=corr_to_wage.index.values[i*8+j], y='Wage', data=df,\n",
    "                   ax=axes[i,j], fit_reg=False, marker='.')\n",
    "#         title = 'correlation='+str(corr_to_wage[i*5+j])\n",
    "#         axes[i,j].set_title(title)\n",
    "axes[1,2].set_xlim(0,102)\n",
    "plt.show()"
   ]
  },
  {
   "cell_type": "markdown",
   "metadata": {},
   "source": [
    "We choose several features for constructing different models and investigate which model is the best one. We first choose ten highest correlation with wage, which are 'Preferred Foot', 'Value', 'Overall', 'Reactions', 'Potential', 'RCM', 'LCM', 'CM', 'Composure', 'RS'."
   ]
  },
  {
   "cell_type": "code",
   "execution_count": 844,
   "metadata": {},
   "outputs": [],
   "source": [
    "features = ['Left', 'Value', 'Overall', 'Reactions', 'Potential', 'RCM', 'LCM', 'CM', 'Composure', 'RS']"
   ]
  },
  {
   "cell_type": "markdown",
   "metadata": {},
   "source": [
    "### Significant"
   ]
  },
  {
   "cell_type": "markdown",
   "metadata": {},
   "source": [
    "In order to research whether the features are significant. We use t-test for calculating p value for this task."
   ]
  },
  {
   "cell_type": "code",
   "execution_count": 845,
   "metadata": {},
   "outputs": [
    {
     "data": {
      "image/png": "[encoded data removed]",
      "text/plain": [
       "<Figure size 1152x864 with 2 Axes>"
      ]
     },
     "metadata": {
      "needs_background": "light"
     },
     "output_type": "display_data"
    }
   ],
   "source": [
    "allFeatures = df[abs_corr_to_wage.index[:20]].columns\n",
    "matrix = [[0 for x in range(len(allFeatures))] for y in range(len(allFeatures))] \n",
    "for i in range(len(allFeatures)):\n",
    "    for j in range(len(allFeatures)):\n",
    "        t, p = stats.ttest_ind(df[allFeatures[i]], df[allFeatures[j]])\n",
    "        matrix[i][j] = p\n",
    "sign = pd.DataFrame(data=matrix)\n",
    "plt.figure(figsize=(16,12))\n",
    "sns.heatmap(data=sign,annot=True,fmt='.2f',cmap='coolwarm')\n",
    "plt.show()"
   ]
  },
  {
   "cell_type": "markdown",
   "metadata": {},
   "source": [
    "It turns out that the p value between choosn features are very small, which means the features are significant to each others."
   ]
  },
  {
   "cell_type": "markdown",
   "metadata": {},
   "source": [
    "## Modeling"
   ]
  },
  {
   "cell_type": "markdown",
   "metadata": {},
   "source": [
    "### Training and Testing"
   ]
  },
  {
   "cell_type": "code",
   "execution_count": 846,
   "metadata": {},
   "outputs": [],
   "source": [
    "def buildLRModel(f):\n",
    "    scores = []\n",
    "    models = []\n",
    "    train_X = []\n",
    "    train_Y = []\n",
    "    test_X = []\n",
    "    test_Y = []\n",
    "    \n",
    "    for i in range(0, len(f)):\n",
    "        train, test = train_test_split(df, test_size=0.3, shuffle=True)\n",
    "        training_feature = f[0:i+1]\n",
    "        target = 'Wage'\n",
    "        train_X.append(train[training_feature])\n",
    "        train_Y.append(train[target])\n",
    "        test_X.append(test[training_feature])\n",
    "        test_Y.append(test[target])\n",
    "        model = sm.OLS(train[target], train[training_feature])\n",
    "        result = model.fit()\n",
    "        score = result.rsquared\n",
    "        \n",
    "        models.append(result)\n",
    "        scores.append(score)\n",
    "    return [scores, models, train_X, train_Y, test_X, test_Y]"
   ]
  },
  {
   "cell_type": "code",
   "execution_count": 847,
   "metadata": {},
   "outputs": [],
   "source": [
    "[scores, models, train_X, train_Y, test_X, test_Y] = buildLRModel(features)"
   ]
  },
  {
   "cell_type": "code",
   "execution_count": 848,
   "metadata": {},
   "outputs": [
    {
     "data": {
      "text/plain": [
       "[<matplotlib.lines.Line2D at 0x2a8af9a7940>]"
      ]
     },
     "execution_count": 848,
     "metadata": {},
     "output_type": "execute_result"
    },
    {
     "data": {
      "image/png": "[encoded data removed]",
      "text/plain": [
       "<Figure size 432x288 with 1 Axes>"
      ]
     },
     "metadata": {
      "needs_background": "light"
     },
     "output_type": "display_data"
    }
   ],
   "source": [
    "plt.plot(scores)"
   ]
  },
  {
   "cell_type": "markdown",
   "metadata": {},
   "source": [
    "We use the modelIndex linear regression library to train our model and calculate the accuracy with testing data as the diagram shown above. Then, we choose the model which have more than 5 features and also has minimum R square below."
   ]
  },
  {
   "cell_type": "code",
   "execution_count": 849,
   "metadata": {},
   "outputs": [
    {
     "data": {
      "image/png": "[encoded data removed]",
      "text/plain": [
       "<Figure size 432x288 with 1 Axes>"
      ]
     },
     "metadata": {
      "needs_background": "light"
     },
     "output_type": "display_data"
    }
   ],
   "source": [
    "while scores.index(max(scores)) < 6:\n",
    "    [scores, models, train_X, train_Y, test_X, test_Y] = buildLRModel(features)\n",
    "plt.plot(scores)\n",
    "modelIndex = scores.index(max(scores))"
   ]
  },
  {
   "cell_type": "code",
   "execution_count": 850,
   "metadata": {},
   "outputs": [
    {
     "name": "stdout",
     "output_type": "stream",
     "text": [
      "model number: 7, R^2: 0.7924109976509329\n"
     ]
    }
   ],
   "source": [
    "print(\"model number: \" + str(modelIndex) + \", R^2: \" + str(scores[modelIndex]))"
   ]
  },
  {
   "cell_type": "code",
   "execution_count": 851,
   "metadata": {},
   "outputs": [
    {
     "data": {
      "text/plain": [
       "<matplotlib.collections.PathCollection at 0x2a8a99394a8>"
      ]
     },
     "execution_count": 851,
     "metadata": {},
     "output_type": "execute_result"
    },
    {
     "data": {
      "image/png": "[encoded data removed]",
      "text/plain": [
       "<Figure size 432x288 with 1 Axes>"
      ]
     },
     "metadata": {
      "needs_background": "light"
     },
     "output_type": "display_data"
    }
   ],
   "source": [
    "# plt.scatter(train_Y[modelIndex].index.values, train_Y[modelIndex])\n",
    "plt.scatter(test_Y[modelIndex].index.values, test_Y[modelIndex])\n",
    "plt.scatter(train_Y[modelIndex].index.values, models[modelIndex].predict())"
   ]
  },
  {
   "cell_type": "markdown",
   "metadata": {},
   "source": [
    "We show the results of the test data comparing target variable with the predict result, as the diagram above. The distribution seems corresponding to each other."
   ]
  },
  {
   "cell_type": "markdown",
   "metadata": {},
   "source": [
    "### Cross Validation"
   ]
  },
  {
   "cell_type": "code",
   "execution_count": 852,
   "metadata": {},
   "outputs": [],
   "source": [
    "def buildLRModelCV(f):\n",
    "    scores_CV = []\n",
    "    \n",
    "    for i in range(0, len(f)):\n",
    "        training_feature = f[0:i+1]\n",
    "        target = 'Wage'\n",
    "        model = LinearRegression()\n",
    "        score = cross_val_score(model, df[training_feature], df[target], cv=5, scoring='homogeneity_score')\n",
    "        scores_CV.append(sum(score)/len(score))\n",
    "    return scores_CV"
   ]
  },
  {
   "cell_type": "code",
   "execution_count": 853,
   "metadata": {},
   "outputs": [],
   "source": [
    "scores_CV = buildLRModelCV(features)"
   ]
  },
  {
   "cell_type": "code",
   "execution_count": 854,
   "metadata": {},
   "outputs": [
    {
     "data": {
      "text/plain": [
       "[<matplotlib.lines.Line2D at 0x2a8a9704278>]"
      ]
     },
     "execution_count": 854,
     "metadata": {},
     "output_type": "execute_result"
    },
    {
     "data": {
      "image/png": "[encoded data removed]",
      "text/plain": [
       "<Figure size 432x288 with 1 Axes>"
      ]
     },
     "metadata": {
      "needs_background": "light"
     },
     "output_type": "display_data"
    }
   ],
   "source": [
    "plt.plot(scores_CV)"
   ]
  },
  {
   "cell_type": "code",
   "execution_count": 855,
   "metadata": {},
   "outputs": [],
   "source": [
    "modelIndex_CV = scores_CV.index(max(scores_CV))"
   ]
  },
  {
   "cell_type": "markdown",
   "metadata": {},
   "source": [
    "The scores_CV shows the average cross validation scores of these ten models. We can clearly see that the score increasing drastically after we using more than two features in a model. As the result, we can select the model which can explain the observed data better."
   ]
  },
  {
   "cell_type": "markdown",
   "metadata": {},
   "source": [
    "###  AIC, BIC and adjusted R^2"
   ]
  },
  {
   "cell_type": "code",
   "execution_count": 856,
   "metadata": {},
   "outputs": [
    {
     "data": {
      "text/html": [
       "<table class=\"simpletable\">\n",
       "<caption>OLS Regression Results</caption>\n",
       "<tr>\n",
       "  <th>Dep. Variable:</th>          <td>Wage</td>       <th>  R-squared:         </th>  <td>   0.792</td>  \n",
       "</tr>\n",
       "<tr>\n",
       "  <th>Model:</th>                   <td>OLS</td>       <th>  Adj. R-squared:    </th>  <td>   0.792</td>  \n",
       "</tr>\n",
       "<tr>\n",
       "  <th>Method:</th>             <td>Least Squares</td>  <th>  F-statistic:       </th>  <td>   8083.</td>  \n",
       "</tr>\n",
       "<tr>\n",
       "  <th>Date:</th>             <td>Mon, 25 Feb 2019</td> <th>  Prob (F-statistic):</th>   <td>  0.00</td>   \n",
       "</tr>\n",
       "<tr>\n",
       "  <th>Time:</th>                 <td>01:45:27</td>     <th>  Log-Likelihood:    </th> <td>-1.3627e+05</td>\n",
       "</tr>\n",
       "<tr>\n",
       "  <th>No. Observations:</th>      <td> 12711</td>      <th>  AIC:               </th>  <td>2.726e+05</td> \n",
       "</tr>\n",
       "<tr>\n",
       "  <th>Df Residuals:</th>          <td> 12705</td>      <th>  BIC:               </th>  <td>2.726e+05</td> \n",
       "</tr>\n",
       "<tr>\n",
       "  <th>Df Model:</th>              <td>     6</td>      <th>                     </th>      <td> </td>     \n",
       "</tr>\n",
       "<tr>\n",
       "  <th>Covariance Type:</th>      <td>nonrobust</td>    <th>                     </th>      <td> </td>     \n",
       "</tr>\n",
       "</table>\n",
       "<table class=\"simpletable\">\n",
       "<tr>\n",
       "      <td></td>         <th>coef</th>     <th>std err</th>      <th>t</th>      <th>P>|t|</th>  <th>[0.025</th>    <th>0.975]</th>  \n",
       "</tr>\n",
       "<tr>\n",
       "  <th>Left</th>      <td>   60.5333</td> <td>  231.296</td> <td>    0.262</td> <td> 0.794</td> <td> -392.841</td> <td>  513.907</td>\n",
       "</tr>\n",
       "<tr>\n",
       "  <th>Value</th>     <td>    0.0034</td> <td> 1.85e-05</td> <td>  182.266</td> <td> 0.000</td> <td>    0.003</td> <td>    0.003</td>\n",
       "</tr>\n",
       "<tr>\n",
       "  <th>Overall</th>   <td>  241.0731</td> <td>   31.618</td> <td>    7.625</td> <td> 0.000</td> <td>  179.097</td> <td>  303.049</td>\n",
       "</tr>\n",
       "<tr>\n",
       "  <th>Reactions</th> <td>    0.7227</td> <td>   20.956</td> <td>    0.034</td> <td> 0.972</td> <td>  -40.355</td> <td>   41.800</td>\n",
       "</tr>\n",
       "<tr>\n",
       "  <th>Potential</th> <td> -187.9810</td> <td>   17.730</td> <td>  -10.603</td> <td> 0.000</td> <td> -222.734</td> <td> -153.228</td>\n",
       "</tr>\n",
       "<tr>\n",
       "  <th>RCM</th>       <td>   -5.4252</td> <td>    5.675</td> <td>   -0.956</td> <td> 0.339</td> <td>  -16.549</td> <td>    5.699</td>\n",
       "</tr>\n",
       "<tr>\n",
       "  <th>LCM</th>       <td>   -5.4252</td> <td>    5.675</td> <td>   -0.956</td> <td> 0.339</td> <td>  -16.549</td> <td>    5.699</td>\n",
       "</tr>\n",
       "<tr>\n",
       "  <th>CM</th>        <td>   -5.4252</td> <td>    5.675</td> <td>   -0.956</td> <td> 0.339</td> <td>  -16.549</td> <td>    5.699</td>\n",
       "</tr>\n",
       "</table>\n",
       "<table class=\"simpletable\">\n",
       "<tr>\n",
       "  <th>Omnibus:</th>       <td>8446.723</td> <th>  Durbin-Watson:     </th>  <td>   1.984</td>  \n",
       "</tr>\n",
       "<tr>\n",
       "  <th>Prob(Omnibus):</th>  <td> 0.000</td>  <th>  Jarque-Bera (JB):  </th> <td>1006418.516</td>\n",
       "</tr>\n",
       "<tr>\n",
       "  <th>Skew:</th>           <td> 2.306</td>  <th>  Prob(JB):          </th>  <td>    0.00</td>  \n",
       "</tr>\n",
       "<tr>\n",
       "  <th>Kurtosis:</th>       <td>46.347</td>  <th>  Cond. No.          </th>  <td>8.93e+20</td>  \n",
       "</tr>\n",
       "</table><br/><br/>Warnings:<br/>[1] Standard Errors assume that the covariance matrix of the errors is correctly specified.<br/>[2] The smallest eigenvalue is 5.85e-25. This might indicate that there are<br/>strong multicollinearity problems or that the design matrix is singular."
      ],
      "text/plain": [
       "<class 'statsmodels.iolib.summary.Summary'>\n",
       "\"\"\"\n",
       "                            OLS Regression Results                            \n",
       "==============================================================================\n",
       "Dep. Variable:                   Wage   R-squared:                       0.792\n",
       "Model:                            OLS   Adj. R-squared:                  0.792\n",
       "Method:                 Least Squares   F-statistic:                     8083.\n",
       "Date:                Mon, 25 Feb 2019   Prob (F-statistic):               0.00\n",
       "Time:                        01:45:27   Log-Likelihood:            -1.3627e+05\n",
       "No. Observations:               12711   AIC:                         2.726e+05\n",
       "Df Residuals:                   12705   BIC:                         2.726e+05\n",
       "Df Model:                           6                                         \n",
       "Covariance Type:            nonrobust                                         \n",
       "==============================================================================\n",
       "                 coef    std err          t      P>|t|      [0.025      0.975]\n",
       "------------------------------------------------------------------------------\n",
       "Left          60.5333    231.296      0.262      0.794    -392.841     513.907\n",
       "Value          0.0034   1.85e-05    182.266      0.000       0.003       0.003\n",
       "Overall      241.0731     31.618      7.625      0.000     179.097     303.049\n",
       "Reactions      0.7227     20.956      0.034      0.972     -40.355      41.800\n",
       "Potential   -187.9810     17.730    -10.603      0.000    -222.734    -153.228\n",
       "RCM           -5.4252      5.675     -0.956      0.339     -16.549       5.699\n",
       "LCM           -5.4252      5.675     -0.956      0.339     -16.549       5.699\n",
       "CM            -5.4252      5.675     -0.956      0.339     -16.549       5.699\n",
       "==============================================================================\n",
       "Omnibus:                     8446.723   Durbin-Watson:                   1.984\n",
       "Prob(Omnibus):                  0.000   Jarque-Bera (JB):          1006418.516\n",
       "Skew:                           2.306   Prob(JB):                         0.00\n",
       "Kurtosis:                      46.347   Cond. No.                     8.93e+20\n",
       "==============================================================================\n",
       "\n",
       "Warnings:\n",
       "[1] Standard Errors assume that the covariance matrix of the errors is correctly specified.\n",
       "[2] The smallest eigenvalue is 5.85e-25. This might indicate that there are\n",
       "strong multicollinearity problems or that the design matrix is singular.\n",
       "\"\"\""
      ]
     },
     "execution_count": 856,
     "metadata": {},
     "output_type": "execute_result"
    }
   ],
   "source": [
    "models[modelIndex].summary()"
   ]
  },
  {
   "cell_type": "code",
   "execution_count": 857,
   "metadata": {},
   "outputs": [
    {
     "name": "stdout",
     "output_type": "stream",
     "text": [
      "model 0 AIC: 292285.4183868056\n",
      "model 1 AIC: 272824.8758064079\n",
      "model 2 AIC: 272911.2447502001\n",
      "model 3 AIC: 273146.2470662666\n",
      "model 4 AIC: 273613.64115382324\n",
      "model 5 AIC: 272184.4699053622\n",
      "model 6 AIC: 273104.59206335363\n",
      "model 7 AIC: 272561.7494813091\n",
      "model 8 AIC: 272928.5712199181\n",
      "model 9 AIC: 272507.5780274747\n"
     ]
    }
   ],
   "source": [
    "for i in range(len(features)):\n",
    "    model = models[i]\n",
    "    print(\"model \" + str(i) + \" AIC: \" + str(model.aic))"
   ]
  },
  {
   "cell_type": "markdown",
   "metadata": {},
   "source": [
    "Comparing the AIC between the choosing model and the others, we find that the model 8 has the minimum AIC. We say that model 8 can predict on new data better"
   ]
  },
  {
   "cell_type": "markdown",
   "metadata": {},
   "source": [
    "# Conclusion"
   ]
  },
  {
   "cell_type": "markdown",
   "metadata": {},
   "source": [
    "We first clean up the dataset, eliminating the NaN values and the unnormal values. After we clean up the dataset, we investigate the correlation relationship between the features and selected out ten features for building different models. Meanwhile, we using t-testing and p-value to exam whether the features are significant to each other. We found out the choosing features are all significant. Later on, we started training our models. At first, we calculated the R square value and chose the highest model, which represent the best model can explain the observe data. Then, we cited cross validation to check whether the models is good for the whole dataset. In addition to choose the model that can predict on new data best, we calculated the AIC and choose the lowest AIC value model. In conclusion, we have the model that can best describe our dataset and the model that can best predict the new coming data.  "
   ]
  },
  {
   "cell_type": "markdown",
   "metadata": {},
   "source": [
    "# Contributions"
   ]
  },
  {
   "cell_type": "markdown",
   "metadata": {},
   "source": [
    "99.999 %"
   ]
  },
  {
   "cell_type": "markdown",
   "metadata": {},
   "source": [
    "# citations"
   ]
  },
  {
   "cell_type": "markdown",
   "metadata": {},
   "source": [
    "https://www.statsmodels.org/stable/regression.html"
   ]
  },
  {
   "cell_type": "markdown",
   "metadata": {},
   "source": [
    "https://stats.stackexchange.com/questions/140965/when-aic-and-adjusted-r2-lead-to-different-conclusions"
   ]
  },
  {
   "cell_type": "markdown",
   "metadata": {},
   "source": [
    "https://scikit-learn.org/stable/modules/linear_model.html"
   ]
  },
  {
   "cell_type": "markdown",
   "metadata": {},
   "source": [
    "https://scikit-learn.org/stable/modules/generated/sklearn.model_selection.cross_val_score.html#examples-using-sklearn-model-selection-cross-val-score"
   ]
  },
  {
   "cell_type": "markdown",
   "metadata": {},
   "source": [
    "# License"
   ]
  },
  {
   "cell_type": "markdown",
   "metadata": {},
   "source": [
    "Copyright 2019 PinHo Wang\n",
    "\n",
    "Permission is hereby granted, free of charge, to any person obtaining a copy of this software and associated documentation files (the \"Software\"), to deal in the Software without restriction, including without limitation the rights to use, copy, modify, merge, publish, distribute, sublicense, and/or sell copies of the Software, and to permit persons to whom the Software is furnished to do so, subject to the following conditions:\n",
    "\n",
    "The above copyright notice and this permission notice shall be included in all copies or substantial portions of the Software.\n",
    "\n",
    "THE SOFTWARE IS PROVIDED \"AS IS\", WITHOUT WARRANTY OF ANY KIND, EXPRESS OR IMPLIED, INCLUDING BUT NOT LIMITED TO THE WARRANTIES OF MERCHANTABILITY, FITNESS FOR A PARTICULAR PURPOSE AND NONINFRINGEMENT. IN NO EVENT SHALL THE AUTHORS OR COPYRIGHT HOLDERS BE LIABLE FOR ANY CLAIM, DAMAGES OR OTHER LIABILITY, WHETHER IN AN ACTION OF CONTRACT, TORT OR OTHERWISE, ARISING FROM, OUT OF OR IN CONNECTION WITH THE SOFTWARE OR THE USE OR OTHER DEALINGS IN THE SOFTWARE."
   ]
  },
  {
   "cell_type": "code",
   "execution_count": null,
   "metadata": {},
   "outputs": [],
   "source": []
  }
 ],
 "metadata": {
  "kernelspec": {
   "display_name": "Python 3",
   "language": "python",
   "name": "python3"
  },
  "language_info": {
   "codemirror_mode": {
    "name": "ipython",
    "version": 3
   },
   "file_extension": ".py",
   "mimetype": "text/x-python",
   "name": "python",
   "nbconvert_exporter": "python",
   "pygments_lexer": "ipython3",
   "version": "3.7.2"
  }
 },
 "nbformat": 4,
 "nbformat_minor": 2
}
