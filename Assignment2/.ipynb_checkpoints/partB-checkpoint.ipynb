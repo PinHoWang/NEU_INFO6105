{
 "cells": [
  {
   "cell_type": "markdown",
   "metadata": {},
   "source": [
    "# FIFA 2018 - Assignment 2 (Part B - Logistic model)"
   ]
  },
  {
   "cell_type": "markdown",
   "metadata": {},
   "source": [
    "# Abstract"
   ]
  },
  {
   "cell_type": "markdown",
   "metadata": {},
   "source": []
  },
  {
   "cell_type": "markdown",
   "metadata": {},
   "source": [
    "# Experiments"
   ]
  },
  {
   "cell_type": "markdown",
   "metadata": {},
   "source": [
    "## Data Preprocessing"
   ]
  },
  {
   "cell_type": "code",
   "execution_count": 237,
   "metadata": {},
   "outputs": [],
   "source": [
    "import pandas as pd\n",
    "import seaborn as sns\n",
    "import matplotlib.pyplot as plt\n",
    "import numpy as np\n",
    "from sklearn.linear_model import LogisticRegression\n",
    "from sklearn.model_selection import train_test_split\n",
    "from sklearn.metrics import mean_squared_error, mean_squared_log_error\n",
    "from scipy import stats"
   ]
  },
  {
   "cell_type": "code",
   "execution_count": 238,
   "metadata": {},
   "outputs": [],
   "source": [
    "df = pd.read_csv('data.csv', decimal = ',')"
   ]
  },
  {
   "cell_type": "code",
   "execution_count": null,
   "metadata": {},
   "outputs": [],
   "source": []
  },
  {
   "cell_type": "code",
   "execution_count": 239,
   "metadata": {},
   "outputs": [],
   "source": [
    "df = df.drop(columns=['Unnamed: 0', 'ID', 'Photo', 'Nationality', 'Flag', 'Club', 'Club Logo', 'Work Rate', 'Real Face', 'Jersey Number', 'Joined', 'Loaned From', 'Contract Valid Until', 'Body Type', 'Position', 'Release Clause'])"
   ]
  },
  {
   "cell_type": "markdown",
   "metadata": {},
   "source": [
    "## Target Variable"
   ]
  },
  {
   "cell_type": "markdown",
   "metadata": {},
   "source": [
    "For the logistic model, our task is to build a model that can predict the international reputation, which is the target variable, of the players. The value of the target variable is 1 to 5, we can define if the result of a player is higher than 3, he/she has high international reputation, otherwise low internation reputation."
   ]
  },
  {
   "cell_type": "code",
   "execution_count": 240,
   "metadata": {},
   "outputs": [
    {
     "data": {
      "text/plain": [
       "48"
      ]
     },
     "execution_count": 240,
     "metadata": {},
     "output_type": "execute_result"
    }
   ],
   "source": [
    "df['International Reputation'].isnull().sum()"
   ]
  },
  {
   "cell_type": "code",
   "execution_count": 241,
   "metadata": {},
   "outputs": [],
   "source": [
    "df = df[~df['International Reputation'].isnull()]"
   ]
  },
  {
   "cell_type": "code",
   "execution_count": 242,
   "metadata": {},
   "outputs": [
    {
     "data": {
      "text/plain": [
       "0"
      ]
     },
     "execution_count": 242,
     "metadata": {},
     "output_type": "execute_result"
    }
   ],
   "source": [
    "df['International Reputation'].isnull().sum()"
   ]
  },
  {
   "cell_type": "code",
   "execution_count": 243,
   "metadata": {},
   "outputs": [
    {
     "data": {
      "text/plain": [
       "0        5.0\n",
       "1        5.0\n",
       "2        5.0\n",
       "3        4.0\n",
       "4        4.0\n",
       "5        4.0\n",
       "6        4.0\n",
       "7        5.0\n",
       "8        4.0\n",
       "9        3.0\n",
       "10       4.0\n",
       "11       4.0\n",
       "12       3.0\n",
       "13       4.0\n",
       "14       3.0\n",
       "15       3.0\n",
       "16       3.0\n",
       "17       4.0\n",
       "18       3.0\n",
       "19       4.0\n",
       "20       4.0\n",
       "21       4.0\n",
       "22       5.0\n",
       "23       4.0\n",
       "24       4.0\n",
       "25       3.0\n",
       "26       3.0\n",
       "27       3.0\n",
       "28       4.0\n",
       "29       3.0\n",
       "        ... \n",
       "18177    1.0\n",
       "18178    1.0\n",
       "18179    1.0\n",
       "18180    1.0\n",
       "18181    1.0\n",
       "18182    1.0\n",
       "18183    1.0\n",
       "18184    1.0\n",
       "18185    1.0\n",
       "18186    1.0\n",
       "18187    1.0\n",
       "18188    1.0\n",
       "18189    1.0\n",
       "18190    1.0\n",
       "18191    1.0\n",
       "18192    1.0\n",
       "18193    1.0\n",
       "18194    1.0\n",
       "18195    1.0\n",
       "18196    1.0\n",
       "18197    1.0\n",
       "18198    1.0\n",
       "18199    1.0\n",
       "18200    1.0\n",
       "18201    1.0\n",
       "18202    1.0\n",
       "18203    1.0\n",
       "18204    1.0\n",
       "18205    1.0\n",
       "18206    1.0\n",
       "Name: International Reputation, Length: 18159, dtype: category\n",
       "Categories (5, float64): [1.0, 2.0, 3.0, 4.0, 5.0]"
      ]
     },
     "execution_count": 243,
     "metadata": {},
     "output_type": "execute_result"
    }
   ],
   "source": [
    "# make sure all the values are in the range of 1 to 5\n",
    "df['International Reputation'].astype('category')"
   ]
  },
  {
   "cell_type": "code",
   "execution_count": 244,
   "metadata": {},
   "outputs": [],
   "source": [
    "df['International Reputation'] = pd.Series(np.where(df['International Reputation'].values > 2, 1, 0), df['International Reputation'].index)"
   ]
  },
  {
   "cell_type": "code",
   "execution_count": 245,
   "metadata": {},
   "outputs": [
    {
     "data": {
      "text/plain": [
       "0        1\n",
       "1        1\n",
       "2        1\n",
       "3        1\n",
       "4        1\n",
       "5        1\n",
       "6        1\n",
       "7        1\n",
       "8        1\n",
       "9        1\n",
       "10       1\n",
       "11       1\n",
       "12       1\n",
       "13       1\n",
       "14       1\n",
       "15       1\n",
       "16       1\n",
       "17       1\n",
       "18       1\n",
       "19       1\n",
       "20       1\n",
       "21       1\n",
       "22       1\n",
       "23       1\n",
       "24       1\n",
       "25       1\n",
       "26       1\n",
       "27       1\n",
       "28       1\n",
       "29       1\n",
       "        ..\n",
       "18177    0\n",
       "18178    0\n",
       "18179    0\n",
       "18180    0\n",
       "18181    0\n",
       "18182    0\n",
       "18183    0\n",
       "18184    0\n",
       "18185    0\n",
       "18186    0\n",
       "18187    0\n",
       "18188    0\n",
       "18189    0\n",
       "18190    0\n",
       "18191    0\n",
       "18192    0\n",
       "18193    0\n",
       "18194    0\n",
       "18195    0\n",
       "18196    0\n",
       "18197    0\n",
       "18198    0\n",
       "18199    0\n",
       "18200    0\n",
       "18201    0\n",
       "18202    0\n",
       "18203    0\n",
       "18204    0\n",
       "18205    0\n",
       "18206    0\n",
       "Name: International Reputation, Length: 18159, dtype: int64"
      ]
     },
     "execution_count": 245,
     "metadata": {},
     "output_type": "execute_result"
    }
   ],
   "source": [
    "df['International Reputation']"
   ]
  },
  {
   "cell_type": "code",
   "execution_count": 246,
   "metadata": {},
   "outputs": [
    {
     "data": {
      "text/plain": [
       "366"
      ]
     },
     "execution_count": 246,
     "metadata": {},
     "output_type": "execute_result"
    }
   ],
   "source": [
    "sum(df['International Reputation'] == 1)"
   ]
  },
  {
   "cell_type": "markdown",
   "metadata": {},
   "source": [
    "## Variables"
   ]
  },
  {
   "cell_type": "markdown",
   "metadata": {},
   "source": [
    "### Wage"
   ]
  },
  {
   "cell_type": "code",
   "execution_count": 247,
   "metadata": {},
   "outputs": [],
   "source": [
    "df['Wage'] = df['Wage'].str.split('€').str[1].str.split('K').str[0]"
   ]
  },
  {
   "cell_type": "code",
   "execution_count": 248,
   "metadata": {},
   "outputs": [],
   "source": [
    "df['Wage'] = df['Wage'].astype('int64') * 1000"
   ]
  },
  {
   "cell_type": "markdown",
   "metadata": {},
   "source": [
    "### Age"
   ]
  },
  {
   "cell_type": "code",
   "execution_count": 249,
   "metadata": {},
   "outputs": [
    {
     "data": {
      "text/plain": [
       "0"
      ]
     },
     "execution_count": 249,
     "metadata": {},
     "output_type": "execute_result"
    }
   ],
   "source": [
    "df['Age'].isnull().sum()"
   ]
  },
  {
   "cell_type": "code",
   "execution_count": 250,
   "metadata": {},
   "outputs": [
    {
     "data": {
      "text/plain": [
       "0        31\n",
       "1        33\n",
       "2        26\n",
       "3        27\n",
       "4        27\n",
       "5        27\n",
       "6        32\n",
       "7        31\n",
       "8        32\n",
       "9        25\n",
       "10       29\n",
       "11       28\n",
       "12       32\n",
       "13       32\n",
       "14       27\n",
       "15       24\n",
       "16       24\n",
       "17       27\n",
       "18       26\n",
       "19       26\n",
       "20       29\n",
       "21       31\n",
       "22       32\n",
       "23       30\n",
       "24       33\n",
       "25       19\n",
       "26       26\n",
       "27       26\n",
       "28       26\n",
       "29       27\n",
       "         ..\n",
       "18177    18\n",
       "18178    18\n",
       "18179    17\n",
       "18180    22\n",
       "18181    17\n",
       "18182    18\n",
       "18183    44\n",
       "18184    18\n",
       "18185    19\n",
       "18186    20\n",
       "18187    19\n",
       "18188    17\n",
       "18189    18\n",
       "18190    18\n",
       "18191    18\n",
       "18192    18\n",
       "18193    18\n",
       "18194    18\n",
       "18195    18\n",
       "18196    19\n",
       "18197    18\n",
       "18198    18\n",
       "18199    18\n",
       "18200    18\n",
       "18201    18\n",
       "18202    19\n",
       "18203    19\n",
       "18204    16\n",
       "18205    17\n",
       "18206    16\n",
       "Name: Age, Length: 18159, dtype: category\n",
       "Categories (29, int64): [16, 17, 18, 19, ..., 41, 42, 44, 45]"
      ]
     },
     "execution_count": 250,
     "metadata": {},
     "output_type": "execute_result"
    }
   ],
   "source": [
    "df['Age'].astype('category')"
   ]
  },
  {
   "cell_type": "markdown",
   "metadata": {},
   "source": [
    "### Overall"
   ]
  },
  {
   "cell_type": "code",
   "execution_count": 251,
   "metadata": {},
   "outputs": [
    {
     "data": {
      "text/plain": [
       "0"
      ]
     },
     "execution_count": 251,
     "metadata": {},
     "output_type": "execute_result"
    }
   ],
   "source": [
    "df['Overall'].isnull().sum()"
   ]
  },
  {
   "cell_type": "code",
   "execution_count": 252,
   "metadata": {},
   "outputs": [
    {
     "data": {
      "text/plain": [
       "0        94\n",
       "1        94\n",
       "2        92\n",
       "3        91\n",
       "4        91\n",
       "5        91\n",
       "6        91\n",
       "7        91\n",
       "8        91\n",
       "9        90\n",
       "10       90\n",
       "11       90\n",
       "12       90\n",
       "13       90\n",
       "14       89\n",
       "15       89\n",
       "16       89\n",
       "17       89\n",
       "18       89\n",
       "19       89\n",
       "20       89\n",
       "21       89\n",
       "22       89\n",
       "23       89\n",
       "24       89\n",
       "25       88\n",
       "26       88\n",
       "27       88\n",
       "28       88\n",
       "29       88\n",
       "         ..\n",
       "18177    48\n",
       "18178    48\n",
       "18179    48\n",
       "18180    48\n",
       "18181    48\n",
       "18182    48\n",
       "18183    48\n",
       "18184    48\n",
       "18185    48\n",
       "18186    47\n",
       "18187    47\n",
       "18188    47\n",
       "18189    47\n",
       "18190    47\n",
       "18191    47\n",
       "18192    47\n",
       "18193    47\n",
       "18194    47\n",
       "18195    47\n",
       "18196    47\n",
       "18197    47\n",
       "18198    47\n",
       "18199    47\n",
       "18200    47\n",
       "18201    47\n",
       "18202    47\n",
       "18203    47\n",
       "18204    47\n",
       "18205    47\n",
       "18206    46\n",
       "Name: Overall, Length: 18159, dtype: category\n",
       "Categories (48, int64): [46, 47, 48, 49, ..., 90, 91, 92, 94]"
      ]
     },
     "execution_count": 252,
     "metadata": {},
     "output_type": "execute_result"
    }
   ],
   "source": [
    "df['Overall'].astype('category')"
   ]
  },
  {
   "cell_type": "markdown",
   "metadata": {},
   "source": [
    "### Potential"
   ]
  },
  {
   "cell_type": "code",
   "execution_count": 253,
   "metadata": {},
   "outputs": [
    {
     "data": {
      "text/plain": [
       "0"
      ]
     },
     "execution_count": 253,
     "metadata": {},
     "output_type": "execute_result"
    }
   ],
   "source": [
    "df['Potential'].isnull().sum()"
   ]
  },
  {
   "cell_type": "code",
   "execution_count": 254,
   "metadata": {},
   "outputs": [
    {
     "data": {
      "text/plain": [
       "0        94\n",
       "1        94\n",
       "2        93\n",
       "3        93\n",
       "4        92\n",
       "5        91\n",
       "6        91\n",
       "7        91\n",
       "8        91\n",
       "9        93\n",
       "10       90\n",
       "11       90\n",
       "12       90\n",
       "13       90\n",
       "14       90\n",
       "15       94\n",
       "16       91\n",
       "17       90\n",
       "18       92\n",
       "19       90\n",
       "20       89\n",
       "21       89\n",
       "22       89\n",
       "23       89\n",
       "24       89\n",
       "25       95\n",
       "26       89\n",
       "27       90\n",
       "28       89\n",
       "29       88\n",
       "         ..\n",
       "18177    69\n",
       "18178    65\n",
       "18179    64\n",
       "18180    58\n",
       "18181    66\n",
       "18182    65\n",
       "18183    48\n",
       "18184    55\n",
       "18185    59\n",
       "18186    64\n",
       "18187    59\n",
       "18188    62\n",
       "18189    61\n",
       "18190    67\n",
       "18191    65\n",
       "18192    64\n",
       "18193    64\n",
       "18194    65\n",
       "18195    67\n",
       "18196    61\n",
       "18197    61\n",
       "18198    70\n",
       "18199    69\n",
       "18200    62\n",
       "18201    68\n",
       "18202    65\n",
       "18203    63\n",
       "18204    67\n",
       "18205    66\n",
       "18206    66\n",
       "Name: Potential, Length: 18159, dtype: category\n",
       "Categories (47, int64): [48, 50, 51, 52, ..., 92, 93, 94, 95]"
      ]
     },
     "execution_count": 254,
     "metadata": {},
     "output_type": "execute_result"
    }
   ],
   "source": [
    "df['Potential'].astype('category')"
   ]
  },
  {
   "cell_type": "markdown",
   "metadata": {},
   "source": [
    "### Value"
   ]
  },
  {
   "cell_type": "code",
   "execution_count": 255,
   "metadata": {},
   "outputs": [
    {
     "data": {
      "text/plain": [
       "0"
      ]
     },
     "execution_count": 255,
     "metadata": {},
     "output_type": "execute_result"
    }
   ],
   "source": [
    "df['Value'].isnull().sum()"
   ]
  },
  {
   "cell_type": "code",
   "execution_count": 256,
   "metadata": {},
   "outputs": [
    {
     "data": {
      "text/plain": [
       "0        €110.5M\n",
       "1           €77M\n",
       "2        €118.5M\n",
       "3           €72M\n",
       "4          €102M\n",
       "5           €93M\n",
       "6           €67M\n",
       "7           €80M\n",
       "8           €51M\n",
       "9           €68M\n",
       "10          €77M\n",
       "11        €76.5M\n",
       "12          €44M\n",
       "13          €60M\n",
       "14          €63M\n",
       "15          €89M\n",
       "16        €83.5M\n",
       "17          €78M\n",
       "18          €58M\n",
       "19        €53.5M\n",
       "20        €51.5M\n",
       "21          €60M\n",
       "22          €38M\n",
       "23        €64.5M\n",
       "24          €27M\n",
       "25          €81M\n",
       "26        €69.5M\n",
       "27        €59.5M\n",
       "28        €69.5M\n",
       "29          €62M\n",
       "          ...   \n",
       "18177       €70K\n",
       "18178       €50K\n",
       "18179       €50K\n",
       "18180       €40K\n",
       "18181       €50K\n",
       "18182       €50K\n",
       "18183         €0\n",
       "18184       €40K\n",
       "18185       €50K\n",
       "18186       €60K\n",
       "18187       €40K\n",
       "18188       €60K\n",
       "18189       €60K\n",
       "18190       €60K\n",
       "18191       €50K\n",
       "18192       €50K\n",
       "18193       €50K\n",
       "18194       €50K\n",
       "18195       €60K\n",
       "18196       €60K\n",
       "18197       €60K\n",
       "18198       €60K\n",
       "18199       €70K\n",
       "18200       €60K\n",
       "18201       €60K\n",
       "18202       €60K\n",
       "18203       €60K\n",
       "18204       €60K\n",
       "18205       €60K\n",
       "18206       €60K\n",
       "Name: Value, Length: 18159, dtype: object"
      ]
     },
     "execution_count": 256,
     "metadata": {},
     "output_type": "execute_result"
    }
   ],
   "source": [
    "df['Value']"
   ]
  },
  {
   "cell_type": "code",
   "execution_count": 257,
   "metadata": {},
   "outputs": [],
   "source": [
    "b = (df['Value'].str.split('€').str[1].str.split('M').str).len() == 2\n",
    "millions = df['Value'].str.split('€').str[1].str.split('M')[b].str[0].astype('float64')\n",
    "killions = df['Value'].str.split('€').str[1].str.split('M')[~b].str[0].str.split('K').str[0].astype('float64')"
   ]
  },
  {
   "cell_type": "code",
   "execution_count": 258,
   "metadata": {},
   "outputs": [
    {
     "name": "stderr",
     "output_type": "stream",
     "text": [
      "/Users/JimmyWang/anaconda3/envs/py3.6/lib/python3.7/site-packages/ipykernel_launcher.py:1: SettingWithCopyWarning: \n",
      "A value is trying to be set on a copy of a slice from a DataFrame\n",
      "\n",
      "See the caveats in the documentation: http://pandas.pydata.org/pandas-docs/stable/indexing.html#indexing-view-versus-copy\n",
      "  \"\"\"Entry point for launching an IPython kernel.\n"
     ]
    }
   ],
   "source": [
    "df['Value'][b] = millions * 1000000"
   ]
  },
  {
   "cell_type": "code",
   "execution_count": 259,
   "metadata": {},
   "outputs": [
    {
     "name": "stderr",
     "output_type": "stream",
     "text": [
      "/Users/JimmyWang/anaconda3/envs/py3.6/lib/python3.7/site-packages/ipykernel_launcher.py:1: SettingWithCopyWarning: \n",
      "A value is trying to be set on a copy of a slice from a DataFrame\n",
      "\n",
      "See the caveats in the documentation: http://pandas.pydata.org/pandas-docs/stable/indexing.html#indexing-view-versus-copy\n",
      "  \"\"\"Entry point for launching an IPython kernel.\n"
     ]
    }
   ],
   "source": [
    "df['Value'][~b] = killions * 1000"
   ]
  },
  {
   "cell_type": "code",
   "execution_count": 260,
   "metadata": {},
   "outputs": [
    {
     "data": {
      "text/plain": [
       "0        1.105e+08\n",
       "1          7.7e+07\n",
       "2        1.185e+08\n",
       "3          7.2e+07\n",
       "4         1.02e+08\n",
       "5          9.3e+07\n",
       "6          6.7e+07\n",
       "7            8e+07\n",
       "8          5.1e+07\n",
       "9          6.8e+07\n",
       "10         7.7e+07\n",
       "11        7.65e+07\n",
       "12         4.4e+07\n",
       "13           6e+07\n",
       "14         6.3e+07\n",
       "15         8.9e+07\n",
       "16        8.35e+07\n",
       "17         7.8e+07\n",
       "18         5.8e+07\n",
       "19        5.35e+07\n",
       "20        5.15e+07\n",
       "21           6e+07\n",
       "22         3.8e+07\n",
       "23        6.45e+07\n",
       "24         2.7e+07\n",
       "25         8.1e+07\n",
       "26        6.95e+07\n",
       "27        5.95e+07\n",
       "28        6.95e+07\n",
       "29         6.2e+07\n",
       "           ...    \n",
       "18177        70000\n",
       "18178        50000\n",
       "18179        50000\n",
       "18180        40000\n",
       "18181        50000\n",
       "18182        50000\n",
       "18183            0\n",
       "18184        40000\n",
       "18185        50000\n",
       "18186        60000\n",
       "18187        40000\n",
       "18188        60000\n",
       "18189        60000\n",
       "18190        60000\n",
       "18191        50000\n",
       "18192        50000\n",
       "18193        50000\n",
       "18194        50000\n",
       "18195        60000\n",
       "18196        60000\n",
       "18197        60000\n",
       "18198        60000\n",
       "18199        70000\n",
       "18200        60000\n",
       "18201        60000\n",
       "18202        60000\n",
       "18203        60000\n",
       "18204        60000\n",
       "18205        60000\n",
       "18206        60000\n",
       "Name: Value, Length: 18159, dtype: object"
      ]
     },
     "execution_count": 260,
     "metadata": {},
     "output_type": "execute_result"
    }
   ],
   "source": [
    "df['Value']"
   ]
  },
  {
   "cell_type": "code",
   "execution_count": 261,
   "metadata": {},
   "outputs": [
    {
     "name": "stderr",
     "output_type": "stream",
     "text": [
      "/Users/JimmyWang/anaconda3/envs/py3.6/lib/python3.7/site-packages/ipykernel_launcher.py:1: SettingWithCopyWarning: \n",
      "A value is trying to be set on a copy of a slice from a DataFrame\n",
      "\n",
      "See the caveats in the documentation: http://pandas.pydata.org/pandas-docs/stable/indexing.html#indexing-view-versus-copy\n",
      "  \"\"\"Entry point for launching an IPython kernel.\n"
     ]
    }
   ],
   "source": [
    "df['Value'][df['Value'] == 0] = df['Value'].median()"
   ]
  },
  {
   "cell_type": "code",
   "execution_count": 262,
   "metadata": {},
   "outputs": [
    {
     "data": {
      "text/plain": [
       "0        110500000.0\n",
       "1         77000000.0\n",
       "2        118500000.0\n",
       "3         72000000.0\n",
       "4        102000000.0\n",
       "5         93000000.0\n",
       "6         67000000.0\n",
       "7         80000000.0\n",
       "8         51000000.0\n",
       "9         68000000.0\n",
       "10        77000000.0\n",
       "11        76500000.0\n",
       "12        44000000.0\n",
       "13        60000000.0\n",
       "14        63000000.0\n",
       "15        89000000.0\n",
       "16        83500000.0\n",
       "17        78000000.0\n",
       "18        58000000.0\n",
       "19        53500000.0\n",
       "20        51500000.0\n",
       "21        60000000.0\n",
       "22        38000000.0\n",
       "23        64500000.0\n",
       "24        27000000.0\n",
       "25        81000000.0\n",
       "26        69500000.0\n",
       "27        59500000.0\n",
       "28        69500000.0\n",
       "29        62000000.0\n",
       "            ...     \n",
       "18177        70000.0\n",
       "18178        50000.0\n",
       "18179        50000.0\n",
       "18180        40000.0\n",
       "18181        50000.0\n",
       "18182        50000.0\n",
       "18183       675000.0\n",
       "18184        40000.0\n",
       "18185        50000.0\n",
       "18186        60000.0\n",
       "18187        40000.0\n",
       "18188        60000.0\n",
       "18189        60000.0\n",
       "18190        60000.0\n",
       "18191        50000.0\n",
       "18192        50000.0\n",
       "18193        50000.0\n",
       "18194        50000.0\n",
       "18195        60000.0\n",
       "18196        60000.0\n",
       "18197        60000.0\n",
       "18198        60000.0\n",
       "18199        70000.0\n",
       "18200        60000.0\n",
       "18201        60000.0\n",
       "18202        60000.0\n",
       "18203        60000.0\n",
       "18204        60000.0\n",
       "18205        60000.0\n",
       "18206        60000.0\n",
       "Name: Value, Length: 18159, dtype: category\n",
       "Categories (216, float64): [10000.0, 20000.0, 30000.0, 40000.0, ..., 93000000.0, 102000000.0, 110500000.0, 118500000.0]"
      ]
     },
     "execution_count": 262,
     "metadata": {},
     "output_type": "execute_result"
    }
   ],
   "source": [
    "df['Value'].astype('category')"
   ]
  },
  {
   "cell_type": "code",
   "execution_count": 263,
   "metadata": {},
   "outputs": [],
   "source": [
    "df['Value'] = df['Value'].astype('float64')"
   ]
  },
  {
   "cell_type": "markdown",
   "metadata": {},
   "source": [
    "### Preferred Foot"
   ]
  },
  {
   "cell_type": "code",
   "execution_count": 264,
   "metadata": {},
   "outputs": [
    {
     "data": {
      "text/plain": [
       "0"
      ]
     },
     "execution_count": 264,
     "metadata": {},
     "output_type": "execute_result"
    }
   ],
   "source": [
    "df['Preferred Foot'].isnull().sum()"
   ]
  },
  {
   "cell_type": "code",
   "execution_count": 265,
   "metadata": {},
   "outputs": [
    {
     "data": {
      "text/plain": [
       "0         Left\n",
       "1        Right\n",
       "2        Right\n",
       "3        Right\n",
       "4        Right\n",
       "5        Right\n",
       "6        Right\n",
       "7        Right\n",
       "8        Right\n",
       "9        Right\n",
       "10       Right\n",
       "11       Right\n",
       "12       Right\n",
       "13        Left\n",
       "14       Right\n",
       "15        Left\n",
       "16       Right\n",
       "17        Left\n",
       "18       Right\n",
       "19        Left\n",
       "20       Right\n",
       "21       Right\n",
       "22       Right\n",
       "23       Right\n",
       "24        Left\n",
       "25       Right\n",
       "26        Left\n",
       "27       Right\n",
       "28        Left\n",
       "29       Right\n",
       "         ...  \n",
       "18177    Right\n",
       "18178    Right\n",
       "18179    Right\n",
       "18180    Right\n",
       "18181    Right\n",
       "18182    Right\n",
       "18183    Right\n",
       "18184    Right\n",
       "18185    Right\n",
       "18186    Right\n",
       "18187    Right\n",
       "18188    Right\n",
       "18189    Right\n",
       "18190    Right\n",
       "18191     Left\n",
       "18192    Right\n",
       "18193    Right\n",
       "18194    Right\n",
       "18195    Right\n",
       "18196    Right\n",
       "18197    Right\n",
       "18198    Right\n",
       "18199    Right\n",
       "18200     Left\n",
       "18201     Left\n",
       "18202    Right\n",
       "18203    Right\n",
       "18204    Right\n",
       "18205    Right\n",
       "18206    Right\n",
       "Name: Preferred Foot, Length: 18159, dtype: category\n",
       "Categories (2, object): [Left, Right]"
      ]
     },
     "execution_count": 265,
     "metadata": {},
     "output_type": "execute_result"
    }
   ],
   "source": [
    "df['Preferred Foot'].astype('category')"
   ]
  },
  {
   "cell_type": "markdown",
   "metadata": {},
   "source": [
    "### Weak Foot"
   ]
  },
  {
   "cell_type": "code",
   "execution_count": 266,
   "metadata": {},
   "outputs": [
    {
     "data": {
      "text/plain": [
       "0"
      ]
     },
     "execution_count": 266,
     "metadata": {},
     "output_type": "execute_result"
    }
   ],
   "source": [
    "df['Weak Foot'].isnull().sum()"
   ]
  },
  {
   "cell_type": "code",
   "execution_count": 267,
   "metadata": {},
   "outputs": [
    {
     "data": {
      "text/plain": [
       "0        4.0\n",
       "1        4.0\n",
       "2        5.0\n",
       "3        3.0\n",
       "4        5.0\n",
       "5        4.0\n",
       "6        4.0\n",
       "7        4.0\n",
       "8        3.0\n",
       "9        3.0\n",
       "10       4.0\n",
       "11       5.0\n",
       "12       3.0\n",
       "13       2.0\n",
       "14       3.0\n",
       "15       3.0\n",
       "16       4.0\n",
       "17       3.0\n",
       "18       4.0\n",
       "19       2.0\n",
       "20       3.0\n",
       "21       4.0\n",
       "22       4.0\n",
       "23       4.0\n",
       "24       3.0\n",
       "25       4.0\n",
       "26       3.0\n",
       "27       3.0\n",
       "28       3.0\n",
       "29       3.0\n",
       "        ... \n",
       "18177    3.0\n",
       "18178    2.0\n",
       "18179    3.0\n",
       "18180    2.0\n",
       "18181    2.0\n",
       "18182    3.0\n",
       "18183    2.0\n",
       "18184    3.0\n",
       "18185    3.0\n",
       "18186    3.0\n",
       "18187    3.0\n",
       "18188    3.0\n",
       "18189    3.0\n",
       "18190    3.0\n",
       "18191    3.0\n",
       "18192    3.0\n",
       "18193    2.0\n",
       "18194    3.0\n",
       "18195    3.0\n",
       "18196    3.0\n",
       "18197    3.0\n",
       "18198    2.0\n",
       "18199    3.0\n",
       "18200    2.0\n",
       "18201    3.0\n",
       "18202    2.0\n",
       "18203    2.0\n",
       "18204    3.0\n",
       "18205    3.0\n",
       "18206    3.0\n",
       "Name: Weak Foot, Length: 18159, dtype: category\n",
       "Categories (5, float64): [1.0, 2.0, 3.0, 4.0, 5.0]"
      ]
     },
     "execution_count": 267,
     "metadata": {},
     "output_type": "execute_result"
    }
   ],
   "source": [
    "df['Weak Foot'].astype('category')"
   ]
  },
  {
   "cell_type": "markdown",
   "metadata": {},
   "source": [
    "### Skill Moves"
   ]
  },
  {
   "cell_type": "code",
   "execution_count": 268,
   "metadata": {},
   "outputs": [
    {
     "data": {
      "text/plain": [
       "0"
      ]
     },
     "execution_count": 268,
     "metadata": {},
     "output_type": "execute_result"
    }
   ],
   "source": [
    "df['Skill Moves'].isnull().sum()"
   ]
  },
  {
   "cell_type": "code",
   "execution_count": 269,
   "metadata": {},
   "outputs": [
    {
     "data": {
      "text/plain": [
       "0        4.0\n",
       "1        5.0\n",
       "2        5.0\n",
       "3        1.0\n",
       "4        4.0\n",
       "5        4.0\n",
       "6        4.0\n",
       "7        3.0\n",
       "8        3.0\n",
       "9        1.0\n",
       "10       4.0\n",
       "11       3.0\n",
       "12       2.0\n",
       "13       4.0\n",
       "14       2.0\n",
       "15       4.0\n",
       "16       3.0\n",
       "17       4.0\n",
       "18       1.0\n",
       "19       1.0\n",
       "20       3.0\n",
       "21       3.0\n",
       "22       1.0\n",
       "23       4.0\n",
       "24       2.0\n",
       "25       5.0\n",
       "26       4.0\n",
       "27       2.0\n",
       "28       4.0\n",
       "29       4.0\n",
       "        ... \n",
       "18177    2.0\n",
       "18178    1.0\n",
       "18179    2.0\n",
       "18180    1.0\n",
       "18181    2.0\n",
       "18182    2.0\n",
       "18183    1.0\n",
       "18184    2.0\n",
       "18185    2.0\n",
       "18186    2.0\n",
       "18187    2.0\n",
       "18188    2.0\n",
       "18189    2.0\n",
       "18190    2.0\n",
       "18191    2.0\n",
       "18192    2.0\n",
       "18193    2.0\n",
       "18194    1.0\n",
       "18195    2.0\n",
       "18196    2.0\n",
       "18197    2.0\n",
       "18198    1.0\n",
       "18199    2.0\n",
       "18200    2.0\n",
       "18201    2.0\n",
       "18202    2.0\n",
       "18203    2.0\n",
       "18204    2.0\n",
       "18205    2.0\n",
       "18206    2.0\n",
       "Name: Skill Moves, Length: 18159, dtype: category\n",
       "Categories (5, float64): [1.0, 2.0, 3.0, 4.0, 5.0]"
      ]
     },
     "execution_count": 269,
     "metadata": {},
     "output_type": "execute_result"
    }
   ],
   "source": [
    "df['Skill Moves'].astype('category')"
   ]
  },
  {
   "cell_type": "markdown",
   "metadata": {},
   "source": [
    "### Height"
   ]
  },
  {
   "cell_type": "code",
   "execution_count": 270,
   "metadata": {},
   "outputs": [
    {
     "data": {
      "text/plain": [
       "0         5'7\n",
       "1         6'2\n",
       "2         5'9\n",
       "3         6'4\n",
       "4        5'11\n",
       "5         5'8\n",
       "6         5'8\n",
       "7         6'0\n",
       "8         6'0\n",
       "9         6'2\n",
       "10        6'0\n",
       "11        6'0\n",
       "12        6'2\n",
       "13        5'8\n",
       "14        5'6\n",
       "15       5'10\n",
       "16        6'2\n",
       "17        5'9\n",
       "18        6'2\n",
       "19        6'6\n",
       "20        6'2\n",
       "21        6'1\n",
       "22        6'4\n",
       "23        5'8\n",
       "24        6'2\n",
       "25       5'10\n",
       "26        5'9\n",
       "27        6'1\n",
       "28       5'11\n",
       "29        5'4\n",
       "         ... \n",
       "18177    5'10\n",
       "18178     6'0\n",
       "18179     6'2\n",
       "18180     6'1\n",
       "18181    5'11\n",
       "18182    5'10\n",
       "18183     6'2\n",
       "18184     6'1\n",
       "18185    5'11\n",
       "18186    5'10\n",
       "18187    5'10\n",
       "18188    5'10\n",
       "18189    5'10\n",
       "18190     5'9\n",
       "18191    5'11\n",
       "18192     6'1\n",
       "18193     5'8\n",
       "18194     6'3\n",
       "18195     5'8\n",
       "18196     5'7\n",
       "18197    5'10\n",
       "18198    5'11\n",
       "18199     5'6\n",
       "18200     5'9\n",
       "18201     6'1\n",
       "18202     5'9\n",
       "18203     6'3\n",
       "18204     5'8\n",
       "18205    5'10\n",
       "18206    5'10\n",
       "Name: Height, Length: 18159, dtype: object"
      ]
     },
     "execution_count": 270,
     "metadata": {},
     "output_type": "execute_result"
    }
   ],
   "source": [
    "df['Height']"
   ]
  },
  {
   "cell_type": "code",
   "execution_count": 271,
   "metadata": {},
   "outputs": [
    {
     "data": {
      "text/plain": [
       "0"
      ]
     },
     "execution_count": 271,
     "metadata": {},
     "output_type": "execute_result"
    }
   ],
   "source": [
    "df['Height'].isnull().sum()"
   ]
  },
  {
   "cell_type": "code",
   "execution_count": 272,
   "metadata": {},
   "outputs": [],
   "source": [
    "h = df['Height'].str.split('\\'')"
   ]
  },
  {
   "cell_type": "code",
   "execution_count": 273,
   "metadata": {},
   "outputs": [],
   "source": [
    "df['Height'] = h.str[0].astype('int64')*12 + h.str[1].astype('int64')"
   ]
  },
  {
   "cell_type": "code",
   "execution_count": 274,
   "metadata": {},
   "outputs": [
    {
     "data": {
      "text/plain": [
       "0        67\n",
       "1        74\n",
       "2        69\n",
       "3        76\n",
       "4        71\n",
       "5        68\n",
       "6        68\n",
       "7        72\n",
       "8        72\n",
       "9        74\n",
       "10       72\n",
       "11       72\n",
       "12       74\n",
       "13       68\n",
       "14       66\n",
       "15       70\n",
       "16       74\n",
       "17       69\n",
       "18       74\n",
       "19       78\n",
       "20       74\n",
       "21       73\n",
       "22       76\n",
       "23       68\n",
       "24       74\n",
       "25       70\n",
       "26       69\n",
       "27       73\n",
       "28       71\n",
       "29       64\n",
       "         ..\n",
       "18177    70\n",
       "18178    72\n",
       "18179    74\n",
       "18180    73\n",
       "18181    71\n",
       "18182    70\n",
       "18183    74\n",
       "18184    73\n",
       "18185    71\n",
       "18186    70\n",
       "18187    70\n",
       "18188    70\n",
       "18189    70\n",
       "18190    69\n",
       "18191    71\n",
       "18192    73\n",
       "18193    68\n",
       "18194    75\n",
       "18195    68\n",
       "18196    67\n",
       "18197    70\n",
       "18198    71\n",
       "18199    66\n",
       "18200    69\n",
       "18201    73\n",
       "18202    69\n",
       "18203    75\n",
       "18204    68\n",
       "18205    70\n",
       "18206    70\n",
       "Name: Height, Length: 18159, dtype: int64"
      ]
     },
     "execution_count": 274,
     "metadata": {},
     "output_type": "execute_result"
    }
   ],
   "source": [
    "df['Height']"
   ]
  },
  {
   "cell_type": "markdown",
   "metadata": {},
   "source": [
    "### Weight"
   ]
  },
  {
   "cell_type": "code",
   "execution_count": 275,
   "metadata": {},
   "outputs": [
    {
     "data": {
      "text/plain": [
       "0        159lbs\n",
       "1        183lbs\n",
       "2        150lbs\n",
       "3        168lbs\n",
       "4        154lbs\n",
       "5        163lbs\n",
       "6        146lbs\n",
       "7        190lbs\n",
       "8        181lbs\n",
       "9        192lbs\n",
       "10       176lbs\n",
       "11       168lbs\n",
       "12       172lbs\n",
       "13       148lbs\n",
       "14       159lbs\n",
       "15       165lbs\n",
       "16       196lbs\n",
       "17       161lbs\n",
       "18       187lbs\n",
       "19       212lbs\n",
       "20       168lbs\n",
       "21       170lbs\n",
       "22       203lbs\n",
       "23       154lbs\n",
       "24       187lbs\n",
       "25       161lbs\n",
       "26       157lbs\n",
       "27       185lbs\n",
       "28       172lbs\n",
       "29       130lbs\n",
       "          ...  \n",
       "18177    163lbs\n",
       "18178    176lbs\n",
       "18179    163lbs\n",
       "18180    172lbs\n",
       "18181    134lbs\n",
       "18182    165lbs\n",
       "18183    190lbs\n",
       "18184    179lbs\n",
       "18185    159lbs\n",
       "18186    174lbs\n",
       "18187    161lbs\n",
       "18188    148lbs\n",
       "18189    165lbs\n",
       "18190    176lbs\n",
       "18191    168lbs\n",
       "18192    165lbs\n",
       "18193    146lbs\n",
       "18194    187lbs\n",
       "18195    141lbs\n",
       "18196    146lbs\n",
       "18197    141lbs\n",
       "18198    154lbs\n",
       "18199    150lbs\n",
       "18200    157lbs\n",
       "18201    168lbs\n",
       "18202    134lbs\n",
       "18203    170lbs\n",
       "18204    148lbs\n",
       "18205    154lbs\n",
       "18206    176lbs\n",
       "Name: Weight, Length: 18159, dtype: object"
      ]
     },
     "execution_count": 275,
     "metadata": {},
     "output_type": "execute_result"
    }
   ],
   "source": [
    "df['Weight']"
   ]
  },
  {
   "cell_type": "code",
   "execution_count": 276,
   "metadata": {},
   "outputs": [
    {
     "data": {
      "text/plain": [
       "0"
      ]
     },
     "execution_count": 276,
     "metadata": {},
     "output_type": "execute_result"
    }
   ],
   "source": [
    "df['Weight'].isnull().sum()"
   ]
  },
  {
   "cell_type": "code",
   "execution_count": 277,
   "metadata": {},
   "outputs": [],
   "source": [
    "df['Weight'] = df['Weight'].str.split('lbs').str[0].astype('int64')"
   ]
  },
  {
   "cell_type": "code",
   "execution_count": 278,
   "metadata": {},
   "outputs": [
    {
     "data": {
      "text/plain": [
       "0        159\n",
       "1        183\n",
       "2        150\n",
       "3        168\n",
       "4        154\n",
       "5        163\n",
       "6        146\n",
       "7        190\n",
       "8        181\n",
       "9        192\n",
       "10       176\n",
       "11       168\n",
       "12       172\n",
       "13       148\n",
       "14       159\n",
       "15       165\n",
       "16       196\n",
       "17       161\n",
       "18       187\n",
       "19       212\n",
       "20       168\n",
       "21       170\n",
       "22       203\n",
       "23       154\n",
       "24       187\n",
       "25       161\n",
       "26       157\n",
       "27       185\n",
       "28       172\n",
       "29       130\n",
       "        ... \n",
       "18177    163\n",
       "18178    176\n",
       "18179    163\n",
       "18180    172\n",
       "18181    134\n",
       "18182    165\n",
       "18183    190\n",
       "18184    179\n",
       "18185    159\n",
       "18186    174\n",
       "18187    161\n",
       "18188    148\n",
       "18189    165\n",
       "18190    176\n",
       "18191    168\n",
       "18192    165\n",
       "18193    146\n",
       "18194    187\n",
       "18195    141\n",
       "18196    146\n",
       "18197    141\n",
       "18198    154\n",
       "18199    150\n",
       "18200    157\n",
       "18201    168\n",
       "18202    134\n",
       "18203    170\n",
       "18204    148\n",
       "18205    154\n",
       "18206    176\n",
       "Name: Weight, Length: 18159, dtype: int64"
      ]
     },
     "execution_count": 278,
     "metadata": {},
     "output_type": "execute_result"
    }
   ],
   "source": [
    "df['Weight']"
   ]
  },
  {
   "cell_type": "markdown",
   "metadata": {},
   "source": [
    "### Position"
   ]
  },
  {
   "cell_type": "code",
   "execution_count": 279,
   "metadata": {},
   "outputs": [],
   "source": [
    "position = df[['LS', 'ST', 'RS', 'LW', 'LF', 'CF', 'RF', 'RW', 'LAM', 'CAM', 'RAM', 'LM', 'LCM', 'CM', 'RCM', 'RM', 'LWB', 'LDM', 'CDM', 'RDM', 'RWB', 'LB', 'LCB', 'CB', 'RCB', 'RB']]"
   ]
  },
  {
   "cell_type": "code",
   "execution_count": 280,
   "metadata": {},
   "outputs": [
    {
     "data": {
      "text/plain": [
       "52962"
      ]
     },
     "execution_count": 280,
     "metadata": {},
     "output_type": "execute_result"
    }
   ],
   "source": [
    "position.isnull().sum().sum()"
   ]
  },
  {
   "cell_type": "code",
   "execution_count": 281,
   "metadata": {},
   "outputs": [
    {
     "name": "stderr",
     "output_type": "stream",
     "text": [
      "/Users/JimmyWang/anaconda3/envs/py3.6/lib/python3.7/site-packages/ipykernel_launcher.py:5: SettingWithCopyWarning: \n",
      "A value is trying to be set on a copy of a slice from a DataFrame\n",
      "\n",
      "See the caveats in the documentation: http://pandas.pydata.org/pandas-docs/stable/indexing.html#indexing-view-versus-copy\n",
      "  \"\"\"\n"
     ]
    }
   ],
   "source": [
    "# Convert 45+2 into 47 (int64)\n",
    "for x in position:\n",
    "    n = position[x][~position[x].isnull()].str.split('+')\n",
    "    df[x] = n.str[0].astype('int64') + n.str[1].astype('int64')\n",
    "    df[x][df[x].isnull()] = df[x].median()"
   ]
  },
  {
   "cell_type": "markdown",
   "metadata": {},
   "source": [
    "### Crossing"
   ]
  },
  {
   "cell_type": "code",
   "execution_count": 282,
   "metadata": {},
   "outputs": [
    {
     "data": {
      "text/plain": [
       "0"
      ]
     },
     "execution_count": 282,
     "metadata": {},
     "output_type": "execute_result"
    }
   ],
   "source": [
    "df['Crossing'].isnull().sum()"
   ]
  },
  {
   "cell_type": "markdown",
   "metadata": {},
   "source": [
    "### Finishing"
   ]
  },
  {
   "cell_type": "code",
   "execution_count": 283,
   "metadata": {},
   "outputs": [
    {
     "data": {
      "text/plain": [
       "0"
      ]
     },
     "execution_count": 283,
     "metadata": {},
     "output_type": "execute_result"
    }
   ],
   "source": [
    "df['Finishing'].isnull().sum()"
   ]
  },
  {
   "cell_type": "markdown",
   "metadata": {},
   "source": [
    "### HeadingAccuracy"
   ]
  },
  {
   "cell_type": "code",
   "execution_count": 284,
   "metadata": {},
   "outputs": [
    {
     "data": {
      "text/plain": [
       "0"
      ]
     },
     "execution_count": 284,
     "metadata": {},
     "output_type": "execute_result"
    }
   ],
   "source": [
    "df['HeadingAccuracy'].isnull().sum()"
   ]
  },
  {
   "cell_type": "markdown",
   "metadata": {},
   "source": [
    "### ShortPassing"
   ]
  },
  {
   "cell_type": "code",
   "execution_count": 285,
   "metadata": {},
   "outputs": [
    {
     "data": {
      "text/plain": [
       "0"
      ]
     },
     "execution_count": 285,
     "metadata": {},
     "output_type": "execute_result"
    }
   ],
   "source": [
    "df['ShortPassing'].isnull().sum()"
   ]
  },
  {
   "cell_type": "markdown",
   "metadata": {},
   "source": [
    "### Volleys"
   ]
  },
  {
   "cell_type": "code",
   "execution_count": 286,
   "metadata": {},
   "outputs": [
    {
     "data": {
      "text/plain": [
       "0"
      ]
     },
     "execution_count": 286,
     "metadata": {},
     "output_type": "execute_result"
    }
   ],
   "source": [
    "df['Volleys'].isnull().sum()"
   ]
  },
  {
   "cell_type": "markdown",
   "metadata": {},
   "source": [
    "### Dribbling"
   ]
  },
  {
   "cell_type": "code",
   "execution_count": 287,
   "metadata": {},
   "outputs": [
    {
     "data": {
      "text/plain": [
       "0"
      ]
     },
     "execution_count": 287,
     "metadata": {},
     "output_type": "execute_result"
    }
   ],
   "source": [
    "df['Dribbling'].isnull().sum()"
   ]
  },
  {
   "cell_type": "markdown",
   "metadata": {},
   "source": [
    "### Curve"
   ]
  },
  {
   "cell_type": "code",
   "execution_count": 288,
   "metadata": {},
   "outputs": [
    {
     "data": {
      "text/plain": [
       "0"
      ]
     },
     "execution_count": 288,
     "metadata": {},
     "output_type": "execute_result"
    }
   ],
   "source": [
    "df['Curve'].isnull().sum()"
   ]
  },
  {
   "cell_type": "markdown",
   "metadata": {},
   "source": [
    "### FKAccuracy"
   ]
  },
  {
   "cell_type": "code",
   "execution_count": 289,
   "metadata": {},
   "outputs": [
    {
     "data": {
      "text/plain": [
       "0"
      ]
     },
     "execution_count": 289,
     "metadata": {},
     "output_type": "execute_result"
    }
   ],
   "source": [
    "df['FKAccuracy'].isnull().sum()"
   ]
  },
  {
   "cell_type": "markdown",
   "metadata": {},
   "source": [
    "### LongPassing"
   ]
  },
  {
   "cell_type": "code",
   "execution_count": 290,
   "metadata": {},
   "outputs": [
    {
     "data": {
      "text/plain": [
       "0"
      ]
     },
     "execution_count": 290,
     "metadata": {},
     "output_type": "execute_result"
    }
   ],
   "source": [
    "df['LongPassing'].isnull().sum()"
   ]
  },
  {
   "cell_type": "markdown",
   "metadata": {},
   "source": [
    "### BallControl"
   ]
  },
  {
   "cell_type": "code",
   "execution_count": 291,
   "metadata": {},
   "outputs": [
    {
     "data": {
      "text/plain": [
       "0"
      ]
     },
     "execution_count": 291,
     "metadata": {},
     "output_type": "execute_result"
    }
   ],
   "source": [
    "df['BallControl'].isnull().sum()"
   ]
  },
  {
   "cell_type": "markdown",
   "metadata": {},
   "source": [
    "### Acceleration"
   ]
  },
  {
   "cell_type": "code",
   "execution_count": 292,
   "metadata": {},
   "outputs": [
    {
     "data": {
      "text/plain": [
       "0"
      ]
     },
     "execution_count": 292,
     "metadata": {},
     "output_type": "execute_result"
    }
   ],
   "source": [
    "df['Acceleration'].isnull().sum()"
   ]
  },
  {
   "cell_type": "markdown",
   "metadata": {},
   "source": [
    "### SprintSpeed"
   ]
  },
  {
   "cell_type": "code",
   "execution_count": 293,
   "metadata": {},
   "outputs": [
    {
     "data": {
      "text/plain": [
       "0"
      ]
     },
     "execution_count": 293,
     "metadata": {},
     "output_type": "execute_result"
    }
   ],
   "source": [
    "df['SprintSpeed'].isnull().sum()"
   ]
  },
  {
   "cell_type": "markdown",
   "metadata": {},
   "source": [
    "### Agility"
   ]
  },
  {
   "cell_type": "code",
   "execution_count": 294,
   "metadata": {},
   "outputs": [
    {
     "data": {
      "text/plain": [
       "0"
      ]
     },
     "execution_count": 294,
     "metadata": {},
     "output_type": "execute_result"
    }
   ],
   "source": [
    "df['Agility'].isnull().sum()"
   ]
  },
  {
   "cell_type": "markdown",
   "metadata": {},
   "source": [
    "### Reactions"
   ]
  },
  {
   "cell_type": "code",
   "execution_count": 295,
   "metadata": {},
   "outputs": [
    {
     "data": {
      "text/plain": [
       "0"
      ]
     },
     "execution_count": 295,
     "metadata": {},
     "output_type": "execute_result"
    }
   ],
   "source": [
    "df['Reactions'].isnull().sum()"
   ]
  },
  {
   "cell_type": "markdown",
   "metadata": {},
   "source": [
    "### Balance"
   ]
  },
  {
   "cell_type": "code",
   "execution_count": 296,
   "metadata": {},
   "outputs": [
    {
     "data": {
      "text/plain": [
       "0"
      ]
     },
     "execution_count": 296,
     "metadata": {},
     "output_type": "execute_result"
    }
   ],
   "source": [
    "df['Balance'].isnull().sum()"
   ]
  },
  {
   "cell_type": "markdown",
   "metadata": {},
   "source": [
    "## Correlation"
   ]
  },
  {
   "cell_type": "code",
   "execution_count": 297,
   "metadata": {},
   "outputs": [
    {
     "data": {
      "text/plain": [
       "Wage               0.581637\n",
       "Value              0.574436\n",
       "Overall            0.330209\n",
       "Reactions          0.286989\n",
       "Potential          0.275660\n",
       "CM                 0.252356\n",
       "LCM                0.252356\n",
       "RCM                0.252356\n",
       "Composure          0.249244\n",
       "LS                 0.234460\n",
       "ST                 0.234460\n",
       "RS                 0.234460\n",
       "LAM                0.232356\n",
       "RAM                0.232356\n",
       "CAM                0.232356\n",
       "CF                 0.228409\n",
       "RF                 0.228409\n",
       "LF                 0.228409\n",
       "RM                 0.226711\n",
       "LM                 0.226711\n",
       "LW                 0.216933\n",
       "RW                 0.216933\n",
       "Vision             0.185822\n",
       "LWB                0.180022\n",
       "RWB                0.180022\n",
       "Special            0.179154\n",
       "RDM                0.173887\n",
       "CDM                0.173887\n",
       "LDM                0.173887\n",
       "RB                 0.156267\n",
       "                     ...   \n",
       "Age                0.127294\n",
       "LongShots          0.126527\n",
       "RCB                0.119056\n",
       "LCB                0.119056\n",
       "CB                 0.119056\n",
       "Finishing          0.117474\n",
       "Dribbling          0.116342\n",
       "Positioning        0.114301\n",
       "Crossing           0.111565\n",
       "HeadingAccuracy    0.089128\n",
       "Weak Foot          0.086799\n",
       "Aggression         0.086641\n",
       "Agility            0.072204\n",
       "Jumping            0.071488\n",
       "Strength           0.069712\n",
       "Interceptions      0.066561\n",
       "Stamina            0.065124\n",
       "Marking            0.060834\n",
       "SprintSpeed        0.049404\n",
       "Acceleration       0.046734\n",
       "StandingTackle     0.043279\n",
       "Weight             0.041733\n",
       "Balance            0.039509\n",
       "SlidingTackle      0.035893\n",
       "Height             0.019342\n",
       "GKDiving           0.006056\n",
       "GKHandling         0.005996\n",
       "GKPositioning      0.005789\n",
       "GKReflexes         0.004754\n",
       "GKKicking          0.004751\n",
       "Name: International Reputation, Length: 70, dtype: float64"
      ]
     },
     "execution_count": 297,
     "metadata": {},
     "output_type": "execute_result"
    }
   ],
   "source": [
    "wage_corr_seq = (df.corr()['International Reputation']).sort_values(ascending=False).drop('International Reputation')\n",
    "wage_corr_seq"
   ]
  },
  {
   "cell_type": "code",
   "execution_count": 298,
   "metadata": {},
   "outputs": [],
   "source": [
    "x = df[['International Reputation','Value', 'Overall','Reactions','Composure','LCM']]"
   ]
  },
  {
   "cell_type": "code",
   "execution_count": 299,
   "metadata": {},
   "outputs": [
    {
     "data": {
      "text/plain": [
       "<matplotlib.axes._subplots.AxesSubplot at 0x1a1afcd8d0>"
      ]
     },
     "execution_count": 299,
     "metadata": {},
     "output_type": "execute_result"
    },
    {
     "data": {
      "image/png": "[encoded data removed]",
      "text/plain": [
       "<Figure size 432x288 with 2 Axes>"
      ]
     },
     "metadata": {
      "needs_background": "light"
     },
     "output_type": "display_data"
    }
   ],
   "source": [
    "sns.heatmap(x.corr(), annot=True)"
   ]
  },
  {
   "cell_type": "markdown",
   "metadata": {},
   "source": [
    "### Dummy Variables"
   ]
  },
  {
   "cell_type": "code",
   "execution_count": 300,
   "metadata": {},
   "outputs": [],
   "source": [
    "df = pd.concat([df, pd.get_dummies(df['Preferred Foot'])], axis=1)"
   ]
  },
  {
   "cell_type": "code",
   "execution_count": 301,
   "metadata": {},
   "outputs": [
    {
     "data": {
      "text/plain": [
       "0        1\n",
       "1        0\n",
       "2        0\n",
       "3        0\n",
       "4        0\n",
       "5        0\n",
       "6        0\n",
       "7        0\n",
       "8        0\n",
       "9        0\n",
       "10       0\n",
       "11       0\n",
       "12       0\n",
       "13       1\n",
       "14       0\n",
       "15       1\n",
       "16       0\n",
       "17       1\n",
       "18       0\n",
       "19       1\n",
       "20       0\n",
       "21       0\n",
       "22       0\n",
       "23       0\n",
       "24       1\n",
       "25       0\n",
       "26       1\n",
       "27       0\n",
       "28       1\n",
       "29       0\n",
       "        ..\n",
       "18177    0\n",
       "18178    0\n",
       "18179    0\n",
       "18180    0\n",
       "18181    0\n",
       "18182    0\n",
       "18183    0\n",
       "18184    0\n",
       "18185    0\n",
       "18186    0\n",
       "18187    0\n",
       "18188    0\n",
       "18189    0\n",
       "18190    0\n",
       "18191    1\n",
       "18192    0\n",
       "18193    0\n",
       "18194    0\n",
       "18195    0\n",
       "18196    0\n",
       "18197    0\n",
       "18198    0\n",
       "18199    0\n",
       "18200    1\n",
       "18201    1\n",
       "18202    0\n",
       "18203    0\n",
       "18204    0\n",
       "18205    0\n",
       "18206    0\n",
       "Name: Left, Length: 18159, dtype: uint8"
      ]
     },
     "execution_count": 301,
     "metadata": {},
     "output_type": "execute_result"
    }
   ],
   "source": [
    "df['Left']"
   ]
  },
  {
   "cell_type": "markdown",
   "metadata": {},
   "source": [
    "## Modeling"
   ]
  },
  {
   "cell_type": "markdown",
   "metadata": {},
   "source": [
    "### Training and Testing"
   ]
  },
  {
   "cell_type": "code",
   "execution_count": 302,
   "metadata": {},
   "outputs": [],
   "source": [
    "featureOrder = ['International Reputation','Wage','Overall','Reactions','Potential', 'Left','LCM','Composure','LS', 'ST', 'RS', 'CAM']"
   ]
  },
  {
   "cell_type": "code",
   "execution_count": 303,
   "metadata": {},
   "outputs": [],
   "source": [
    "def buildModel(a):\n",
    "\n",
    "    rmse_train = []\n",
    "    msle_train = []\n",
    "    rmse_test = []\n",
    "    msle_test = []\n",
    "    models = []\n",
    "    train_X = []\n",
    "    train_Y = []\n",
    "    test_X = []\n",
    "    test_Y = []\n",
    "    train_pred_YY = []\n",
    "    test_pred_YY = []\n",
    "\n",
    "    for i in range(0, len(a)):\n",
    "        train, test = train_test_split(df, test_size=0.3, shuffle=True)\n",
    "        training_features = featureOrder[0:i+1]\n",
    "        target = 'International Reputation'\n",
    "        train_X.append(train[training_features])\n",
    "        train_Y.append(train[target])\n",
    "        test_X.append(test[training_features])\n",
    "        test_Y.append(test[target])\n",
    "        model = LogisticRegression()\n",
    "        model.fit(train[training_features], train[target])\n",
    "        train_pred_Y = model.predict(train[training_features])\n",
    "        test_pred_Y = model.predict(test[training_features])\n",
    "        train_pred_YY.append(pd.Series(train_pred_Y.clip(0, train_pred_Y.max()), index=train[target].index))\n",
    "        test_pred_YY.append(pd.Series(test_pred_Y.clip(0, test_pred_Y.max()), index=test[target].index))\n",
    "        models.append(model)\n",
    "    \n",
    "        rmse_train.append(np.sqrt(mean_squared_error(train_pred_Y, train[target])))\n",
    "        msle_train.append(mean_squared_log_error(train_pred_Y, train[target]))\n",
    "        rmse_test.append(np.sqrt(mean_squared_error(test_pred_Y, test[target])))\n",
    "        msle_test.append(mean_squared_log_error(test_pred_Y, test[target]))\n",
    "\n",
    "    return [rmse_train, msle_train, rmse_test, msle_test, models, train_X, train_Y, test_X, test_Y, \n",
    "            train_pred_YY, test_pred_YY]"
   ]
  },
  {
   "cell_type": "code",
   "execution_count": 309,
   "metadata": {},
   "outputs": [
    {
     "name": "stderr",
     "output_type": "stream",
     "text": [
      "/Users/JimmyWang/anaconda3/envs/py3.6/lib/python3.7/site-packages/sklearn/linear_model/logistic.py:433: FutureWarning: Default solver will be changed to 'lbfgs' in 0.22. Specify a solver to silence this warning.\n",
      "  FutureWarning)\n",
      "/Users/JimmyWang/anaconda3/envs/py3.6/lib/python3.7/site-packages/sklearn/linear_model/logistic.py:433: FutureWarning: Default solver will be changed to 'lbfgs' in 0.22. Specify a solver to silence this warning.\n",
      "  FutureWarning)\n",
      "/Users/JimmyWang/anaconda3/envs/py3.6/lib/python3.7/site-packages/sklearn/linear_model/logistic.py:433: FutureWarning: Default solver will be changed to 'lbfgs' in 0.22. Specify a solver to silence this warning.\n",
      "  FutureWarning)\n",
      "/Users/JimmyWang/anaconda3/envs/py3.6/lib/python3.7/site-packages/sklearn/linear_model/logistic.py:433: FutureWarning: Default solver will be changed to 'lbfgs' in 0.22. Specify a solver to silence this warning.\n",
      "  FutureWarning)\n",
      "/Users/JimmyWang/anaconda3/envs/py3.6/lib/python3.7/site-packages/sklearn/linear_model/logistic.py:433: FutureWarning: Default solver will be changed to 'lbfgs' in 0.22. Specify a solver to silence this warning.\n",
      "  FutureWarning)\n",
      "/Users/JimmyWang/anaconda3/envs/py3.6/lib/python3.7/site-packages/sklearn/linear_model/logistic.py:433: FutureWarning: Default solver will be changed to 'lbfgs' in 0.22. Specify a solver to silence this warning.\n",
      "  FutureWarning)\n",
      "/Users/JimmyWang/anaconda3/envs/py3.6/lib/python3.7/site-packages/sklearn/linear_model/logistic.py:433: FutureWarning: Default solver will be changed to 'lbfgs' in 0.22. Specify a solver to silence this warning.\n",
      "  FutureWarning)\n",
      "/Users/JimmyWang/anaconda3/envs/py3.6/lib/python3.7/site-packages/sklearn/linear_model/logistic.py:433: FutureWarning: Default solver will be changed to 'lbfgs' in 0.22. Specify a solver to silence this warning.\n",
      "  FutureWarning)\n",
      "/Users/JimmyWang/anaconda3/envs/py3.6/lib/python3.7/site-packages/sklearn/linear_model/logistic.py:433: FutureWarning: Default solver will be changed to 'lbfgs' in 0.22. Specify a solver to silence this warning.\n",
      "  FutureWarning)\n",
      "/Users/JimmyWang/anaconda3/envs/py3.6/lib/python3.7/site-packages/sklearn/linear_model/logistic.py:433: FutureWarning: Default solver will be changed to 'lbfgs' in 0.22. Specify a solver to silence this warning.\n",
      "  FutureWarning)\n",
      "/Users/JimmyWang/anaconda3/envs/py3.6/lib/python3.7/site-packages/sklearn/linear_model/logistic.py:433: FutureWarning: Default solver will be changed to 'lbfgs' in 0.22. Specify a solver to silence this warning.\n",
      "  FutureWarning)\n",
      "/Users/JimmyWang/anaconda3/envs/py3.6/lib/python3.7/site-packages/sklearn/linear_model/logistic.py:433: FutureWarning: Default solver will be changed to 'lbfgs' in 0.22. Specify a solver to silence this warning.\n",
      "  FutureWarning)\n"
     ]
    }
   ],
   "source": [
    "[rmse_train, msle_train, rmse_test, msle_test, models, train_X, train_Y, test_X, test_Y, \n",
    "            train_pred_YY, test_pred_YY] = buildModel(featureOrder)"
   ]
  },
  {
   "cell_type": "code",
   "execution_count": 310,
   "metadata": {},
   "outputs": [
    {
     "data": {
      "text/plain": [
       "[<matplotlib.lines.Line2D at 0x1a191a6898>]"
      ]
     },
     "execution_count": 310,
     "metadata": {},
     "output_type": "execute_result"
    },
    {
     "data": {
      "image/png": "[encoded data removed]",
      "text/plain": [
       "<Figure size 432x288 with 1 Axes>"
      ]
     },
     "metadata": {
      "needs_background": "light"
     },
     "output_type": "display_data"
    }
   ],
   "source": [
    "# plt.plot(np.transpose(rmse_test))\n",
    "plt.plot(rmse_test, 'b')\n",
    "plt.plot(rmse_train, 'r')"
   ]
  },
  {
   "cell_type": "markdown",
   "metadata": {},
   "source": [
    "## Significant"
   ]
  },
  {
   "cell_type": "code",
   "execution_count": null,
   "metadata": {},
   "outputs": [],
   "source": [
    "modelFeature = featureOrder[1:orderIndex]"
   ]
  },
  {
   "cell_type": "code",
   "execution_count": null,
   "metadata": {},
   "outputs": [],
   "source": [
    "modelFeature"
   ]
  },
  {
   "cell_type": "code",
   "execution_count": null,
   "metadata": {},
   "outputs": [],
   "source": [
    "df[['Wage', 'Overall', 'Reactions', 'Potential']]\n",
    "stats.ttest_ind(df['Overall'], df['Potential'])"
   ]
  },
  {
   "cell_type": "code",
   "execution_count": null,
   "metadata": {},
   "outputs": [],
   "source": [
    "# ttt = stats.ttest_ind(df[modelFeature],df[modelFeature])\n",
    "\n",
    "for i in modelFeature:\n",
    "    t, p = stats.ttest_ind(df[i], df[modelFeature])\n",
    "    print(p)"
   ]
  },
  {
   "cell_type": "markdown",
   "metadata": {},
   "source": [
    "### model assumptions violated?"
   ]
  },
  {
   "cell_type": "code",
   "execution_count": null,
   "metadata": {},
   "outputs": [],
   "source": [
    "plt.scatter(train_Y[orderIndex].index.values, train_Y[orderIndex])\n",
    "plt.scatter(test_Y[orderIndex].index.values, test_Y[orderIndex])"
   ]
  },
  {
   "cell_type": "code",
   "execution_count": null,
   "metadata": {},
   "outputs": [],
   "source": []
  }
 ],
 "metadata": {
  "kernelspec": {
   "display_name": "Python 3",
   "language": "python",
   "name": "python3"
  },
  "language_info": {
   "codemirror_mode": {
    "name": "ipython",
    "version": 3
   },
   "file_extension": ".py",
   "mimetype": "text/x-python",
   "name": "python",
   "nbconvert_exporter": "python",
   "pygments_lexer": "ipython3",
   "version": "3.7.2"
  }
 },
 "nbformat": 4,
 "nbformat_minor": 2
}
