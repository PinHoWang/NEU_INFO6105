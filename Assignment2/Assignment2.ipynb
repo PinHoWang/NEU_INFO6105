{
 "cells": [
  {
   "cell_type": "markdown",
   "metadata": {},
   "source": [
    "# FIFA 2018 - Assignment 2 (Part A - Linear model)"
   ]
  },
  {
   "cell_type": "markdown",
   "metadata": {},
   "source": [
    "# Abstract"
   ]
  },
  {
   "cell_type": "markdown",
   "metadata": {},
   "source": [
    "The data is scraped from the website https://sofifa.com by extracting the Player personal data and Player Ids and then the playing and style statistics in FIFA 2018. In this assignment, we will investigate the relation between variables in order to select the features of the models. We will predict the wage of the players by building the linear regression models."
   ]
  },
  {
   "cell_type": "markdown",
   "metadata": {},
   "source": [
    "# Experiments"
   ]
  },
  {
   "cell_type": "markdown",
   "metadata": {},
   "source": [
    "## Data Preprocessing"
   ]
  },
  {
   "cell_type": "markdown",
   "metadata": {},
   "source": [
    "In order to select the candidates for training the better model, we have to clean up our data previously. First, we load the data and take a glance of the null or unusual values."
   ]
  },
  {
   "cell_type": "code",
   "execution_count": 224,
   "metadata": {},
   "outputs": [],
   "source": [
    "import pandas as pd\n",
    "import seaborn as sns\n",
    "import matplotlib.pyplot as plt\n",
    "from sklearn.model_selection import train_test_split\n",
    "from sklearn.linear_model import LinearRegression\n",
    "import numpy as np\n",
    "from scipy import stats\n",
    "from sklearn.metrics import mean_squared_error, mean_squared_log_error\n",
    "from sklearn.model_selection import cross_val_score"
   ]
  },
  {
   "cell_type": "code",
   "execution_count": 225,
   "metadata": {},
   "outputs": [],
   "source": [
    "df = pd.read_csv('data.csv', decimal = ',')"
   ]
  },
  {
   "cell_type": "code",
   "execution_count": 226,
   "metadata": {
    "scrolled": true
   },
   "outputs": [
    {
     "data": {
      "text/html": [
       "<div>\n",
       "<style scoped>\n",
       "    .dataframe tbody tr th:only-of-type {\n",
       "        vertical-align: middle;\n",
       "    }\n",
       "\n",
       "    .dataframe tbody tr th {\n",
       "        vertical-align: top;\n",
       "    }\n",
       "\n",
       "    .dataframe thead th {\n",
       "        text-align: right;\n",
       "    }\n",
       "</style>\n",
       "<table border=\"1\" class=\"dataframe\">\n",
       "  <thead>\n",
       "    <tr style=\"text-align: right;\">\n",
       "      <th></th>\n",
       "      <th>Unnamed: 0</th>\n",
       "      <th>ID</th>\n",
       "      <th>Name</th>\n",
       "      <th>Age</th>\n",
       "      <th>Photo</th>\n",
       "      <th>Nationality</th>\n",
       "      <th>Flag</th>\n",
       "      <th>Overall</th>\n",
       "      <th>Potential</th>\n",
       "      <th>Club</th>\n",
       "      <th>...</th>\n",
       "      <th>Composure</th>\n",
       "      <th>Marking</th>\n",
       "      <th>StandingTackle</th>\n",
       "      <th>SlidingTackle</th>\n",
       "      <th>GKDiving</th>\n",
       "      <th>GKHandling</th>\n",
       "      <th>GKKicking</th>\n",
       "      <th>GKPositioning</th>\n",
       "      <th>GKReflexes</th>\n",
       "      <th>Release Clause</th>\n",
       "    </tr>\n",
       "  </thead>\n",
       "  <tbody>\n",
       "    <tr>\n",
       "      <th>0</th>\n",
       "      <td>0</td>\n",
       "      <td>158023</td>\n",
       "      <td>L. Messi</td>\n",
       "      <td>31</td>\n",
       "      <td>https://cdn.sofifa.org/players/4/19/158023.png</td>\n",
       "      <td>Argentina</td>\n",
       "      <td>https://cdn.sofifa.org/flags/52.png</td>\n",
       "      <td>94</td>\n",
       "      <td>94</td>\n",
       "      <td>FC Barcelona</td>\n",
       "      <td>...</td>\n",
       "      <td>96.0</td>\n",
       "      <td>33.0</td>\n",
       "      <td>28.0</td>\n",
       "      <td>26.0</td>\n",
       "      <td>6.0</td>\n",
       "      <td>11.0</td>\n",
       "      <td>15.0</td>\n",
       "      <td>14.0</td>\n",
       "      <td>8.0</td>\n",
       "      <td>€226.5M</td>\n",
       "    </tr>\n",
       "    <tr>\n",
       "      <th>1</th>\n",
       "      <td>1</td>\n",
       "      <td>20801</td>\n",
       "      <td>Cristiano Ronaldo</td>\n",
       "      <td>33</td>\n",
       "      <td>https://cdn.sofifa.org/players/4/19/20801.png</td>\n",
       "      <td>Portugal</td>\n",
       "      <td>https://cdn.sofifa.org/flags/38.png</td>\n",
       "      <td>94</td>\n",
       "      <td>94</td>\n",
       "      <td>Juventus</td>\n",
       "      <td>...</td>\n",
       "      <td>95.0</td>\n",
       "      <td>28.0</td>\n",
       "      <td>31.0</td>\n",
       "      <td>23.0</td>\n",
       "      <td>7.0</td>\n",
       "      <td>11.0</td>\n",
       "      <td>15.0</td>\n",
       "      <td>14.0</td>\n",
       "      <td>11.0</td>\n",
       "      <td>€127.1M</td>\n",
       "    </tr>\n",
       "    <tr>\n",
       "      <th>2</th>\n",
       "      <td>2</td>\n",
       "      <td>190871</td>\n",
       "      <td>Neymar Jr</td>\n",
       "      <td>26</td>\n",
       "      <td>https://cdn.sofifa.org/players/4/19/190871.png</td>\n",
       "      <td>Brazil</td>\n",
       "      <td>https://cdn.sofifa.org/flags/54.png</td>\n",
       "      <td>92</td>\n",
       "      <td>93</td>\n",
       "      <td>Paris Saint-Germain</td>\n",
       "      <td>...</td>\n",
       "      <td>94.0</td>\n",
       "      <td>27.0</td>\n",
       "      <td>24.0</td>\n",
       "      <td>33.0</td>\n",
       "      <td>9.0</td>\n",
       "      <td>9.0</td>\n",
       "      <td>15.0</td>\n",
       "      <td>15.0</td>\n",
       "      <td>11.0</td>\n",
       "      <td>€228.1M</td>\n",
       "    </tr>\n",
       "    <tr>\n",
       "      <th>3</th>\n",
       "      <td>3</td>\n",
       "      <td>193080</td>\n",
       "      <td>De Gea</td>\n",
       "      <td>27</td>\n",
       "      <td>https://cdn.sofifa.org/players/4/19/193080.png</td>\n",
       "      <td>Spain</td>\n",
       "      <td>https://cdn.sofifa.org/flags/45.png</td>\n",
       "      <td>91</td>\n",
       "      <td>93</td>\n",
       "      <td>Manchester United</td>\n",
       "      <td>...</td>\n",
       "      <td>68.0</td>\n",
       "      <td>15.0</td>\n",
       "      <td>21.0</td>\n",
       "      <td>13.0</td>\n",
       "      <td>90.0</td>\n",
       "      <td>85.0</td>\n",
       "      <td>87.0</td>\n",
       "      <td>88.0</td>\n",
       "      <td>94.0</td>\n",
       "      <td>€138.6M</td>\n",
       "    </tr>\n",
       "    <tr>\n",
       "      <th>4</th>\n",
       "      <td>4</td>\n",
       "      <td>192985</td>\n",
       "      <td>K. De Bruyne</td>\n",
       "      <td>27</td>\n",
       "      <td>https://cdn.sofifa.org/players/4/19/192985.png</td>\n",
       "      <td>Belgium</td>\n",
       "      <td>https://cdn.sofifa.org/flags/7.png</td>\n",
       "      <td>91</td>\n",
       "      <td>92</td>\n",
       "      <td>Manchester City</td>\n",
       "      <td>...</td>\n",
       "      <td>88.0</td>\n",
       "      <td>68.0</td>\n",
       "      <td>58.0</td>\n",
       "      <td>51.0</td>\n",
       "      <td>15.0</td>\n",
       "      <td>13.0</td>\n",
       "      <td>5.0</td>\n",
       "      <td>10.0</td>\n",
       "      <td>13.0</td>\n",
       "      <td>€196.4M</td>\n",
       "    </tr>\n",
       "  </tbody>\n",
       "</table>\n",
       "<p>5 rows × 89 columns</p>\n",
       "</div>"
      ],
      "text/plain": [
       "   Unnamed: 0      ID               Name  Age  \\\n",
       "0           0  158023           L. Messi   31   \n",
       "1           1   20801  Cristiano Ronaldo   33   \n",
       "2           2  190871          Neymar Jr   26   \n",
       "3           3  193080             De Gea   27   \n",
       "4           4  192985       K. De Bruyne   27   \n",
       "\n",
       "                                            Photo Nationality  \\\n",
       "0  https://cdn.sofifa.org/players/4/19/158023.png   Argentina   \n",
       "1   https://cdn.sofifa.org/players/4/19/20801.png    Portugal   \n",
       "2  https://cdn.sofifa.org/players/4/19/190871.png      Brazil   \n",
       "3  https://cdn.sofifa.org/players/4/19/193080.png       Spain   \n",
       "4  https://cdn.sofifa.org/players/4/19/192985.png     Belgium   \n",
       "\n",
       "                                  Flag  Overall  Potential  \\\n",
       "0  https://cdn.sofifa.org/flags/52.png       94         94   \n",
       "1  https://cdn.sofifa.org/flags/38.png       94         94   \n",
       "2  https://cdn.sofifa.org/flags/54.png       92         93   \n",
       "3  https://cdn.sofifa.org/flags/45.png       91         93   \n",
       "4   https://cdn.sofifa.org/flags/7.png       91         92   \n",
       "\n",
       "                  Club  ... Composure Marking StandingTackle  SlidingTackle  \\\n",
       "0         FC Barcelona  ...      96.0    33.0           28.0           26.0   \n",
       "1             Juventus  ...      95.0    28.0           31.0           23.0   \n",
       "2  Paris Saint-Germain  ...      94.0    27.0           24.0           33.0   \n",
       "3    Manchester United  ...      68.0    15.0           21.0           13.0   \n",
       "4      Manchester City  ...      88.0    68.0           58.0           51.0   \n",
       "\n",
       "  GKDiving  GKHandling  GKKicking  GKPositioning GKReflexes Release Clause  \n",
       "0      6.0        11.0       15.0           14.0        8.0        €226.5M  \n",
       "1      7.0        11.0       15.0           14.0       11.0        €127.1M  \n",
       "2      9.0         9.0       15.0           15.0       11.0        €228.1M  \n",
       "3     90.0        85.0       87.0           88.0       94.0        €138.6M  \n",
       "4     15.0        13.0        5.0           10.0       13.0        €196.4M  \n",
       "\n",
       "[5 rows x 89 columns]"
      ]
     },
     "execution_count": 226,
     "metadata": {},
     "output_type": "execute_result"
    }
   ],
   "source": [
    "df.head(5)"
   ]
  },
  {
   "cell_type": "markdown",
   "metadata": {},
   "source": [
    "There are some variables we may not use, like IDs, photos and so on. We can remove them from our data and form a new data set for predicting the wage."
   ]
  },
  {
   "cell_type": "code",
   "execution_count": 227,
   "metadata": {},
   "outputs": [],
   "source": [
    "df = df.drop(columns=['Unnamed: 0', 'ID', 'Photo', 'Nationality', 'Flag', 'Club', 'Club Logo', 'Work Rate', 'Real Face', 'Jersey Number', 'Joined', 'Loaned From', 'Contract Valid Until', 'Body Type', 'Position', 'Release Clause'])"
   ]
  },
  {
   "cell_type": "markdown",
   "metadata": {},
   "source": [
    "Then for the NaN value. "
   ]
  },
  {
   "cell_type": "markdown",
   "metadata": {},
   "source": [
    "## Target Variable"
   ]
  },
  {
   "cell_type": "markdown",
   "metadata": {},
   "source": [
    "As we want to predict the wage of the players, we can first investigate the wage column as below. First, we check it doesn't exist the NaN value."
   ]
  },
  {
   "cell_type": "code",
   "execution_count": 228,
   "metadata": {},
   "outputs": [
    {
     "data": {
      "text/plain": [
       "0"
      ]
     },
     "execution_count": 228,
     "metadata": {},
     "output_type": "execute_result"
    }
   ],
   "source": [
    "df['Wage'].isnull().sum()"
   ]
  },
  {
   "cell_type": "code",
   "execution_count": 229,
   "metadata": {},
   "outputs": [
    {
     "data": {
      "text/plain": [
       "Name                           0\n",
       "Age                            0\n",
       "Overall                        0\n",
       "Potential                      0\n",
       "Value                          0\n",
       "Wage                           0\n",
       "Special                        0\n",
       "Preferred Foot                48\n",
       "International Reputation      48\n",
       "Weak Foot                     48\n",
       "Skill Moves                   48\n",
       "Height                        48\n",
       "Weight                        48\n",
       "LS                          2085\n",
       "ST                          2085\n",
       "RS                          2085\n",
       "LW                          2085\n",
       "LF                          2085\n",
       "CF                          2085\n",
       "RF                          2085\n",
       "RW                          2085\n",
       "LAM                         2085\n",
       "CAM                         2085\n",
       "RAM                         2085\n",
       "LM                          2085\n",
       "LCM                         2085\n",
       "CM                          2085\n",
       "RCM                         2085\n",
       "RM                          2085\n",
       "LWB                         2085\n",
       "                            ... \n",
       "Volleys                       48\n",
       "Dribbling                     48\n",
       "Curve                         48\n",
       "FKAccuracy                    48\n",
       "LongPassing                   48\n",
       "BallControl                   48\n",
       "Acceleration                  48\n",
       "SprintSpeed                   48\n",
       "Agility                       48\n",
       "Reactions                     48\n",
       "Balance                       48\n",
       "ShotPower                     48\n",
       "Jumping                       48\n",
       "Stamina                       48\n",
       "Strength                      48\n",
       "LongShots                     48\n",
       "Aggression                    48\n",
       "Interceptions                 48\n",
       "Positioning                   48\n",
       "Vision                        48\n",
       "Penalties                     48\n",
       "Composure                     48\n",
       "Marking                       48\n",
       "StandingTackle                48\n",
       "SlidingTackle                 48\n",
       "GKDiving                      48\n",
       "GKHandling                    48\n",
       "GKKicking                     48\n",
       "GKPositioning                 48\n",
       "GKReflexes                    48\n",
       "Length: 73, dtype: int64"
      ]
     },
     "execution_count": 229,
     "metadata": {},
     "output_type": "execute_result"
    }
   ],
   "source": [
    "df.isnull().sum()"
   ]
  },
  {
   "cell_type": "markdown",
   "metadata": {},
   "source": [
    "Then, we find out that the wage column contains the special symbols, we can change them into integer value for convenient."
   ]
  },
  {
   "cell_type": "code",
   "execution_count": 230,
   "metadata": {},
   "outputs": [
    {
     "data": {
      "text/plain": [
       "0        €565K\n",
       "1        €405K\n",
       "2        €290K\n",
       "3        €260K\n",
       "4        €355K\n",
       "5        €340K\n",
       "6        €420K\n",
       "7        €455K\n",
       "8        €380K\n",
       "9         €94K\n",
       "10       €205K\n",
       "11       €355K\n",
       "12       €125K\n",
       "13       €285K\n",
       "14       €225K\n",
       "15       €205K\n",
       "16       €205K\n",
       "17       €145K\n",
       "18       €240K\n",
       "19       €240K\n",
       "20       €315K\n",
       "21       €200K\n",
       "22       €130K\n",
       "23       €300K\n",
       "24       €215K\n",
       "25       €100K\n",
       "26       €255K\n",
       "27       €285K\n",
       "28       €315K\n",
       "29       €165K\n",
       "         ...  \n",
       "18177      €1K\n",
       "18178      €1K\n",
       "18179      €1K\n",
       "18180      €1K\n",
       "18181      €1K\n",
       "18182      €1K\n",
       "18183      €1K\n",
       "18184      €1K\n",
       "18185      €1K\n",
       "18186      €1K\n",
       "18187      €1K\n",
       "18188      €1K\n",
       "18189      €1K\n",
       "18190      €1K\n",
       "18191      €1K\n",
       "18192      €1K\n",
       "18193      €1K\n",
       "18194      €1K\n",
       "18195      €1K\n",
       "18196      €1K\n",
       "18197      €1K\n",
       "18198      €1K\n",
       "18199      €1K\n",
       "18200      €1K\n",
       "18201      €1K\n",
       "18202      €1K\n",
       "18203      €1K\n",
       "18204      €1K\n",
       "18205      €1K\n",
       "18206      €1K\n",
       "Name: Wage, Length: 18207, dtype: object"
      ]
     },
     "execution_count": 230,
     "metadata": {},
     "output_type": "execute_result"
    }
   ],
   "source": [
    "df['Wage']"
   ]
  },
  {
   "cell_type": "code",
   "execution_count": 231,
   "metadata": {},
   "outputs": [],
   "source": [
    "df['Wage'] = df['Wage'].str.split('€').str[1].str.split('K').str[0]"
   ]
  },
  {
   "cell_type": "code",
   "execution_count": 232,
   "metadata": {},
   "outputs": [],
   "source": [
    "df['Wage'] = df['Wage'].astype('int64') * 1000"
   ]
  },
  {
   "cell_type": "code",
   "execution_count": 233,
   "metadata": {},
   "outputs": [
    {
     "data": {
      "text/plain": [
       "0        565000\n",
       "1        405000\n",
       "2        290000\n",
       "3        260000\n",
       "4        355000\n",
       "5        340000\n",
       "6        420000\n",
       "7        455000\n",
       "8        380000\n",
       "9         94000\n",
       "10       205000\n",
       "11       355000\n",
       "12       125000\n",
       "13       285000\n",
       "14       225000\n",
       "15       205000\n",
       "16       205000\n",
       "17       145000\n",
       "18       240000\n",
       "19       240000\n",
       "20       315000\n",
       "21       200000\n",
       "22       130000\n",
       "23       300000\n",
       "24       215000\n",
       "25       100000\n",
       "26       255000\n",
       "27       285000\n",
       "28       315000\n",
       "29       165000\n",
       "          ...  \n",
       "18177      1000\n",
       "18178      1000\n",
       "18179      1000\n",
       "18180      1000\n",
       "18181      1000\n",
       "18182      1000\n",
       "18183      1000\n",
       "18184      1000\n",
       "18185      1000\n",
       "18186      1000\n",
       "18187      1000\n",
       "18188      1000\n",
       "18189      1000\n",
       "18190      1000\n",
       "18191      1000\n",
       "18192      1000\n",
       "18193      1000\n",
       "18194      1000\n",
       "18195      1000\n",
       "18196      1000\n",
       "18197      1000\n",
       "18198      1000\n",
       "18199      1000\n",
       "18200      1000\n",
       "18201      1000\n",
       "18202      1000\n",
       "18203      1000\n",
       "18204      1000\n",
       "18205      1000\n",
       "18206      1000\n",
       "Name: Wage, Length: 18207, dtype: int64"
      ]
     },
     "execution_count": 233,
     "metadata": {},
     "output_type": "execute_result"
    }
   ],
   "source": [
    "df['Wage']"
   ]
  },
  {
   "cell_type": "markdown",
   "metadata": {},
   "source": [
    "Then, we can sort it from highest to lowest and plot it as the histogram."
   ]
  },
  {
   "cell_type": "code",
   "execution_count": 234,
   "metadata": {},
   "outputs": [],
   "source": [
    "top_wage_player=df.sort_values('Wage',ascending=False)"
   ]
  },
  {
   "cell_type": "code",
   "execution_count": 235,
   "metadata": {},
   "outputs": [
    {
     "data": {
      "image/png": "[encoded data removed]",
      "text/plain": [
       "<Figure size 1152x432 with 1 Axes>"
      ]
     },
     "metadata": {
      "needs_background": "light"
     },
     "output_type": "display_data"
    }
   ],
   "source": [
    "fig, ax = plt.subplots(figsize=(16,6))\n",
    "sns.barplot(x='Name', y='Wage', data=top_wage_player.head(33), palette='Set1')\n",
    "ax.set_xlabel(ax.get_xlabel(), labelpad=15)\n",
    "ax.set_ylabel(ax.get_ylabel(), labelpad=30)\n",
    "plt.xticks(rotation=90)\n",
    "plt.show()"
   ]
  },
  {
   "cell_type": "markdown",
   "metadata": {},
   "source": [
    "As you can see, there exist the zero value, it makes no sense. So, we place them into the median of all players' wage."
   ]
  },
  {
   "cell_type": "code",
   "execution_count": 236,
   "metadata": {},
   "outputs": [
    {
     "data": {
      "image/png": "[encoded data removed]",
      "text/plain": [
       "<Figure size 1152x432 with 1 Axes>"
      ]
     },
     "metadata": {
      "needs_background": "light"
     },
     "output_type": "display_data"
    }
   ],
   "source": [
    "fig, ax = plt.subplots(figsize=(16,6))\n",
    "sns.barplot(x='Name', y='Wage', data=top_wage_player.tail(33), palette='Set1')\n",
    "ax.set_xlabel(ax.get_xlabel(), labelpad=15)\n",
    "ax.set_ylabel(ax.get_ylabel(), labelpad=30)\n",
    "ax.xaxis.label.set_fontsize(16)\n",
    "ax.yaxis.label.set_fontsize(16)\n",
    "plt.xticks(rotation=90)\n",
    "plt.show()"
   ]
  },
  {
   "cell_type": "code",
   "execution_count": 237,
   "metadata": {},
   "outputs": [
    {
     "data": {
      "text/plain": [
       "3000.0"
      ]
     },
     "execution_count": 237,
     "metadata": {},
     "output_type": "execute_result"
    }
   ],
   "source": [
    "df['Wage'].median()"
   ]
  },
  {
   "cell_type": "code",
   "execution_count": 238,
   "metadata": {},
   "outputs": [
    {
     "name": "stderr",
     "output_type": "stream",
     "text": [
      "/Users/JimmyWang/anaconda3/envs/py3.6/lib/python3.7/site-packages/ipykernel_launcher.py:2: SettingWithCopyWarning: \n",
      "A value is trying to be set on a copy of a slice from a DataFrame\n",
      "\n",
      "See the caveats in the documentation: http://pandas.pydata.org/pandas-docs/stable/indexing.html#indexing-view-versus-copy\n",
      "  \n"
     ]
    }
   ],
   "source": [
    "# Clear the 0 wage with median\n",
    "df['Wage'][df['Wage'] == 0] = df['Wage'].median()\n",
    "top_wage_player=df.sort_values('Wage',ascending=False)"
   ]
  },
  {
   "cell_type": "code",
   "execution_count": 239,
   "metadata": {},
   "outputs": [
    {
     "data": {
      "image/png": "[encoded data removed]",
      "text/plain": [
       "<Figure size 1152x432 with 1 Axes>"
      ]
     },
     "metadata": {
      "needs_background": "light"
     },
     "output_type": "display_data"
    }
   ],
   "source": [
    "fig, ax = plt.subplots(figsize=(16,6))\n",
    "sns.barplot(x='Name', y='Wage', data=top_wage_player.tail(33), palette='Set1')\n",
    "ax.set_xlabel(ax.get_xlabel(), labelpad=15)\n",
    "ax.set_ylabel(ax.get_ylabel(), labelpad=30)\n",
    "ax.xaxis.label.set_fontsize(16)\n",
    "ax.yaxis.label.set_fontsize(16)\n",
    "plt.xticks(rotation=90)\n",
    "plt.show()"
   ]
  },
  {
   "cell_type": "markdown",
   "metadata": {},
   "source": [
    "For now, there is no NaN value and no zero value in Wage column. We can move on to check out the other variables."
   ]
  },
  {
   "cell_type": "code",
   "execution_count": null,
   "metadata": {},
   "outputs": [],
   "source": []
  },
  {
   "cell_type": "markdown",
   "metadata": {},
   "source": [
    "## Variables"
   ]
  },
  {
   "cell_type": "markdown",
   "metadata": {},
   "source": [
    "For processing the other variables, we will first check out whether it contains NaN values, then, investiage whether it has unusual outliers."
   ]
  },
  {
   "cell_type": "markdown",
   "metadata": {},
   "source": [
    "### Ages"
   ]
  },
  {
   "cell_type": "code",
   "execution_count": 240,
   "metadata": {},
   "outputs": [
    {
     "data": {
      "text/plain": [
       "0        31\n",
       "1        33\n",
       "2        26\n",
       "3        27\n",
       "4        27\n",
       "5        27\n",
       "6        32\n",
       "7        31\n",
       "8        32\n",
       "9        25\n",
       "10       29\n",
       "11       28\n",
       "12       32\n",
       "13       32\n",
       "14       27\n",
       "15       24\n",
       "16       24\n",
       "17       27\n",
       "18       26\n",
       "19       26\n",
       "20       29\n",
       "21       31\n",
       "22       32\n",
       "23       30\n",
       "24       33\n",
       "25       19\n",
       "26       26\n",
       "27       26\n",
       "28       26\n",
       "29       27\n",
       "         ..\n",
       "18177    18\n",
       "18178    18\n",
       "18179    17\n",
       "18180    22\n",
       "18181    17\n",
       "18182    18\n",
       "18183    44\n",
       "18184    18\n",
       "18185    19\n",
       "18186    20\n",
       "18187    19\n",
       "18188    17\n",
       "18189    18\n",
       "18190    18\n",
       "18191    18\n",
       "18192    18\n",
       "18193    18\n",
       "18194    18\n",
       "18195    18\n",
       "18196    19\n",
       "18197    18\n",
       "18198    18\n",
       "18199    18\n",
       "18200    18\n",
       "18201    18\n",
       "18202    19\n",
       "18203    19\n",
       "18204    16\n",
       "18205    17\n",
       "18206    16\n",
       "Name: Age, Length: 18207, dtype: int64"
      ]
     },
     "execution_count": 240,
     "metadata": {},
     "output_type": "execute_result"
    }
   ],
   "source": [
    "df['Age']"
   ]
  },
  {
   "cell_type": "code",
   "execution_count": 241,
   "metadata": {},
   "outputs": [
    {
     "data": {
      "text/plain": [
       "0"
      ]
     },
     "execution_count": 241,
     "metadata": {},
     "output_type": "execute_result"
    }
   ],
   "source": [
    "df['Age'].isnull().sum()"
   ]
  },
  {
   "cell_type": "code",
   "execution_count": 242,
   "metadata": {},
   "outputs": [
    {
     "data": {
      "text/plain": [
       "<matplotlib.axes._subplots.AxesSubplot at 0x1a22e43898>"
      ]
     },
     "execution_count": 242,
     "metadata": {},
     "output_type": "execute_result"
    },
    {
     "data": {
      "image/png": "[encoded data removed]",
      "text/plain": [
       "<Figure size 432x288 with 1 Axes>"
      ]
     },
     "metadata": {
      "needs_background": "light"
     },
     "output_type": "display_data"
    }
   ],
   "source": [
    "sns.boxplot(df['Age'])"
   ]
  },
  {
   "cell_type": "markdown",
   "metadata": {},
   "source": [
    "### Overall"
   ]
  },
  {
   "cell_type": "code",
   "execution_count": 243,
   "metadata": {},
   "outputs": [
    {
     "data": {
      "text/plain": [
       "0"
      ]
     },
     "execution_count": 243,
     "metadata": {},
     "output_type": "execute_result"
    }
   ],
   "source": [
    "df['Overall'].isnull().sum()"
   ]
  },
  {
   "cell_type": "code",
   "execution_count": 244,
   "metadata": {},
   "outputs": [
    {
     "data": {
      "text/plain": [
       "<matplotlib.axes._subplots.AxesSubplot at 0x1a22e25898>"
      ]
     },
     "execution_count": 244,
     "metadata": {},
     "output_type": "execute_result"
    },
    {
     "data": {
      "image/png": "[encoded data removed]",
      "text/plain": [
       "<Figure size 432x288 with 1 Axes>"
      ]
     },
     "metadata": {
      "needs_background": "light"
     },
     "output_type": "display_data"
    }
   ],
   "source": [
    "sns.boxplot(df['Overall'])"
   ]
  },
  {
   "cell_type": "markdown",
   "metadata": {},
   "source": [
    "### Potential"
   ]
  },
  {
   "cell_type": "code",
   "execution_count": 245,
   "metadata": {},
   "outputs": [
    {
     "data": {
      "text/plain": [
       "0"
      ]
     },
     "execution_count": 245,
     "metadata": {},
     "output_type": "execute_result"
    }
   ],
   "source": [
    "df['Potential'].isnull().sum()"
   ]
  },
  {
   "cell_type": "code",
   "execution_count": 246,
   "metadata": {},
   "outputs": [
    {
     "data": {
      "text/plain": [
       "<matplotlib.axes._subplots.AxesSubplot at 0x1a1bddaf98>"
      ]
     },
     "execution_count": 246,
     "metadata": {},
     "output_type": "execute_result"
    },
    {
     "data": {
      "image/png": "[encoded data removed]",
      "text/plain": [
       "<Figure size 432x288 with 1 Axes>"
      ]
     },
     "metadata": {
      "needs_background": "light"
     },
     "output_type": "display_data"
    }
   ],
   "source": [
    "sns.boxplot(df['Potential'])"
   ]
  },
  {
   "cell_type": "markdown",
   "metadata": {},
   "source": [
    "### Value"
   ]
  },
  {
   "cell_type": "markdown",
   "metadata": {},
   "source": [
    "Same as wage, value column also has special symbols, so we will do the same processing as wage column. Worthy to mention, some of the value column is million per units, so we also have to take care of the units."
   ]
  },
  {
   "cell_type": "code",
   "execution_count": 247,
   "metadata": {},
   "outputs": [
    {
     "data": {
      "text/plain": [
       "0        €110.5M\n",
       "1           €77M\n",
       "2        €118.5M\n",
       "3           €72M\n",
       "4          €102M\n",
       "5           €93M\n",
       "6           €67M\n",
       "7           €80M\n",
       "8           €51M\n",
       "9           €68M\n",
       "10          €77M\n",
       "11        €76.5M\n",
       "12          €44M\n",
       "13          €60M\n",
       "14          €63M\n",
       "15          €89M\n",
       "16        €83.5M\n",
       "17          €78M\n",
       "18          €58M\n",
       "19        €53.5M\n",
       "20        €51.5M\n",
       "21          €60M\n",
       "22          €38M\n",
       "23        €64.5M\n",
       "24          €27M\n",
       "25          €81M\n",
       "26        €69.5M\n",
       "27        €59.5M\n",
       "28        €69.5M\n",
       "29          €62M\n",
       "          ...   \n",
       "18177       €70K\n",
       "18178       €50K\n",
       "18179       €50K\n",
       "18180       €40K\n",
       "18181       €50K\n",
       "18182       €50K\n",
       "18183         €0\n",
       "18184       €40K\n",
       "18185       €50K\n",
       "18186       €60K\n",
       "18187       €40K\n",
       "18188       €60K\n",
       "18189       €60K\n",
       "18190       €60K\n",
       "18191       €50K\n",
       "18192       €50K\n",
       "18193       €50K\n",
       "18194       €50K\n",
       "18195       €60K\n",
       "18196       €60K\n",
       "18197       €60K\n",
       "18198       €60K\n",
       "18199       €70K\n",
       "18200       €60K\n",
       "18201       €60K\n",
       "18202       €60K\n",
       "18203       €60K\n",
       "18204       €60K\n",
       "18205       €60K\n",
       "18206       €60K\n",
       "Name: Value, Length: 18207, dtype: object"
      ]
     },
     "execution_count": 247,
     "metadata": {},
     "output_type": "execute_result"
    }
   ],
   "source": [
    "df['Value']"
   ]
  },
  {
   "cell_type": "code",
   "execution_count": 248,
   "metadata": {},
   "outputs": [],
   "source": [
    "#df['Value'] = df['Value'].str.split('€').str[1].str.split('M').str.split('K').str[0]\n",
    "# df['Value'].str.split('€').str[1].str.split('M').str[0].str.split('K').str[0]\n",
    "b = (df['Value'].str.split('€').str[1].str.split('M').str).len() == 2\n",
    "millions = df['Value'].str.split('€').str[1].str.split('M')[b].str[0].astype('float64')\n",
    "killions = df['Value'].str.split('€').str[1].str.split('M')[~b].str[0].str.split('K').str[0].astype('float64')\n",
    "# df['Value'].str.split('€').str[1].str.split('M').str[True]\n",
    "# (df['Value'].str.split('€').str[1].str.split('M').str).len() == 2"
   ]
  },
  {
   "cell_type": "code",
   "execution_count": 249,
   "metadata": {},
   "outputs": [
    {
     "name": "stderr",
     "output_type": "stream",
     "text": [
      "/Users/JimmyWang/anaconda3/envs/py3.6/lib/python3.7/site-packages/ipykernel_launcher.py:1: SettingWithCopyWarning: \n",
      "A value is trying to be set on a copy of a slice from a DataFrame\n",
      "\n",
      "See the caveats in the documentation: http://pandas.pydata.org/pandas-docs/stable/indexing.html#indexing-view-versus-copy\n",
      "  \"\"\"Entry point for launching an IPython kernel.\n"
     ]
    }
   ],
   "source": [
    "df['Value'][b] = millions * 1000000"
   ]
  },
  {
   "cell_type": "code",
   "execution_count": 250,
   "metadata": {},
   "outputs": [
    {
     "name": "stderr",
     "output_type": "stream",
     "text": [
      "/Users/JimmyWang/anaconda3/envs/py3.6/lib/python3.7/site-packages/ipykernel_launcher.py:1: SettingWithCopyWarning: \n",
      "A value is trying to be set on a copy of a slice from a DataFrame\n",
      "\n",
      "See the caveats in the documentation: http://pandas.pydata.org/pandas-docs/stable/indexing.html#indexing-view-versus-copy\n",
      "  \"\"\"Entry point for launching an IPython kernel.\n"
     ]
    }
   ],
   "source": [
    "df['Value'][~b] = killions * 1000"
   ]
  },
  {
   "cell_type": "code",
   "execution_count": 251,
   "metadata": {},
   "outputs": [
    {
     "data": {
      "text/plain": [
       "0        1.105e+08\n",
       "1          7.7e+07\n",
       "2        1.185e+08\n",
       "3          7.2e+07\n",
       "4         1.02e+08\n",
       "5          9.3e+07\n",
       "6          6.7e+07\n",
       "7            8e+07\n",
       "8          5.1e+07\n",
       "9          6.8e+07\n",
       "10         7.7e+07\n",
       "11        7.65e+07\n",
       "12         4.4e+07\n",
       "13           6e+07\n",
       "14         6.3e+07\n",
       "15         8.9e+07\n",
       "16        8.35e+07\n",
       "17         7.8e+07\n",
       "18         5.8e+07\n",
       "19        5.35e+07\n",
       "20        5.15e+07\n",
       "21           6e+07\n",
       "22         3.8e+07\n",
       "23        6.45e+07\n",
       "24         2.7e+07\n",
       "25         8.1e+07\n",
       "26        6.95e+07\n",
       "27        5.95e+07\n",
       "28        6.95e+07\n",
       "29         6.2e+07\n",
       "           ...    \n",
       "18177        70000\n",
       "18178        50000\n",
       "18179        50000\n",
       "18180        40000\n",
       "18181        50000\n",
       "18182        50000\n",
       "18183            0\n",
       "18184        40000\n",
       "18185        50000\n",
       "18186        60000\n",
       "18187        40000\n",
       "18188        60000\n",
       "18189        60000\n",
       "18190        60000\n",
       "18191        50000\n",
       "18192        50000\n",
       "18193        50000\n",
       "18194        50000\n",
       "18195        60000\n",
       "18196        60000\n",
       "18197        60000\n",
       "18198        60000\n",
       "18199        70000\n",
       "18200        60000\n",
       "18201        60000\n",
       "18202        60000\n",
       "18203        60000\n",
       "18204        60000\n",
       "18205        60000\n",
       "18206        60000\n",
       "Name: Value, Length: 18207, dtype: object"
      ]
     },
     "execution_count": 251,
     "metadata": {},
     "output_type": "execute_result"
    }
   ],
   "source": [
    "df['Value']"
   ]
  },
  {
   "cell_type": "markdown",
   "metadata": {},
   "source": [
    "We notice that there are also zero value in the Value column, which makes no sense. So, we alikely replace these values by the median of the column."
   ]
  },
  {
   "cell_type": "code",
   "execution_count": 252,
   "metadata": {},
   "outputs": [
    {
     "name": "stderr",
     "output_type": "stream",
     "text": [
      "/Users/JimmyWang/anaconda3/envs/py3.6/lib/python3.7/site-packages/ipykernel_launcher.py:1: SettingWithCopyWarning: \n",
      "A value is trying to be set on a copy of a slice from a DataFrame\n",
      "\n",
      "See the caveats in the documentation: http://pandas.pydata.org/pandas-docs/stable/indexing.html#indexing-view-versus-copy\n",
      "  \"\"\"Entry point for launching an IPython kernel.\n"
     ]
    }
   ],
   "source": [
    "df['Value'][df['Value'] == 0] = df['Value'].median()"
   ]
  },
  {
   "cell_type": "code",
   "execution_count": 253,
   "metadata": {},
   "outputs": [],
   "source": [
    "df['Value'] = df['Value'].astype('float64')"
   ]
  },
  {
   "cell_type": "markdown",
   "metadata": {},
   "source": [
    "### Preferred Foot"
   ]
  },
  {
   "cell_type": "markdown",
   "metadata": {},
   "source": [
    "The variable, \"Preferred Foot\", only have two string value which are \"Left\" and \"Right\" so called binary categorical variable."
   ]
  },
  {
   "cell_type": "code",
   "execution_count": 254,
   "metadata": {},
   "outputs": [
    {
     "data": {
      "text/plain": [
       "0         Left\n",
       "1        Right\n",
       "2        Right\n",
       "3        Right\n",
       "4        Right\n",
       "5        Right\n",
       "6        Right\n",
       "7        Right\n",
       "8        Right\n",
       "9        Right\n",
       "10       Right\n",
       "11       Right\n",
       "12       Right\n",
       "13        Left\n",
       "14       Right\n",
       "15        Left\n",
       "16       Right\n",
       "17        Left\n",
       "18       Right\n",
       "19        Left\n",
       "20       Right\n",
       "21       Right\n",
       "22       Right\n",
       "23       Right\n",
       "24        Left\n",
       "25       Right\n",
       "26        Left\n",
       "27       Right\n",
       "28        Left\n",
       "29       Right\n",
       "         ...  \n",
       "18177    Right\n",
       "18178    Right\n",
       "18179    Right\n",
       "18180    Right\n",
       "18181    Right\n",
       "18182    Right\n",
       "18183    Right\n",
       "18184    Right\n",
       "18185    Right\n",
       "18186    Right\n",
       "18187    Right\n",
       "18188    Right\n",
       "18189    Right\n",
       "18190    Right\n",
       "18191     Left\n",
       "18192    Right\n",
       "18193    Right\n",
       "18194    Right\n",
       "18195    Right\n",
       "18196    Right\n",
       "18197    Right\n",
       "18198    Right\n",
       "18199    Right\n",
       "18200     Left\n",
       "18201     Left\n",
       "18202    Right\n",
       "18203    Right\n",
       "18204    Right\n",
       "18205    Right\n",
       "18206    Right\n",
       "Name: Preferred Foot, Length: 18207, dtype: object"
      ]
     },
     "execution_count": 254,
     "metadata": {},
     "output_type": "execute_result"
    }
   ],
   "source": [
    "df['Preferred Foot']"
   ]
  },
  {
   "cell_type": "code",
   "execution_count": 255,
   "metadata": {},
   "outputs": [
    {
     "data": {
      "text/plain": [
       "[Left, Right, Right, Right, Right, ..., Right, Right, Right, Right, Right]\n",
       "Length: 18207\n",
       "Categories (2, object): [Left, Right]"
      ]
     },
     "execution_count": 255,
     "metadata": {},
     "output_type": "execute_result"
    }
   ],
   "source": [
    "df['Preferred Foot'].astype('category').values"
   ]
  },
  {
   "cell_type": "markdown",
   "metadata": {},
   "source": [
    "As the aspect of the NaN value, we found there are 48 NaN values in this variable column. Because of small amount, compare to the total observations, we can just ignore these observations."
   ]
  },
  {
   "cell_type": "code",
   "execution_count": 256,
   "metadata": {},
   "outputs": [
    {
     "data": {
      "text/plain": [
       "48"
      ]
     },
     "execution_count": 256,
     "metadata": {},
     "output_type": "execute_result"
    }
   ],
   "source": [
    "df['Preferred Foot'].isnull().sum()"
   ]
  },
  {
   "cell_type": "code",
   "execution_count": 257,
   "metadata": {},
   "outputs": [
    {
     "data": {
      "text/plain": [
       "0         Left\n",
       "1        Right\n",
       "2        Right\n",
       "3        Right\n",
       "4        Right\n",
       "5        Right\n",
       "6        Right\n",
       "7        Right\n",
       "8        Right\n",
       "9        Right\n",
       "10       Right\n",
       "11       Right\n",
       "12       Right\n",
       "13        Left\n",
       "14       Right\n",
       "15        Left\n",
       "16       Right\n",
       "17        Left\n",
       "18       Right\n",
       "19        Left\n",
       "20       Right\n",
       "21       Right\n",
       "22       Right\n",
       "23       Right\n",
       "24        Left\n",
       "25       Right\n",
       "26        Left\n",
       "27       Right\n",
       "28        Left\n",
       "29       Right\n",
       "         ...  \n",
       "18177    Right\n",
       "18178    Right\n",
       "18179    Right\n",
       "18180    Right\n",
       "18181    Right\n",
       "18182    Right\n",
       "18183    Right\n",
       "18184    Right\n",
       "18185    Right\n",
       "18186    Right\n",
       "18187    Right\n",
       "18188    Right\n",
       "18189    Right\n",
       "18190    Right\n",
       "18191     Left\n",
       "18192    Right\n",
       "18193    Right\n",
       "18194    Right\n",
       "18195    Right\n",
       "18196    Right\n",
       "18197    Right\n",
       "18198    Right\n",
       "18199    Right\n",
       "18200     Left\n",
       "18201     Left\n",
       "18202    Right\n",
       "18203    Right\n",
       "18204    Right\n",
       "18205    Right\n",
       "18206    Right\n",
       "Name: Preferred Foot, Length: 18207, dtype: object"
      ]
     },
     "execution_count": 257,
     "metadata": {},
     "output_type": "execute_result"
    }
   ],
   "source": [
    "df['Preferred Foot']"
   ]
  },
  {
   "cell_type": "code",
   "execution_count": 258,
   "metadata": {},
   "outputs": [],
   "source": [
    "df = df[~df['Preferred Foot'].isnull()]"
   ]
  },
  {
   "cell_type": "markdown",
   "metadata": {},
   "source": [
    "### International Reputation "
   ]
  },
  {
   "cell_type": "markdown",
   "metadata": {},
   "source": [
    "International reputation is scored by the number 1 to 5."
   ]
  },
  {
   "cell_type": "code",
   "execution_count": 259,
   "metadata": {},
   "outputs": [
    {
     "data": {
      "text/plain": [
       "0        5.0\n",
       "1        5.0\n",
       "2        5.0\n",
       "3        4.0\n",
       "4        4.0\n",
       "5        4.0\n",
       "6        4.0\n",
       "7        5.0\n",
       "8        4.0\n",
       "9        3.0\n",
       "10       4.0\n",
       "11       4.0\n",
       "12       3.0\n",
       "13       4.0\n",
       "14       3.0\n",
       "15       3.0\n",
       "16       3.0\n",
       "17       4.0\n",
       "18       3.0\n",
       "19       4.0\n",
       "20       4.0\n",
       "21       4.0\n",
       "22       5.0\n",
       "23       4.0\n",
       "24       4.0\n",
       "25       3.0\n",
       "26       3.0\n",
       "27       3.0\n",
       "28       4.0\n",
       "29       3.0\n",
       "        ... \n",
       "18177    1.0\n",
       "18178    1.0\n",
       "18179    1.0\n",
       "18180    1.0\n",
       "18181    1.0\n",
       "18182    1.0\n",
       "18183    1.0\n",
       "18184    1.0\n",
       "18185    1.0\n",
       "18186    1.0\n",
       "18187    1.0\n",
       "18188    1.0\n",
       "18189    1.0\n",
       "18190    1.0\n",
       "18191    1.0\n",
       "18192    1.0\n",
       "18193    1.0\n",
       "18194    1.0\n",
       "18195    1.0\n",
       "18196    1.0\n",
       "18197    1.0\n",
       "18198    1.0\n",
       "18199    1.0\n",
       "18200    1.0\n",
       "18201    1.0\n",
       "18202    1.0\n",
       "18203    1.0\n",
       "18204    1.0\n",
       "18205    1.0\n",
       "18206    1.0\n",
       "Name: International Reputation, Length: 18159, dtype: float64"
      ]
     },
     "execution_count": 259,
     "metadata": {},
     "output_type": "execute_result"
    }
   ],
   "source": [
    "df['International Reputation']"
   ]
  },
  {
   "cell_type": "code",
   "execution_count": 260,
   "metadata": {},
   "outputs": [
    {
     "data": {
      "text/plain": [
       "0"
      ]
     },
     "execution_count": 260,
     "metadata": {},
     "output_type": "execute_result"
    }
   ],
   "source": [
    "df['International Reputation'].isnull().sum()"
   ]
  },
  {
   "cell_type": "markdown",
   "metadata": {},
   "source": [
    "### Weak Foot"
   ]
  },
  {
   "cell_type": "code",
   "execution_count": 261,
   "metadata": {},
   "outputs": [
    {
     "data": {
      "text/plain": [
       "0        4.0\n",
       "1        4.0\n",
       "2        5.0\n",
       "3        3.0\n",
       "4        5.0\n",
       "5        4.0\n",
       "6        4.0\n",
       "7        4.0\n",
       "8        3.0\n",
       "9        3.0\n",
       "10       4.0\n",
       "11       5.0\n",
       "12       3.0\n",
       "13       2.0\n",
       "14       3.0\n",
       "15       3.0\n",
       "16       4.0\n",
       "17       3.0\n",
       "18       4.0\n",
       "19       2.0\n",
       "20       3.0\n",
       "21       4.0\n",
       "22       4.0\n",
       "23       4.0\n",
       "24       3.0\n",
       "25       4.0\n",
       "26       3.0\n",
       "27       3.0\n",
       "28       3.0\n",
       "29       3.0\n",
       "        ... \n",
       "18177    3.0\n",
       "18178    2.0\n",
       "18179    3.0\n",
       "18180    2.0\n",
       "18181    2.0\n",
       "18182    3.0\n",
       "18183    2.0\n",
       "18184    3.0\n",
       "18185    3.0\n",
       "18186    3.0\n",
       "18187    3.0\n",
       "18188    3.0\n",
       "18189    3.0\n",
       "18190    3.0\n",
       "18191    3.0\n",
       "18192    3.0\n",
       "18193    2.0\n",
       "18194    3.0\n",
       "18195    3.0\n",
       "18196    3.0\n",
       "18197    3.0\n",
       "18198    2.0\n",
       "18199    3.0\n",
       "18200    2.0\n",
       "18201    3.0\n",
       "18202    2.0\n",
       "18203    2.0\n",
       "18204    3.0\n",
       "18205    3.0\n",
       "18206    3.0\n",
       "Name: Weak Foot, Length: 18159, dtype: float64"
      ]
     },
     "execution_count": 261,
     "metadata": {},
     "output_type": "execute_result"
    }
   ],
   "source": [
    "df['Weak Foot']"
   ]
  },
  {
   "cell_type": "code",
   "execution_count": 262,
   "metadata": {},
   "outputs": [
    {
     "data": {
      "text/plain": [
       "0"
      ]
     },
     "execution_count": 262,
     "metadata": {},
     "output_type": "execute_result"
    }
   ],
   "source": [
    "df['Weak Foot'].isnull().sum()"
   ]
  },
  {
   "cell_type": "markdown",
   "metadata": {},
   "source": [
    "### Skill Moves"
   ]
  },
  {
   "cell_type": "code",
   "execution_count": 263,
   "metadata": {},
   "outputs": [
    {
     "data": {
      "text/plain": [
       "0        4.0\n",
       "1        5.0\n",
       "2        5.0\n",
       "3        1.0\n",
       "4        4.0\n",
       "5        4.0\n",
       "6        4.0\n",
       "7        3.0\n",
       "8        3.0\n",
       "9        1.0\n",
       "10       4.0\n",
       "11       3.0\n",
       "12       2.0\n",
       "13       4.0\n",
       "14       2.0\n",
       "15       4.0\n",
       "16       3.0\n",
       "17       4.0\n",
       "18       1.0\n",
       "19       1.0\n",
       "20       3.0\n",
       "21       3.0\n",
       "22       1.0\n",
       "23       4.0\n",
       "24       2.0\n",
       "25       5.0\n",
       "26       4.0\n",
       "27       2.0\n",
       "28       4.0\n",
       "29       4.0\n",
       "        ... \n",
       "18177    2.0\n",
       "18178    1.0\n",
       "18179    2.0\n",
       "18180    1.0\n",
       "18181    2.0\n",
       "18182    2.0\n",
       "18183    1.0\n",
       "18184    2.0\n",
       "18185    2.0\n",
       "18186    2.0\n",
       "18187    2.0\n",
       "18188    2.0\n",
       "18189    2.0\n",
       "18190    2.0\n",
       "18191    2.0\n",
       "18192    2.0\n",
       "18193    2.0\n",
       "18194    1.0\n",
       "18195    2.0\n",
       "18196    2.0\n",
       "18197    2.0\n",
       "18198    1.0\n",
       "18199    2.0\n",
       "18200    2.0\n",
       "18201    2.0\n",
       "18202    2.0\n",
       "18203    2.0\n",
       "18204    2.0\n",
       "18205    2.0\n",
       "18206    2.0\n",
       "Name: Skill Moves, Length: 18159, dtype: float64"
      ]
     },
     "execution_count": 263,
     "metadata": {},
     "output_type": "execute_result"
    }
   ],
   "source": [
    "df['Skill Moves']"
   ]
  },
  {
   "cell_type": "code",
   "execution_count": 264,
   "metadata": {},
   "outputs": [
    {
     "data": {
      "text/plain": [
       "0"
      ]
     },
     "execution_count": 264,
     "metadata": {},
     "output_type": "execute_result"
    }
   ],
   "source": [
    "df['Skill Moves'].isnull().sum()"
   ]
  },
  {
   "cell_type": "markdown",
   "metadata": {},
   "source": [
    "### Height"
   ]
  },
  {
   "cell_type": "markdown",
   "metadata": {},
   "source": [
    "For the height, we change feets to inches."
   ]
  },
  {
   "cell_type": "code",
   "execution_count": 265,
   "metadata": {},
   "outputs": [
    {
     "data": {
      "text/plain": [
       "0         5'7\n",
       "1         6'2\n",
       "2         5'9\n",
       "3         6'4\n",
       "4        5'11\n",
       "5         5'8\n",
       "6         5'8\n",
       "7         6'0\n",
       "8         6'0\n",
       "9         6'2\n",
       "10        6'0\n",
       "11        6'0\n",
       "12        6'2\n",
       "13        5'8\n",
       "14        5'6\n",
       "15       5'10\n",
       "16        6'2\n",
       "17        5'9\n",
       "18        6'2\n",
       "19        6'6\n",
       "20        6'2\n",
       "21        6'1\n",
       "22        6'4\n",
       "23        5'8\n",
       "24        6'2\n",
       "25       5'10\n",
       "26        5'9\n",
       "27        6'1\n",
       "28       5'11\n",
       "29        5'4\n",
       "         ... \n",
       "18177    5'10\n",
       "18178     6'0\n",
       "18179     6'2\n",
       "18180     6'1\n",
       "18181    5'11\n",
       "18182    5'10\n",
       "18183     6'2\n",
       "18184     6'1\n",
       "18185    5'11\n",
       "18186    5'10\n",
       "18187    5'10\n",
       "18188    5'10\n",
       "18189    5'10\n",
       "18190     5'9\n",
       "18191    5'11\n",
       "18192     6'1\n",
       "18193     5'8\n",
       "18194     6'3\n",
       "18195     5'8\n",
       "18196     5'7\n",
       "18197    5'10\n",
       "18198    5'11\n",
       "18199     5'6\n",
       "18200     5'9\n",
       "18201     6'1\n",
       "18202     5'9\n",
       "18203     6'3\n",
       "18204     5'8\n",
       "18205    5'10\n",
       "18206    5'10\n",
       "Name: Height, Length: 18159, dtype: object"
      ]
     },
     "execution_count": 265,
     "metadata": {},
     "output_type": "execute_result"
    }
   ],
   "source": [
    "df['Height']"
   ]
  },
  {
   "cell_type": "code",
   "execution_count": 266,
   "metadata": {},
   "outputs": [
    {
     "data": {
      "text/plain": [
       "0"
      ]
     },
     "execution_count": 266,
     "metadata": {},
     "output_type": "execute_result"
    }
   ],
   "source": [
    "df['Height'].isnull().sum()"
   ]
  },
  {
   "cell_type": "code",
   "execution_count": 267,
   "metadata": {},
   "outputs": [],
   "source": [
    "h = df['Height'].str.split('\\'')"
   ]
  },
  {
   "cell_type": "code",
   "execution_count": 268,
   "metadata": {},
   "outputs": [],
   "source": [
    "df['Height'] = h.str[0].astype('int64')*12 + h.str[1].astype('int64')"
   ]
  },
  {
   "cell_type": "markdown",
   "metadata": {},
   "source": [
    "### Weight"
   ]
  },
  {
   "cell_type": "code",
   "execution_count": 269,
   "metadata": {},
   "outputs": [
    {
     "data": {
      "text/plain": [
       "0        159lbs\n",
       "1        183lbs\n",
       "2        150lbs\n",
       "3        168lbs\n",
       "4        154lbs\n",
       "5        163lbs\n",
       "6        146lbs\n",
       "7        190lbs\n",
       "8        181lbs\n",
       "9        192lbs\n",
       "10       176lbs\n",
       "11       168lbs\n",
       "12       172lbs\n",
       "13       148lbs\n",
       "14       159lbs\n",
       "15       165lbs\n",
       "16       196lbs\n",
       "17       161lbs\n",
       "18       187lbs\n",
       "19       212lbs\n",
       "20       168lbs\n",
       "21       170lbs\n",
       "22       203lbs\n",
       "23       154lbs\n",
       "24       187lbs\n",
       "25       161lbs\n",
       "26       157lbs\n",
       "27       185lbs\n",
       "28       172lbs\n",
       "29       130lbs\n",
       "          ...  \n",
       "18177    163lbs\n",
       "18178    176lbs\n",
       "18179    163lbs\n",
       "18180    172lbs\n",
       "18181    134lbs\n",
       "18182    165lbs\n",
       "18183    190lbs\n",
       "18184    179lbs\n",
       "18185    159lbs\n",
       "18186    174lbs\n",
       "18187    161lbs\n",
       "18188    148lbs\n",
       "18189    165lbs\n",
       "18190    176lbs\n",
       "18191    168lbs\n",
       "18192    165lbs\n",
       "18193    146lbs\n",
       "18194    187lbs\n",
       "18195    141lbs\n",
       "18196    146lbs\n",
       "18197    141lbs\n",
       "18198    154lbs\n",
       "18199    150lbs\n",
       "18200    157lbs\n",
       "18201    168lbs\n",
       "18202    134lbs\n",
       "18203    170lbs\n",
       "18204    148lbs\n",
       "18205    154lbs\n",
       "18206    176lbs\n",
       "Name: Weight, Length: 18159, dtype: object"
      ]
     },
     "execution_count": 269,
     "metadata": {},
     "output_type": "execute_result"
    }
   ],
   "source": [
    "df['Weight']"
   ]
  },
  {
   "cell_type": "code",
   "execution_count": 270,
   "metadata": {},
   "outputs": [
    {
     "data": {
      "text/plain": [
       "0"
      ]
     },
     "execution_count": 270,
     "metadata": {},
     "output_type": "execute_result"
    }
   ],
   "source": [
    "df['Weight'].isnull().sum()"
   ]
  },
  {
   "cell_type": "code",
   "execution_count": 271,
   "metadata": {},
   "outputs": [],
   "source": [
    "df['Weight'] = df['Weight'].str.split('lbs').str[0].astype('int64')"
   ]
  },
  {
   "cell_type": "markdown",
   "metadata": {},
   "source": [
    "### Postion"
   ]
  },
  {
   "cell_type": "markdown",
   "metadata": {},
   "source": [
    "Then, there are several positions have been scored for each player. The score is from 0 to 100. We convert the string into float number and replace the NaN value with the median of each column."
   ]
  },
  {
   "cell_type": "code",
   "execution_count": 272,
   "metadata": {},
   "outputs": [],
   "source": [
    "position = df[['LS', 'ST', 'RS', 'LW', 'LF', 'CF', 'RF', 'RW', 'LAM', 'CAM', 'RAM', 'LM', 'LCM', 'CM', 'RCM', 'RM', 'LWB', 'LDM', 'CDM', 'RDM', 'RWB', 'LB', 'LCB', 'CB', 'RCB', 'RB']]"
   ]
  },
  {
   "cell_type": "code",
   "execution_count": 273,
   "metadata": {},
   "outputs": [
    {
     "data": {
      "text/plain": [
       "52962"
      ]
     },
     "execution_count": 273,
     "metadata": {},
     "output_type": "execute_result"
    }
   ],
   "source": [
    "position.isnull().sum().sum()"
   ]
  },
  {
   "cell_type": "code",
   "execution_count": 274,
   "metadata": {},
   "outputs": [
    {
     "data": {
      "text/html": [
       "<div>\n",
       "<style scoped>\n",
       "    .dataframe tbody tr th:only-of-type {\n",
       "        vertical-align: middle;\n",
       "    }\n",
       "\n",
       "    .dataframe tbody tr th {\n",
       "        vertical-align: top;\n",
       "    }\n",
       "\n",
       "    .dataframe thead th {\n",
       "        text-align: right;\n",
       "    }\n",
       "</style>\n",
       "<table border=\"1\" class=\"dataframe\">\n",
       "  <thead>\n",
       "    <tr style=\"text-align: right;\">\n",
       "      <th></th>\n",
       "      <th>LS</th>\n",
       "      <th>ST</th>\n",
       "      <th>RS</th>\n",
       "      <th>LW</th>\n",
       "      <th>LF</th>\n",
       "      <th>CF</th>\n",
       "      <th>RF</th>\n",
       "      <th>RW</th>\n",
       "      <th>LAM</th>\n",
       "      <th>CAM</th>\n",
       "      <th>...</th>\n",
       "      <th>LWB</th>\n",
       "      <th>LDM</th>\n",
       "      <th>CDM</th>\n",
       "      <th>RDM</th>\n",
       "      <th>RWB</th>\n",
       "      <th>LB</th>\n",
       "      <th>LCB</th>\n",
       "      <th>CB</th>\n",
       "      <th>RCB</th>\n",
       "      <th>RB</th>\n",
       "    </tr>\n",
       "  </thead>\n",
       "  <tbody>\n",
       "    <tr>\n",
       "      <th>0</th>\n",
       "      <td>88+2</td>\n",
       "      <td>88+2</td>\n",
       "      <td>88+2</td>\n",
       "      <td>92+2</td>\n",
       "      <td>93+2</td>\n",
       "      <td>93+2</td>\n",
       "      <td>93+2</td>\n",
       "      <td>92+2</td>\n",
       "      <td>93+2</td>\n",
       "      <td>93+2</td>\n",
       "      <td>...</td>\n",
       "      <td>64+2</td>\n",
       "      <td>61+2</td>\n",
       "      <td>61+2</td>\n",
       "      <td>61+2</td>\n",
       "      <td>64+2</td>\n",
       "      <td>59+2</td>\n",
       "      <td>47+2</td>\n",
       "      <td>47+2</td>\n",
       "      <td>47+2</td>\n",
       "      <td>59+2</td>\n",
       "    </tr>\n",
       "    <tr>\n",
       "      <th>1</th>\n",
       "      <td>91+3</td>\n",
       "      <td>91+3</td>\n",
       "      <td>91+3</td>\n",
       "      <td>89+3</td>\n",
       "      <td>90+3</td>\n",
       "      <td>90+3</td>\n",
       "      <td>90+3</td>\n",
       "      <td>89+3</td>\n",
       "      <td>88+3</td>\n",
       "      <td>88+3</td>\n",
       "      <td>...</td>\n",
       "      <td>65+3</td>\n",
       "      <td>61+3</td>\n",
       "      <td>61+3</td>\n",
       "      <td>61+3</td>\n",
       "      <td>65+3</td>\n",
       "      <td>61+3</td>\n",
       "      <td>53+3</td>\n",
       "      <td>53+3</td>\n",
       "      <td>53+3</td>\n",
       "      <td>61+3</td>\n",
       "    </tr>\n",
       "    <tr>\n",
       "      <th>2</th>\n",
       "      <td>84+3</td>\n",
       "      <td>84+3</td>\n",
       "      <td>84+3</td>\n",
       "      <td>89+3</td>\n",
       "      <td>89+3</td>\n",
       "      <td>89+3</td>\n",
       "      <td>89+3</td>\n",
       "      <td>89+3</td>\n",
       "      <td>89+3</td>\n",
       "      <td>89+3</td>\n",
       "      <td>...</td>\n",
       "      <td>65+3</td>\n",
       "      <td>60+3</td>\n",
       "      <td>60+3</td>\n",
       "      <td>60+3</td>\n",
       "      <td>65+3</td>\n",
       "      <td>60+3</td>\n",
       "      <td>47+3</td>\n",
       "      <td>47+3</td>\n",
       "      <td>47+3</td>\n",
       "      <td>60+3</td>\n",
       "    </tr>\n",
       "    <tr>\n",
       "      <th>3</th>\n",
       "      <td>NaN</td>\n",
       "      <td>NaN</td>\n",
       "      <td>NaN</td>\n",
       "      <td>NaN</td>\n",
       "      <td>NaN</td>\n",
       "      <td>NaN</td>\n",
       "      <td>NaN</td>\n",
       "      <td>NaN</td>\n",
       "      <td>NaN</td>\n",
       "      <td>NaN</td>\n",
       "      <td>...</td>\n",
       "      <td>NaN</td>\n",
       "      <td>NaN</td>\n",
       "      <td>NaN</td>\n",
       "      <td>NaN</td>\n",
       "      <td>NaN</td>\n",
       "      <td>NaN</td>\n",
       "      <td>NaN</td>\n",
       "      <td>NaN</td>\n",
       "      <td>NaN</td>\n",
       "      <td>NaN</td>\n",
       "    </tr>\n",
       "    <tr>\n",
       "      <th>4</th>\n",
       "      <td>82+3</td>\n",
       "      <td>82+3</td>\n",
       "      <td>82+3</td>\n",
       "      <td>87+3</td>\n",
       "      <td>87+3</td>\n",
       "      <td>87+3</td>\n",
       "      <td>87+3</td>\n",
       "      <td>87+3</td>\n",
       "      <td>88+3</td>\n",
       "      <td>88+3</td>\n",
       "      <td>...</td>\n",
       "      <td>77+3</td>\n",
       "      <td>77+3</td>\n",
       "      <td>77+3</td>\n",
       "      <td>77+3</td>\n",
       "      <td>77+3</td>\n",
       "      <td>73+3</td>\n",
       "      <td>66+3</td>\n",
       "      <td>66+3</td>\n",
       "      <td>66+3</td>\n",
       "      <td>73+3</td>\n",
       "    </tr>\n",
       "    <tr>\n",
       "      <th>5</th>\n",
       "      <td>83+3</td>\n",
       "      <td>83+3</td>\n",
       "      <td>83+3</td>\n",
       "      <td>89+3</td>\n",
       "      <td>88+3</td>\n",
       "      <td>88+3</td>\n",
       "      <td>88+3</td>\n",
       "      <td>89+3</td>\n",
       "      <td>89+3</td>\n",
       "      <td>89+3</td>\n",
       "      <td>...</td>\n",
       "      <td>66+3</td>\n",
       "      <td>63+3</td>\n",
       "      <td>63+3</td>\n",
       "      <td>63+3</td>\n",
       "      <td>66+3</td>\n",
       "      <td>60+3</td>\n",
       "      <td>49+3</td>\n",
       "      <td>49+3</td>\n",
       "      <td>49+3</td>\n",
       "      <td>60+3</td>\n",
       "    </tr>\n",
       "    <tr>\n",
       "      <th>6</th>\n",
       "      <td>77+3</td>\n",
       "      <td>77+3</td>\n",
       "      <td>77+3</td>\n",
       "      <td>85+3</td>\n",
       "      <td>84+3</td>\n",
       "      <td>84+3</td>\n",
       "      <td>84+3</td>\n",
       "      <td>85+3</td>\n",
       "      <td>87+3</td>\n",
       "      <td>87+3</td>\n",
       "      <td>...</td>\n",
       "      <td>82+3</td>\n",
       "      <td>81+3</td>\n",
       "      <td>81+3</td>\n",
       "      <td>81+3</td>\n",
       "      <td>82+3</td>\n",
       "      <td>79+3</td>\n",
       "      <td>71+3</td>\n",
       "      <td>71+3</td>\n",
       "      <td>71+3</td>\n",
       "      <td>79+3</td>\n",
       "    </tr>\n",
       "    <tr>\n",
       "      <th>7</th>\n",
       "      <td>87+5</td>\n",
       "      <td>87+5</td>\n",
       "      <td>87+5</td>\n",
       "      <td>86+5</td>\n",
       "      <td>87+5</td>\n",
       "      <td>87+5</td>\n",
       "      <td>87+5</td>\n",
       "      <td>86+5</td>\n",
       "      <td>85+5</td>\n",
       "      <td>85+5</td>\n",
       "      <td>...</td>\n",
       "      <td>69+5</td>\n",
       "      <td>68+5</td>\n",
       "      <td>68+5</td>\n",
       "      <td>68+5</td>\n",
       "      <td>69+5</td>\n",
       "      <td>66+5</td>\n",
       "      <td>63+5</td>\n",
       "      <td>63+5</td>\n",
       "      <td>63+5</td>\n",
       "      <td>66+5</td>\n",
       "    </tr>\n",
       "    <tr>\n",
       "      <th>8</th>\n",
       "      <td>73+3</td>\n",
       "      <td>73+3</td>\n",
       "      <td>73+3</td>\n",
       "      <td>70+3</td>\n",
       "      <td>71+3</td>\n",
       "      <td>71+3</td>\n",
       "      <td>71+3</td>\n",
       "      <td>70+3</td>\n",
       "      <td>71+3</td>\n",
       "      <td>71+3</td>\n",
       "      <td>...</td>\n",
       "      <td>81+3</td>\n",
       "      <td>84+3</td>\n",
       "      <td>84+3</td>\n",
       "      <td>84+3</td>\n",
       "      <td>81+3</td>\n",
       "      <td>84+3</td>\n",
       "      <td>87+3</td>\n",
       "      <td>87+3</td>\n",
       "      <td>87+3</td>\n",
       "      <td>84+3</td>\n",
       "    </tr>\n",
       "    <tr>\n",
       "      <th>9</th>\n",
       "      <td>NaN</td>\n",
       "      <td>NaN</td>\n",
       "      <td>NaN</td>\n",
       "      <td>NaN</td>\n",
       "      <td>NaN</td>\n",
       "      <td>NaN</td>\n",
       "      <td>NaN</td>\n",
       "      <td>NaN</td>\n",
       "      <td>NaN</td>\n",
       "      <td>NaN</td>\n",
       "      <td>...</td>\n",
       "      <td>NaN</td>\n",
       "      <td>NaN</td>\n",
       "      <td>NaN</td>\n",
       "      <td>NaN</td>\n",
       "      <td>NaN</td>\n",
       "      <td>NaN</td>\n",
       "      <td>NaN</td>\n",
       "      <td>NaN</td>\n",
       "      <td>NaN</td>\n",
       "      <td>NaN</td>\n",
       "    </tr>\n",
       "    <tr>\n",
       "      <th>10</th>\n",
       "      <td>87+3</td>\n",
       "      <td>87+3</td>\n",
       "      <td>87+3</td>\n",
       "      <td>83+3</td>\n",
       "      <td>86+3</td>\n",
       "      <td>86+3</td>\n",
       "      <td>86+3</td>\n",
       "      <td>83+3</td>\n",
       "      <td>83+3</td>\n",
       "      <td>83+3</td>\n",
       "      <td>...</td>\n",
       "      <td>61+3</td>\n",
       "      <td>62+3</td>\n",
       "      <td>62+3</td>\n",
       "      <td>62+3</td>\n",
       "      <td>61+3</td>\n",
       "      <td>58+3</td>\n",
       "      <td>57+3</td>\n",
       "      <td>57+3</td>\n",
       "      <td>57+3</td>\n",
       "      <td>58+3</td>\n",
       "    </tr>\n",
       "    <tr>\n",
       "      <th>11</th>\n",
       "      <td>78+3</td>\n",
       "      <td>78+3</td>\n",
       "      <td>78+3</td>\n",
       "      <td>81+3</td>\n",
       "      <td>82+3</td>\n",
       "      <td>82+3</td>\n",
       "      <td>82+3</td>\n",
       "      <td>81+3</td>\n",
       "      <td>84+3</td>\n",
       "      <td>84+3</td>\n",
       "      <td>...</td>\n",
       "      <td>79+3</td>\n",
       "      <td>82+3</td>\n",
       "      <td>82+3</td>\n",
       "      <td>82+3</td>\n",
       "      <td>79+3</td>\n",
       "      <td>77+3</td>\n",
       "      <td>72+3</td>\n",
       "      <td>72+3</td>\n",
       "      <td>72+3</td>\n",
       "      <td>77+3</td>\n",
       "    </tr>\n",
       "    <tr>\n",
       "      <th>12</th>\n",
       "      <td>64+3</td>\n",
       "      <td>64+3</td>\n",
       "      <td>64+3</td>\n",
       "      <td>61+3</td>\n",
       "      <td>62+3</td>\n",
       "      <td>62+3</td>\n",
       "      <td>62+3</td>\n",
       "      <td>61+3</td>\n",
       "      <td>62+3</td>\n",
       "      <td>62+3</td>\n",
       "      <td>...</td>\n",
       "      <td>76+3</td>\n",
       "      <td>81+3</td>\n",
       "      <td>81+3</td>\n",
       "      <td>81+3</td>\n",
       "      <td>76+3</td>\n",
       "      <td>79+3</td>\n",
       "      <td>87+3</td>\n",
       "      <td>87+3</td>\n",
       "      <td>87+3</td>\n",
       "      <td>79+3</td>\n",
       "    </tr>\n",
       "    <tr>\n",
       "      <th>13</th>\n",
       "      <td>77+3</td>\n",
       "      <td>77+3</td>\n",
       "      <td>77+3</td>\n",
       "      <td>85+3</td>\n",
       "      <td>84+3</td>\n",
       "      <td>84+3</td>\n",
       "      <td>84+3</td>\n",
       "      <td>85+3</td>\n",
       "      <td>87+3</td>\n",
       "      <td>87+3</td>\n",
       "      <td>...</td>\n",
       "      <td>69+3</td>\n",
       "      <td>70+3</td>\n",
       "      <td>70+3</td>\n",
       "      <td>70+3</td>\n",
       "      <td>69+3</td>\n",
       "      <td>64+3</td>\n",
       "      <td>57+3</td>\n",
       "      <td>57+3</td>\n",
       "      <td>57+3</td>\n",
       "      <td>64+3</td>\n",
       "    </tr>\n",
       "    <tr>\n",
       "      <th>14</th>\n",
       "      <td>72+3</td>\n",
       "      <td>72+3</td>\n",
       "      <td>72+3</td>\n",
       "      <td>77+3</td>\n",
       "      <td>77+3</td>\n",
       "      <td>77+3</td>\n",
       "      <td>77+3</td>\n",
       "      <td>77+3</td>\n",
       "      <td>79+3</td>\n",
       "      <td>79+3</td>\n",
       "      <td>...</td>\n",
       "      <td>85+3</td>\n",
       "      <td>87+3</td>\n",
       "      <td>87+3</td>\n",
       "      <td>87+3</td>\n",
       "      <td>85+3</td>\n",
       "      <td>84+3</td>\n",
       "      <td>83+3</td>\n",
       "      <td>83+3</td>\n",
       "      <td>83+3</td>\n",
       "      <td>84+3</td>\n",
       "    </tr>\n",
       "    <tr>\n",
       "      <th>15</th>\n",
       "      <td>83+3</td>\n",
       "      <td>83+3</td>\n",
       "      <td>83+3</td>\n",
       "      <td>87+3</td>\n",
       "      <td>86+3</td>\n",
       "      <td>86+3</td>\n",
       "      <td>86+3</td>\n",
       "      <td>87+3</td>\n",
       "      <td>87+3</td>\n",
       "      <td>87+3</td>\n",
       "      <td>...</td>\n",
       "      <td>62+3</td>\n",
       "      <td>58+3</td>\n",
       "      <td>58+3</td>\n",
       "      <td>58+3</td>\n",
       "      <td>62+3</td>\n",
       "      <td>56+3</td>\n",
       "      <td>45+3</td>\n",
       "      <td>45+3</td>\n",
       "      <td>45+3</td>\n",
       "      <td>56+3</td>\n",
       "    </tr>\n",
       "    <tr>\n",
       "      <th>16</th>\n",
       "      <td>86+3</td>\n",
       "      <td>86+3</td>\n",
       "      <td>86+3</td>\n",
       "      <td>82+3</td>\n",
       "      <td>84+3</td>\n",
       "      <td>84+3</td>\n",
       "      <td>84+3</td>\n",
       "      <td>82+3</td>\n",
       "      <td>82+3</td>\n",
       "      <td>82+3</td>\n",
       "      <td>...</td>\n",
       "      <td>65+3</td>\n",
       "      <td>66+3</td>\n",
       "      <td>66+3</td>\n",
       "      <td>66+3</td>\n",
       "      <td>65+3</td>\n",
       "      <td>62+3</td>\n",
       "      <td>60+3</td>\n",
       "      <td>60+3</td>\n",
       "      <td>60+3</td>\n",
       "      <td>62+3</td>\n",
       "    </tr>\n",
       "    <tr>\n",
       "      <th>17</th>\n",
       "      <td>86+3</td>\n",
       "      <td>86+3</td>\n",
       "      <td>86+3</td>\n",
       "      <td>87+3</td>\n",
       "      <td>87+3</td>\n",
       "      <td>87+3</td>\n",
       "      <td>87+3</td>\n",
       "      <td>87+3</td>\n",
       "      <td>86+3</td>\n",
       "      <td>86+3</td>\n",
       "      <td>...</td>\n",
       "      <td>70+3</td>\n",
       "      <td>67+3</td>\n",
       "      <td>67+3</td>\n",
       "      <td>67+3</td>\n",
       "      <td>70+3</td>\n",
       "      <td>67+3</td>\n",
       "      <td>61+3</td>\n",
       "      <td>61+3</td>\n",
       "      <td>61+3</td>\n",
       "      <td>67+3</td>\n",
       "    </tr>\n",
       "    <tr>\n",
       "      <th>18</th>\n",
       "      <td>NaN</td>\n",
       "      <td>NaN</td>\n",
       "      <td>NaN</td>\n",
       "      <td>NaN</td>\n",
       "      <td>NaN</td>\n",
       "      <td>NaN</td>\n",
       "      <td>NaN</td>\n",
       "      <td>NaN</td>\n",
       "      <td>NaN</td>\n",
       "      <td>NaN</td>\n",
       "      <td>...</td>\n",
       "      <td>NaN</td>\n",
       "      <td>NaN</td>\n",
       "      <td>NaN</td>\n",
       "      <td>NaN</td>\n",
       "      <td>NaN</td>\n",
       "      <td>NaN</td>\n",
       "      <td>NaN</td>\n",
       "      <td>NaN</td>\n",
       "      <td>NaN</td>\n",
       "      <td>NaN</td>\n",
       "    </tr>\n",
       "    <tr>\n",
       "      <th>19</th>\n",
       "      <td>NaN</td>\n",
       "      <td>NaN</td>\n",
       "      <td>NaN</td>\n",
       "      <td>NaN</td>\n",
       "      <td>NaN</td>\n",
       "      <td>NaN</td>\n",
       "      <td>NaN</td>\n",
       "      <td>NaN</td>\n",
       "      <td>NaN</td>\n",
       "      <td>NaN</td>\n",
       "      <td>...</td>\n",
       "      <td>NaN</td>\n",
       "      <td>NaN</td>\n",
       "      <td>NaN</td>\n",
       "      <td>NaN</td>\n",
       "      <td>NaN</td>\n",
       "      <td>NaN</td>\n",
       "      <td>NaN</td>\n",
       "      <td>NaN</td>\n",
       "      <td>NaN</td>\n",
       "      <td>NaN</td>\n",
       "    </tr>\n",
       "    <tr>\n",
       "      <th>20</th>\n",
       "      <td>71+3</td>\n",
       "      <td>71+3</td>\n",
       "      <td>71+3</td>\n",
       "      <td>74+3</td>\n",
       "      <td>76+3</td>\n",
       "      <td>76+3</td>\n",
       "      <td>76+3</td>\n",
       "      <td>74+3</td>\n",
       "      <td>79+3</td>\n",
       "      <td>79+3</td>\n",
       "      <td>...</td>\n",
       "      <td>79+3</td>\n",
       "      <td>86+3</td>\n",
       "      <td>86+3</td>\n",
       "      <td>86+3</td>\n",
       "      <td>79+3</td>\n",
       "      <td>78+3</td>\n",
       "      <td>82+3</td>\n",
       "      <td>82+3</td>\n",
       "      <td>82+3</td>\n",
       "      <td>78+3</td>\n",
       "    </tr>\n",
       "    <tr>\n",
       "      <th>21</th>\n",
       "      <td>85+3</td>\n",
       "      <td>85+3</td>\n",
       "      <td>85+3</td>\n",
       "      <td>81+3</td>\n",
       "      <td>83+3</td>\n",
       "      <td>83+3</td>\n",
       "      <td>83+3</td>\n",
       "      <td>81+3</td>\n",
       "      <td>80+3</td>\n",
       "      <td>80+3</td>\n",
       "      <td>...</td>\n",
       "      <td>67+3</td>\n",
       "      <td>65+3</td>\n",
       "      <td>65+3</td>\n",
       "      <td>65+3</td>\n",
       "      <td>67+3</td>\n",
       "      <td>65+3</td>\n",
       "      <td>63+3</td>\n",
       "      <td>63+3</td>\n",
       "      <td>63+3</td>\n",
       "      <td>65+3</td>\n",
       "    </tr>\n",
       "    <tr>\n",
       "      <th>22</th>\n",
       "      <td>NaN</td>\n",
       "      <td>NaN</td>\n",
       "      <td>NaN</td>\n",
       "      <td>NaN</td>\n",
       "      <td>NaN</td>\n",
       "      <td>NaN</td>\n",
       "      <td>NaN</td>\n",
       "      <td>NaN</td>\n",
       "      <td>NaN</td>\n",
       "      <td>NaN</td>\n",
       "      <td>...</td>\n",
       "      <td>NaN</td>\n",
       "      <td>NaN</td>\n",
       "      <td>NaN</td>\n",
       "      <td>NaN</td>\n",
       "      <td>NaN</td>\n",
       "      <td>NaN</td>\n",
       "      <td>NaN</td>\n",
       "      <td>NaN</td>\n",
       "      <td>NaN</td>\n",
       "      <td>NaN</td>\n",
       "    </tr>\n",
       "    <tr>\n",
       "      <th>23</th>\n",
       "      <td>86+3</td>\n",
       "      <td>86+3</td>\n",
       "      <td>86+3</td>\n",
       "      <td>86+3</td>\n",
       "      <td>87+3</td>\n",
       "      <td>87+3</td>\n",
       "      <td>87+3</td>\n",
       "      <td>86+3</td>\n",
       "      <td>85+3</td>\n",
       "      <td>85+3</td>\n",
       "      <td>...</td>\n",
       "      <td>58+3</td>\n",
       "      <td>56+3</td>\n",
       "      <td>56+3</td>\n",
       "      <td>56+3</td>\n",
       "      <td>58+3</td>\n",
       "      <td>53+3</td>\n",
       "      <td>47+3</td>\n",
       "      <td>47+3</td>\n",
       "      <td>47+3</td>\n",
       "      <td>53+3</td>\n",
       "    </tr>\n",
       "    <tr>\n",
       "      <th>24</th>\n",
       "      <td>58+3</td>\n",
       "      <td>58+3</td>\n",
       "      <td>58+3</td>\n",
       "      <td>54+3</td>\n",
       "      <td>55+3</td>\n",
       "      <td>55+3</td>\n",
       "      <td>55+3</td>\n",
       "      <td>54+3</td>\n",
       "      <td>54+3</td>\n",
       "      <td>54+3</td>\n",
       "      <td>...</td>\n",
       "      <td>74+3</td>\n",
       "      <td>76+3</td>\n",
       "      <td>76+3</td>\n",
       "      <td>76+3</td>\n",
       "      <td>74+3</td>\n",
       "      <td>77+3</td>\n",
       "      <td>86+3</td>\n",
       "      <td>86+3</td>\n",
       "      <td>86+3</td>\n",
       "      <td>77+3</td>\n",
       "    </tr>\n",
       "    <tr>\n",
       "      <th>25</th>\n",
       "      <td>85+3</td>\n",
       "      <td>85+3</td>\n",
       "      <td>85+3</td>\n",
       "      <td>87+3</td>\n",
       "      <td>87+3</td>\n",
       "      <td>87+3</td>\n",
       "      <td>87+3</td>\n",
       "      <td>87+3</td>\n",
       "      <td>86+3</td>\n",
       "      <td>86+3</td>\n",
       "      <td>...</td>\n",
       "      <td>66+3</td>\n",
       "      <td>62+3</td>\n",
       "      <td>62+3</td>\n",
       "      <td>62+3</td>\n",
       "      <td>66+3</td>\n",
       "      <td>62+3</td>\n",
       "      <td>54+3</td>\n",
       "      <td>54+3</td>\n",
       "      <td>54+3</td>\n",
       "      <td>62+3</td>\n",
       "    </tr>\n",
       "    <tr>\n",
       "      <th>26</th>\n",
       "      <td>83+3</td>\n",
       "      <td>83+3</td>\n",
       "      <td>83+3</td>\n",
       "      <td>87+3</td>\n",
       "      <td>86+3</td>\n",
       "      <td>86+3</td>\n",
       "      <td>86+3</td>\n",
       "      <td>87+3</td>\n",
       "      <td>86+3</td>\n",
       "      <td>86+3</td>\n",
       "      <td>...</td>\n",
       "      <td>70+3</td>\n",
       "      <td>66+3</td>\n",
       "      <td>66+3</td>\n",
       "      <td>66+3</td>\n",
       "      <td>70+3</td>\n",
       "      <td>66+3</td>\n",
       "      <td>57+3</td>\n",
       "      <td>57+3</td>\n",
       "      <td>57+3</td>\n",
       "      <td>66+3</td>\n",
       "    </tr>\n",
       "    <tr>\n",
       "      <th>27</th>\n",
       "      <td>72+3</td>\n",
       "      <td>72+3</td>\n",
       "      <td>72+3</td>\n",
       "      <td>69+3</td>\n",
       "      <td>73+3</td>\n",
       "      <td>73+3</td>\n",
       "      <td>73+3</td>\n",
       "      <td>69+3</td>\n",
       "      <td>74+3</td>\n",
       "      <td>74+3</td>\n",
       "      <td>...</td>\n",
       "      <td>78+3</td>\n",
       "      <td>85+3</td>\n",
       "      <td>85+3</td>\n",
       "      <td>85+3</td>\n",
       "      <td>78+3</td>\n",
       "      <td>79+3</td>\n",
       "      <td>85+3</td>\n",
       "      <td>85+3</td>\n",
       "      <td>85+3</td>\n",
       "      <td>79+3</td>\n",
       "    </tr>\n",
       "    <tr>\n",
       "      <th>28</th>\n",
       "      <td>80+3</td>\n",
       "      <td>80+3</td>\n",
       "      <td>80+3</td>\n",
       "      <td>84+3</td>\n",
       "      <td>83+3</td>\n",
       "      <td>83+3</td>\n",
       "      <td>83+3</td>\n",
       "      <td>84+3</td>\n",
       "      <td>85+3</td>\n",
       "      <td>85+3</td>\n",
       "      <td>...</td>\n",
       "      <td>69+3</td>\n",
       "      <td>68+3</td>\n",
       "      <td>68+3</td>\n",
       "      <td>68+3</td>\n",
       "      <td>69+3</td>\n",
       "      <td>65+3</td>\n",
       "      <td>58+3</td>\n",
       "      <td>58+3</td>\n",
       "      <td>58+3</td>\n",
       "      <td>65+3</td>\n",
       "    </tr>\n",
       "    <tr>\n",
       "      <th>29</th>\n",
       "      <td>78+3</td>\n",
       "      <td>78+3</td>\n",
       "      <td>78+3</td>\n",
       "      <td>86+3</td>\n",
       "      <td>85+3</td>\n",
       "      <td>85+3</td>\n",
       "      <td>85+3</td>\n",
       "      <td>86+3</td>\n",
       "      <td>86+3</td>\n",
       "      <td>86+3</td>\n",
       "      <td>...</td>\n",
       "      <td>63+3</td>\n",
       "      <td>58+3</td>\n",
       "      <td>58+3</td>\n",
       "      <td>58+3</td>\n",
       "      <td>63+3</td>\n",
       "      <td>58+3</td>\n",
       "      <td>44+3</td>\n",
       "      <td>44+3</td>\n",
       "      <td>44+3</td>\n",
       "      <td>58+3</td>\n",
       "    </tr>\n",
       "    <tr>\n",
       "      <th>...</th>\n",
       "      <td>...</td>\n",
       "      <td>...</td>\n",
       "      <td>...</td>\n",
       "      <td>...</td>\n",
       "      <td>...</td>\n",
       "      <td>...</td>\n",
       "      <td>...</td>\n",
       "      <td>...</td>\n",
       "      <td>...</td>\n",
       "      <td>...</td>\n",
       "      <td>...</td>\n",
       "      <td>...</td>\n",
       "      <td>...</td>\n",
       "      <td>...</td>\n",
       "      <td>...</td>\n",
       "      <td>...</td>\n",
       "      <td>...</td>\n",
       "      <td>...</td>\n",
       "      <td>...</td>\n",
       "      <td>...</td>\n",
       "      <td>...</td>\n",
       "    </tr>\n",
       "    <tr>\n",
       "      <th>18177</th>\n",
       "      <td>47+2</td>\n",
       "      <td>47+2</td>\n",
       "      <td>47+2</td>\n",
       "      <td>45+2</td>\n",
       "      <td>46+2</td>\n",
       "      <td>46+2</td>\n",
       "      <td>46+2</td>\n",
       "      <td>45+2</td>\n",
       "      <td>44+2</td>\n",
       "      <td>44+2</td>\n",
       "      <td>...</td>\n",
       "      <td>32+2</td>\n",
       "      <td>29+2</td>\n",
       "      <td>29+2</td>\n",
       "      <td>29+2</td>\n",
       "      <td>32+2</td>\n",
       "      <td>31+2</td>\n",
       "      <td>27+2</td>\n",
       "      <td>27+2</td>\n",
       "      <td>27+2</td>\n",
       "      <td>31+2</td>\n",
       "    </tr>\n",
       "    <tr>\n",
       "      <th>18178</th>\n",
       "      <td>NaN</td>\n",
       "      <td>NaN</td>\n",
       "      <td>NaN</td>\n",
       "      <td>NaN</td>\n",
       "      <td>NaN</td>\n",
       "      <td>NaN</td>\n",
       "      <td>NaN</td>\n",
       "      <td>NaN</td>\n",
       "      <td>NaN</td>\n",
       "      <td>NaN</td>\n",
       "      <td>...</td>\n",
       "      <td>NaN</td>\n",
       "      <td>NaN</td>\n",
       "      <td>NaN</td>\n",
       "      <td>NaN</td>\n",
       "      <td>NaN</td>\n",
       "      <td>NaN</td>\n",
       "      <td>NaN</td>\n",
       "      <td>NaN</td>\n",
       "      <td>NaN</td>\n",
       "      <td>NaN</td>\n",
       "    </tr>\n",
       "    <tr>\n",
       "      <th>18179</th>\n",
       "      <td>34+2</td>\n",
       "      <td>34+2</td>\n",
       "      <td>34+2</td>\n",
       "      <td>32+2</td>\n",
       "      <td>32+2</td>\n",
       "      <td>32+2</td>\n",
       "      <td>32+2</td>\n",
       "      <td>32+2</td>\n",
       "      <td>31+2</td>\n",
       "      <td>31+2</td>\n",
       "      <td>...</td>\n",
       "      <td>42+2</td>\n",
       "      <td>41+2</td>\n",
       "      <td>41+2</td>\n",
       "      <td>41+2</td>\n",
       "      <td>42+2</td>\n",
       "      <td>44+2</td>\n",
       "      <td>46+2</td>\n",
       "      <td>46+2</td>\n",
       "      <td>46+2</td>\n",
       "      <td>44+2</td>\n",
       "    </tr>\n",
       "    <tr>\n",
       "      <th>18180</th>\n",
       "      <td>NaN</td>\n",
       "      <td>NaN</td>\n",
       "      <td>NaN</td>\n",
       "      <td>NaN</td>\n",
       "      <td>NaN</td>\n",
       "      <td>NaN</td>\n",
       "      <td>NaN</td>\n",
       "      <td>NaN</td>\n",
       "      <td>NaN</td>\n",
       "      <td>NaN</td>\n",
       "      <td>...</td>\n",
       "      <td>NaN</td>\n",
       "      <td>NaN</td>\n",
       "      <td>NaN</td>\n",
       "      <td>NaN</td>\n",
       "      <td>NaN</td>\n",
       "      <td>NaN</td>\n",
       "      <td>NaN</td>\n",
       "      <td>NaN</td>\n",
       "      <td>NaN</td>\n",
       "      <td>NaN</td>\n",
       "    </tr>\n",
       "    <tr>\n",
       "      <th>18181</th>\n",
       "      <td>44+2</td>\n",
       "      <td>44+2</td>\n",
       "      <td>44+2</td>\n",
       "      <td>44+2</td>\n",
       "      <td>43+2</td>\n",
       "      <td>43+2</td>\n",
       "      <td>43+2</td>\n",
       "      <td>44+2</td>\n",
       "      <td>42+2</td>\n",
       "      <td>42+2</td>\n",
       "      <td>...</td>\n",
       "      <td>47+2</td>\n",
       "      <td>43+2</td>\n",
       "      <td>43+2</td>\n",
       "      <td>43+2</td>\n",
       "      <td>47+2</td>\n",
       "      <td>47+2</td>\n",
       "      <td>46+2</td>\n",
       "      <td>46+2</td>\n",
       "      <td>46+2</td>\n",
       "      <td>47+2</td>\n",
       "    </tr>\n",
       "    <tr>\n",
       "      <th>18182</th>\n",
       "      <td>40+2</td>\n",
       "      <td>40+2</td>\n",
       "      <td>40+2</td>\n",
       "      <td>42+2</td>\n",
       "      <td>41+2</td>\n",
       "      <td>41+2</td>\n",
       "      <td>41+2</td>\n",
       "      <td>42+2</td>\n",
       "      <td>43+2</td>\n",
       "      <td>43+2</td>\n",
       "      <td>...</td>\n",
       "      <td>47+2</td>\n",
       "      <td>47+2</td>\n",
       "      <td>47+2</td>\n",
       "      <td>47+2</td>\n",
       "      <td>47+2</td>\n",
       "      <td>47+2</td>\n",
       "      <td>46+2</td>\n",
       "      <td>46+2</td>\n",
       "      <td>46+2</td>\n",
       "      <td>47+2</td>\n",
       "    </tr>\n",
       "    <tr>\n",
       "      <th>18183</th>\n",
       "      <td>NaN</td>\n",
       "      <td>NaN</td>\n",
       "      <td>NaN</td>\n",
       "      <td>NaN</td>\n",
       "      <td>NaN</td>\n",
       "      <td>NaN</td>\n",
       "      <td>NaN</td>\n",
       "      <td>NaN</td>\n",
       "      <td>NaN</td>\n",
       "      <td>NaN</td>\n",
       "      <td>...</td>\n",
       "      <td>NaN</td>\n",
       "      <td>NaN</td>\n",
       "      <td>NaN</td>\n",
       "      <td>NaN</td>\n",
       "      <td>NaN</td>\n",
       "      <td>NaN</td>\n",
       "      <td>NaN</td>\n",
       "      <td>NaN</td>\n",
       "      <td>NaN</td>\n",
       "      <td>NaN</td>\n",
       "    </tr>\n",
       "    <tr>\n",
       "      <th>18184</th>\n",
       "      <td>41+2</td>\n",
       "      <td>41+2</td>\n",
       "      <td>41+2</td>\n",
       "      <td>43+2</td>\n",
       "      <td>43+2</td>\n",
       "      <td>43+2</td>\n",
       "      <td>43+2</td>\n",
       "      <td>43+2</td>\n",
       "      <td>45+2</td>\n",
       "      <td>45+2</td>\n",
       "      <td>...</td>\n",
       "      <td>49+2</td>\n",
       "      <td>50+2</td>\n",
       "      <td>50+2</td>\n",
       "      <td>50+2</td>\n",
       "      <td>49+2</td>\n",
       "      <td>49+2</td>\n",
       "      <td>50+2</td>\n",
       "      <td>50+2</td>\n",
       "      <td>50+2</td>\n",
       "      <td>49+2</td>\n",
       "    </tr>\n",
       "    <tr>\n",
       "      <th>18185</th>\n",
       "      <td>43+2</td>\n",
       "      <td>43+2</td>\n",
       "      <td>43+2</td>\n",
       "      <td>44+2</td>\n",
       "      <td>44+2</td>\n",
       "      <td>44+2</td>\n",
       "      <td>44+2</td>\n",
       "      <td>44+2</td>\n",
       "      <td>45+2</td>\n",
       "      <td>45+2</td>\n",
       "      <td>...</td>\n",
       "      <td>47+2</td>\n",
       "      <td>47+2</td>\n",
       "      <td>47+2</td>\n",
       "      <td>47+2</td>\n",
       "      <td>47+2</td>\n",
       "      <td>47+2</td>\n",
       "      <td>45+2</td>\n",
       "      <td>45+2</td>\n",
       "      <td>45+2</td>\n",
       "      <td>47+2</td>\n",
       "    </tr>\n",
       "    <tr>\n",
       "      <th>18186</th>\n",
       "      <td>43+2</td>\n",
       "      <td>43+2</td>\n",
       "      <td>43+2</td>\n",
       "      <td>46+2</td>\n",
       "      <td>44+2</td>\n",
       "      <td>44+2</td>\n",
       "      <td>44+2</td>\n",
       "      <td>46+2</td>\n",
       "      <td>47+2</td>\n",
       "      <td>47+2</td>\n",
       "      <td>...</td>\n",
       "      <td>48+2</td>\n",
       "      <td>48+2</td>\n",
       "      <td>48+2</td>\n",
       "      <td>48+2</td>\n",
       "      <td>48+2</td>\n",
       "      <td>48+2</td>\n",
       "      <td>49+2</td>\n",
       "      <td>49+2</td>\n",
       "      <td>49+2</td>\n",
       "      <td>48+2</td>\n",
       "    </tr>\n",
       "    <tr>\n",
       "      <th>18187</th>\n",
       "      <td>46+2</td>\n",
       "      <td>46+2</td>\n",
       "      <td>46+2</td>\n",
       "      <td>47+2</td>\n",
       "      <td>46+2</td>\n",
       "      <td>46+2</td>\n",
       "      <td>46+2</td>\n",
       "      <td>47+2</td>\n",
       "      <td>45+2</td>\n",
       "      <td>45+2</td>\n",
       "      <td>...</td>\n",
       "      <td>46+2</td>\n",
       "      <td>41+2</td>\n",
       "      <td>41+2</td>\n",
       "      <td>41+2</td>\n",
       "      <td>46+2</td>\n",
       "      <td>45+2</td>\n",
       "      <td>44+2</td>\n",
       "      <td>44+2</td>\n",
       "      <td>44+2</td>\n",
       "      <td>45+2</td>\n",
       "    </tr>\n",
       "    <tr>\n",
       "      <th>18188</th>\n",
       "      <td>45+2</td>\n",
       "      <td>45+2</td>\n",
       "      <td>45+2</td>\n",
       "      <td>49+2</td>\n",
       "      <td>48+2</td>\n",
       "      <td>48+2</td>\n",
       "      <td>48+2</td>\n",
       "      <td>49+2</td>\n",
       "      <td>48+2</td>\n",
       "      <td>48+2</td>\n",
       "      <td>...</td>\n",
       "      <td>44+2</td>\n",
       "      <td>41+2</td>\n",
       "      <td>41+2</td>\n",
       "      <td>41+2</td>\n",
       "      <td>44+2</td>\n",
       "      <td>43+2</td>\n",
       "      <td>39+2</td>\n",
       "      <td>39+2</td>\n",
       "      <td>39+2</td>\n",
       "      <td>43+2</td>\n",
       "    </tr>\n",
       "    <tr>\n",
       "      <th>18189</th>\n",
       "      <td>45+2</td>\n",
       "      <td>45+2</td>\n",
       "      <td>45+2</td>\n",
       "      <td>48+2</td>\n",
       "      <td>46+2</td>\n",
       "      <td>46+2</td>\n",
       "      <td>46+2</td>\n",
       "      <td>48+2</td>\n",
       "      <td>46+2</td>\n",
       "      <td>46+2</td>\n",
       "      <td>...</td>\n",
       "      <td>38+2</td>\n",
       "      <td>34+2</td>\n",
       "      <td>34+2</td>\n",
       "      <td>34+2</td>\n",
       "      <td>38+2</td>\n",
       "      <td>36+2</td>\n",
       "      <td>32+2</td>\n",
       "      <td>32+2</td>\n",
       "      <td>32+2</td>\n",
       "      <td>36+2</td>\n",
       "    </tr>\n",
       "    <tr>\n",
       "      <th>18190</th>\n",
       "      <td>42+2</td>\n",
       "      <td>42+2</td>\n",
       "      <td>42+2</td>\n",
       "      <td>42+2</td>\n",
       "      <td>44+2</td>\n",
       "      <td>44+2</td>\n",
       "      <td>44+2</td>\n",
       "      <td>42+2</td>\n",
       "      <td>44+2</td>\n",
       "      <td>44+2</td>\n",
       "      <td>...</td>\n",
       "      <td>44+2</td>\n",
       "      <td>45+2</td>\n",
       "      <td>45+2</td>\n",
       "      <td>45+2</td>\n",
       "      <td>44+2</td>\n",
       "      <td>45+2</td>\n",
       "      <td>44+2</td>\n",
       "      <td>44+2</td>\n",
       "      <td>44+2</td>\n",
       "      <td>45+2</td>\n",
       "    </tr>\n",
       "    <tr>\n",
       "      <th>18191</th>\n",
       "      <td>39+2</td>\n",
       "      <td>39+2</td>\n",
       "      <td>39+2</td>\n",
       "      <td>43+2</td>\n",
       "      <td>40+2</td>\n",
       "      <td>40+2</td>\n",
       "      <td>40+2</td>\n",
       "      <td>43+2</td>\n",
       "      <td>41+2</td>\n",
       "      <td>41+2</td>\n",
       "      <td>...</td>\n",
       "      <td>45+2</td>\n",
       "      <td>44+2</td>\n",
       "      <td>44+2</td>\n",
       "      <td>44+2</td>\n",
       "      <td>45+2</td>\n",
       "      <td>45+2</td>\n",
       "      <td>47+2</td>\n",
       "      <td>47+2</td>\n",
       "      <td>47+2</td>\n",
       "      <td>45+2</td>\n",
       "    </tr>\n",
       "    <tr>\n",
       "      <th>18192</th>\n",
       "      <td>44+2</td>\n",
       "      <td>44+2</td>\n",
       "      <td>44+2</td>\n",
       "      <td>45+2</td>\n",
       "      <td>44+2</td>\n",
       "      <td>44+2</td>\n",
       "      <td>44+2</td>\n",
       "      <td>45+2</td>\n",
       "      <td>45+2</td>\n",
       "      <td>45+2</td>\n",
       "      <td>...</td>\n",
       "      <td>46+2</td>\n",
       "      <td>46+2</td>\n",
       "      <td>46+2</td>\n",
       "      <td>46+2</td>\n",
       "      <td>46+2</td>\n",
       "      <td>47+2</td>\n",
       "      <td>47+2</td>\n",
       "      <td>47+2</td>\n",
       "      <td>47+2</td>\n",
       "      <td>47+2</td>\n",
       "    </tr>\n",
       "    <tr>\n",
       "      <th>18193</th>\n",
       "      <td>35+2</td>\n",
       "      <td>35+2</td>\n",
       "      <td>35+2</td>\n",
       "      <td>38+2</td>\n",
       "      <td>36+2</td>\n",
       "      <td>36+2</td>\n",
       "      <td>36+2</td>\n",
       "      <td>38+2</td>\n",
       "      <td>35+2</td>\n",
       "      <td>35+2</td>\n",
       "      <td>...</td>\n",
       "      <td>44+2</td>\n",
       "      <td>39+2</td>\n",
       "      <td>39+2</td>\n",
       "      <td>39+2</td>\n",
       "      <td>44+2</td>\n",
       "      <td>45+2</td>\n",
       "      <td>44+2</td>\n",
       "      <td>44+2</td>\n",
       "      <td>44+2</td>\n",
       "      <td>45+2</td>\n",
       "    </tr>\n",
       "    <tr>\n",
       "      <th>18194</th>\n",
       "      <td>NaN</td>\n",
       "      <td>NaN</td>\n",
       "      <td>NaN</td>\n",
       "      <td>NaN</td>\n",
       "      <td>NaN</td>\n",
       "      <td>NaN</td>\n",
       "      <td>NaN</td>\n",
       "      <td>NaN</td>\n",
       "      <td>NaN</td>\n",
       "      <td>NaN</td>\n",
       "      <td>...</td>\n",
       "      <td>NaN</td>\n",
       "      <td>NaN</td>\n",
       "      <td>NaN</td>\n",
       "      <td>NaN</td>\n",
       "      <td>NaN</td>\n",
       "      <td>NaN</td>\n",
       "      <td>NaN</td>\n",
       "      <td>NaN</td>\n",
       "      <td>NaN</td>\n",
       "      <td>NaN</td>\n",
       "    </tr>\n",
       "    <tr>\n",
       "      <th>18195</th>\n",
       "      <td>44+2</td>\n",
       "      <td>44+2</td>\n",
       "      <td>44+2</td>\n",
       "      <td>44+2</td>\n",
       "      <td>44+2</td>\n",
       "      <td>44+2</td>\n",
       "      <td>44+2</td>\n",
       "      <td>44+2</td>\n",
       "      <td>45+2</td>\n",
       "      <td>45+2</td>\n",
       "      <td>...</td>\n",
       "      <td>45+2</td>\n",
       "      <td>45+2</td>\n",
       "      <td>45+2</td>\n",
       "      <td>45+2</td>\n",
       "      <td>45+2</td>\n",
       "      <td>45+2</td>\n",
       "      <td>44+2</td>\n",
       "      <td>44+2</td>\n",
       "      <td>44+2</td>\n",
       "      <td>45+2</td>\n",
       "    </tr>\n",
       "    <tr>\n",
       "      <th>18196</th>\n",
       "      <td>40+2</td>\n",
       "      <td>40+2</td>\n",
       "      <td>40+2</td>\n",
       "      <td>43+2</td>\n",
       "      <td>43+2</td>\n",
       "      <td>43+2</td>\n",
       "      <td>43+2</td>\n",
       "      <td>43+2</td>\n",
       "      <td>45+2</td>\n",
       "      <td>45+2</td>\n",
       "      <td>...</td>\n",
       "      <td>45+2</td>\n",
       "      <td>47+2</td>\n",
       "      <td>47+2</td>\n",
       "      <td>47+2</td>\n",
       "      <td>45+2</td>\n",
       "      <td>46+2</td>\n",
       "      <td>47+2</td>\n",
       "      <td>47+2</td>\n",
       "      <td>47+2</td>\n",
       "      <td>46+2</td>\n",
       "    </tr>\n",
       "    <tr>\n",
       "      <th>18197</th>\n",
       "      <td>45+2</td>\n",
       "      <td>45+2</td>\n",
       "      <td>45+2</td>\n",
       "      <td>49+2</td>\n",
       "      <td>48+2</td>\n",
       "      <td>48+2</td>\n",
       "      <td>48+2</td>\n",
       "      <td>49+2</td>\n",
       "      <td>49+2</td>\n",
       "      <td>49+2</td>\n",
       "      <td>...</td>\n",
       "      <td>45+2</td>\n",
       "      <td>44+2</td>\n",
       "      <td>44+2</td>\n",
       "      <td>44+2</td>\n",
       "      <td>45+2</td>\n",
       "      <td>44+2</td>\n",
       "      <td>40+2</td>\n",
       "      <td>40+2</td>\n",
       "      <td>40+2</td>\n",
       "      <td>44+2</td>\n",
       "    </tr>\n",
       "    <tr>\n",
       "      <th>18198</th>\n",
       "      <td>NaN</td>\n",
       "      <td>NaN</td>\n",
       "      <td>NaN</td>\n",
       "      <td>NaN</td>\n",
       "      <td>NaN</td>\n",
       "      <td>NaN</td>\n",
       "      <td>NaN</td>\n",
       "      <td>NaN</td>\n",
       "      <td>NaN</td>\n",
       "      <td>NaN</td>\n",
       "      <td>...</td>\n",
       "      <td>NaN</td>\n",
       "      <td>NaN</td>\n",
       "      <td>NaN</td>\n",
       "      <td>NaN</td>\n",
       "      <td>NaN</td>\n",
       "      <td>NaN</td>\n",
       "      <td>NaN</td>\n",
       "      <td>NaN</td>\n",
       "      <td>NaN</td>\n",
       "      <td>NaN</td>\n",
       "    </tr>\n",
       "    <tr>\n",
       "      <th>18199</th>\n",
       "      <td>42+2</td>\n",
       "      <td>42+2</td>\n",
       "      <td>42+2</td>\n",
       "      <td>43+2</td>\n",
       "      <td>44+2</td>\n",
       "      <td>44+2</td>\n",
       "      <td>44+2</td>\n",
       "      <td>43+2</td>\n",
       "      <td>44+2</td>\n",
       "      <td>44+2</td>\n",
       "      <td>...</td>\n",
       "      <td>47+2</td>\n",
       "      <td>48+2</td>\n",
       "      <td>48+2</td>\n",
       "      <td>48+2</td>\n",
       "      <td>47+2</td>\n",
       "      <td>47+2</td>\n",
       "      <td>48+2</td>\n",
       "      <td>48+2</td>\n",
       "      <td>48+2</td>\n",
       "      <td>47+2</td>\n",
       "    </tr>\n",
       "    <tr>\n",
       "      <th>18200</th>\n",
       "      <td>45+2</td>\n",
       "      <td>45+2</td>\n",
       "      <td>45+2</td>\n",
       "      <td>44+2</td>\n",
       "      <td>45+2</td>\n",
       "      <td>45+2</td>\n",
       "      <td>45+2</td>\n",
       "      <td>44+2</td>\n",
       "      <td>44+2</td>\n",
       "      <td>44+2</td>\n",
       "      <td>...</td>\n",
       "      <td>31+2</td>\n",
       "      <td>28+2</td>\n",
       "      <td>28+2</td>\n",
       "      <td>28+2</td>\n",
       "      <td>31+2</td>\n",
       "      <td>30+2</td>\n",
       "      <td>27+2</td>\n",
       "      <td>27+2</td>\n",
       "      <td>27+2</td>\n",
       "      <td>30+2</td>\n",
       "    </tr>\n",
       "    <tr>\n",
       "      <th>18201</th>\n",
       "      <td>32+2</td>\n",
       "      <td>32+2</td>\n",
       "      <td>32+2</td>\n",
       "      <td>29+2</td>\n",
       "      <td>30+2</td>\n",
       "      <td>30+2</td>\n",
       "      <td>30+2</td>\n",
       "      <td>29+2</td>\n",
       "      <td>28+2</td>\n",
       "      <td>28+2</td>\n",
       "      <td>...</td>\n",
       "      <td>39+2</td>\n",
       "      <td>38+2</td>\n",
       "      <td>38+2</td>\n",
       "      <td>38+2</td>\n",
       "      <td>39+2</td>\n",
       "      <td>42+2</td>\n",
       "      <td>46+2</td>\n",
       "      <td>46+2</td>\n",
       "      <td>46+2</td>\n",
       "      <td>42+2</td>\n",
       "    </tr>\n",
       "    <tr>\n",
       "      <th>18202</th>\n",
       "      <td>42+2</td>\n",
       "      <td>42+2</td>\n",
       "      <td>42+2</td>\n",
       "      <td>44+2</td>\n",
       "      <td>44+2</td>\n",
       "      <td>44+2</td>\n",
       "      <td>44+2</td>\n",
       "      <td>44+2</td>\n",
       "      <td>45+2</td>\n",
       "      <td>45+2</td>\n",
       "      <td>...</td>\n",
       "      <td>44+2</td>\n",
       "      <td>45+2</td>\n",
       "      <td>45+2</td>\n",
       "      <td>45+2</td>\n",
       "      <td>44+2</td>\n",
       "      <td>45+2</td>\n",
       "      <td>45+2</td>\n",
       "      <td>45+2</td>\n",
       "      <td>45+2</td>\n",
       "      <td>45+2</td>\n",
       "    </tr>\n",
       "    <tr>\n",
       "      <th>18203</th>\n",
       "      <td>45+2</td>\n",
       "      <td>45+2</td>\n",
       "      <td>45+2</td>\n",
       "      <td>39+2</td>\n",
       "      <td>42+2</td>\n",
       "      <td>42+2</td>\n",
       "      <td>42+2</td>\n",
       "      <td>39+2</td>\n",
       "      <td>40+2</td>\n",
       "      <td>40+2</td>\n",
       "      <td>...</td>\n",
       "      <td>30+2</td>\n",
       "      <td>31+2</td>\n",
       "      <td>31+2</td>\n",
       "      <td>31+2</td>\n",
       "      <td>30+2</td>\n",
       "      <td>29+2</td>\n",
       "      <td>32+2</td>\n",
       "      <td>32+2</td>\n",
       "      <td>32+2</td>\n",
       "      <td>29+2</td>\n",
       "    </tr>\n",
       "    <tr>\n",
       "      <th>18204</th>\n",
       "      <td>45+2</td>\n",
       "      <td>45+2</td>\n",
       "      <td>45+2</td>\n",
       "      <td>45+2</td>\n",
       "      <td>46+2</td>\n",
       "      <td>46+2</td>\n",
       "      <td>46+2</td>\n",
       "      <td>45+2</td>\n",
       "      <td>44+2</td>\n",
       "      <td>44+2</td>\n",
       "      <td>...</td>\n",
       "      <td>34+2</td>\n",
       "      <td>30+2</td>\n",
       "      <td>30+2</td>\n",
       "      <td>30+2</td>\n",
       "      <td>34+2</td>\n",
       "      <td>33+2</td>\n",
       "      <td>28+2</td>\n",
       "      <td>28+2</td>\n",
       "      <td>28+2</td>\n",
       "      <td>33+2</td>\n",
       "    </tr>\n",
       "    <tr>\n",
       "      <th>18205</th>\n",
       "      <td>47+2</td>\n",
       "      <td>47+2</td>\n",
       "      <td>47+2</td>\n",
       "      <td>47+2</td>\n",
       "      <td>46+2</td>\n",
       "      <td>46+2</td>\n",
       "      <td>46+2</td>\n",
       "      <td>47+2</td>\n",
       "      <td>45+2</td>\n",
       "      <td>45+2</td>\n",
       "      <td>...</td>\n",
       "      <td>36+2</td>\n",
       "      <td>32+2</td>\n",
       "      <td>32+2</td>\n",
       "      <td>32+2</td>\n",
       "      <td>36+2</td>\n",
       "      <td>35+2</td>\n",
       "      <td>31+2</td>\n",
       "      <td>31+2</td>\n",
       "      <td>31+2</td>\n",
       "      <td>35+2</td>\n",
       "    </tr>\n",
       "    <tr>\n",
       "      <th>18206</th>\n",
       "      <td>43+2</td>\n",
       "      <td>43+2</td>\n",
       "      <td>43+2</td>\n",
       "      <td>45+2</td>\n",
       "      <td>44+2</td>\n",
       "      <td>44+2</td>\n",
       "      <td>44+2</td>\n",
       "      <td>45+2</td>\n",
       "      <td>45+2</td>\n",
       "      <td>45+2</td>\n",
       "      <td>...</td>\n",
       "      <td>46+2</td>\n",
       "      <td>46+2</td>\n",
       "      <td>46+2</td>\n",
       "      <td>46+2</td>\n",
       "      <td>46+2</td>\n",
       "      <td>46+2</td>\n",
       "      <td>47+2</td>\n",
       "      <td>47+2</td>\n",
       "      <td>47+2</td>\n",
       "      <td>46+2</td>\n",
       "    </tr>\n",
       "  </tbody>\n",
       "</table>\n",
       "<p>18159 rows × 26 columns</p>\n",
       "</div>"
      ],
      "text/plain": [
       "         LS    ST    RS    LW    LF    CF    RF    RW   LAM   CAM  ...   LWB  \\\n",
       "0      88+2  88+2  88+2  92+2  93+2  93+2  93+2  92+2  93+2  93+2  ...  64+2   \n",
       "1      91+3  91+3  91+3  89+3  90+3  90+3  90+3  89+3  88+3  88+3  ...  65+3   \n",
       "2      84+3  84+3  84+3  89+3  89+3  89+3  89+3  89+3  89+3  89+3  ...  65+3   \n",
       "3       NaN   NaN   NaN   NaN   NaN   NaN   NaN   NaN   NaN   NaN  ...   NaN   \n",
       "4      82+3  82+3  82+3  87+3  87+3  87+3  87+3  87+3  88+3  88+3  ...  77+3   \n",
       "5      83+3  83+3  83+3  89+3  88+3  88+3  88+3  89+3  89+3  89+3  ...  66+3   \n",
       "6      77+3  77+3  77+3  85+3  84+3  84+3  84+3  85+3  87+3  87+3  ...  82+3   \n",
       "7      87+5  87+5  87+5  86+5  87+5  87+5  87+5  86+5  85+5  85+5  ...  69+5   \n",
       "8      73+3  73+3  73+3  70+3  71+3  71+3  71+3  70+3  71+3  71+3  ...  81+3   \n",
       "9       NaN   NaN   NaN   NaN   NaN   NaN   NaN   NaN   NaN   NaN  ...   NaN   \n",
       "10     87+3  87+3  87+3  83+3  86+3  86+3  86+3  83+3  83+3  83+3  ...  61+3   \n",
       "11     78+3  78+3  78+3  81+3  82+3  82+3  82+3  81+3  84+3  84+3  ...  79+3   \n",
       "12     64+3  64+3  64+3  61+3  62+3  62+3  62+3  61+3  62+3  62+3  ...  76+3   \n",
       "13     77+3  77+3  77+3  85+3  84+3  84+3  84+3  85+3  87+3  87+3  ...  69+3   \n",
       "14     72+3  72+3  72+3  77+3  77+3  77+3  77+3  77+3  79+3  79+3  ...  85+3   \n",
       "15     83+3  83+3  83+3  87+3  86+3  86+3  86+3  87+3  87+3  87+3  ...  62+3   \n",
       "16     86+3  86+3  86+3  82+3  84+3  84+3  84+3  82+3  82+3  82+3  ...  65+3   \n",
       "17     86+3  86+3  86+3  87+3  87+3  87+3  87+3  87+3  86+3  86+3  ...  70+3   \n",
       "18      NaN   NaN   NaN   NaN   NaN   NaN   NaN   NaN   NaN   NaN  ...   NaN   \n",
       "19      NaN   NaN   NaN   NaN   NaN   NaN   NaN   NaN   NaN   NaN  ...   NaN   \n",
       "20     71+3  71+3  71+3  74+3  76+3  76+3  76+3  74+3  79+3  79+3  ...  79+3   \n",
       "21     85+3  85+3  85+3  81+3  83+3  83+3  83+3  81+3  80+3  80+3  ...  67+3   \n",
       "22      NaN   NaN   NaN   NaN   NaN   NaN   NaN   NaN   NaN   NaN  ...   NaN   \n",
       "23     86+3  86+3  86+3  86+3  87+3  87+3  87+3  86+3  85+3  85+3  ...  58+3   \n",
       "24     58+3  58+3  58+3  54+3  55+3  55+3  55+3  54+3  54+3  54+3  ...  74+3   \n",
       "25     85+3  85+3  85+3  87+3  87+3  87+3  87+3  87+3  86+3  86+3  ...  66+3   \n",
       "26     83+3  83+3  83+3  87+3  86+3  86+3  86+3  87+3  86+3  86+3  ...  70+3   \n",
       "27     72+3  72+3  72+3  69+3  73+3  73+3  73+3  69+3  74+3  74+3  ...  78+3   \n",
       "28     80+3  80+3  80+3  84+3  83+3  83+3  83+3  84+3  85+3  85+3  ...  69+3   \n",
       "29     78+3  78+3  78+3  86+3  85+3  85+3  85+3  86+3  86+3  86+3  ...  63+3   \n",
       "...     ...   ...   ...   ...   ...   ...   ...   ...   ...   ...  ...   ...   \n",
       "18177  47+2  47+2  47+2  45+2  46+2  46+2  46+2  45+2  44+2  44+2  ...  32+2   \n",
       "18178   NaN   NaN   NaN   NaN   NaN   NaN   NaN   NaN   NaN   NaN  ...   NaN   \n",
       "18179  34+2  34+2  34+2  32+2  32+2  32+2  32+2  32+2  31+2  31+2  ...  42+2   \n",
       "18180   NaN   NaN   NaN   NaN   NaN   NaN   NaN   NaN   NaN   NaN  ...   NaN   \n",
       "18181  44+2  44+2  44+2  44+2  43+2  43+2  43+2  44+2  42+2  42+2  ...  47+2   \n",
       "18182  40+2  40+2  40+2  42+2  41+2  41+2  41+2  42+2  43+2  43+2  ...  47+2   \n",
       "18183   NaN   NaN   NaN   NaN   NaN   NaN   NaN   NaN   NaN   NaN  ...   NaN   \n",
       "18184  41+2  41+2  41+2  43+2  43+2  43+2  43+2  43+2  45+2  45+2  ...  49+2   \n",
       "18185  43+2  43+2  43+2  44+2  44+2  44+2  44+2  44+2  45+2  45+2  ...  47+2   \n",
       "18186  43+2  43+2  43+2  46+2  44+2  44+2  44+2  46+2  47+2  47+2  ...  48+2   \n",
       "18187  46+2  46+2  46+2  47+2  46+2  46+2  46+2  47+2  45+2  45+2  ...  46+2   \n",
       "18188  45+2  45+2  45+2  49+2  48+2  48+2  48+2  49+2  48+2  48+2  ...  44+2   \n",
       "18189  45+2  45+2  45+2  48+2  46+2  46+2  46+2  48+2  46+2  46+2  ...  38+2   \n",
       "18190  42+2  42+2  42+2  42+2  44+2  44+2  44+2  42+2  44+2  44+2  ...  44+2   \n",
       "18191  39+2  39+2  39+2  43+2  40+2  40+2  40+2  43+2  41+2  41+2  ...  45+2   \n",
       "18192  44+2  44+2  44+2  45+2  44+2  44+2  44+2  45+2  45+2  45+2  ...  46+2   \n",
       "18193  35+2  35+2  35+2  38+2  36+2  36+2  36+2  38+2  35+2  35+2  ...  44+2   \n",
       "18194   NaN   NaN   NaN   NaN   NaN   NaN   NaN   NaN   NaN   NaN  ...   NaN   \n",
       "18195  44+2  44+2  44+2  44+2  44+2  44+2  44+2  44+2  45+2  45+2  ...  45+2   \n",
       "18196  40+2  40+2  40+2  43+2  43+2  43+2  43+2  43+2  45+2  45+2  ...  45+2   \n",
       "18197  45+2  45+2  45+2  49+2  48+2  48+2  48+2  49+2  49+2  49+2  ...  45+2   \n",
       "18198   NaN   NaN   NaN   NaN   NaN   NaN   NaN   NaN   NaN   NaN  ...   NaN   \n",
       "18199  42+2  42+2  42+2  43+2  44+2  44+2  44+2  43+2  44+2  44+2  ...  47+2   \n",
       "18200  45+2  45+2  45+2  44+2  45+2  45+2  45+2  44+2  44+2  44+2  ...  31+2   \n",
       "18201  32+2  32+2  32+2  29+2  30+2  30+2  30+2  29+2  28+2  28+2  ...  39+2   \n",
       "18202  42+2  42+2  42+2  44+2  44+2  44+2  44+2  44+2  45+2  45+2  ...  44+2   \n",
       "18203  45+2  45+2  45+2  39+2  42+2  42+2  42+2  39+2  40+2  40+2  ...  30+2   \n",
       "18204  45+2  45+2  45+2  45+2  46+2  46+2  46+2  45+2  44+2  44+2  ...  34+2   \n",
       "18205  47+2  47+2  47+2  47+2  46+2  46+2  46+2  47+2  45+2  45+2  ...  36+2   \n",
       "18206  43+2  43+2  43+2  45+2  44+2  44+2  44+2  45+2  45+2  45+2  ...  46+2   \n",
       "\n",
       "        LDM   CDM   RDM   RWB    LB   LCB    CB   RCB    RB  \n",
       "0      61+2  61+2  61+2  64+2  59+2  47+2  47+2  47+2  59+2  \n",
       "1      61+3  61+3  61+3  65+3  61+3  53+3  53+3  53+3  61+3  \n",
       "2      60+3  60+3  60+3  65+3  60+3  47+3  47+3  47+3  60+3  \n",
       "3       NaN   NaN   NaN   NaN   NaN   NaN   NaN   NaN   NaN  \n",
       "4      77+3  77+3  77+3  77+3  73+3  66+3  66+3  66+3  73+3  \n",
       "5      63+3  63+3  63+3  66+3  60+3  49+3  49+3  49+3  60+3  \n",
       "6      81+3  81+3  81+3  82+3  79+3  71+3  71+3  71+3  79+3  \n",
       "7      68+5  68+5  68+5  69+5  66+5  63+5  63+5  63+5  66+5  \n",
       "8      84+3  84+3  84+3  81+3  84+3  87+3  87+3  87+3  84+3  \n",
       "9       NaN   NaN   NaN   NaN   NaN   NaN   NaN   NaN   NaN  \n",
       "10     62+3  62+3  62+3  61+3  58+3  57+3  57+3  57+3  58+3  \n",
       "11     82+3  82+3  82+3  79+3  77+3  72+3  72+3  72+3  77+3  \n",
       "12     81+3  81+3  81+3  76+3  79+3  87+3  87+3  87+3  79+3  \n",
       "13     70+3  70+3  70+3  69+3  64+3  57+3  57+3  57+3  64+3  \n",
       "14     87+3  87+3  87+3  85+3  84+3  83+3  83+3  83+3  84+3  \n",
       "15     58+3  58+3  58+3  62+3  56+3  45+3  45+3  45+3  56+3  \n",
       "16     66+3  66+3  66+3  65+3  62+3  60+3  60+3  60+3  62+3  \n",
       "17     67+3  67+3  67+3  70+3  67+3  61+3  61+3  61+3  67+3  \n",
       "18      NaN   NaN   NaN   NaN   NaN   NaN   NaN   NaN   NaN  \n",
       "19      NaN   NaN   NaN   NaN   NaN   NaN   NaN   NaN   NaN  \n",
       "20     86+3  86+3  86+3  79+3  78+3  82+3  82+3  82+3  78+3  \n",
       "21     65+3  65+3  65+3  67+3  65+3  63+3  63+3  63+3  65+3  \n",
       "22      NaN   NaN   NaN   NaN   NaN   NaN   NaN   NaN   NaN  \n",
       "23     56+3  56+3  56+3  58+3  53+3  47+3  47+3  47+3  53+3  \n",
       "24     76+3  76+3  76+3  74+3  77+3  86+3  86+3  86+3  77+3  \n",
       "25     62+3  62+3  62+3  66+3  62+3  54+3  54+3  54+3  62+3  \n",
       "26     66+3  66+3  66+3  70+3  66+3  57+3  57+3  57+3  66+3  \n",
       "27     85+3  85+3  85+3  78+3  79+3  85+3  85+3  85+3  79+3  \n",
       "28     68+3  68+3  68+3  69+3  65+3  58+3  58+3  58+3  65+3  \n",
       "29     58+3  58+3  58+3  63+3  58+3  44+3  44+3  44+3  58+3  \n",
       "...     ...   ...   ...   ...   ...   ...   ...   ...   ...  \n",
       "18177  29+2  29+2  29+2  32+2  31+2  27+2  27+2  27+2  31+2  \n",
       "18178   NaN   NaN   NaN   NaN   NaN   NaN   NaN   NaN   NaN  \n",
       "18179  41+2  41+2  41+2  42+2  44+2  46+2  46+2  46+2  44+2  \n",
       "18180   NaN   NaN   NaN   NaN   NaN   NaN   NaN   NaN   NaN  \n",
       "18181  43+2  43+2  43+2  47+2  47+2  46+2  46+2  46+2  47+2  \n",
       "18182  47+2  47+2  47+2  47+2  47+2  46+2  46+2  46+2  47+2  \n",
       "18183   NaN   NaN   NaN   NaN   NaN   NaN   NaN   NaN   NaN  \n",
       "18184  50+2  50+2  50+2  49+2  49+2  50+2  50+2  50+2  49+2  \n",
       "18185  47+2  47+2  47+2  47+2  47+2  45+2  45+2  45+2  47+2  \n",
       "18186  48+2  48+2  48+2  48+2  48+2  49+2  49+2  49+2  48+2  \n",
       "18187  41+2  41+2  41+2  46+2  45+2  44+2  44+2  44+2  45+2  \n",
       "18188  41+2  41+2  41+2  44+2  43+2  39+2  39+2  39+2  43+2  \n",
       "18189  34+2  34+2  34+2  38+2  36+2  32+2  32+2  32+2  36+2  \n",
       "18190  45+2  45+2  45+2  44+2  45+2  44+2  44+2  44+2  45+2  \n",
       "18191  44+2  44+2  44+2  45+2  45+2  47+2  47+2  47+2  45+2  \n",
       "18192  46+2  46+2  46+2  46+2  47+2  47+2  47+2  47+2  47+2  \n",
       "18193  39+2  39+2  39+2  44+2  45+2  44+2  44+2  44+2  45+2  \n",
       "18194   NaN   NaN   NaN   NaN   NaN   NaN   NaN   NaN   NaN  \n",
       "18195  45+2  45+2  45+2  45+2  45+2  44+2  44+2  44+2  45+2  \n",
       "18196  47+2  47+2  47+2  45+2  46+2  47+2  47+2  47+2  46+2  \n",
       "18197  44+2  44+2  44+2  45+2  44+2  40+2  40+2  40+2  44+2  \n",
       "18198   NaN   NaN   NaN   NaN   NaN   NaN   NaN   NaN   NaN  \n",
       "18199  48+2  48+2  48+2  47+2  47+2  48+2  48+2  48+2  47+2  \n",
       "18200  28+2  28+2  28+2  31+2  30+2  27+2  27+2  27+2  30+2  \n",
       "18201  38+2  38+2  38+2  39+2  42+2  46+2  46+2  46+2  42+2  \n",
       "18202  45+2  45+2  45+2  44+2  45+2  45+2  45+2  45+2  45+2  \n",
       "18203  31+2  31+2  31+2  30+2  29+2  32+2  32+2  32+2  29+2  \n",
       "18204  30+2  30+2  30+2  34+2  33+2  28+2  28+2  28+2  33+2  \n",
       "18205  32+2  32+2  32+2  36+2  35+2  31+2  31+2  31+2  35+2  \n",
       "18206  46+2  46+2  46+2  46+2  46+2  47+2  47+2  47+2  46+2  \n",
       "\n",
       "[18159 rows x 26 columns]"
      ]
     },
     "execution_count": 274,
     "metadata": {},
     "output_type": "execute_result"
    }
   ],
   "source": [
    "position"
   ]
  },
  {
   "cell_type": "code",
   "execution_count": 275,
   "metadata": {},
   "outputs": [
    {
     "name": "stderr",
     "output_type": "stream",
     "text": [
      "/Users/JimmyWang/anaconda3/envs/py3.6/lib/python3.7/site-packages/ipykernel_launcher.py:5: SettingWithCopyWarning: \n",
      "A value is trying to be set on a copy of a slice from a DataFrame\n",
      "\n",
      "See the caveats in the documentation: http://pandas.pydata.org/pandas-docs/stable/indexing.html#indexing-view-versus-copy\n",
      "  \"\"\"\n"
     ]
    }
   ],
   "source": [
    "# Convert 45+2 into 47 (int64)\n",
    "for x in position:\n",
    "    n = position[x][~position[x].isnull()].str.split('+')\n",
    "    df[x] = n.str[0].astype('int64') + n.str[1].astype('int64')\n",
    "    df[x][df[x].isnull()] = df[x].median()"
   ]
  },
  {
   "cell_type": "markdown",
   "metadata": {},
   "source": [
    "### Crossing"
   ]
  },
  {
   "cell_type": "code",
   "execution_count": 276,
   "metadata": {},
   "outputs": [
    {
     "data": {
      "text/plain": [
       "0        84.0\n",
       "1        84.0\n",
       "2        79.0\n",
       "3        17.0\n",
       "4        93.0\n",
       "5        81.0\n",
       "6        86.0\n",
       "7        77.0\n",
       "8        66.0\n",
       "9        13.0\n",
       "10       62.0\n",
       "11       88.0\n",
       "12       55.0\n",
       "13       84.0\n",
       "14       68.0\n",
       "15       82.0\n",
       "16       75.0\n",
       "17       82.0\n",
       "18       15.0\n",
       "19       14.0\n",
       "20       62.0\n",
       "21       70.0\n",
       "22       15.0\n",
       "23       70.0\n",
       "24       58.0\n",
       "25       77.0\n",
       "26       78.0\n",
       "27       52.0\n",
       "28       90.0\n",
       "29       86.0\n",
       "         ... \n",
       "18177    32.0\n",
       "18178    10.0\n",
       "18179    25.0\n",
       "18180    19.0\n",
       "18181    45.0\n",
       "18182    35.0\n",
       "18183    11.0\n",
       "18184    33.0\n",
       "18185    37.0\n",
       "18186    35.0\n",
       "18187    39.0\n",
       "18188    41.0\n",
       "18189    37.0\n",
       "18190    32.0\n",
       "18191    47.0\n",
       "18192    39.0\n",
       "18193    36.0\n",
       "18194    10.0\n",
       "18195    35.0\n",
       "18196    31.0\n",
       "18197    44.0\n",
       "18198    14.0\n",
       "18199    31.0\n",
       "18200    28.0\n",
       "18201    22.0\n",
       "18202    34.0\n",
       "18203    23.0\n",
       "18204    25.0\n",
       "18205    44.0\n",
       "18206    41.0\n",
       "Name: Crossing, Length: 18159, dtype: float64"
      ]
     },
     "execution_count": 276,
     "metadata": {},
     "output_type": "execute_result"
    }
   ],
   "source": [
    "df['Crossing']"
   ]
  },
  {
   "cell_type": "code",
   "execution_count": 277,
   "metadata": {},
   "outputs": [
    {
     "data": {
      "text/plain": [
       "0"
      ]
     },
     "execution_count": 277,
     "metadata": {},
     "output_type": "execute_result"
    }
   ],
   "source": [
    "df['Crossing'].isnull().sum()"
   ]
  },
  {
   "cell_type": "markdown",
   "metadata": {},
   "source": [
    "### Finishing"
   ]
  },
  {
   "cell_type": "code",
   "execution_count": 278,
   "metadata": {},
   "outputs": [
    {
     "data": {
      "text/plain": [
       "0        95.0\n",
       "1        94.0\n",
       "2        87.0\n",
       "3        13.0\n",
       "4        82.0\n",
       "5        84.0\n",
       "6        72.0\n",
       "7        93.0\n",
       "8        60.0\n",
       "9        11.0\n",
       "10       91.0\n",
       "11       76.0\n",
       "12       42.0\n",
       "13       76.0\n",
       "14       65.0\n",
       "15       84.0\n",
       "16       94.0\n",
       "17       90.0\n",
       "18       14.0\n",
       "19       14.0\n",
       "20       67.0\n",
       "21       89.0\n",
       "22       13.0\n",
       "23       93.0\n",
       "24       33.0\n",
       "25       88.0\n",
       "26       90.0\n",
       "27       59.0\n",
       "28       83.0\n",
       "29       77.0\n",
       "         ... \n",
       "18177    53.0\n",
       "18178     7.0\n",
       "18179    22.0\n",
       "18180    15.0\n",
       "18181    46.0\n",
       "18182    33.0\n",
       "18183    12.0\n",
       "18184    24.0\n",
       "18185    34.0\n",
       "18186    29.0\n",
       "18187    40.0\n",
       "18188    38.0\n",
       "18189    48.0\n",
       "18190    32.0\n",
       "18191    26.0\n",
       "18192    36.0\n",
       "18193    25.0\n",
       "18194     6.0\n",
       "18195    29.0\n",
       "18196    28.0\n",
       "18197    44.0\n",
       "18198     8.0\n",
       "18199    31.0\n",
       "18200    47.0\n",
       "18201    23.0\n",
       "18202    38.0\n",
       "18203    52.0\n",
       "18204    40.0\n",
       "18205    50.0\n",
       "18206    34.0\n",
       "Name: Finishing, Length: 18159, dtype: float64"
      ]
     },
     "execution_count": 278,
     "metadata": {},
     "output_type": "execute_result"
    }
   ],
   "source": [
    "df['Finishing']"
   ]
  },
  {
   "cell_type": "code",
   "execution_count": 279,
   "metadata": {},
   "outputs": [
    {
     "data": {
      "text/plain": [
       "0"
      ]
     },
     "execution_count": 279,
     "metadata": {},
     "output_type": "execute_result"
    }
   ],
   "source": [
    "df['Finishing'].isnull().sum()"
   ]
  },
  {
   "cell_type": "markdown",
   "metadata": {},
   "source": [
    "### HeadingAccuracy"
   ]
  },
  {
   "cell_type": "code",
   "execution_count": 280,
   "metadata": {},
   "outputs": [
    {
     "data": {
      "text/plain": [
       "0"
      ]
     },
     "execution_count": 280,
     "metadata": {},
     "output_type": "execute_result"
    }
   ],
   "source": [
    "df['HeadingAccuracy'].isnull().sum()"
   ]
  },
  {
   "cell_type": "markdown",
   "metadata": {},
   "source": [
    "### ShortPassing"
   ]
  },
  {
   "cell_type": "code",
   "execution_count": 281,
   "metadata": {},
   "outputs": [
    {
     "data": {
      "text/plain": [
       "0"
      ]
     },
     "execution_count": 281,
     "metadata": {},
     "output_type": "execute_result"
    }
   ],
   "source": [
    "df['ShortPassing'].isnull().sum()"
   ]
  },
  {
   "cell_type": "markdown",
   "metadata": {},
   "source": [
    "### Volleys"
   ]
  },
  {
   "cell_type": "code",
   "execution_count": 282,
   "metadata": {},
   "outputs": [
    {
     "data": {
      "text/plain": [
       "0"
      ]
     },
     "execution_count": 282,
     "metadata": {},
     "output_type": "execute_result"
    }
   ],
   "source": [
    "df['Volleys'].isnull().sum()"
   ]
  },
  {
   "cell_type": "markdown",
   "metadata": {},
   "source": [
    "### Dribbling"
   ]
  },
  {
   "cell_type": "code",
   "execution_count": 283,
   "metadata": {},
   "outputs": [
    {
     "data": {
      "text/plain": [
       "0"
      ]
     },
     "execution_count": 283,
     "metadata": {},
     "output_type": "execute_result"
    }
   ],
   "source": [
    "df['Dribbling'].isnull().sum()"
   ]
  },
  {
   "cell_type": "markdown",
   "metadata": {},
   "source": [
    "### Curve"
   ]
  },
  {
   "cell_type": "code",
   "execution_count": 284,
   "metadata": {},
   "outputs": [
    {
     "data": {
      "text/plain": [
       "0"
      ]
     },
     "execution_count": 284,
     "metadata": {},
     "output_type": "execute_result"
    }
   ],
   "source": [
    "df['Curve'].isnull().sum()"
   ]
  },
  {
   "cell_type": "markdown",
   "metadata": {},
   "source": [
    "### FKAccuracy"
   ]
  },
  {
   "cell_type": "code",
   "execution_count": 285,
   "metadata": {},
   "outputs": [
    {
     "data": {
      "text/plain": [
       "0"
      ]
     },
     "execution_count": 285,
     "metadata": {},
     "output_type": "execute_result"
    }
   ],
   "source": [
    "df['FKAccuracy'].isnull().sum()"
   ]
  },
  {
   "cell_type": "markdown",
   "metadata": {},
   "source": [
    "### LongPassing"
   ]
  },
  {
   "cell_type": "code",
   "execution_count": 286,
   "metadata": {},
   "outputs": [
    {
     "data": {
      "text/plain": [
       "0"
      ]
     },
     "execution_count": 286,
     "metadata": {},
     "output_type": "execute_result"
    }
   ],
   "source": [
    "df['LongPassing'].isnull().sum()"
   ]
  },
  {
   "cell_type": "code",
   "execution_count": 287,
   "metadata": {},
   "outputs": [
    {
     "data": {
      "text/plain": [
       "<matplotlib.axes._subplots.AxesSubplot at 0x1a1c1f8898>"
      ]
     },
     "execution_count": 287,
     "metadata": {},
     "output_type": "execute_result"
    },
    {
     "data": {
      "image/png": "[encoded data removed]",
      "text/plain": [
       "<Figure size 432x288 with 1 Axes>"
      ]
     },
     "metadata": {
      "needs_background": "light"
     },
     "output_type": "display_data"
    }
   ],
   "source": [
    "sns.boxplot(df['LongPassing'])"
   ]
  },
  {
   "cell_type": "markdown",
   "metadata": {},
   "source": [
    "### BallControl"
   ]
  },
  {
   "cell_type": "code",
   "execution_count": 288,
   "metadata": {},
   "outputs": [
    {
     "data": {
      "text/plain": [
       "0"
      ]
     },
     "execution_count": 288,
     "metadata": {},
     "output_type": "execute_result"
    }
   ],
   "source": [
    "df['BallControl'].isnull().sum()"
   ]
  },
  {
   "cell_type": "code",
   "execution_count": 289,
   "metadata": {},
   "outputs": [
    {
     "data": {
      "text/plain": [
       "<matplotlib.axes._subplots.AxesSubplot at 0x1a2244d940>"
      ]
     },
     "execution_count": 289,
     "metadata": {},
     "output_type": "execute_result"
    },
    {
     "data": {
      "image/png": "[encoded data removed]",
      "text/plain": [
       "<Figure size 432x288 with 1 Axes>"
      ]
     },
     "metadata": {
      "needs_background": "light"
     },
     "output_type": "display_data"
    }
   ],
   "source": [
    "sns.boxplot(df['BallControl'])"
   ]
  },
  {
   "cell_type": "markdown",
   "metadata": {},
   "source": [
    "### Acceleration"
   ]
  },
  {
   "cell_type": "code",
   "execution_count": 290,
   "metadata": {},
   "outputs": [
    {
     "data": {
      "text/plain": [
       "0"
      ]
     },
     "execution_count": 290,
     "metadata": {},
     "output_type": "execute_result"
    }
   ],
   "source": [
    "df['Acceleration'].isnull().sum()"
   ]
  },
  {
   "cell_type": "code",
   "execution_count": 291,
   "metadata": {},
   "outputs": [
    {
     "data": {
      "text/plain": [
       "<matplotlib.axes._subplots.AxesSubplot at 0x1a1f66e4a8>"
      ]
     },
     "execution_count": 291,
     "metadata": {},
     "output_type": "execute_result"
    },
    {
     "data": {
      "image/png": "[encoded data removed]",
      "text/plain": [
       "<Figure size 432x288 with 1 Axes>"
      ]
     },
     "metadata": {
      "needs_background": "light"
     },
     "output_type": "display_data"
    }
   ],
   "source": [
    "sns.boxplot(df['Acceleration'])"
   ]
  },
  {
   "cell_type": "markdown",
   "metadata": {},
   "source": [
    "### SprintSpeed"
   ]
  },
  {
   "cell_type": "code",
   "execution_count": 292,
   "metadata": {},
   "outputs": [
    {
     "data": {
      "text/plain": [
       "0"
      ]
     },
     "execution_count": 292,
     "metadata": {},
     "output_type": "execute_result"
    }
   ],
   "source": [
    "df['SprintSpeed'].isnull().sum()"
   ]
  },
  {
   "cell_type": "code",
   "execution_count": 293,
   "metadata": {},
   "outputs": [
    {
     "data": {
      "text/plain": [
       "<matplotlib.axes._subplots.AxesSubplot at 0x1a214910b8>"
      ]
     },
     "execution_count": 293,
     "metadata": {},
     "output_type": "execute_result"
    },
    {
     "data": {
      "image/png": "[encoded data removed]",
      "text/plain": [
       "<Figure size 432x288 with 1 Axes>"
      ]
     },
     "metadata": {
      "needs_background": "light"
     },
     "output_type": "display_data"
    }
   ],
   "source": [
    "sns.boxplot(df['SprintSpeed'])"
   ]
  },
  {
   "cell_type": "markdown",
   "metadata": {},
   "source": [
    "### Agility"
   ]
  },
  {
   "cell_type": "code",
   "execution_count": 294,
   "metadata": {},
   "outputs": [
    {
     "data": {
      "text/plain": [
       "0"
      ]
     },
     "execution_count": 294,
     "metadata": {},
     "output_type": "execute_result"
    }
   ],
   "source": [
    "df['Agility'].isnull().sum()"
   ]
  },
  {
   "cell_type": "code",
   "execution_count": 295,
   "metadata": {},
   "outputs": [
    {
     "data": {
      "text/plain": [
       "<matplotlib.axes._subplots.AxesSubplot at 0x1a24b1afd0>"
      ]
     },
     "execution_count": 295,
     "metadata": {},
     "output_type": "execute_result"
    },
    {
     "data": {
      "image/png": "[encoded data removed]",
      "text/plain": [
       "<Figure size 432x288 with 1 Axes>"
      ]
     },
     "metadata": {
      "needs_background": "light"
     },
     "output_type": "display_data"
    }
   ],
   "source": [
    "sns.boxplot(df['Agility'])"
   ]
  },
  {
   "cell_type": "markdown",
   "metadata": {},
   "source": [
    "### Reactions"
   ]
  },
  {
   "cell_type": "code",
   "execution_count": 296,
   "metadata": {},
   "outputs": [
    {
     "data": {
      "text/plain": [
       "0"
      ]
     },
     "execution_count": 296,
     "metadata": {},
     "output_type": "execute_result"
    }
   ],
   "source": [
    "df['Reactions'].isnull().sum()"
   ]
  },
  {
   "cell_type": "code",
   "execution_count": 297,
   "metadata": {},
   "outputs": [
    {
     "data": {
      "text/plain": [
       "<matplotlib.axes._subplots.AxesSubplot at 0x1a19faac88>"
      ]
     },
     "execution_count": 297,
     "metadata": {},
     "output_type": "execute_result"
    },
    {
     "data": {
      "image/png": "[encoded data removed]",
      "text/plain": [
       "<Figure size 432x288 with 1 Axes>"
      ]
     },
     "metadata": {
      "needs_background": "light"
     },
     "output_type": "display_data"
    }
   ],
   "source": [
    "sns.boxplot(df['Reactions'])"
   ]
  },
  {
   "cell_type": "markdown",
   "metadata": {},
   "source": [
    "### Balance"
   ]
  },
  {
   "cell_type": "code",
   "execution_count": 298,
   "metadata": {},
   "outputs": [
    {
     "data": {
      "text/plain": [
       "0"
      ]
     },
     "execution_count": 298,
     "metadata": {},
     "output_type": "execute_result"
    }
   ],
   "source": [
    "df['Balance'].isnull().sum()"
   ]
  },
  {
   "cell_type": "code",
   "execution_count": 299,
   "metadata": {},
   "outputs": [
    {
     "data": {
      "text/plain": [
       "<matplotlib.axes._subplots.AxesSubplot at 0x1a1de526d8>"
      ]
     },
     "execution_count": 299,
     "metadata": {},
     "output_type": "execute_result"
    },
    {
     "data": {
      "image/png": "[encoded data removed]",
      "text/plain": [
       "<Figure size 432x288 with 1 Axes>"
      ]
     },
     "metadata": {
      "needs_background": "light"
     },
     "output_type": "display_data"
    }
   ],
   "source": [
    "sns.boxplot(df['Balance'])"
   ]
  },
  {
   "cell_type": "code",
   "execution_count": 300,
   "metadata": {},
   "outputs": [
    {
     "data": {
      "text/plain": [
       "0"
      ]
     },
     "execution_count": 300,
     "metadata": {},
     "output_type": "execute_result"
    }
   ],
   "source": [
    "df.isnull().sum().sum()"
   ]
  },
  {
   "cell_type": "markdown",
   "metadata": {},
   "source": [
    "## Correlation"
   ]
  },
  {
   "cell_type": "code",
   "execution_count": 301,
   "metadata": {},
   "outputs": [
    {
     "data": {
      "text/plain": [
       "Value                       0.858216\n",
       "International Reputation    0.668855\n",
       "Overall                     0.572363\n",
       "Reactions                   0.496137\n",
       "Potential                   0.486711\n",
       "RCM                         0.436270\n",
       "LCM                         0.436270\n",
       "CM                          0.436270\n",
       "Composure                   0.419800\n",
       "LS                          0.396013\n",
       "ST                          0.396013\n",
       "RS                          0.396013\n",
       "LAM                         0.392832\n",
       "CAM                         0.392832\n",
       "RAM                         0.392832\n",
       "LM                          0.390451\n",
       "RM                          0.390451\n",
       "LF                          0.385969\n",
       "CF                          0.385969\n",
       "RF                          0.385969\n",
       "RW                          0.370526\n",
       "LW                          0.370526\n",
       "Special                     0.348012\n",
       "LWB                         0.337174\n",
       "RWB                         0.337174\n",
       "LDM                         0.317811\n",
       "CDM                         0.317811\n",
       "RDM                         0.317811\n",
       "Vision                      0.315153\n",
       "ShortPassing                0.296649\n",
       "                              ...   \n",
       "FKAccuracy                  0.236400\n",
       "Crossing                    0.232885\n",
       "Positioning                 0.226672\n",
       "CB                          0.224595\n",
       "LCB                         0.224595\n",
       "RCB                         0.224595\n",
       "Penalties                   0.222626\n",
       "Finishing                   0.217378\n",
       "Aggression                  0.194635\n",
       "HeadingAccuracy             0.188116\n",
       "Stamina                     0.177801\n",
       "Interceptions               0.157570\n",
       "Agility                     0.156213\n",
       "Marking                     0.145812\n",
       "Age                         0.141900\n",
       "Weak Foot                   0.140952\n",
       "Strength                    0.139329\n",
       "SprintSpeed                 0.130461\n",
       "Jumping                     0.129471\n",
       "StandingTackle              0.126462\n",
       "Acceleration                0.125183\n",
       "SlidingTackle               0.111216\n",
       "Balance                     0.088974\n",
       "Weight                      0.064909\n",
       "Height                      0.019666\n",
       "GKHandling                 -0.025004\n",
       "GKPositioning              -0.025280\n",
       "GKDiving                   -0.025416\n",
       "GKReflexes                 -0.025806\n",
       "GKKicking                  -0.028129\n",
       "Name: Wage, Length: 70, dtype: float64"
      ]
     },
     "execution_count": 301,
     "metadata": {},
     "output_type": "execute_result"
    }
   ],
   "source": [
    "wage_corr_seq = (df.corr()['Wage']).sort_values(ascending=False).drop('Wage')\n",
    "wage_corr_seq"
   ]
  },
  {
   "cell_type": "code",
   "execution_count": 302,
   "metadata": {},
   "outputs": [],
   "source": [
    "x = df[['Wage', 'International Reputation','Overall','Reactions','Potential','LCM','Composure','LS']]"
   ]
  },
  {
   "cell_type": "code",
   "execution_count": 303,
   "metadata": {},
   "outputs": [
    {
     "data": {
      "text/plain": [
       "<matplotlib.axes._subplots.AxesSubplot at 0x1a250b36d8>"
      ]
     },
     "execution_count": 303,
     "metadata": {},
     "output_type": "execute_result"
    },
    {
     "data": {
      "image/png": "[encoded data removed]",
      "text/plain": [
       "<Figure size 432x288 with 2 Axes>"
      ]
     },
     "metadata": {
      "needs_background": "light"
     },
     "output_type": "display_data"
    }
   ],
   "source": [
    "sns.heatmap(x.corr(), annot=True)"
   ]
  },
  {
   "cell_type": "code",
   "execution_count": 1,
   "metadata": {},
   "outputs": [
    {
     "ename": "NameError",
     "evalue": "name 'plt' is not defined",
     "output_type": "error",
     "traceback": [
      "\u001b[0;31m---------------------------------------------------------------------------\u001b[0m",
      "\u001b[0;31mNameError\u001b[0m                                 Traceback (most recent call last)",
      "\u001b[0;32m<ipython-input-1-208fb934943b>\u001b[0m in \u001b[0;36m<module>\u001b[0;34m\u001b[0m\n\u001b[0;32m----> 1\u001b[0;31m \u001b[0mfig\u001b[0m\u001b[0;34m,\u001b[0m \u001b[0maxes\u001b[0m \u001b[0;34m=\u001b[0m \u001b[0mplt\u001b[0m\u001b[0;34m.\u001b[0m\u001b[0msubplots\u001b[0m\u001b[0;34m(\u001b[0m\u001b[0mnrows\u001b[0m\u001b[0;34m=\u001b[0m\u001b[0;36m5\u001b[0m\u001b[0;34m,\u001b[0m \u001b[0mncols\u001b[0m\u001b[0;34m=\u001b[0m\u001b[0;36m5\u001b[0m\u001b[0;34m,\u001b[0m \u001b[0mfigsize\u001b[0m\u001b[0;34m=\u001b[0m\u001b[0;34m(\u001b[0m\u001b[0;36m10\u001b[0m\u001b[0;34m,\u001b[0m\u001b[0;36m10\u001b[0m\u001b[0;34m)\u001b[0m\u001b[0;34m)\u001b[0m\u001b[0;34m\u001b[0m\u001b[0;34m\u001b[0m\u001b[0m\n\u001b[0m\u001b[1;32m      2\u001b[0m \u001b[0mplt\u001b[0m\u001b[0;34m.\u001b[0m\u001b[0msubplots_adjust\u001b[0m\u001b[0;34m(\u001b[0m\u001b[0mhspace\u001b[0m\u001b[0;34m=\u001b[0m\u001b[0;36m0.4\u001b[0m\u001b[0;34m)\u001b[0m\u001b[0;34m\u001b[0m\u001b[0;34m\u001b[0m\u001b[0m\n\u001b[1;32m      3\u001b[0m \u001b[0;34m\u001b[0m\u001b[0m\n\u001b[1;32m      4\u001b[0m \u001b[0mcorr_to_wage\u001b[0m \u001b[0;34m=\u001b[0m \u001b[0mpd\u001b[0m\u001b[0;34m.\u001b[0m\u001b[0mSeries\u001b[0m\u001b[0;34m(\u001b[0m\u001b[0;34m)\u001b[0m\u001b[0;34m\u001b[0m\u001b[0;34m\u001b[0m\u001b[0m\n\u001b[1;32m      5\u001b[0m \u001b[0;32mfor\u001b[0m \u001b[0mcol\u001b[0m \u001b[0;32min\u001b[0m \u001b[0mdf\u001b[0m\u001b[0;34m.\u001b[0m\u001b[0mcolumns\u001b[0m\u001b[0;34m.\u001b[0m\u001b[0mvalues\u001b[0m\u001b[0;34m[\u001b[0m\u001b[0;36m2\u001b[0m\u001b[0;34m:\u001b[0m\u001b[0;34m]\u001b[0m\u001b[0;34m:\u001b[0m\u001b[0;34m\u001b[0m\u001b[0;34m\u001b[0m\u001b[0m\n",
      "\u001b[0;31mNameError\u001b[0m: name 'plt' is not defined"
     ]
    }
   ],
   "source": [
    "fig, axes = plt.subplots(nrows=5, ncols=5, figsize=(10,10))\n",
    "plt.subplots_adjust(hspace=0.4)\n",
    "\n",
    "corr_to_wage = pd.Series()\n",
    "for col in df.columns.values[2:]:\n",
    "    if (((col!='Wage') & (col!='Name') & (col!='Preferred Foot'))):\n",
    "        corr_to_wage[col] = df['Wage'].corr(df[col])\n",
    "abs_corr_to_wage = corr_to_wage.abs().sort_values(ascending=False)\n",
    "corr_to_wage = corr_to_wage.loc[abs_corr_to_wage.index]\n",
    "\n",
    "for i in range(5):\n",
    "    for j in range(5):\n",
    "        sns.regplot(x=corr_to_wage.index.values[i*5+j], y='Wage', data=df,\n",
    "                   ax=axes[i,j], fit_reg=False, marker='.')\n",
    "        title = 'correlation='+str(corr_to_wage[i*5+j])\n",
    "        axes[i,j].set_title(title)\n",
    "axes[1,2].set_xlim(0,102)\n",
    "plt.show()"
   ]
  },
  {
   "cell_type": "markdown",
   "metadata": {},
   "source": [
    "## Dummy Variables"
   ]
  },
  {
   "cell_type": "markdown",
   "metadata": {},
   "source": [
    "We use dummy variables for the Preferred Foot feature, which is also a binary variable. Latter on, we set preferred foot, left, as one for our models."
   ]
  },
  {
   "cell_type": "code",
   "execution_count": 305,
   "metadata": {},
   "outputs": [
    {
     "data": {
      "text/plain": [
       "0         Left\n",
       "1        Right\n",
       "2        Right\n",
       "3        Right\n",
       "4        Right\n",
       "5        Right\n",
       "6        Right\n",
       "7        Right\n",
       "8        Right\n",
       "9        Right\n",
       "10       Right\n",
       "11       Right\n",
       "12       Right\n",
       "13        Left\n",
       "14       Right\n",
       "15        Left\n",
       "16       Right\n",
       "17        Left\n",
       "18       Right\n",
       "19        Left\n",
       "20       Right\n",
       "21       Right\n",
       "22       Right\n",
       "23       Right\n",
       "24        Left\n",
       "25       Right\n",
       "26        Left\n",
       "27       Right\n",
       "28        Left\n",
       "29       Right\n",
       "         ...  \n",
       "18177    Right\n",
       "18178    Right\n",
       "18179    Right\n",
       "18180    Right\n",
       "18181    Right\n",
       "18182    Right\n",
       "18183    Right\n",
       "18184    Right\n",
       "18185    Right\n",
       "18186    Right\n",
       "18187    Right\n",
       "18188    Right\n",
       "18189    Right\n",
       "18190    Right\n",
       "18191     Left\n",
       "18192    Right\n",
       "18193    Right\n",
       "18194    Right\n",
       "18195    Right\n",
       "18196    Right\n",
       "18197    Right\n",
       "18198    Right\n",
       "18199    Right\n",
       "18200     Left\n",
       "18201     Left\n",
       "18202    Right\n",
       "18203    Right\n",
       "18204    Right\n",
       "18205    Right\n",
       "18206    Right\n",
       "Name: Preferred Foot, Length: 18159, dtype: object"
      ]
     },
     "execution_count": 305,
     "metadata": {},
     "output_type": "execute_result"
    }
   ],
   "source": [
    "df['Preferred Foot']"
   ]
  },
  {
   "cell_type": "code",
   "execution_count": 306,
   "metadata": {},
   "outputs": [
    {
     "data": {
      "text/html": [
       "<div>\n",
       "<style scoped>\n",
       "    .dataframe tbody tr th:only-of-type {\n",
       "        vertical-align: middle;\n",
       "    }\n",
       "\n",
       "    .dataframe tbody tr th {\n",
       "        vertical-align: top;\n",
       "    }\n",
       "\n",
       "    .dataframe thead th {\n",
       "        text-align: right;\n",
       "    }\n",
       "</style>\n",
       "<table border=\"1\" class=\"dataframe\">\n",
       "  <thead>\n",
       "    <tr style=\"text-align: right;\">\n",
       "      <th></th>\n",
       "      <th>Left</th>\n",
       "      <th>Right</th>\n",
       "    </tr>\n",
       "  </thead>\n",
       "  <tbody>\n",
       "    <tr>\n",
       "      <th>0</th>\n",
       "      <td>1</td>\n",
       "      <td>0</td>\n",
       "    </tr>\n",
       "    <tr>\n",
       "      <th>1</th>\n",
       "      <td>0</td>\n",
       "      <td>1</td>\n",
       "    </tr>\n",
       "    <tr>\n",
       "      <th>2</th>\n",
       "      <td>0</td>\n",
       "      <td>1</td>\n",
       "    </tr>\n",
       "    <tr>\n",
       "      <th>3</th>\n",
       "      <td>0</td>\n",
       "      <td>1</td>\n",
       "    </tr>\n",
       "    <tr>\n",
       "      <th>4</th>\n",
       "      <td>0</td>\n",
       "      <td>1</td>\n",
       "    </tr>\n",
       "    <tr>\n",
       "      <th>5</th>\n",
       "      <td>0</td>\n",
       "      <td>1</td>\n",
       "    </tr>\n",
       "    <tr>\n",
       "      <th>6</th>\n",
       "      <td>0</td>\n",
       "      <td>1</td>\n",
       "    </tr>\n",
       "    <tr>\n",
       "      <th>7</th>\n",
       "      <td>0</td>\n",
       "      <td>1</td>\n",
       "    </tr>\n",
       "    <tr>\n",
       "      <th>8</th>\n",
       "      <td>0</td>\n",
       "      <td>1</td>\n",
       "    </tr>\n",
       "    <tr>\n",
       "      <th>9</th>\n",
       "      <td>0</td>\n",
       "      <td>1</td>\n",
       "    </tr>\n",
       "    <tr>\n",
       "      <th>10</th>\n",
       "      <td>0</td>\n",
       "      <td>1</td>\n",
       "    </tr>\n",
       "    <tr>\n",
       "      <th>11</th>\n",
       "      <td>0</td>\n",
       "      <td>1</td>\n",
       "    </tr>\n",
       "    <tr>\n",
       "      <th>12</th>\n",
       "      <td>0</td>\n",
       "      <td>1</td>\n",
       "    </tr>\n",
       "    <tr>\n",
       "      <th>13</th>\n",
       "      <td>1</td>\n",
       "      <td>0</td>\n",
       "    </tr>\n",
       "    <tr>\n",
       "      <th>14</th>\n",
       "      <td>0</td>\n",
       "      <td>1</td>\n",
       "    </tr>\n",
       "    <tr>\n",
       "      <th>15</th>\n",
       "      <td>1</td>\n",
       "      <td>0</td>\n",
       "    </tr>\n",
       "    <tr>\n",
       "      <th>16</th>\n",
       "      <td>0</td>\n",
       "      <td>1</td>\n",
       "    </tr>\n",
       "    <tr>\n",
       "      <th>17</th>\n",
       "      <td>1</td>\n",
       "      <td>0</td>\n",
       "    </tr>\n",
       "    <tr>\n",
       "      <th>18</th>\n",
       "      <td>0</td>\n",
       "      <td>1</td>\n",
       "    </tr>\n",
       "    <tr>\n",
       "      <th>19</th>\n",
       "      <td>1</td>\n",
       "      <td>0</td>\n",
       "    </tr>\n",
       "    <tr>\n",
       "      <th>20</th>\n",
       "      <td>0</td>\n",
       "      <td>1</td>\n",
       "    </tr>\n",
       "    <tr>\n",
       "      <th>21</th>\n",
       "      <td>0</td>\n",
       "      <td>1</td>\n",
       "    </tr>\n",
       "    <tr>\n",
       "      <th>22</th>\n",
       "      <td>0</td>\n",
       "      <td>1</td>\n",
       "    </tr>\n",
       "    <tr>\n",
       "      <th>23</th>\n",
       "      <td>0</td>\n",
       "      <td>1</td>\n",
       "    </tr>\n",
       "    <tr>\n",
       "      <th>24</th>\n",
       "      <td>1</td>\n",
       "      <td>0</td>\n",
       "    </tr>\n",
       "    <tr>\n",
       "      <th>25</th>\n",
       "      <td>0</td>\n",
       "      <td>1</td>\n",
       "    </tr>\n",
       "    <tr>\n",
       "      <th>26</th>\n",
       "      <td>1</td>\n",
       "      <td>0</td>\n",
       "    </tr>\n",
       "    <tr>\n",
       "      <th>27</th>\n",
       "      <td>0</td>\n",
       "      <td>1</td>\n",
       "    </tr>\n",
       "    <tr>\n",
       "      <th>28</th>\n",
       "      <td>1</td>\n",
       "      <td>0</td>\n",
       "    </tr>\n",
       "    <tr>\n",
       "      <th>29</th>\n",
       "      <td>0</td>\n",
       "      <td>1</td>\n",
       "    </tr>\n",
       "    <tr>\n",
       "      <th>...</th>\n",
       "      <td>...</td>\n",
       "      <td>...</td>\n",
       "    </tr>\n",
       "    <tr>\n",
       "      <th>18177</th>\n",
       "      <td>0</td>\n",
       "      <td>1</td>\n",
       "    </tr>\n",
       "    <tr>\n",
       "      <th>18178</th>\n",
       "      <td>0</td>\n",
       "      <td>1</td>\n",
       "    </tr>\n",
       "    <tr>\n",
       "      <th>18179</th>\n",
       "      <td>0</td>\n",
       "      <td>1</td>\n",
       "    </tr>\n",
       "    <tr>\n",
       "      <th>18180</th>\n",
       "      <td>0</td>\n",
       "      <td>1</td>\n",
       "    </tr>\n",
       "    <tr>\n",
       "      <th>18181</th>\n",
       "      <td>0</td>\n",
       "      <td>1</td>\n",
       "    </tr>\n",
       "    <tr>\n",
       "      <th>18182</th>\n",
       "      <td>0</td>\n",
       "      <td>1</td>\n",
       "    </tr>\n",
       "    <tr>\n",
       "      <th>18183</th>\n",
       "      <td>0</td>\n",
       "      <td>1</td>\n",
       "    </tr>\n",
       "    <tr>\n",
       "      <th>18184</th>\n",
       "      <td>0</td>\n",
       "      <td>1</td>\n",
       "    </tr>\n",
       "    <tr>\n",
       "      <th>18185</th>\n",
       "      <td>0</td>\n",
       "      <td>1</td>\n",
       "    </tr>\n",
       "    <tr>\n",
       "      <th>18186</th>\n",
       "      <td>0</td>\n",
       "      <td>1</td>\n",
       "    </tr>\n",
       "    <tr>\n",
       "      <th>18187</th>\n",
       "      <td>0</td>\n",
       "      <td>1</td>\n",
       "    </tr>\n",
       "    <tr>\n",
       "      <th>18188</th>\n",
       "      <td>0</td>\n",
       "      <td>1</td>\n",
       "    </tr>\n",
       "    <tr>\n",
       "      <th>18189</th>\n",
       "      <td>0</td>\n",
       "      <td>1</td>\n",
       "    </tr>\n",
       "    <tr>\n",
       "      <th>18190</th>\n",
       "      <td>0</td>\n",
       "      <td>1</td>\n",
       "    </tr>\n",
       "    <tr>\n",
       "      <th>18191</th>\n",
       "      <td>1</td>\n",
       "      <td>0</td>\n",
       "    </tr>\n",
       "    <tr>\n",
       "      <th>18192</th>\n",
       "      <td>0</td>\n",
       "      <td>1</td>\n",
       "    </tr>\n",
       "    <tr>\n",
       "      <th>18193</th>\n",
       "      <td>0</td>\n",
       "      <td>1</td>\n",
       "    </tr>\n",
       "    <tr>\n",
       "      <th>18194</th>\n",
       "      <td>0</td>\n",
       "      <td>1</td>\n",
       "    </tr>\n",
       "    <tr>\n",
       "      <th>18195</th>\n",
       "      <td>0</td>\n",
       "      <td>1</td>\n",
       "    </tr>\n",
       "    <tr>\n",
       "      <th>18196</th>\n",
       "      <td>0</td>\n",
       "      <td>1</td>\n",
       "    </tr>\n",
       "    <tr>\n",
       "      <th>18197</th>\n",
       "      <td>0</td>\n",
       "      <td>1</td>\n",
       "    </tr>\n",
       "    <tr>\n",
       "      <th>18198</th>\n",
       "      <td>0</td>\n",
       "      <td>1</td>\n",
       "    </tr>\n",
       "    <tr>\n",
       "      <th>18199</th>\n",
       "      <td>0</td>\n",
       "      <td>1</td>\n",
       "    </tr>\n",
       "    <tr>\n",
       "      <th>18200</th>\n",
       "      <td>1</td>\n",
       "      <td>0</td>\n",
       "    </tr>\n",
       "    <tr>\n",
       "      <th>18201</th>\n",
       "      <td>1</td>\n",
       "      <td>0</td>\n",
       "    </tr>\n",
       "    <tr>\n",
       "      <th>18202</th>\n",
       "      <td>0</td>\n",
       "      <td>1</td>\n",
       "    </tr>\n",
       "    <tr>\n",
       "      <th>18203</th>\n",
       "      <td>0</td>\n",
       "      <td>1</td>\n",
       "    </tr>\n",
       "    <tr>\n",
       "      <th>18204</th>\n",
       "      <td>0</td>\n",
       "      <td>1</td>\n",
       "    </tr>\n",
       "    <tr>\n",
       "      <th>18205</th>\n",
       "      <td>0</td>\n",
       "      <td>1</td>\n",
       "    </tr>\n",
       "    <tr>\n",
       "      <th>18206</th>\n",
       "      <td>0</td>\n",
       "      <td>1</td>\n",
       "    </tr>\n",
       "  </tbody>\n",
       "</table>\n",
       "<p>18159 rows × 2 columns</p>\n",
       "</div>"
      ],
      "text/plain": [
       "       Left  Right\n",
       "0         1      0\n",
       "1         0      1\n",
       "2         0      1\n",
       "3         0      1\n",
       "4         0      1\n",
       "5         0      1\n",
       "6         0      1\n",
       "7         0      1\n",
       "8         0      1\n",
       "9         0      1\n",
       "10        0      1\n",
       "11        0      1\n",
       "12        0      1\n",
       "13        1      0\n",
       "14        0      1\n",
       "15        1      0\n",
       "16        0      1\n",
       "17        1      0\n",
       "18        0      1\n",
       "19        1      0\n",
       "20        0      1\n",
       "21        0      1\n",
       "22        0      1\n",
       "23        0      1\n",
       "24        1      0\n",
       "25        0      1\n",
       "26        1      0\n",
       "27        0      1\n",
       "28        1      0\n",
       "29        0      1\n",
       "...     ...    ...\n",
       "18177     0      1\n",
       "18178     0      1\n",
       "18179     0      1\n",
       "18180     0      1\n",
       "18181     0      1\n",
       "18182     0      1\n",
       "18183     0      1\n",
       "18184     0      1\n",
       "18185     0      1\n",
       "18186     0      1\n",
       "18187     0      1\n",
       "18188     0      1\n",
       "18189     0      1\n",
       "18190     0      1\n",
       "18191     1      0\n",
       "18192     0      1\n",
       "18193     0      1\n",
       "18194     0      1\n",
       "18195     0      1\n",
       "18196     0      1\n",
       "18197     0      1\n",
       "18198     0      1\n",
       "18199     0      1\n",
       "18200     1      0\n",
       "18201     1      0\n",
       "18202     0      1\n",
       "18203     0      1\n",
       "18204     0      1\n",
       "18205     0      1\n",
       "18206     0      1\n",
       "\n",
       "[18159 rows x 2 columns]"
      ]
     },
     "execution_count": 306,
     "metadata": {},
     "output_type": "execute_result"
    }
   ],
   "source": [
    "pd.get_dummies(df['Preferred Foot'])"
   ]
  },
  {
   "cell_type": "code",
   "execution_count": 307,
   "metadata": {},
   "outputs": [],
   "source": [
    "df = pd.concat([df, pd.get_dummies(df['Preferred Foot'])], axis=1)"
   ]
  },
  {
   "cell_type": "code",
   "execution_count": 308,
   "metadata": {},
   "outputs": [
    {
     "data": {
      "text/plain": [
       "0        1\n",
       "1        0\n",
       "2        0\n",
       "3        0\n",
       "4        0\n",
       "5        0\n",
       "6        0\n",
       "7        0\n",
       "8        0\n",
       "9        0\n",
       "10       0\n",
       "11       0\n",
       "12       0\n",
       "13       1\n",
       "14       0\n",
       "15       1\n",
       "16       0\n",
       "17       1\n",
       "18       0\n",
       "19       1\n",
       "20       0\n",
       "21       0\n",
       "22       0\n",
       "23       0\n",
       "24       1\n",
       "25       0\n",
       "26       1\n",
       "27       0\n",
       "28       1\n",
       "29       0\n",
       "        ..\n",
       "18177    0\n",
       "18178    0\n",
       "18179    0\n",
       "18180    0\n",
       "18181    0\n",
       "18182    0\n",
       "18183    0\n",
       "18184    0\n",
       "18185    0\n",
       "18186    0\n",
       "18187    0\n",
       "18188    0\n",
       "18189    0\n",
       "18190    0\n",
       "18191    1\n",
       "18192    0\n",
       "18193    0\n",
       "18194    0\n",
       "18195    0\n",
       "18196    0\n",
       "18197    0\n",
       "18198    0\n",
       "18199    0\n",
       "18200    1\n",
       "18201    1\n",
       "18202    0\n",
       "18203    0\n",
       "18204    0\n",
       "18205    0\n",
       "18206    0\n",
       "Name: Left, Length: 18159, dtype: uint8"
      ]
     },
     "execution_count": 308,
     "metadata": {},
     "output_type": "execute_result"
    }
   ],
   "source": [
    "df['Left']"
   ]
  },
  {
   "cell_type": "markdown",
   "metadata": {},
   "source": [
    "## Modeling"
   ]
  },
  {
   "cell_type": "markdown",
   "metadata": {},
   "source": [
    "### Training and Testing"
   ]
  },
  {
   "cell_type": "markdown",
   "metadata": {},
   "source": [
    "For the features choosing, we pick the first eleven features from the wage correlation order sequence. Then, we first check which models are overfitting or which are underfitting.\n",
    "After training, we plot the error diagram for each models in order to get the minimum error model. Also, we set the number of the features should equal or larger than five."
   ]
  },
  {
   "cell_type": "code",
   "execution_count": 309,
   "metadata": {},
   "outputs": [],
   "source": [
    "featureOrder = ['Wage','Left','International Reputation','Overall','Reactions','Potential','LCM','Composure','LS', 'ST', 'RS', 'CAM']"
   ]
  },
  {
   "cell_type": "code",
   "execution_count": 331,
   "metadata": {},
   "outputs": [],
   "source": [
    "def buildModel_SR(a):\n",
    "    # This function build the model and choose the features.\n",
    "    scores = []\n",
    "    models = []\n",
    "    train_X = []\n",
    "    train_Y = []\n",
    "    test_X = []\n",
    "    test_Y = []\n",
    "    train_pred_YY = []\n",
    "    test_pred_YY = []\n",
    "\n",
    "    for i in range(0, len(a)):\n",
    "        train, test = train_test_split(df, test_size=0.5, shuffle=True)\n",
    "        training_features = featureOrder[0:i+1]\n",
    "        target = 'Wage'\n",
    "        train_X.append(train[training_features])\n",
    "        train_Y.append(train[target])\n",
    "        test_X.append(test[training_features])\n",
    "        test_Y.append(test[target])\n",
    "        model = LinearRegression(normalize=True)\n",
    "        model.fit(train[training_features], train[target])\n",
    "        train_pred_Y = model.predict(train[training_features])\n",
    "        test_pred_Y = model.predict(test[training_features])\n",
    "        train_pred_YY.append(pd.Series(train_pred_Y.clip(0, train_pred_Y.max()), index=train[target].index))\n",
    "        test_pred_YY.append(pd.Series(test_pred_Y.clip(0, test_pred_Y.max()), index=test[target].index))\n",
    "        models.append(model)\n",
    "        s = model.score(test[training_features], test[target])\n",
    "        scores.append(s)\n",
    "\n",
    "    return [scores, models, train_X, train_Y, test_X, test_Y, \n",
    "            train_pred_YY, test_pred_YY]"
   ]
  },
  {
   "cell_type": "code",
   "execution_count": 332,
   "metadata": {},
   "outputs": [],
   "source": [
    "def buildModel_CV(a):\n",
    "    # This function build the model and choose the features by Cross Validation \n",
    "    crossValidation = []\n",
    "    models = []\n",
    "    train_X = []\n",
    "    train_Y = []\n",
    "    test_X = []\n",
    "    test_Y = []\n",
    "    train_pred_YY = []\n",
    "    test_pred_YY = []\n",
    "\n",
    "    for i in range(0, len(a)):\n",
    "        train, test = train_test_split(df, test_size=0.3, shuffle=True)\n",
    "        training_features = featureOrder[0:i+1]\n",
    "        target = 'Wage'\n",
    "        train_X.append(train[training_features])\n",
    "        train_Y.append(train[target])\n",
    "        test_X.append(test[training_features])\n",
    "        test_Y.append(test[target])\n",
    "        model = LinearRegression(normalize=True)\n",
    "        model.fit(train[training_features], train[target])\n",
    "        train_pred_Y = model.predict(train[training_features])\n",
    "        test_pred_Y = model.predict(test[training_features])\n",
    "        train_pred_YY.append(pd.Series(train_pred_Y.clip(0, train_pred_Y.max()), index=train[target].index))\n",
    "        test_pred_YY.append(pd.Series(test_pred_Y.clip(0, test_pred_Y.max()), index=test[target].index))\n",
    "        models.append(model)\n",
    "    \n",
    "        crossValidation.append(cross_val_score(model, df[target], df[training_features], scoring='accuracy'))\n",
    "\n",
    "    return [crossValidation, models, train_X, train_Y, test_X, test_Y, \n",
    "            train_pred_YY, test_pred_YY]"
   ]
  },
  {
   "cell_type": "code",
   "execution_count": 333,
   "metadata": {},
   "outputs": [],
   "source": [
    "[scores, models, train_X, train_Y, test_X, test_Y, \n",
    "            train_pred_YY, test_pred_YY] = buildModel_SR(featureOrder)"
   ]
  },
  {
   "cell_type": "code",
   "execution_count": 334,
   "metadata": {},
   "outputs": [
    {
     "data": {
      "text/plain": [
       "[<matplotlib.lines.Line2D at 0x1a2eda3cf8>]"
      ]
     },
     "execution_count": 334,
     "metadata": {},
     "output_type": "execute_result"
    },
    {
     "data": {
      "image/png": "[encoded data removed]",
      "text/plain": [
       "<Figure size 432x288 with 1 Axes>"
      ]
     },
     "metadata": {
      "needs_background": "light"
     },
     "output_type": "display_data"
    }
   ],
   "source": [
    "plt.plot(scores)"
   ]
  },
  {
   "cell_type": "markdown",
   "metadata": {},
   "source": [
    "As the mean sqart root, we found the seven features model has the less error value. So, we will choose this model."
   ]
  },
  {
   "cell_type": "code",
   "execution_count": null,
   "metadata": {},
   "outputs": [],
   "source": [
    "while rmse_test.index(min(rmse_test)) < 5:\n",
    "    [scores, models, train_X, train_Y, test_X, test_Y, \n",
    "            train_pred_YY, test_pred_YY] = buildModel_SR(featureOrder)\n",
    "plt.plot(scores)\n",
    "orderIndex = rmse_test.index(max(scores))"
   ]
  },
  {
   "cell_type": "code",
   "execution_count": null,
   "metadata": {},
   "outputs": [],
   "source": [
    "orderIndex"
   ]
  },
  {
   "cell_type": "code",
   "execution_count": null,
   "metadata": {},
   "outputs": [],
   "source": [
    "# [crossValidation, models, train_X, train_Y, test_X, test_Y, \n",
    "#             train_pred_YY, test_pred_YY] = buildModel_CV(featureOrder)"
   ]
  },
  {
   "cell_type": "code",
   "execution_count": null,
   "metadata": {},
   "outputs": [],
   "source": [
    "# print(crossValidation)"
   ]
  },
  {
   "cell_type": "markdown",
   "metadata": {},
   "source": [
    "## Significant"
   ]
  },
  {
   "cell_type": "markdown",
   "metadata": {},
   "source": [
    "In this section, we check if the features of the choosing model are significant."
   ]
  },
  {
   "cell_type": "code",
   "execution_count": null,
   "metadata": {},
   "outputs": [],
   "source": [
    "modelFeature = featureOrder[1:orderIndex]"
   ]
  },
  {
   "cell_type": "code",
   "execution_count": null,
   "metadata": {},
   "outputs": [],
   "source": [
    "modelFeature"
   ]
  },
  {
   "cell_type": "code",
   "execution_count": null,
   "metadata": {},
   "outputs": [],
   "source": [
    "# ttt = stats.ttest_ind(df[modelFeature],df[modelFeature])\n",
    "\n",
    "for i in modelFeature:\n",
    "    t, p = stats.ttest_ind(df[i], df[modelFeature])\n",
    "    print(p)"
   ]
  },
  {
   "cell_type": "markdown",
   "metadata": {},
   "source": [
    "As a result, it seems that the features are significant."
   ]
  },
  {
   "cell_type": "markdown",
   "metadata": {},
   "source": [
    "### model assumptions violated?"
   ]
  },
  {
   "cell_type": "code",
   "execution_count": null,
   "metadata": {},
   "outputs": [],
   "source": [
    "plt.scatter(train_Y[orderIndex].index.values, train_Y[orderIndex])\n",
    "plt.scatter(test_Y[orderIndex].index.values, test_Y[orderIndex])"
   ]
  },
  {
   "cell_type": "markdown",
   "metadata": {},
   "source": [
    "As the result shown above, we can see that the blue dots are the training result and the orange dots are the testing data result. Two of the results are almost matching, so that we can assume that the model assumption doesn't violate."
   ]
  },
  {
   "cell_type": "markdown",
   "metadata": {},
   "source": [
    "Then, we look closely to the features of the choosing model."
   ]
  },
  {
   "cell_type": "code",
   "execution_count": null,
   "metadata": {},
   "outputs": [],
   "source": [
    "modelFeature"
   ]
  },
  {
   "cell_type": "code",
   "execution_count": null,
   "metadata": {},
   "outputs": [],
   "source": [
    "# train_pred_YY[orderIndex]\n",
    "# train_pred_YY[orderIndex].index(max(train_pred_YY[orderIndex]))\n",
    "\n",
    "maxTarIndex = train_pred_YY[orderIndex][train_pred_YY[orderIndex]==max(train_pred_YY[orderIndex])].index.values.astype(int)[0]\n",
    "# for i in train_pred_YY[orderIndex]:\n",
    "#     if \n",
    "# max(train_pred_YY[orderIndex])"
   ]
  },
  {
   "cell_type": "code",
   "execution_count": null,
   "metadata": {},
   "outputs": [],
   "source": [
    "df.loc[maxTarIndex]"
   ]
  },
  {
   "cell_type": "code",
   "execution_count": null,
   "metadata": {},
   "outputs": [],
   "source": [
    "df.loc[maxTarIndex][modelFeature]"
   ]
  },
  {
   "cell_type": "code",
   "execution_count": null,
   "metadata": {},
   "outputs": [],
   "source": [
    "max(df['International Reputation'])"
   ]
  },
  {
   "cell_type": "code",
   "execution_count": null,
   "metadata": {},
   "outputs": [],
   "source": [
    "max(df['Overall'])"
   ]
  },
  {
   "cell_type": "code",
   "execution_count": null,
   "metadata": {},
   "outputs": [],
   "source": [
    "max(df['Reactions'])"
   ]
  },
  {
   "cell_type": "code",
   "execution_count": null,
   "metadata": {},
   "outputs": [],
   "source": [
    "max(df['Potential'])"
   ]
  },
  {
   "cell_type": "code",
   "execution_count": null,
   "metadata": {},
   "outputs": [],
   "source": [
    "max(df['LCM'])"
   ]
  },
  {
   "cell_type": "markdown",
   "metadata": {},
   "source": [
    "We find out the highest wage of all players, who is L. Messi, and investigate the features. We found that the values of the features of L. Messi are all top. So, we can assume the model makes sense."
   ]
  }
 ],
 "metadata": {
  "kernelspec": {
   "display_name": "Python 3",
   "language": "python",
   "name": "python3"
  },
  "language_info": {
   "codemirror_mode": {
    "name": "ipython",
    "version": 3
   },
   "file_extension": ".py",
   "mimetype": "text/x-python",
   "name": "python",
   "nbconvert_exporter": "python",
   "pygments_lexer": "ipython3",
   "version": "3.7.2"
  }
 },
 "nbformat": 4,
 "nbformat_minor": 2
}
